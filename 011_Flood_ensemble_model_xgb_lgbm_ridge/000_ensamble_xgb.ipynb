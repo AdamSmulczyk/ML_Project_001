{
 "cells": [
  {
   "cell_type": "markdown",
   "metadata": {},
   "source": [
    " #### <p style=\"background-color: #EDE7F6;color:#6600ff;display: inline-block;padding:.6rem;border-radius:.5rem\">Import libraries</p>"
   ]
  },
  {
   "cell_type": "code",
   "execution_count": 30,
   "metadata": {
    "execution": {
     "iopub.execute_input": "2024-06-24T13:07:53.876154Z",
     "iopub.status.busy": "2024-06-24T13:07:53.875538Z",
     "iopub.status.idle": "2024-06-24T13:07:58.612382Z",
     "shell.execute_reply": "2024-06-24T13:07:58.611521Z",
     "shell.execute_reply.started": "2024-06-24T13:07:53.876124Z"
    }
   },
   "outputs": [],
   "source": [
    "# import cupy as cp\n",
    "import pandas as pd\n",
    "import numpy as np\n",
    "import matplotlib.pyplot as plt\n",
    "import seaborn as sb\n",
    "import optuna\n",
    "import gc\n",
    "\n",
    "from time import time\n",
    "from joblib import load, dump\n",
    "from matplotlib.ticker import MaxNLocator,MultipleLocator\n",
    "from sklearn.model_selection import train_test_split\n",
    "from sklearn.decomposition import PCA\n",
    "from sklearn.model_selection import StratifiedKFold\n",
    "from sklearn.linear_model import Ridge\n",
    "from sklearn.ensemble import VotingRegressor\n",
    "from sklearn.preprocessing import StandardScaler\n",
    "from sklearn.pipeline import make_pipeline, Pipeline\n",
    "from sklearn.base import clone\n",
    "from xgboost import XGBRegressor\n",
    "from catboost import CatBoostRegressor\n",
    "from lightgbm import LGBMRegressor\n",
    "from tqdm import tqdm\n",
    "# import sklearn.metrics as skm\n",
    "from sklearn.metrics import mean_absolute_error\n",
    "\n",
    "import warnings"
   ]
  },
  {
   "cell_type": "markdown",
   "metadata": {},
   "source": [
    " #### <p style=\"background-color: #EDE7F6;color:#6600ff;display: inline-block;padding:.6rem;border-radius:.5rem\">Settings</p>"
   ]
  },
  {
   "cell_type": "code",
   "execution_count": null,
   "metadata": {},
   "outputs": [],
   "source": [
    "pd.options.display.max_rows = 100\n",
    "pd.options.display.max_columns = 100\n",
    "pd.options.display.max_colwidth = 1000\n",
    "# pd.options.display.precision = 5\n",
    "warnings.filterwarnings('ignore')"
   ]
  },
  {
   "cell_type": "markdown",
   "metadata": {},
   "source": [
    " #### <p style=\"background-color: #EDE7F6;color:#6600ff;display: inline-block;padding:.6rem;border-radius:.5rem\">Import data files</p>"
   ]
  },
  {
   "cell_type": "code",
   "execution_count": 31,
   "metadata": {
    "execution": {
     "iopub.execute_input": "2024-06-24T13:07:58.61414Z",
     "iopub.status.busy": "2024-06-24T13:07:58.613637Z",
     "iopub.status.idle": "2024-06-24T13:08:01.991978Z",
     "shell.execute_reply": "2024-06-24T13:08:01.990913Z",
     "shell.execute_reply.started": "2024-06-24T13:07:58.614115Z"
    }
   },
   "outputs": [
    {
     "data": {
      "text/plain": [
       "((1117957, 22), (745305, 21))"
      ]
     },
     "execution_count": 31,
     "metadata": {},
     "output_type": "execute_result"
    }
   ],
   "source": [
    "train = pd.read_csv('train.csv')\n",
    "test = pd.read_csv('test.csv')\n",
    "orig_features = train.columns[1:-1].to_list()\n",
    "train.shape, test.shape"
   ]
  },
  {
   "cell_type": "code",
   "execution_count": null,
   "metadata": {},
   "outputs": [],
   "source": []
  },
  {
   "cell_type": "code",
   "execution_count": 32,
   "metadata": {
    "execution": {
     "iopub.execute_input": "2024-06-24T13:08:20.370938Z",
     "iopub.status.busy": "2024-06-24T13:08:20.370692Z",
     "iopub.status.idle": "2024-06-24T13:08:20.375495Z",
     "shell.execute_reply": "2024-06-24T13:08:20.374645Z",
     "shell.execute_reply.started": "2024-06-24T13:08:20.370916Z"
    }
   },
   "outputs": [],
   "source": [
    "# For output text color\n",
    "end = \"\\033[0m\" ; bold = \"\\033[1m\" ; LightRed = \"\\033[91m\" ; LightBlue = \"\\033[94m\"\n",
    "BlueBold = LightBlue + bold ; RedBold = LightRed + bold"
   ]
  },
  {
   "cell_type": "code",
   "execution_count": 33,
   "metadata": {
    "execution": {
     "iopub.execute_input": "2024-06-24T13:08:20.376865Z",
     "iopub.status.busy": "2024-06-24T13:08:20.376614Z",
     "iopub.status.idle": "2024-06-24T13:08:20.441458Z",
     "shell.execute_reply": "2024-06-24T13:08:20.440259Z",
     "shell.execute_reply.started": "2024-06-24T13:08:20.376844Z"
    }
   },
   "outputs": [],
   "source": [
    "X = train.iloc[:,1:-1]\n",
    "y = train['FloodProbability']\n",
    "kf = StratifiedKFold(n_splits=5, shuffle=True, random_state=0)"
   ]
  },
  {
   "cell_type": "markdown",
   "metadata": {},
   "source": [
    "#### <p style=\"background-color: #EDE7F6; color: #6600ff;margin:0; display:inline-block;padding:.6rem;border-radius:.25rem;\">A.Model Training</p>"
   ]
  },
  {
   "cell_type": "code",
   "execution_count": 34,
   "metadata": {},
   "outputs": [],
   "source": [
    "X_train, X_valid, y_train, y_valid = train_test_split(X,y, test_size = 0.2, random_state=42)"
   ]
  },
  {
   "cell_type": "markdown",
   "metadata": {},
   "source": [
    "#### <p style=\"background-color: #EDE7F6; color: #6600ff;margin:0; display:inline-block;padding:.6rem;border-radius:.25rem;\">A1.XGBRegressor</p>"
   ]
  },
  {
   "cell_type": "code",
   "execution_count": 35,
   "metadata": {},
   "outputs": [],
   "source": [
    "# xgb_params = {'grow_policy': 'depthwise', 'tree_method': 'hist', 'enable_categorical': True, 'gamma': 0, 'n_estimators': 768, 'learning_rate': 0.026111403303690425, 'max_depth': 8, 'reg_lambda': 26.648168065161098, 'min_child_weight': 1.0626186255116183, 'subsample': 0.8580490989206254, 'colsample_bytree': 0.5125814118774029}\n",
    "model_XGB = XGBRegressor(random_state=42)"
   ]
  },
  {
   "cell_type": "code",
   "execution_count": 36,
   "metadata": {},
   "outputs": [
    {
     "data": {
      "text/html": [
       "<style>#sk-container-id-2 {color: black;}#sk-container-id-2 pre{padding: 0;}#sk-container-id-2 div.sk-toggleable {background-color: white;}#sk-container-id-2 label.sk-toggleable__label {cursor: pointer;display: block;width: 100%;margin-bottom: 0;padding: 0.3em;box-sizing: border-box;text-align: center;}#sk-container-id-2 label.sk-toggleable__label-arrow:before {content: \"▸\";float: left;margin-right: 0.25em;color: #696969;}#sk-container-id-2 label.sk-toggleable__label-arrow:hover:before {color: black;}#sk-container-id-2 div.sk-estimator:hover label.sk-toggleable__label-arrow:before {color: black;}#sk-container-id-2 div.sk-toggleable__content {max-height: 0;max-width: 0;overflow: hidden;text-align: left;background-color: #f0f8ff;}#sk-container-id-2 div.sk-toggleable__content pre {margin: 0.2em;color: black;border-radius: 0.25em;background-color: #f0f8ff;}#sk-container-id-2 input.sk-toggleable__control:checked~div.sk-toggleable__content {max-height: 200px;max-width: 100%;overflow: auto;}#sk-container-id-2 input.sk-toggleable__control:checked~label.sk-toggleable__label-arrow:before {content: \"▾\";}#sk-container-id-2 div.sk-estimator input.sk-toggleable__control:checked~label.sk-toggleable__label {background-color: #d4ebff;}#sk-container-id-2 div.sk-label input.sk-toggleable__control:checked~label.sk-toggleable__label {background-color: #d4ebff;}#sk-container-id-2 input.sk-hidden--visually {border: 0;clip: rect(1px 1px 1px 1px);clip: rect(1px, 1px, 1px, 1px);height: 1px;margin: -1px;overflow: hidden;padding: 0;position: absolute;width: 1px;}#sk-container-id-2 div.sk-estimator {font-family: monospace;background-color: #f0f8ff;border: 1px dotted black;border-radius: 0.25em;box-sizing: border-box;margin-bottom: 0.5em;}#sk-container-id-2 div.sk-estimator:hover {background-color: #d4ebff;}#sk-container-id-2 div.sk-parallel-item::after {content: \"\";width: 100%;border-bottom: 1px solid gray;flex-grow: 1;}#sk-container-id-2 div.sk-label:hover label.sk-toggleable__label {background-color: #d4ebff;}#sk-container-id-2 div.sk-serial::before {content: \"\";position: absolute;border-left: 1px solid gray;box-sizing: border-box;top: 0;bottom: 0;left: 50%;z-index: 0;}#sk-container-id-2 div.sk-serial {display: flex;flex-direction: column;align-items: center;background-color: white;padding-right: 0.2em;padding-left: 0.2em;position: relative;}#sk-container-id-2 div.sk-item {position: relative;z-index: 1;}#sk-container-id-2 div.sk-parallel {display: flex;align-items: stretch;justify-content: center;background-color: white;position: relative;}#sk-container-id-2 div.sk-item::before, #sk-container-id-2 div.sk-parallel-item::before {content: \"\";position: absolute;border-left: 1px solid gray;box-sizing: border-box;top: 0;bottom: 0;left: 50%;z-index: -1;}#sk-container-id-2 div.sk-parallel-item {display: flex;flex-direction: column;z-index: 1;position: relative;background-color: white;}#sk-container-id-2 div.sk-parallel-item:first-child::after {align-self: flex-end;width: 50%;}#sk-container-id-2 div.sk-parallel-item:last-child::after {align-self: flex-start;width: 50%;}#sk-container-id-2 div.sk-parallel-item:only-child::after {width: 0;}#sk-container-id-2 div.sk-dashed-wrapped {border: 1px dashed gray;margin: 0 0.4em 0.5em 0.4em;box-sizing: border-box;padding-bottom: 0.4em;background-color: white;}#sk-container-id-2 div.sk-label label {font-family: monospace;font-weight: bold;display: inline-block;line-height: 1.2em;}#sk-container-id-2 div.sk-label-container {text-align: center;}#sk-container-id-2 div.sk-container {/* jupyter's `normalize.less` sets `[hidden] { display: none; }` but bootstrap.min.css set `[hidden] { display: none !important; }` so we also need the `!important` here to be able to override the default hidden behavior on the sphinx rendered scikit-learn.org. See: https://github.com/scikit-learn/scikit-learn/issues/21755 */display: inline-block !important;position: relative;}#sk-container-id-2 div.sk-text-repr-fallback {display: none;}</style><div id=\"sk-container-id-2\" class=\"sk-top-container\"><div class=\"sk-text-repr-fallback\"><pre>XGBRegressor(base_score=None, booster=None, callbacks=None,\n",
       "             colsample_bylevel=None, colsample_bynode=None,\n",
       "             colsample_bytree=None, device=None, early_stopping_rounds=None,\n",
       "             enable_categorical=False, eval_metric=None, feature_types=None,\n",
       "             gamma=None, grow_policy=None, importance_type=None,\n",
       "             interaction_constraints=None, learning_rate=None, max_bin=None,\n",
       "             max_cat_threshold=None, max_cat_to_onehot=None,\n",
       "             max_delta_step=None, max_depth=None, max_leaves=None,\n",
       "             min_child_weight=None, missing=nan, monotone_constraints=None,\n",
       "             multi_strategy=None, n_estimators=None, n_jobs=None,\n",
       "             num_parallel_tree=None, random_state=42, ...)</pre><b>In a Jupyter environment, please rerun this cell to show the HTML representation or trust the notebook. <br />On GitHub, the HTML representation is unable to render, please try loading this page with nbviewer.org.</b></div><div class=\"sk-container\" hidden><div class=\"sk-item\"><div class=\"sk-estimator sk-toggleable\"><input class=\"sk-toggleable__control sk-hidden--visually\" id=\"sk-estimator-id-2\" type=\"checkbox\" checked><label for=\"sk-estimator-id-2\" class=\"sk-toggleable__label sk-toggleable__label-arrow\">XGBRegressor</label><div class=\"sk-toggleable__content\"><pre>XGBRegressor(base_score=None, booster=None, callbacks=None,\n",
       "             colsample_bylevel=None, colsample_bynode=None,\n",
       "             colsample_bytree=None, device=None, early_stopping_rounds=None,\n",
       "             enable_categorical=False, eval_metric=None, feature_types=None,\n",
       "             gamma=None, grow_policy=None, importance_type=None,\n",
       "             interaction_constraints=None, learning_rate=None, max_bin=None,\n",
       "             max_cat_threshold=None, max_cat_to_onehot=None,\n",
       "             max_delta_step=None, max_depth=None, max_leaves=None,\n",
       "             min_child_weight=None, missing=nan, monotone_constraints=None,\n",
       "             multi_strategy=None, n_estimators=None, n_jobs=None,\n",
       "             num_parallel_tree=None, random_state=42, ...)</pre></div></div></div></div></div>"
      ],
      "text/plain": [
       "XGBRegressor(base_score=None, booster=None, callbacks=None,\n",
       "             colsample_bylevel=None, colsample_bynode=None,\n",
       "             colsample_bytree=None, device=None, early_stopping_rounds=None,\n",
       "             enable_categorical=False, eval_metric=None, feature_types=None,\n",
       "             gamma=None, grow_policy=None, importance_type=None,\n",
       "             interaction_constraints=None, learning_rate=None, max_bin=None,\n",
       "             max_cat_threshold=None, max_cat_to_onehot=None,\n",
       "             max_delta_step=None, max_depth=None, max_leaves=None,\n",
       "             min_child_weight=None, missing=nan, monotone_constraints=None,\n",
       "             multi_strategy=None, n_estimators=None, n_jobs=None,\n",
       "             num_parallel_tree=None, random_state=42, ...)"
      ]
     },
     "execution_count": 36,
     "metadata": {},
     "output_type": "execute_result"
    }
   ],
   "source": [
    "model_XGB.fit(X_train, y_train)"
   ]
  },
  {
   "cell_type": "code",
   "execution_count": 37,
   "metadata": {},
   "outputs": [],
   "source": [
    "predictionsXGB = model_XGB.predict(X_valid)"
   ]
  },
  {
   "cell_type": "code",
   "execution_count": 38,
   "metadata": {},
   "outputs": [
    {
     "name": "stdout",
     "output_type": "stream",
     "text": [
      "MAE: 0.017587966576462263\n",
      "Train model score: 0.8182502525072329\n",
      "Valid model score: 0.8090669608359393\n"
     ]
    }
   ],
   "source": [
    "print(f'MAE: {mean_absolute_error(predictionsXGB, y_valid)}')\n",
    "print(f'Train model score: {model_XGB.score(X_train, y_train)}')\n",
    "print(f'Valid model score: {model_XGB.score(X_valid, y_valid)}')"
   ]
  },
  {
   "cell_type": "markdown",
   "metadata": {},
   "source": [
    "#### <p style=\"background-color: #EDE7F6; color: #6600ff;margin:0; display:inline-block;padding:.6rem;border-radius:.25rem;\">Feature Engineering</p>"
   ]
  },
  {
   "cell_type": "code",
   "execution_count": 40,
   "metadata": {
    "execution": {
     "iopub.execute_input": "2024-06-24T13:10:19.612188Z",
     "iopub.status.busy": "2024-06-24T13:10:19.611906Z",
     "iopub.status.idle": "2024-06-24T13:10:19.776877Z",
     "shell.execute_reply": "2024-06-24T13:10:19.776086Z",
     "shell.execute_reply.started": "2024-06-24T13:10:19.612164Z"
    }
   },
   "outputs": [],
   "source": [
    "unique = []\n",
    "for col in train.iloc[:,1:-1].columns:\n",
    "    unique.extend(train[col].unique())\n",
    "unique = list(set(unique))"
   ]
  },
  {
   "cell_type": "code",
   "execution_count": 41,
   "metadata": {
    "execution": {
     "iopub.execute_input": "2024-06-24T13:10:19.778225Z",
     "iopub.status.busy": "2024-06-24T13:10:19.777936Z",
     "iopub.status.idle": "2024-06-24T13:10:19.79097Z",
     "shell.execute_reply": "2024-06-24T13:10:19.790131Z",
     "shell.execute_reply.started": "2024-06-24T13:10:19.778201Z"
    }
   },
   "outputs": [],
   "source": [
    "def make_features(data, train_data=True, scaler=None):\n",
    "\n",
    "    df = data.copy()\n",
    "    with tqdm(total=12 ,desc='processing...') as pbar:\n",
    "        sort_cols = [f'col{i+1}' for i in range(len(orig_features))]\n",
    "        \n",
    "        df['sum'] = df.sum(axis=1)         \n",
    "        pbar.update(1)\n",
    "        \n",
    "        df['linear_ft'] = df['sum'].isin(np.arange(72, 76)).astype(int)\n",
    "        pbar.update(1)\n",
    "        \n",
    "        df['median'] = df[orig_features].median(axis=1)         \n",
    "        pbar.update(1)\n",
    "        \n",
    "        df['std'] = df[orig_features].std(axis=1)         \n",
    "        pbar.update(1)\n",
    "        \n",
    "        df[sort_cols] = np.sort(df[orig_features].values, axis=1)         \n",
    "        pbar.update(1)\n",
    "        \n",
    "        for u in unique:\n",
    "            df[f'count_{u}'] = (df[orig_features] == u).sum(axis=1)\n",
    "        pbar.update(1)\n",
    "        \n",
    "        df['mean'] = df[orig_features].mean(axis=1)\n",
    "        pbar.update(1)\n",
    "        \n",
    "        df['max'] = df[orig_features].max(axis=1) \n",
    "        pbar.update(1)               \n",
    "        \n",
    "        df['min'] = df[orig_features].min(axis=1)\n",
    "        pbar.update(1)\n",
    "        \n",
    "        df['skew'] = df[orig_features].skew(axis=1)\n",
    "        pbar.update(1)\n",
    "        \n",
    "        df['kurt'] = df[orig_features].kurt(axis=1)\n",
    "        pbar.update(1)\n",
    "        \n",
    "        if train_data:\n",
    "            scaler = StandardScaler()\n",
    "            scaler.fit(df)\n",
    "            df[df.columns.to_list()] = scaler.transform(df.values)\n",
    "            pbar.update(1)\n",
    "        else:\n",
    "            df[df.columns.to_list()] = scaler.transform(df.values)\n",
    "            pbar.update(1)\n",
    "        \n",
    "    return df, scaler"
   ]
  },
  {
   "cell_type": "code",
   "execution_count": 42,
   "metadata": {
    "execution": {
     "iopub.execute_input": "2024-06-24T13:10:19.792389Z",
     "iopub.status.busy": "2024-06-24T13:10:19.792113Z",
     "iopub.status.idle": "2024-06-24T13:10:33.10323Z",
     "shell.execute_reply": "2024-06-24T13:10:33.102019Z",
     "shell.execute_reply.started": "2024-06-24T13:10:19.792367Z"
    }
   },
   "outputs": [
    {
     "name": "stderr",
     "output_type": "stream",
     "text": [
      "processing...: 100%|███████████████████████████████████████████████████████████████████| 12/12 [00:06<00:00,  1.95it/s]\n"
     ]
    },
    {
     "data": {
      "text/html": [
       "<div>\n",
       "<style scoped>\n",
       "    .dataframe tbody tr th:only-of-type {\n",
       "        vertical-align: middle;\n",
       "    }\n",
       "\n",
       "    .dataframe tbody tr th {\n",
       "        vertical-align: top;\n",
       "    }\n",
       "\n",
       "    .dataframe thead th {\n",
       "        text-align: right;\n",
       "    }\n",
       "</style>\n",
       "<table border=\"1\" class=\"dataframe\">\n",
       "  <thead>\n",
       "    <tr style=\"text-align: right;\">\n",
       "      <th></th>\n",
       "      <th>MonsoonIntensity</th>\n",
       "      <th>TopographyDrainage</th>\n",
       "      <th>RiverManagement</th>\n",
       "      <th>Deforestation</th>\n",
       "      <th>Urbanization</th>\n",
       "      <th>ClimateChange</th>\n",
       "      <th>DamsQuality</th>\n",
       "      <th>Siltation</th>\n",
       "      <th>AgriculturalPractices</th>\n",
       "      <th>Encroachments</th>\n",
       "      <th>...</th>\n",
       "      <th>count_15</th>\n",
       "      <th>count_16</th>\n",
       "      <th>count_17</th>\n",
       "      <th>count_18</th>\n",
       "      <th>count_19</th>\n",
       "      <th>mean</th>\n",
       "      <th>max</th>\n",
       "      <th>min</th>\n",
       "      <th>skew</th>\n",
       "      <th>kurt</th>\n",
       "    </tr>\n",
       "  </thead>\n",
       "  <tbody>\n",
       "    <tr>\n",
       "      <th>0</th>\n",
       "      <td>0.038198</td>\n",
       "      <td>1.467769</td>\n",
       "      <td>0.021561</td>\n",
       "      <td>1.490363</td>\n",
       "      <td>0.507578</td>\n",
       "      <td>-0.453941</td>\n",
       "      <td>-0.458881</td>\n",
       "      <td>-0.933107</td>\n",
       "      <td>-0.939124</td>\n",
       "      <td>-0.455632</td>\n",
       "      <td>...</td>\n",
       "      <td>-0.044877</td>\n",
       "      <td>-0.025772</td>\n",
       "      <td>-0.008025</td>\n",
       "      <td>-0.002502</td>\n",
       "      <td>-0.000946</td>\n",
       "      <td>-0.576389</td>\n",
       "      <td>-0.967722</td>\n",
       "      <td>0.473994</td>\n",
       "      <td>0.351678</td>\n",
       "      <td>-0.552520</td>\n",
       "    </tr>\n",
       "    <tr>\n",
       "      <th>1</th>\n",
       "      <td>0.524488</td>\n",
       "      <td>0.990186</td>\n",
       "      <td>-0.461022</td>\n",
       "      <td>-0.459251</td>\n",
       "      <td>1.467552</td>\n",
       "      <td>1.489938</td>\n",
       "      <td>-0.938943</td>\n",
       "      <td>0.034951</td>\n",
       "      <td>-0.455692</td>\n",
       "      <td>0.504372</td>\n",
       "      <td>...</td>\n",
       "      <td>-0.044877</td>\n",
       "      <td>-0.025772</td>\n",
       "      <td>-0.008025</td>\n",
       "      <td>-0.002502</td>\n",
       "      <td>-0.000946</td>\n",
       "      <td>-0.576389</td>\n",
       "      <td>-0.201344</td>\n",
       "      <td>-1.920120</td>\n",
       "      <td>-0.518854</td>\n",
       "      <td>-0.416219</td>\n",
       "    </tr>\n",
       "    <tr>\n",
       "      <th>2</th>\n",
       "      <td>0.524488</td>\n",
       "      <td>0.035021</td>\n",
       "      <td>0.504143</td>\n",
       "      <td>1.002959</td>\n",
       "      <td>-0.932383</td>\n",
       "      <td>1.003968</td>\n",
       "      <td>-1.899068</td>\n",
       "      <td>0.034951</td>\n",
       "      <td>-0.455692</td>\n",
       "      <td>0.024370</td>\n",
       "      <td>...</td>\n",
       "      <td>-0.044877</td>\n",
       "      <td>-0.025772</td>\n",
       "      <td>-0.008025</td>\n",
       "      <td>-0.002502</td>\n",
       "      <td>-0.000946</td>\n",
       "      <td>0.025493</td>\n",
       "      <td>-0.967722</td>\n",
       "      <td>-0.723063</td>\n",
       "      <td>-1.648163</td>\n",
       "      <td>-0.736429</td>\n",
       "    </tr>\n",
       "    <tr>\n",
       "      <th>3</th>\n",
       "      <td>-0.934382</td>\n",
       "      <td>-0.442562</td>\n",
       "      <td>0.504143</td>\n",
       "      <td>0.028152</td>\n",
       "      <td>-0.452396</td>\n",
       "      <td>1.489938</td>\n",
       "      <td>-0.458881</td>\n",
       "      <td>1.003010</td>\n",
       "      <td>0.511171</td>\n",
       "      <td>1.464377</td>\n",
       "      <td>...</td>\n",
       "      <td>-0.044877</td>\n",
       "      <td>-0.025772</td>\n",
       "      <td>-0.008025</td>\n",
       "      <td>-0.002502</td>\n",
       "      <td>-0.000946</td>\n",
       "      <td>0.627374</td>\n",
       "      <td>-0.967722</td>\n",
       "      <td>0.473994</td>\n",
       "      <td>-0.575221</td>\n",
       "      <td>-0.609961</td>\n",
       "    </tr>\n",
       "    <tr>\n",
       "      <th>4</th>\n",
       "      <td>0.038198</td>\n",
       "      <td>-0.920145</td>\n",
       "      <td>-1.426186</td>\n",
       "      <td>0.515556</td>\n",
       "      <td>-0.452396</td>\n",
       "      <td>-0.453941</td>\n",
       "      <td>-0.938943</td>\n",
       "      <td>-0.933107</td>\n",
       "      <td>-0.939124</td>\n",
       "      <td>-0.935635</td>\n",
       "      <td>...</td>\n",
       "      <td>-0.044877</td>\n",
       "      <td>-0.025772</td>\n",
       "      <td>-0.008025</td>\n",
       "      <td>-0.002502</td>\n",
       "      <td>-0.000946</td>\n",
       "      <td>-3.224667</td>\n",
       "      <td>-2.500477</td>\n",
       "      <td>-0.723063</td>\n",
       "      <td>-0.305973</td>\n",
       "      <td>-0.886395</td>\n",
       "    </tr>\n",
       "  </tbody>\n",
       "</table>\n",
       "<p>5 rows × 69 columns</p>\n",
       "</div>"
      ],
      "text/plain": [
       "   MonsoonIntensity  TopographyDrainage  RiverManagement  Deforestation  \\\n",
       "0          0.038198            1.467769         0.021561       1.490363   \n",
       "1          0.524488            0.990186        -0.461022      -0.459251   \n",
       "2          0.524488            0.035021         0.504143       1.002959   \n",
       "3         -0.934382           -0.442562         0.504143       0.028152   \n",
       "4          0.038198           -0.920145        -1.426186       0.515556   \n",
       "\n",
       "   Urbanization  ClimateChange  DamsQuality  Siltation  AgriculturalPractices  \\\n",
       "0      0.507578      -0.453941    -0.458881  -0.933107              -0.939124   \n",
       "1      1.467552       1.489938    -0.938943   0.034951              -0.455692   \n",
       "2     -0.932383       1.003968    -1.899068   0.034951              -0.455692   \n",
       "3     -0.452396       1.489938    -0.458881   1.003010               0.511171   \n",
       "4     -0.452396      -0.453941    -0.938943  -0.933107              -0.939124   \n",
       "\n",
       "   Encroachments  ...  count_15  count_16  count_17  count_18  count_19  \\\n",
       "0      -0.455632  ... -0.044877 -0.025772 -0.008025 -0.002502 -0.000946   \n",
       "1       0.504372  ... -0.044877 -0.025772 -0.008025 -0.002502 -0.000946   \n",
       "2       0.024370  ... -0.044877 -0.025772 -0.008025 -0.002502 -0.000946   \n",
       "3       1.464377  ... -0.044877 -0.025772 -0.008025 -0.002502 -0.000946   \n",
       "4      -0.935635  ... -0.044877 -0.025772 -0.008025 -0.002502 -0.000946   \n",
       "\n",
       "       mean       max       min      skew      kurt  \n",
       "0 -0.576389 -0.967722  0.473994  0.351678 -0.552520  \n",
       "1 -0.576389 -0.201344 -1.920120 -0.518854 -0.416219  \n",
       "2  0.025493 -0.967722 -0.723063 -1.648163 -0.736429  \n",
       "3  0.627374 -0.967722  0.473994 -0.575221 -0.609961  \n",
       "4 -3.224667 -2.500477 -0.723063 -0.305973 -0.886395  \n",
       "\n",
       "[5 rows x 69 columns]"
      ]
     },
     "execution_count": 42,
     "metadata": {},
     "output_type": "execute_result"
    }
   ],
   "source": [
    "train_df, scaler = make_features(X)\n",
    "dump(train_df,'train_df.joblib')\n",
    "train_df.head()"
   ]
  },
  {
   "cell_type": "code",
   "execution_count": 43,
   "metadata": {
    "execution": {
     "iopub.execute_input": "2024-06-24T13:10:33.104803Z",
     "iopub.status.busy": "2024-06-24T13:10:33.104472Z",
     "iopub.status.idle": "2024-06-24T13:10:41.463403Z",
     "shell.execute_reply": "2024-06-24T13:10:41.462446Z",
     "shell.execute_reply.started": "2024-06-24T13:10:33.104779Z"
    }
   },
   "outputs": [
    {
     "name": "stderr",
     "output_type": "stream",
     "text": [
      "processing...: 100%|███████████████████████████████████████████████████████████████████| 12/12 [00:03<00:00,  3.28it/s]\n"
     ]
    },
    {
     "data": {
      "text/html": [
       "<div>\n",
       "<style scoped>\n",
       "    .dataframe tbody tr th:only-of-type {\n",
       "        vertical-align: middle;\n",
       "    }\n",
       "\n",
       "    .dataframe tbody tr th {\n",
       "        vertical-align: top;\n",
       "    }\n",
       "\n",
       "    .dataframe thead th {\n",
       "        text-align: right;\n",
       "    }\n",
       "</style>\n",
       "<table border=\"1\" class=\"dataframe\">\n",
       "  <thead>\n",
       "    <tr style=\"text-align: right;\">\n",
       "      <th></th>\n",
       "      <th>MonsoonIntensity</th>\n",
       "      <th>TopographyDrainage</th>\n",
       "      <th>RiverManagement</th>\n",
       "      <th>Deforestation</th>\n",
       "      <th>Urbanization</th>\n",
       "      <th>ClimateChange</th>\n",
       "      <th>DamsQuality</th>\n",
       "      <th>Siltation</th>\n",
       "      <th>AgriculturalPractices</th>\n",
       "      <th>Encroachments</th>\n",
       "      <th>...</th>\n",
       "      <th>count_15</th>\n",
       "      <th>count_16</th>\n",
       "      <th>count_17</th>\n",
       "      <th>count_18</th>\n",
       "      <th>count_19</th>\n",
       "      <th>mean</th>\n",
       "      <th>max</th>\n",
       "      <th>min</th>\n",
       "      <th>skew</th>\n",
       "      <th>kurt</th>\n",
       "    </tr>\n",
       "  </thead>\n",
       "  <tbody>\n",
       "    <tr>\n",
       "      <th>0</th>\n",
       "      <td>-0.448092</td>\n",
       "      <td>0.512604</td>\n",
       "      <td>-0.943604</td>\n",
       "      <td>0.028152</td>\n",
       "      <td>0.507578</td>\n",
       "      <td>1.003968</td>\n",
       "      <td>1.461369</td>\n",
       "      <td>1.003010</td>\n",
       "      <td>1.478035</td>\n",
       "      <td>-0.455632</td>\n",
       "      <td>...</td>\n",
       "      <td>-0.044877</td>\n",
       "      <td>-0.025772</td>\n",
       "      <td>-0.008025</td>\n",
       "      <td>-0.002502</td>\n",
       "      <td>-0.000946</td>\n",
       "      <td>1.470008</td>\n",
       "      <td>-0.967722</td>\n",
       "      <td>1.671050</td>\n",
       "      <td>-0.679136</td>\n",
       "      <td>-0.985432</td>\n",
       "    </tr>\n",
       "    <tr>\n",
       "      <th>1</th>\n",
       "      <td>-0.448092</td>\n",
       "      <td>-0.442562</td>\n",
       "      <td>-1.426186</td>\n",
       "      <td>1.977766</td>\n",
       "      <td>0.027591</td>\n",
       "      <td>0.032029</td>\n",
       "      <td>-0.458881</td>\n",
       "      <td>1.003010</td>\n",
       "      <td>0.027740</td>\n",
       "      <td>-0.455632</td>\n",
       "      <td>...</td>\n",
       "      <td>-0.044877</td>\n",
       "      <td>-0.025772</td>\n",
       "      <td>-0.008025</td>\n",
       "      <td>-0.002502</td>\n",
       "      <td>-0.000946</td>\n",
       "      <td>-1.057894</td>\n",
       "      <td>-0.201344</td>\n",
       "      <td>-0.723063</td>\n",
       "      <td>0.209093</td>\n",
       "      <td>0.408414</td>\n",
       "    </tr>\n",
       "    <tr>\n",
       "      <th>2</th>\n",
       "      <td>-1.906963</td>\n",
       "      <td>-0.920145</td>\n",
       "      <td>0.504143</td>\n",
       "      <td>0.028152</td>\n",
       "      <td>0.987565</td>\n",
       "      <td>-1.425881</td>\n",
       "      <td>-0.458881</td>\n",
       "      <td>0.518981</td>\n",
       "      <td>-0.455692</td>\n",
       "      <td>-1.415637</td>\n",
       "      <td>...</td>\n",
       "      <td>-0.044877</td>\n",
       "      <td>-0.025772</td>\n",
       "      <td>-0.008025</td>\n",
       "      <td>-0.002502</td>\n",
       "      <td>-0.000946</td>\n",
       "      <td>-1.057894</td>\n",
       "      <td>-0.201344</td>\n",
       "      <td>-0.723063</td>\n",
       "      <td>-0.202562</td>\n",
       "      <td>-0.814604</td>\n",
       "    </tr>\n",
       "    <tr>\n",
       "      <th>3</th>\n",
       "      <td>-1.420672</td>\n",
       "      <td>-0.442562</td>\n",
       "      <td>-0.461022</td>\n",
       "      <td>0.515556</td>\n",
       "      <td>-0.452396</td>\n",
       "      <td>0.032029</td>\n",
       "      <td>-0.458881</td>\n",
       "      <td>-0.933107</td>\n",
       "      <td>-0.455692</td>\n",
       "      <td>-0.455632</td>\n",
       "      <td>...</td>\n",
       "      <td>-0.044877</td>\n",
       "      <td>-0.025772</td>\n",
       "      <td>-0.008025</td>\n",
       "      <td>-0.002502</td>\n",
       "      <td>-0.000946</td>\n",
       "      <td>-0.817142</td>\n",
       "      <td>-0.967722</td>\n",
       "      <td>0.473994</td>\n",
       "      <td>0.155842</td>\n",
       "      <td>-0.230696</td>\n",
       "    </tr>\n",
       "    <tr>\n",
       "      <th>4</th>\n",
       "      <td>0.524488</td>\n",
       "      <td>-0.920145</td>\n",
       "      <td>-1.426186</td>\n",
       "      <td>-0.459251</td>\n",
       "      <td>0.507578</td>\n",
       "      <td>-0.453941</td>\n",
       "      <td>0.021182</td>\n",
       "      <td>0.034951</td>\n",
       "      <td>-0.939124</td>\n",
       "      <td>0.984374</td>\n",
       "      <td>...</td>\n",
       "      <td>-0.044877</td>\n",
       "      <td>-0.025772</td>\n",
       "      <td>-0.008025</td>\n",
       "      <td>-0.002502</td>\n",
       "      <td>-0.000946</td>\n",
       "      <td>-0.817142</td>\n",
       "      <td>-0.967722</td>\n",
       "      <td>0.473994</td>\n",
       "      <td>-0.363181</td>\n",
       "      <td>-0.384101</td>\n",
       "    </tr>\n",
       "  </tbody>\n",
       "</table>\n",
       "<p>5 rows × 69 columns</p>\n",
       "</div>"
      ],
      "text/plain": [
       "   MonsoonIntensity  TopographyDrainage  RiverManagement  Deforestation  \\\n",
       "0         -0.448092            0.512604        -0.943604       0.028152   \n",
       "1         -0.448092           -0.442562        -1.426186       1.977766   \n",
       "2         -1.906963           -0.920145         0.504143       0.028152   \n",
       "3         -1.420672           -0.442562        -0.461022       0.515556   \n",
       "4          0.524488           -0.920145        -1.426186      -0.459251   \n",
       "\n",
       "   Urbanization  ClimateChange  DamsQuality  Siltation  AgriculturalPractices  \\\n",
       "0      0.507578       1.003968     1.461369   1.003010               1.478035   \n",
       "1      0.027591       0.032029    -0.458881   1.003010               0.027740   \n",
       "2      0.987565      -1.425881    -0.458881   0.518981              -0.455692   \n",
       "3     -0.452396       0.032029    -0.458881  -0.933107              -0.455692   \n",
       "4      0.507578      -0.453941     0.021182   0.034951              -0.939124   \n",
       "\n",
       "   Encroachments  ...  count_15  count_16  count_17  count_18  count_19  \\\n",
       "0      -0.455632  ... -0.044877 -0.025772 -0.008025 -0.002502 -0.000946   \n",
       "1      -0.455632  ... -0.044877 -0.025772 -0.008025 -0.002502 -0.000946   \n",
       "2      -1.415637  ... -0.044877 -0.025772 -0.008025 -0.002502 -0.000946   \n",
       "3      -0.455632  ... -0.044877 -0.025772 -0.008025 -0.002502 -0.000946   \n",
       "4       0.984374  ... -0.044877 -0.025772 -0.008025 -0.002502 -0.000946   \n",
       "\n",
       "       mean       max       min      skew      kurt  \n",
       "0  1.470008 -0.967722  1.671050 -0.679136 -0.985432  \n",
       "1 -1.057894 -0.201344 -0.723063  0.209093  0.408414  \n",
       "2 -1.057894 -0.201344 -0.723063 -0.202562 -0.814604  \n",
       "3 -0.817142 -0.967722  0.473994  0.155842 -0.230696  \n",
       "4 -0.817142 -0.967722  0.473994 -0.363181 -0.384101  \n",
       "\n",
       "[5 rows x 69 columns]"
      ]
     },
     "execution_count": 43,
     "metadata": {},
     "output_type": "execute_result"
    }
   ],
   "source": [
    "test_df, _ = make_features(test.iloc[:,1:], train_data=False, scaler=scaler)\n",
    "dump(test_df,'test_df.joblib')\n",
    "test_df.head()"
   ]
  },
  {
   "cell_type": "markdown",
   "metadata": {},
   "source": [
    "#### <p style=\"background-color: #EDE7F6; color: #6600ff;margin:0; display:inline-block;padding:.6rem;border-radius:.25rem;\">B.Model Training</p>"
   ]
  },
  {
   "cell_type": "code",
   "execution_count": null,
   "metadata": {},
   "outputs": [],
   "source": [
    "# Lets check the model performances again now after adding the new features"
   ]
  },
  {
   "cell_type": "code",
   "execution_count": 66,
   "metadata": {},
   "outputs": [],
   "source": [
    "pd.set_option(\"display.max_columns\", 100)"
   ]
  },
  {
   "cell_type": "code",
   "execution_count": 68,
   "metadata": {},
   "outputs": [
    {
     "data": {
      "text/html": [
       "<div>\n",
       "<style scoped>\n",
       "    .dataframe tbody tr th:only-of-type {\n",
       "        vertical-align: middle;\n",
       "    }\n",
       "\n",
       "    .dataframe tbody tr th {\n",
       "        vertical-align: top;\n",
       "    }\n",
       "\n",
       "    .dataframe thead th {\n",
       "        text-align: right;\n",
       "    }\n",
       "</style>\n",
       "<table border=\"1\" class=\"dataframe\">\n",
       "  <thead>\n",
       "    <tr style=\"text-align: right;\">\n",
       "      <th></th>\n",
       "      <th>MonsoonIntensity</th>\n",
       "      <th>TopographyDrainage</th>\n",
       "      <th>RiverManagement</th>\n",
       "      <th>Deforestation</th>\n",
       "      <th>Urbanization</th>\n",
       "      <th>ClimateChange</th>\n",
       "      <th>DamsQuality</th>\n",
       "      <th>Siltation</th>\n",
       "      <th>AgriculturalPractices</th>\n",
       "      <th>Encroachments</th>\n",
       "      <th>IneffectiveDisasterPreparedness</th>\n",
       "      <th>DrainageSystems</th>\n",
       "      <th>CoastalVulnerability</th>\n",
       "      <th>Landslides</th>\n",
       "      <th>Watersheds</th>\n",
       "      <th>DeterioratingInfrastructure</th>\n",
       "      <th>PopulationScore</th>\n",
       "      <th>WetlandLoss</th>\n",
       "      <th>InadequatePlanning</th>\n",
       "      <th>PoliticalFactors</th>\n",
       "      <th>sum</th>\n",
       "      <th>linear_ft</th>\n",
       "      <th>median</th>\n",
       "      <th>std</th>\n",
       "      <th>col1</th>\n",
       "      <th>col2</th>\n",
       "      <th>col3</th>\n",
       "      <th>col4</th>\n",
       "      <th>col5</th>\n",
       "      <th>col6</th>\n",
       "      <th>col7</th>\n",
       "      <th>col8</th>\n",
       "      <th>col9</th>\n",
       "      <th>col10</th>\n",
       "      <th>col11</th>\n",
       "      <th>col12</th>\n",
       "      <th>col13</th>\n",
       "      <th>col14</th>\n",
       "      <th>col15</th>\n",
       "      <th>col16</th>\n",
       "      <th>col17</th>\n",
       "      <th>col18</th>\n",
       "      <th>col19</th>\n",
       "      <th>col20</th>\n",
       "      <th>count_0</th>\n",
       "      <th>count_1</th>\n",
       "      <th>count_2</th>\n",
       "      <th>count_3</th>\n",
       "      <th>count_4</th>\n",
       "      <th>count_5</th>\n",
       "      <th>count_6</th>\n",
       "      <th>count_7</th>\n",
       "      <th>count_8</th>\n",
       "      <th>count_9</th>\n",
       "      <th>count_10</th>\n",
       "      <th>count_11</th>\n",
       "      <th>count_12</th>\n",
       "      <th>count_13</th>\n",
       "      <th>count_14</th>\n",
       "      <th>count_15</th>\n",
       "      <th>count_16</th>\n",
       "      <th>count_17</th>\n",
       "      <th>count_18</th>\n",
       "      <th>count_19</th>\n",
       "      <th>mean</th>\n",
       "      <th>max</th>\n",
       "      <th>min</th>\n",
       "      <th>skew</th>\n",
       "      <th>kurt</th>\n",
       "    </tr>\n",
       "  </thead>\n",
       "  <tbody>\n",
       "    <tr>\n",
       "      <th>745302</th>\n",
       "      <td>0.038198</td>\n",
       "      <td>0.990186</td>\n",
       "      <td>1.951890</td>\n",
       "      <td>0.028152</td>\n",
       "      <td>0.027591</td>\n",
       "      <td>0.517999</td>\n",
       "      <td>0.981307</td>\n",
       "      <td>0.034951</td>\n",
       "      <td>0.027740</td>\n",
       "      <td>-0.935635</td>\n",
       "      <td>0.507551</td>\n",
       "      <td>2.920915</td>\n",
       "      <td>-0.935421</td>\n",
       "      <td>2.920014</td>\n",
       "      <td>-0.446137</td>\n",
       "      <td>0.035884</td>\n",
       "      <td>1.963421</td>\n",
       "      <td>0.023754</td>\n",
       "      <td>0.028548</td>\n",
       "      <td>-0.449209</td>\n",
       "      <td>2.553395</td>\n",
       "      <td>-0.092641</td>\n",
       "      <td>0.394861</td>\n",
       "      <td>0.776859</td>\n",
       "      <td>1.671050</td>\n",
       "      <td>1.003264</td>\n",
       "      <td>1.88420</td>\n",
       "      <td>1.452382</td>\n",
       "      <td>2.583041</td>\n",
       "      <td>2.180019</td>\n",
       "      <td>1.814241</td>\n",
       "      <td>1.425875</td>\n",
       "      <td>1.000899</td>\n",
       "      <td>0.576117</td>\n",
       "      <td>0.155250</td>\n",
       "      <td>-0.264347</td>\n",
       "      <td>0.909327</td>\n",
       "      <td>0.426602</td>\n",
       "      <td>1.393773</td>\n",
       "      <td>0.832034</td>\n",
       "      <td>2.800666</td>\n",
       "      <td>1.941122</td>\n",
       "      <td>3.014061</td>\n",
       "      <td>1.331411</td>\n",
       "      <td>-0.305101</td>\n",
       "      <td>-0.69286</td>\n",
       "      <td>-1.273444</td>\n",
       "      <td>-0.570042</td>\n",
       "      <td>-1.042446</td>\n",
       "      <td>2.257939</td>\n",
       "      <td>-0.602373</td>\n",
       "      <td>0.055926</td>\n",
       "      <td>-1.255373</td>\n",
       "      <td>1.785797</td>\n",
       "      <td>-0.523310</td>\n",
       "      <td>5.816190</td>\n",
       "      <td>-0.196533</td>\n",
       "      <td>-0.113623</td>\n",
       "      <td>-0.075162</td>\n",
       "      <td>-0.044877</td>\n",
       "      <td>-0.025772</td>\n",
       "      <td>-0.008025</td>\n",
       "      <td>-0.002502</td>\n",
       "      <td>-0.000946</td>\n",
       "      <td>2.553395</td>\n",
       "      <td>1.331411</td>\n",
       "      <td>1.671050</td>\n",
       "      <td>1.293220</td>\n",
       "      <td>0.180421</td>\n",
       "    </tr>\n",
       "    <tr>\n",
       "      <th>745303</th>\n",
       "      <td>-0.448092</td>\n",
       "      <td>0.990186</td>\n",
       "      <td>0.504143</td>\n",
       "      <td>-0.946654</td>\n",
       "      <td>0.027591</td>\n",
       "      <td>-1.425881</td>\n",
       "      <td>-0.938943</td>\n",
       "      <td>1.487039</td>\n",
       "      <td>0.511171</td>\n",
       "      <td>0.984374</td>\n",
       "      <td>0.507551</td>\n",
       "      <td>0.508175</td>\n",
       "      <td>1.458186</td>\n",
       "      <td>0.514185</td>\n",
       "      <td>-1.406570</td>\n",
       "      <td>-0.932727</td>\n",
       "      <td>1.481302</td>\n",
       "      <td>0.990547</td>\n",
       "      <td>0.028548</td>\n",
       "      <td>0.029180</td>\n",
       "      <td>0.988503</td>\n",
       "      <td>-0.092641</td>\n",
       "      <td>2.166655</td>\n",
       "      <td>-0.266960</td>\n",
       "      <td>0.473994</td>\n",
       "      <td>-0.343300</td>\n",
       "      <td>0.44014</td>\n",
       "      <td>-0.070144</td>\n",
       "      <td>-0.551742</td>\n",
       "      <td>0.581143</td>\n",
       "      <td>1.814241</td>\n",
       "      <td>1.425875</td>\n",
       "      <td>1.000899</td>\n",
       "      <td>2.211724</td>\n",
       "      <td>1.815964</td>\n",
       "      <td>1.389766</td>\n",
       "      <td>0.909327</td>\n",
       "      <td>0.426602</td>\n",
       "      <td>1.393773</td>\n",
       "      <td>0.832034</td>\n",
       "      <td>0.240347</td>\n",
       "      <td>0.778443</td>\n",
       "      <td>-0.057880</td>\n",
       "      <td>-0.967722</td>\n",
       "      <td>-0.305101</td>\n",
       "      <td>-0.69286</td>\n",
       "      <td>0.377739</td>\n",
       "      <td>0.071814</td>\n",
       "      <td>-1.603117</td>\n",
       "      <td>-0.485763</td>\n",
       "      <td>1.296003</td>\n",
       "      <td>0.813103</td>\n",
       "      <td>1.719640</td>\n",
       "      <td>-0.837315</td>\n",
       "      <td>-0.523310</td>\n",
       "      <td>-0.326605</td>\n",
       "      <td>-0.196533</td>\n",
       "      <td>-0.113623</td>\n",
       "      <td>-0.075162</td>\n",
       "      <td>-0.044877</td>\n",
       "      <td>-0.025772</td>\n",
       "      <td>-0.008025</td>\n",
       "      <td>-0.002502</td>\n",
       "      <td>-0.000946</td>\n",
       "      <td>0.988503</td>\n",
       "      <td>-0.967722</td>\n",
       "      <td>0.473994</td>\n",
       "      <td>-1.552198</td>\n",
       "      <td>-0.929215</td>\n",
       "    </tr>\n",
       "    <tr>\n",
       "      <th>745304</th>\n",
       "      <td>-0.448092</td>\n",
       "      <td>-1.397727</td>\n",
       "      <td>0.021561</td>\n",
       "      <td>-0.946654</td>\n",
       "      <td>1.467552</td>\n",
       "      <td>-0.453941</td>\n",
       "      <td>0.021182</td>\n",
       "      <td>-0.933107</td>\n",
       "      <td>0.027740</td>\n",
       "      <td>0.504372</td>\n",
       "      <td>-0.454848</td>\n",
       "      <td>-1.422018</td>\n",
       "      <td>0.500743</td>\n",
       "      <td>2.438849</td>\n",
       "      <td>-0.446137</td>\n",
       "      <td>-0.932727</td>\n",
       "      <td>1.963421</td>\n",
       "      <td>1.473944</td>\n",
       "      <td>0.509058</td>\n",
       "      <td>-0.927598</td>\n",
       "      <td>0.145869</td>\n",
       "      <td>-0.092641</td>\n",
       "      <td>-0.491036</td>\n",
       "      <td>0.653843</td>\n",
       "      <td>0.473994</td>\n",
       "      <td>-0.343300</td>\n",
       "      <td>0.44014</td>\n",
       "      <td>-0.070144</td>\n",
       "      <td>-0.551742</td>\n",
       "      <td>-1.017734</td>\n",
       "      <td>0.159595</td>\n",
       "      <td>-0.253589</td>\n",
       "      <td>-0.651513</td>\n",
       "      <td>-1.059490</td>\n",
       "      <td>0.155250</td>\n",
       "      <td>-0.264347</td>\n",
       "      <td>-0.665863</td>\n",
       "      <td>0.426602</td>\n",
       "      <td>-0.057234</td>\n",
       "      <td>-0.546571</td>\n",
       "      <td>1.520507</td>\n",
       "      <td>0.778443</td>\n",
       "      <td>0.966100</td>\n",
       "      <td>0.565033</td>\n",
       "      <td>-0.305101</td>\n",
       "      <td>-0.69286</td>\n",
       "      <td>0.377739</td>\n",
       "      <td>0.713670</td>\n",
       "      <td>0.078896</td>\n",
       "      <td>-0.485763</td>\n",
       "      <td>0.030419</td>\n",
       "      <td>-1.458430</td>\n",
       "      <td>0.727969</td>\n",
       "      <td>0.474241</td>\n",
       "      <td>1.434197</td>\n",
       "      <td>-0.326605</td>\n",
       "      <td>-0.196533</td>\n",
       "      <td>-0.113623</td>\n",
       "      <td>-0.075162</td>\n",
       "      <td>-0.044877</td>\n",
       "      <td>-0.025772</td>\n",
       "      <td>-0.008025</td>\n",
       "      <td>-0.002502</td>\n",
       "      <td>-0.000946</td>\n",
       "      <td>0.145869</td>\n",
       "      <td>0.565033</td>\n",
       "      <td>0.473994</td>\n",
       "      <td>0.713524</td>\n",
       "      <td>-0.293814</td>\n",
       "    </tr>\n",
       "  </tbody>\n",
       "</table>\n",
       "</div>"
      ],
      "text/plain": [
       "        MonsoonIntensity  TopographyDrainage  RiverManagement  Deforestation  \\\n",
       "745302          0.038198            0.990186         1.951890       0.028152   \n",
       "745303         -0.448092            0.990186         0.504143      -0.946654   \n",
       "745304         -0.448092           -1.397727         0.021561      -0.946654   \n",
       "\n",
       "        Urbanization  ClimateChange  DamsQuality  Siltation  \\\n",
       "745302      0.027591       0.517999     0.981307   0.034951   \n",
       "745303      0.027591      -1.425881    -0.938943   1.487039   \n",
       "745304      1.467552      -0.453941     0.021182  -0.933107   \n",
       "\n",
       "        AgriculturalPractices  Encroachments  IneffectiveDisasterPreparedness  \\\n",
       "745302               0.027740      -0.935635                         0.507551   \n",
       "745303               0.511171       0.984374                         0.507551   \n",
       "745304               0.027740       0.504372                        -0.454848   \n",
       "\n",
       "        DrainageSystems  CoastalVulnerability  Landslides  Watersheds  \\\n",
       "745302         2.920915             -0.935421    2.920014   -0.446137   \n",
       "745303         0.508175              1.458186    0.514185   -1.406570   \n",
       "745304        -1.422018              0.500743    2.438849   -0.446137   \n",
       "\n",
       "        DeterioratingInfrastructure  PopulationScore  WetlandLoss  \\\n",
       "745302                     0.035884         1.963421     0.023754   \n",
       "745303                    -0.932727         1.481302     0.990547   \n",
       "745304                    -0.932727         1.963421     1.473944   \n",
       "\n",
       "        InadequatePlanning  PoliticalFactors       sum  linear_ft    median  \\\n",
       "745302            0.028548         -0.449209  2.553395  -0.092641  0.394861   \n",
       "745303            0.028548          0.029180  0.988503  -0.092641  2.166655   \n",
       "745304            0.509058         -0.927598  0.145869  -0.092641 -0.491036   \n",
       "\n",
       "             std      col1      col2     col3      col4      col5      col6  \\\n",
       "745302  0.776859  1.671050  1.003264  1.88420  1.452382  2.583041  2.180019   \n",
       "745303 -0.266960  0.473994 -0.343300  0.44014 -0.070144 -0.551742  0.581143   \n",
       "745304  0.653843  0.473994 -0.343300  0.44014 -0.070144 -0.551742 -1.017734   \n",
       "\n",
       "            col7      col8      col9     col10     col11     col12     col13  \\\n",
       "745302  1.814241  1.425875  1.000899  0.576117  0.155250 -0.264347  0.909327   \n",
       "745303  1.814241  1.425875  1.000899  2.211724  1.815964  1.389766  0.909327   \n",
       "745304  0.159595 -0.253589 -0.651513 -1.059490  0.155250 -0.264347 -0.665863   \n",
       "\n",
       "           col14     col15     col16     col17     col18     col19     col20  \\\n",
       "745302  0.426602  1.393773  0.832034  2.800666  1.941122  3.014061  1.331411   \n",
       "745303  0.426602  1.393773  0.832034  0.240347  0.778443 -0.057880 -0.967722   \n",
       "745304  0.426602 -0.057234 -0.546571  1.520507  0.778443  0.966100  0.565033   \n",
       "\n",
       "         count_0  count_1   count_2   count_3   count_4   count_5   count_6  \\\n",
       "745302 -0.305101 -0.69286 -1.273444 -0.570042 -1.042446  2.257939 -0.602373   \n",
       "745303 -0.305101 -0.69286  0.377739  0.071814 -1.603117 -0.485763  1.296003   \n",
       "745304 -0.305101 -0.69286  0.377739  0.713670  0.078896 -0.485763  0.030419   \n",
       "\n",
       "         count_7   count_8   count_9  count_10  count_11  count_12  count_13  \\\n",
       "745302  0.055926 -1.255373  1.785797 -0.523310  5.816190 -0.196533 -0.113623   \n",
       "745303  0.813103  1.719640 -0.837315 -0.523310 -0.326605 -0.196533 -0.113623   \n",
       "745304 -1.458430  0.727969  0.474241  1.434197 -0.326605 -0.196533 -0.113623   \n",
       "\n",
       "        count_14  count_15  count_16  count_17  count_18  count_19      mean  \\\n",
       "745302 -0.075162 -0.044877 -0.025772 -0.008025 -0.002502 -0.000946  2.553395   \n",
       "745303 -0.075162 -0.044877 -0.025772 -0.008025 -0.002502 -0.000946  0.988503   \n",
       "745304 -0.075162 -0.044877 -0.025772 -0.008025 -0.002502 -0.000946  0.145869   \n",
       "\n",
       "             max       min      skew      kurt  \n",
       "745302  1.331411  1.671050  1.293220  0.180421  \n",
       "745303 -0.967722  0.473994 -1.552198 -0.929215  \n",
       "745304  0.565033  0.473994  0.713524 -0.293814  "
      ]
     },
     "execution_count": 68,
     "metadata": {},
     "output_type": "execute_result"
    }
   ],
   "source": [
    "test_df.tail(3)"
   ]
  },
  {
   "cell_type": "code",
   "execution_count": 44,
   "metadata": {
    "execution": {
     "iopub.execute_input": "2024-06-24T13:10:41.465353Z",
     "iopub.status.busy": "2024-06-24T13:10:41.465015Z",
     "iopub.status.idle": "2024-06-24T13:13:24.787266Z",
     "shell.execute_reply": "2024-06-24T13:13:24.786305Z",
     "shell.execute_reply.started": "2024-06-24T13:10:41.465322Z"
    }
   },
   "outputs": [],
   "source": [
    "X = train_df\n",
    "y = train['FloodProbability']"
   ]
  },
  {
   "cell_type": "code",
   "execution_count": 45,
   "metadata": {},
   "outputs": [],
   "source": [
    "X_train, X_valid, y_train, y_valid = train_test_split(X,y, test_size = 0.2, random_state=42)"
   ]
  },
  {
   "cell_type": "code",
   "execution_count": 53,
   "metadata": {},
   "outputs": [],
   "source": [
    "param = {'n_estimators': 309, 'learning_rate': 0.019965529664439288, 'max_depth': 10, 'subsample': 0.5927215723384559, 'colsample_bytree': 0.7745532703076283, 'min_child_weight': 4}"
   ]
  },
  {
   "cell_type": "code",
   "execution_count": 54,
   "metadata": {},
   "outputs": [],
   "source": [
    "model_XGB = XGBRegressor(**param, random_state=42)"
   ]
  },
  {
   "cell_type": "code",
   "execution_count": 55,
   "metadata": {},
   "outputs": [
    {
     "data": {
      "text/html": [
       "<style>#sk-container-id-4 {color: black;}#sk-container-id-4 pre{padding: 0;}#sk-container-id-4 div.sk-toggleable {background-color: white;}#sk-container-id-4 label.sk-toggleable__label {cursor: pointer;display: block;width: 100%;margin-bottom: 0;padding: 0.3em;box-sizing: border-box;text-align: center;}#sk-container-id-4 label.sk-toggleable__label-arrow:before {content: \"▸\";float: left;margin-right: 0.25em;color: #696969;}#sk-container-id-4 label.sk-toggleable__label-arrow:hover:before {color: black;}#sk-container-id-4 div.sk-estimator:hover label.sk-toggleable__label-arrow:before {color: black;}#sk-container-id-4 div.sk-toggleable__content {max-height: 0;max-width: 0;overflow: hidden;text-align: left;background-color: #f0f8ff;}#sk-container-id-4 div.sk-toggleable__content pre {margin: 0.2em;color: black;border-radius: 0.25em;background-color: #f0f8ff;}#sk-container-id-4 input.sk-toggleable__control:checked~div.sk-toggleable__content {max-height: 200px;max-width: 100%;overflow: auto;}#sk-container-id-4 input.sk-toggleable__control:checked~label.sk-toggleable__label-arrow:before {content: \"▾\";}#sk-container-id-4 div.sk-estimator input.sk-toggleable__control:checked~label.sk-toggleable__label {background-color: #d4ebff;}#sk-container-id-4 div.sk-label input.sk-toggleable__control:checked~label.sk-toggleable__label {background-color: #d4ebff;}#sk-container-id-4 input.sk-hidden--visually {border: 0;clip: rect(1px 1px 1px 1px);clip: rect(1px, 1px, 1px, 1px);height: 1px;margin: -1px;overflow: hidden;padding: 0;position: absolute;width: 1px;}#sk-container-id-4 div.sk-estimator {font-family: monospace;background-color: #f0f8ff;border: 1px dotted black;border-radius: 0.25em;box-sizing: border-box;margin-bottom: 0.5em;}#sk-container-id-4 div.sk-estimator:hover {background-color: #d4ebff;}#sk-container-id-4 div.sk-parallel-item::after {content: \"\";width: 100%;border-bottom: 1px solid gray;flex-grow: 1;}#sk-container-id-4 div.sk-label:hover label.sk-toggleable__label {background-color: #d4ebff;}#sk-container-id-4 div.sk-serial::before {content: \"\";position: absolute;border-left: 1px solid gray;box-sizing: border-box;top: 0;bottom: 0;left: 50%;z-index: 0;}#sk-container-id-4 div.sk-serial {display: flex;flex-direction: column;align-items: center;background-color: white;padding-right: 0.2em;padding-left: 0.2em;position: relative;}#sk-container-id-4 div.sk-item {position: relative;z-index: 1;}#sk-container-id-4 div.sk-parallel {display: flex;align-items: stretch;justify-content: center;background-color: white;position: relative;}#sk-container-id-4 div.sk-item::before, #sk-container-id-4 div.sk-parallel-item::before {content: \"\";position: absolute;border-left: 1px solid gray;box-sizing: border-box;top: 0;bottom: 0;left: 50%;z-index: -1;}#sk-container-id-4 div.sk-parallel-item {display: flex;flex-direction: column;z-index: 1;position: relative;background-color: white;}#sk-container-id-4 div.sk-parallel-item:first-child::after {align-self: flex-end;width: 50%;}#sk-container-id-4 div.sk-parallel-item:last-child::after {align-self: flex-start;width: 50%;}#sk-container-id-4 div.sk-parallel-item:only-child::after {width: 0;}#sk-container-id-4 div.sk-dashed-wrapped {border: 1px dashed gray;margin: 0 0.4em 0.5em 0.4em;box-sizing: border-box;padding-bottom: 0.4em;background-color: white;}#sk-container-id-4 div.sk-label label {font-family: monospace;font-weight: bold;display: inline-block;line-height: 1.2em;}#sk-container-id-4 div.sk-label-container {text-align: center;}#sk-container-id-4 div.sk-container {/* jupyter's `normalize.less` sets `[hidden] { display: none; }` but bootstrap.min.css set `[hidden] { display: none !important; }` so we also need the `!important` here to be able to override the default hidden behavior on the sphinx rendered scikit-learn.org. See: https://github.com/scikit-learn/scikit-learn/issues/21755 */display: inline-block !important;position: relative;}#sk-container-id-4 div.sk-text-repr-fallback {display: none;}</style><div id=\"sk-container-id-4\" class=\"sk-top-container\"><div class=\"sk-text-repr-fallback\"><pre>XGBRegressor(base_score=None, booster=None, callbacks=None,\n",
       "             colsample_bylevel=None, colsample_bynode=None,\n",
       "             colsample_bytree=0.7745532703076283, device=None,\n",
       "             early_stopping_rounds=None, enable_categorical=False,\n",
       "             eval_metric=None, feature_types=None, gamma=None, grow_policy=None,\n",
       "             importance_type=None, interaction_constraints=None,\n",
       "             learning_rate=0.019965529664439288, max_bin=None,\n",
       "             max_cat_threshold=None, max_cat_to_onehot=None,\n",
       "             max_delta_step=None, max_depth=10, max_leaves=None,\n",
       "             min_child_weight=4, missing=nan, monotone_constraints=None,\n",
       "             multi_strategy=None, n_estimators=309, n_jobs=None,\n",
       "             num_parallel_tree=None, random_state=42, ...)</pre><b>In a Jupyter environment, please rerun this cell to show the HTML representation or trust the notebook. <br />On GitHub, the HTML representation is unable to render, please try loading this page with nbviewer.org.</b></div><div class=\"sk-container\" hidden><div class=\"sk-item\"><div class=\"sk-estimator sk-toggleable\"><input class=\"sk-toggleable__control sk-hidden--visually\" id=\"sk-estimator-id-4\" type=\"checkbox\" checked><label for=\"sk-estimator-id-4\" class=\"sk-toggleable__label sk-toggleable__label-arrow\">XGBRegressor</label><div class=\"sk-toggleable__content\"><pre>XGBRegressor(base_score=None, booster=None, callbacks=None,\n",
       "             colsample_bylevel=None, colsample_bynode=None,\n",
       "             colsample_bytree=0.7745532703076283, device=None,\n",
       "             early_stopping_rounds=None, enable_categorical=False,\n",
       "             eval_metric=None, feature_types=None, gamma=None, grow_policy=None,\n",
       "             importance_type=None, interaction_constraints=None,\n",
       "             learning_rate=0.019965529664439288, max_bin=None,\n",
       "             max_cat_threshold=None, max_cat_to_onehot=None,\n",
       "             max_delta_step=None, max_depth=10, max_leaves=None,\n",
       "             min_child_weight=4, missing=nan, monotone_constraints=None,\n",
       "             multi_strategy=None, n_estimators=309, n_jobs=None,\n",
       "             num_parallel_tree=None, random_state=42, ...)</pre></div></div></div></div></div>"
      ],
      "text/plain": [
       "XGBRegressor(base_score=None, booster=None, callbacks=None,\n",
       "             colsample_bylevel=None, colsample_bynode=None,\n",
       "             colsample_bytree=0.7745532703076283, device=None,\n",
       "             early_stopping_rounds=None, enable_categorical=False,\n",
       "             eval_metric=None, feature_types=None, gamma=None, grow_policy=None,\n",
       "             importance_type=None, interaction_constraints=None,\n",
       "             learning_rate=0.019965529664439288, max_bin=None,\n",
       "             max_cat_threshold=None, max_cat_to_onehot=None,\n",
       "             max_delta_step=None, max_depth=10, max_leaves=None,\n",
       "             min_child_weight=4, missing=nan, monotone_constraints=None,\n",
       "             multi_strategy=None, n_estimators=309, n_jobs=None,\n",
       "             num_parallel_tree=None, random_state=42, ...)"
      ]
     },
     "execution_count": 55,
     "metadata": {},
     "output_type": "execute_result"
    }
   ],
   "source": [
    "model_XGB.fit(X_train, y_train)"
   ]
  },
  {
   "cell_type": "code",
   "execution_count": 56,
   "metadata": {},
   "outputs": [],
   "source": [
    "predictionsXGB = model_XGB.predict(X_valid)"
   ]
  },
  {
   "cell_type": "code",
   "execution_count": 57,
   "metadata": {},
   "outputs": [
    {
     "name": "stdout",
     "output_type": "stream",
     "text": [
      "MAE: 0.014317103673191573\n",
      "Train model score: 0.8756855817587479\n",
      "Valid model score: 0.8690340201096587\n"
     ]
    }
   ],
   "source": [
    "print(f'MAE: {mean_absolute_error(predictionsXGB, y_valid)}')\n",
    "print(f'Train model score: {model_XGB.score(X_train, y_train)}')\n",
    "print(f'Valid model score: {model_XGB.score(X_valid, y_valid)}')"
   ]
  },
  {
   "cell_type": "code",
   "execution_count": null,
   "metadata": {},
   "outputs": [],
   "source": [
    "# wynik po skaler\n",
    "# MAE: 0.014357870706917238\n",
    "# Train model score: 0.8717652993754489\n",
    "# Valid model score: 0.8686313577548649"
   ]
  },
  {
   "cell_type": "markdown",
   "metadata": {},
   "source": [
    "#### <p style=\"background-color: #EDE7F6; color: #6600ff;margin:0; display:inline-block;padding:.6rem;border-radius:.25rem;\">Model Training and Hyperparameter Tuning</p>"
   ]
  },
  {
   "cell_type": "code",
   "execution_count": null,
   "metadata": {
    "execution": {
     "iopub.execute_input": "2024-06-22T14:30:03.700985Z",
     "iopub.status.busy": "2024-06-22T14:30:03.700265Z",
     "iopub.status.idle": "2024-06-22T14:30:03.705363Z",
     "shell.execute_reply": "2024-06-22T14:30:03.70443Z",
     "shell.execute_reply.started": "2024-06-22T14:30:03.700953Z"
    }
   },
   "outputs": [],
   "source": [
    "fixed_params_xgr = {\n",
    "    'device'      : 'cuda',\n",
    "}"
   ]
  },
  {
   "cell_type": "code",
   "execution_count": 50,
   "metadata": {},
   "outputs": [],
   "source": [
    "def objective(trial):\n",
    "    params = {\n",
    "        'tree_method' : 'hist',\n",
    "        \"objective\": \"reg:squarederror\",\n",
    "        \"n_estimators\": trial.suggest_int(\"n_estimators\", 50, 500),\n",
    "        \"verbosity\": 0,\n",
    "        \"learning_rate\": trial.suggest_float(\"learning_rate\", 1e-3, 1e-1, log=True),\n",
    "        \"max_depth\": trial.suggest_int(\"max_depth\", 1, 12),\n",
    "        \"subsample\": trial.suggest_float(\"subsample\", 0.05, 1.0),\n",
    "        \"colsample_bytree\": trial.suggest_float(\"colsample_bytree\", 0.05, 1.0),\n",
    "        \"min_child_weight\": trial.suggest_int(\"min_child_weight\", 1, 20),\n",
    "        'n_jobs'      : -1\n",
    "    }\n",
    "    \n",
    "    gc.collect()\n",
    "    model_xgr = XGBRegressor(**params)\n",
    "    model_xgr.fit(X_train, y_train, verbose=False)\n",
    "    predictions = model_xgr.predict(X_valid)\n",
    "#     rmse = mean_absolute_error(y_valid, predictions)\n",
    "    rmse = model_xgr.score(X_valid, y_valid)\n",
    "    return rmse "
   ]
  },
  {
   "cell_type": "code",
   "execution_count": 58,
   "metadata": {
    "execution": {
     "iopub.execute_input": "2024-06-21T15:33:58.33761Z",
     "iopub.status.busy": "2024-06-21T15:33:58.336874Z",
     "iopub.status.idle": "2024-06-21T15:33:58.346296Z",
     "shell.execute_reply": "2024-06-21T15:33:58.345267Z",
     "shell.execute_reply.started": "2024-06-21T15:33:58.337577Z"
    }
   },
   "outputs": [
    {
     "name": "stderr",
     "output_type": "stream",
     "text": [
      "[I 2024-07-01 15:46:52,231] A new study created in memory with name: Optimizing R2 for XGBRegressor\n"
     ]
    }
   ],
   "source": [
    "\n",
    "TPESampler = optuna.samplers.TPESampler(multivariate=True, group=True)\n",
    "optimize_r2_xgr = optuna.create_study(direction='maximize', sampler=TPESampler, study_name='Optimizing R2 for XGBRegressor')"
   ]
  },
  {
   "cell_type": "code",
   "execution_count": 59,
   "metadata": {
    "_kg_hide-output": true,
    "collapsed": true,
    "execution": {
     "iopub.execute_input": "2024-06-21T15:34:21.165693Z",
     "iopub.status.busy": "2024-06-21T15:34:21.164855Z",
     "iopub.status.idle": "2024-06-21T18:34:27.01935Z",
     "shell.execute_reply": "2024-06-21T18:34:27.01838Z",
     "shell.execute_reply.started": "2024-06-21T15:34:21.165662Z"
    }
   },
   "outputs": [
    {
     "data": {
      "application/vnd.jupyter.widget-view+json": {
       "model_id": "be24bf05783f4ed09314a7839bead152",
       "version_major": 2,
       "version_minor": 0
      },
      "text/plain": [
       "   0%|          | 00:00/3:00:00"
      ]
     },
     "metadata": {},
     "output_type": "display_data"
    },
    {
     "name": "stdout",
     "output_type": "stream",
     "text": [
      "[I 2024-07-01 15:47:11,393] Trial 0 finished with value: 0.8484999880175219 and parameters: {'n_estimators': 218, 'learning_rate': 0.008810901786961568, 'max_depth': 8, 'subsample': 0.7543427791908845, 'colsample_bytree': 0.5846111960957807, 'min_child_weight': 16}. Best is trial 0 with value: 0.8484999880175219.\n",
      "[I 2024-07-01 15:47:15,208] Trial 1 finished with value: 0.4909879798390754 and parameters: {'n_estimators': 147, 'learning_rate': 0.014168242675228485, 'max_depth': 1, 'subsample': 0.663827043997119, 'colsample_bytree': 0.05385151450752884, 'min_child_weight': 18}. Best is trial 0 with value: 0.8484999880175219.\n",
      "[I 2024-07-01 15:47:32,376] Trial 2 finished with value: 0.8662195923862297 and parameters: {'n_estimators': 437, 'learning_rate': 0.010123739402336109, 'max_depth': 5, 'subsample': 0.6200006278126002, 'colsample_bytree': 0.44199197318317607, 'min_child_weight': 16}. Best is trial 2 with value: 0.8662195923862297.\n",
      "[I 2024-07-01 15:47:41,498] Trial 3 finished with value: 0.8068724032693171 and parameters: {'n_estimators': 447, 'learning_rate': 0.008508499894790853, 'max_depth': 1, 'subsample': 0.09385807946884706, 'colsample_bytree': 0.47623510123900925, 'min_child_weight': 4}. Best is trial 2 with value: 0.8662195923862297.\n",
      "[I 2024-07-01 15:47:48,512] Trial 4 finished with value: 0.22650814859751578 and parameters: {'n_estimators': 322, 'learning_rate': 0.0013273438144801308, 'max_depth': 1, 'subsample': 0.6318496713036007, 'colsample_bytree': 0.12303296116326153, 'min_child_weight': 20}. Best is trial 2 with value: 0.8662195923862297.\n",
      "[I 2024-07-01 15:48:07,243] Trial 5 finished with value: 0.8677123043633768 and parameters: {'n_estimators': 375, 'learning_rate': 0.009076827171747215, 'max_depth': 7, 'subsample': 0.14135107928450485, 'colsample_bytree': 0.803090258742233, 'min_child_weight': 8}. Best is trial 5 with value: 0.8677123043633768.\n",
      "[I 2024-07-01 15:48:29,414] Trial 6 finished with value: 0.8557481679130969 and parameters: {'n_estimators': 338, 'learning_rate': 0.006723493254141435, 'max_depth': 9, 'subsample': 0.6596107331851333, 'colsample_bytree': 0.35952229224328464, 'min_child_weight': 11}. Best is trial 5 with value: 0.8677123043633768.\n",
      "[I 2024-07-01 15:48:36,792] Trial 7 finished with value: 0.4986506207485937 and parameters: {'n_estimators': 148, 'learning_rate': 0.003573504289055358, 'max_depth': 6, 'subsample': 0.0577487133354703, 'colsample_bytree': 0.202701951289399, 'min_child_weight': 10}. Best is trial 5 with value: 0.8677123043633768.\n",
      "[I 2024-07-01 15:48:47,364] Trial 8 finished with value: 0.8662686882346362 and parameters: {'n_estimators': 146, 'learning_rate': 0.04572971576900527, 'max_depth': 10, 'subsample': 0.8918834986953108, 'colsample_bytree': 0.12185564713130013, 'min_child_weight': 1}. Best is trial 5 with value: 0.8677123043633768.\n",
      "[I 2024-07-01 15:48:56,413] Trial 9 finished with value: 0.8520214618096476 and parameters: {'n_estimators': 436, 'learning_rate': 0.01516457904713244, 'max_depth': 1, 'subsample': 0.9066945303980688, 'colsample_bytree': 0.5386070605322207, 'min_child_weight': 6}. Best is trial 5 with value: 0.8677123043633768.\n",
      "[I 2024-07-01 15:49:10,091] Trial 10 finished with value: 0.868581653283099 and parameters: {'n_estimators': 311, 'learning_rate': 0.016578567628833026, 'max_depth': 6, 'subsample': 0.16639277035778474, 'colsample_bytree': 0.9786897386783068, 'min_child_weight': 13}. Best is trial 10 with value: 0.868581653283099.\n",
      "[I 2024-07-01 15:49:19,180] Trial 11 finished with value: 0.8685902976039631 and parameters: {'n_estimators': 222, 'learning_rate': 0.0549489789557267, 'max_depth': 6, 'subsample': 0.1393808016398115, 'colsample_bytree': 0.7481725889054355, 'min_child_weight': 12}. Best is trial 11 with value: 0.8685902976039631.\n",
      "[I 2024-07-01 15:49:27,247] Trial 12 finished with value: 0.868205490755506 and parameters: {'n_estimators': 176, 'learning_rate': 0.02779467649521843, 'max_depth': 6, 'subsample': 0.05839401346213251, 'colsample_bytree': 0.7210519915514844, 'min_child_weight': 15}. Best is trial 11 with value: 0.8685902976039631.\n",
      "[I 2024-07-01 15:49:44,278] Trial 13 finished with value: 0.8684222433844195 and parameters: {'n_estimators': 408, 'learning_rate': 0.014045935179809137, 'max_depth': 6, 'subsample': 0.10030576298154896, 'colsample_bytree': 0.7217046198045676, 'min_child_weight': 20}. Best is trial 11 with value: 0.8685902976039631.\n",
      "[I 2024-07-01 15:49:54,920] Trial 14 finished with value: 0.8672574184635239 and parameters: {'n_estimators': 402, 'learning_rate': 0.04590365735257263, 'max_depth': 3, 'subsample': 0.3880201343211319, 'colsample_bytree': 0.7082254456991274, 'min_child_weight': 11}. Best is trial 11 with value: 0.8685902976039631.\n",
      "[I 2024-07-01 15:50:07,206] Trial 15 finished with value: 0.4730482156652077 and parameters: {'n_estimators': 334, 'learning_rate': 0.001203054014526099, 'max_depth': 4, 'subsample': 0.23569163492615772, 'colsample_bytree': 0.862385627397809, 'min_child_weight': 15}. Best is trial 11 with value: 0.8685902976039631.\n",
      "[I 2024-07-01 15:50:15,513] Trial 16 finished with value: 0.8687567458705867 and parameters: {'n_estimators': 195, 'learning_rate': 0.08821556505346477, 'max_depth': 7, 'subsample': 0.33638298553518775, 'colsample_bytree': 0.8087649936044687, 'min_child_weight': 7}. Best is trial 16 with value: 0.8687567458705867.\n",
      "[I 2024-07-01 15:50:23,406] Trial 17 finished with value: 0.8679831181916715 and parameters: {'n_estimators': 130, 'learning_rate': 0.09583551157236234, 'max_depth': 10, 'subsample': 0.325961626906346, 'colsample_bytree': 0.7470129711469834, 'min_child_weight': 6}. Best is trial 16 with value: 0.8687567458705867.\n",
      "[I 2024-07-01 15:50:32,609] Trial 18 finished with value: 0.8683973931352813 and parameters: {'n_estimators': 253, 'learning_rate': 0.0935391789352105, 'max_depth': 6, 'subsample': 0.17563785591699513, 'colsample_bytree': 0.6893653071549636, 'min_child_weight': 4}. Best is trial 16 with value: 0.8687567458705867.\n",
      "[I 2024-07-01 15:50:56,475] Trial 19 finished with value: 0.8678945987158802 and parameters: {'n_estimators': 341, 'learning_rate': 0.047392855927919086, 'max_depth': 12, 'subsample': 0.43053722508598036, 'colsample_bytree': 0.7102115998184694, 'min_child_weight': 14}. Best is trial 16 with value: 0.8687567458705867.\n",
      "[I 2024-07-01 15:51:06,425] Trial 20 finished with value: 0.8689736573180773 and parameters: {'n_estimators': 207, 'learning_rate': 0.08435781463014945, 'max_depth': 7, 'subsample': 0.8264310628124445, 'colsample_bytree': 0.8512929956139013, 'min_child_weight': 4}. Best is trial 20 with value: 0.8689736573180773.\n",
      "[I 2024-07-01 15:51:10,992] Trial 21 finished with value: 0.868965857789916 and parameters: {'n_estimators': 72, 'learning_rate': 0.09995614834142359, 'max_depth': 7, 'subsample': 0.956886365068749, 'colsample_bytree': 0.9399691931125441, 'min_child_weight': 4}. Best is trial 20 with value: 0.8689736573180773.\n",
      "[I 2024-07-01 15:51:15,791] Trial 22 finished with value: 0.8688144390402308 and parameters: {'n_estimators': 50, 'learning_rate': 0.08470070811296039, 'max_depth': 10, 'subsample': 0.8900379271127499, 'colsample_bytree': 0.7183232159714754, 'min_child_weight': 5}. Best is trial 20 with value: 0.8689736573180773.\n",
      "[I 2024-07-01 15:51:20,663] Trial 23 finished with value: 0.8686805305525984 and parameters: {'n_estimators': 87, 'learning_rate': 0.06385559484324654, 'max_depth': 6, 'subsample': 0.9175562518474332, 'colsample_bytree': 0.8671642259322587, 'min_child_weight': 6}. Best is trial 20 with value: 0.8689736573180773.\n",
      "[I 2024-07-01 15:51:32,766] Trial 24 finished with value: 0.8684970063271301 and parameters: {'n_estimators': 122, 'learning_rate': 0.06310489827268333, 'max_depth': 12, 'subsample': 0.9650430066499777, 'colsample_bytree': 0.7427962604401364, 'min_child_weight': 5}. Best is trial 20 with value: 0.8689736573180773.\n",
      "[I 2024-07-01 15:51:44,593] Trial 25 finished with value: 0.8689837306214232 and parameters: {'n_estimators': 277, 'learning_rate': 0.060627744620519126, 'max_depth': 7, 'subsample': 0.7159454101103807, 'colsample_bytree': 0.6678053935329173, 'min_child_weight': 6}. Best is trial 25 with value: 0.8689837306214232.\n"
     ]
    },
    {
     "name": "stdout",
     "output_type": "stream",
     "text": [
      "[I 2024-07-01 15:52:02,258] Trial 26 finished with value: 0.8689108254716421 and parameters: {'n_estimators': 410, 'learning_rate': 0.062026708713004336, 'max_depth': 7, 'subsample': 0.7441089606600911, 'colsample_bytree': 0.6667529198394252, 'min_child_weight': 1}. Best is trial 25 with value: 0.8689837306214232.\n",
      "[I 2024-07-01 15:52:16,314] Trial 27 finished with value: 0.8687452005350037 and parameters: {'n_estimators': 263, 'learning_rate': 0.09750412057003673, 'max_depth': 8, 'subsample': 0.914111644908902, 'colsample_bytree': 0.5524568191855426, 'min_child_weight': 4}. Best is trial 25 with value: 0.8689837306214232.\n",
      "[I 2024-07-01 15:52:31,522] Trial 28 finished with value: 0.8689531801566263 and parameters: {'n_estimators': 261, 'learning_rate': 0.017490428117630717, 'max_depth': 8, 'subsample': 0.6012467459873743, 'colsample_bytree': 0.997171088409746, 'min_child_weight': 1}. Best is trial 25 with value: 0.8689837306214232.\n",
      "[I 2024-07-01 15:52:36,836] Trial 29 finished with value: 0.8659441085908061 and parameters: {'n_estimators': 157, 'learning_rate': 0.03614973488700768, 'max_depth': 3, 'subsample': 0.7968921304715153, 'colsample_bytree': 0.6826169041714071, 'min_child_weight': 4}. Best is trial 25 with value: 0.8689837306214232.\n",
      "[I 2024-07-01 15:52:44,743] Trial 30 finished with value: 0.8686201510808506 and parameters: {'n_estimators': 224, 'learning_rate': 0.09373698005037963, 'max_depth': 5, 'subsample': 0.8138027893144031, 'colsample_bytree': 0.9677882207412107, 'min_child_weight': 5}. Best is trial 25 with value: 0.8689837306214232.\n",
      "[I 2024-07-01 15:52:58,717] Trial 31 finished with value: 0.7658796709449369 and parameters: {'n_estimators': 219, 'learning_rate': 0.004864060985298498, 'max_depth': 8, 'subsample': 0.5947718671465194, 'colsample_bytree': 0.8939775915636651, 'min_child_weight': 2}. Best is trial 25 with value: 0.8689837306214232.\n",
      "[I 2024-07-01 15:53:16,192] Trial 32 finished with value: 0.8686450353815974 and parameters: {'n_estimators': 277, 'learning_rate': 0.04651795243429463, 'max_depth': 10, 'subsample': 0.514155747890367, 'colsample_bytree': 0.8679308124266149, 'min_child_weight': 3}. Best is trial 25 with value: 0.8689837306214232.\n",
      "[I 2024-07-01 15:53:26,051] Trial 33 finished with value: 0.8682416014223382 and parameters: {'n_estimators': 195, 'learning_rate': 0.020690164858074393, 'max_depth': 6, 'subsample': 0.4303239368392665, 'colsample_bytree': 0.8870821769206868, 'min_child_weight': 1}. Best is trial 25 with value: 0.8689837306214232.\n",
      "[W 2024-07-01 15:53:36,480] Trial 34 failed with parameters: {'n_estimators': 226, 'learning_rate': 0.048603503965135915, 'max_depth': 9, 'subsample': 0.7235633750891022, 'colsample_bytree': 0.977638092993883, 'min_child_weight': 5} because of the following error: KeyboardInterrupt().\n",
      "Traceback (most recent call last):\n",
      "  File \"D:\\Programy\\anaconda3\\Lib\\site-packages\\optuna\\study\\_optimize.py\", line 196, in _run_trial\n",
      "    value_or_values = func(trial)\n",
      "                      ^^^^^^^^^^^\n",
      "  File \"C:\\Users\\adams\\AppData\\Local\\Temp\\ipykernel_5204\\1819230674.py\", line 17, in objective\n",
      "    model_xgr.fit(X_train, y_train, verbose=False)\n",
      "  File \"D:\\Programy\\anaconda3\\Lib\\site-packages\\xgboost\\core.py\", line 730, in inner_f\n",
      "    return func(**kwargs)\n",
      "           ^^^^^^^^^^^^^^\n",
      "  File \"D:\\Programy\\anaconda3\\Lib\\site-packages\\xgboost\\sklearn.py\", line 1090, in fit\n",
      "    self._Booster = train(\n",
      "                    ^^^^^^\n",
      "  File \"D:\\Programy\\anaconda3\\Lib\\site-packages\\xgboost\\core.py\", line 730, in inner_f\n",
      "    return func(**kwargs)\n",
      "           ^^^^^^^^^^^^^^\n",
      "  File \"D:\\Programy\\anaconda3\\Lib\\site-packages\\xgboost\\training.py\", line 181, in train\n",
      "    bst.update(dtrain, i, obj)\n",
      "  File \"D:\\Programy\\anaconda3\\Lib\\site-packages\\xgboost\\core.py\", line 2051, in update\n",
      "    _LIB.XGBoosterUpdateOneIter(\n",
      "KeyboardInterrupt\n",
      "[W 2024-07-01 15:53:36,522] Trial 34 failed with value None.\n"
     ]
    },
    {
     "ename": "KeyboardInterrupt",
     "evalue": "",
     "output_type": "error",
     "traceback": [
      "\u001b[1;31m---------------------------------------------------------------------------\u001b[0m",
      "\u001b[1;31mKeyboardInterrupt\u001b[0m                         Traceback (most recent call last)",
      "Cell \u001b[1;32mIn[59], line 1\u001b[0m\n\u001b[1;32m----> 1\u001b[0m optimize_r2_xgr\u001b[38;5;241m.\u001b[39moptimize(objective, timeout\u001b[38;5;241m=\u001b[39m\u001b[38;5;241m3\u001b[39m\u001b[38;5;241m*\u001b[39m\u001b[38;5;241m60\u001b[39m\u001b[38;5;241m*\u001b[39m\u001b[38;5;241m60\u001b[39m, show_progress_bar\u001b[38;5;241m=\u001b[39m\u001b[38;5;28;01mTrue\u001b[39;00m)\n\u001b[0;32m      2\u001b[0m dump(optimize_r2_xgr,\u001b[38;5;124m'\u001b[39m\u001b[38;5;124mOptimizing R2 for XGBRegressor.pkl\u001b[39m\u001b[38;5;124m'\u001b[39m)\n",
      "File \u001b[1;32mD:\\Programy\\anaconda3\\Lib\\site-packages\\optuna\\study\\study.py:451\u001b[0m, in \u001b[0;36mStudy.optimize\u001b[1;34m(self, func, n_trials, timeout, n_jobs, catch, callbacks, gc_after_trial, show_progress_bar)\u001b[0m\n\u001b[0;32m    348\u001b[0m \u001b[38;5;28;01mdef\u001b[39;00m \u001b[38;5;21moptimize\u001b[39m(\n\u001b[0;32m    349\u001b[0m     \u001b[38;5;28mself\u001b[39m,\n\u001b[0;32m    350\u001b[0m     func: ObjectiveFuncType,\n\u001b[1;32m   (...)\u001b[0m\n\u001b[0;32m    357\u001b[0m     show_progress_bar: \u001b[38;5;28mbool\u001b[39m \u001b[38;5;241m=\u001b[39m \u001b[38;5;28;01mFalse\u001b[39;00m,\n\u001b[0;32m    358\u001b[0m ) \u001b[38;5;241m-\u001b[39m\u001b[38;5;241m>\u001b[39m \u001b[38;5;28;01mNone\u001b[39;00m:\n\u001b[0;32m    359\u001b[0m \u001b[38;5;250m    \u001b[39m\u001b[38;5;124;03m\"\"\"Optimize an objective function.\u001b[39;00m\n\u001b[0;32m    360\u001b[0m \n\u001b[0;32m    361\u001b[0m \u001b[38;5;124;03m    Optimization is done by choosing a suitable set of hyperparameter values from a given\u001b[39;00m\n\u001b[1;32m   (...)\u001b[0m\n\u001b[0;32m    449\u001b[0m \u001b[38;5;124;03m            If nested invocation of this method occurs.\u001b[39;00m\n\u001b[0;32m    450\u001b[0m \u001b[38;5;124;03m    \"\"\"\u001b[39;00m\n\u001b[1;32m--> 451\u001b[0m     _optimize(\n\u001b[0;32m    452\u001b[0m         study\u001b[38;5;241m=\u001b[39m\u001b[38;5;28mself\u001b[39m,\n\u001b[0;32m    453\u001b[0m         func\u001b[38;5;241m=\u001b[39mfunc,\n\u001b[0;32m    454\u001b[0m         n_trials\u001b[38;5;241m=\u001b[39mn_trials,\n\u001b[0;32m    455\u001b[0m         timeout\u001b[38;5;241m=\u001b[39mtimeout,\n\u001b[0;32m    456\u001b[0m         n_jobs\u001b[38;5;241m=\u001b[39mn_jobs,\n\u001b[0;32m    457\u001b[0m         catch\u001b[38;5;241m=\u001b[39m\u001b[38;5;28mtuple\u001b[39m(catch) \u001b[38;5;28;01mif\u001b[39;00m \u001b[38;5;28misinstance\u001b[39m(catch, Iterable) \u001b[38;5;28;01melse\u001b[39;00m (catch,),\n\u001b[0;32m    458\u001b[0m         callbacks\u001b[38;5;241m=\u001b[39mcallbacks,\n\u001b[0;32m    459\u001b[0m         gc_after_trial\u001b[38;5;241m=\u001b[39mgc_after_trial,\n\u001b[0;32m    460\u001b[0m         show_progress_bar\u001b[38;5;241m=\u001b[39mshow_progress_bar,\n\u001b[0;32m    461\u001b[0m     )\n",
      "File \u001b[1;32mD:\\Programy\\anaconda3\\Lib\\site-packages\\optuna\\study\\_optimize.py:62\u001b[0m, in \u001b[0;36m_optimize\u001b[1;34m(study, func, n_trials, timeout, n_jobs, catch, callbacks, gc_after_trial, show_progress_bar)\u001b[0m\n\u001b[0;32m     60\u001b[0m \u001b[38;5;28;01mtry\u001b[39;00m:\n\u001b[0;32m     61\u001b[0m     \u001b[38;5;28;01mif\u001b[39;00m n_jobs \u001b[38;5;241m==\u001b[39m \u001b[38;5;241m1\u001b[39m:\n\u001b[1;32m---> 62\u001b[0m         _optimize_sequential(\n\u001b[0;32m     63\u001b[0m             study,\n\u001b[0;32m     64\u001b[0m             func,\n\u001b[0;32m     65\u001b[0m             n_trials,\n\u001b[0;32m     66\u001b[0m             timeout,\n\u001b[0;32m     67\u001b[0m             catch,\n\u001b[0;32m     68\u001b[0m             callbacks,\n\u001b[0;32m     69\u001b[0m             gc_after_trial,\n\u001b[0;32m     70\u001b[0m             reseed_sampler_rng\u001b[38;5;241m=\u001b[39m\u001b[38;5;28;01mFalse\u001b[39;00m,\n\u001b[0;32m     71\u001b[0m             time_start\u001b[38;5;241m=\u001b[39m\u001b[38;5;28;01mNone\u001b[39;00m,\n\u001b[0;32m     72\u001b[0m             progress_bar\u001b[38;5;241m=\u001b[39mprogress_bar,\n\u001b[0;32m     73\u001b[0m         )\n\u001b[0;32m     74\u001b[0m     \u001b[38;5;28;01melse\u001b[39;00m:\n\u001b[0;32m     75\u001b[0m         \u001b[38;5;28;01mif\u001b[39;00m n_jobs \u001b[38;5;241m==\u001b[39m \u001b[38;5;241m-\u001b[39m\u001b[38;5;241m1\u001b[39m:\n",
      "File \u001b[1;32mD:\\Programy\\anaconda3\\Lib\\site-packages\\optuna\\study\\_optimize.py:159\u001b[0m, in \u001b[0;36m_optimize_sequential\u001b[1;34m(study, func, n_trials, timeout, catch, callbacks, gc_after_trial, reseed_sampler_rng, time_start, progress_bar)\u001b[0m\n\u001b[0;32m    156\u001b[0m         \u001b[38;5;28;01mbreak\u001b[39;00m\n\u001b[0;32m    158\u001b[0m \u001b[38;5;28;01mtry\u001b[39;00m:\n\u001b[1;32m--> 159\u001b[0m     frozen_trial \u001b[38;5;241m=\u001b[39m _run_trial(study, func, catch)\n\u001b[0;32m    160\u001b[0m \u001b[38;5;28;01mfinally\u001b[39;00m:\n\u001b[0;32m    161\u001b[0m     \u001b[38;5;66;03m# The following line mitigates memory problems that can be occurred in some\u001b[39;00m\n\u001b[0;32m    162\u001b[0m     \u001b[38;5;66;03m# environments (e.g., services that use computing containers such as GitHub Actions).\u001b[39;00m\n\u001b[0;32m    163\u001b[0m     \u001b[38;5;66;03m# Please refer to the following PR for further details:\u001b[39;00m\n\u001b[0;32m    164\u001b[0m     \u001b[38;5;66;03m# https://github.com/optuna/optuna/pull/325.\u001b[39;00m\n\u001b[0;32m    165\u001b[0m     \u001b[38;5;28;01mif\u001b[39;00m gc_after_trial:\n",
      "File \u001b[1;32mD:\\Programy\\anaconda3\\Lib\\site-packages\\optuna\\study\\_optimize.py:247\u001b[0m, in \u001b[0;36m_run_trial\u001b[1;34m(study, func, catch)\u001b[0m\n\u001b[0;32m    240\u001b[0m         \u001b[38;5;28;01massert\u001b[39;00m \u001b[38;5;28;01mFalse\u001b[39;00m, \u001b[38;5;124m\"\u001b[39m\u001b[38;5;124mShould not reach.\u001b[39m\u001b[38;5;124m\"\u001b[39m\n\u001b[0;32m    242\u001b[0m \u001b[38;5;28;01mif\u001b[39;00m (\n\u001b[0;32m    243\u001b[0m     frozen_trial\u001b[38;5;241m.\u001b[39mstate \u001b[38;5;241m==\u001b[39m TrialState\u001b[38;5;241m.\u001b[39mFAIL\n\u001b[0;32m    244\u001b[0m     \u001b[38;5;129;01mand\u001b[39;00m func_err \u001b[38;5;129;01mis\u001b[39;00m \u001b[38;5;129;01mnot\u001b[39;00m \u001b[38;5;28;01mNone\u001b[39;00m\n\u001b[0;32m    245\u001b[0m     \u001b[38;5;129;01mand\u001b[39;00m \u001b[38;5;129;01mnot\u001b[39;00m \u001b[38;5;28misinstance\u001b[39m(func_err, catch)\n\u001b[0;32m    246\u001b[0m ):\n\u001b[1;32m--> 247\u001b[0m     \u001b[38;5;28;01mraise\u001b[39;00m func_err\n\u001b[0;32m    248\u001b[0m \u001b[38;5;28;01mreturn\u001b[39;00m frozen_trial\n",
      "File \u001b[1;32mD:\\Programy\\anaconda3\\Lib\\site-packages\\optuna\\study\\_optimize.py:196\u001b[0m, in \u001b[0;36m_run_trial\u001b[1;34m(study, func, catch)\u001b[0m\n\u001b[0;32m    194\u001b[0m \u001b[38;5;28;01mwith\u001b[39;00m get_heartbeat_thread(trial\u001b[38;5;241m.\u001b[39m_trial_id, study\u001b[38;5;241m.\u001b[39m_storage):\n\u001b[0;32m    195\u001b[0m     \u001b[38;5;28;01mtry\u001b[39;00m:\n\u001b[1;32m--> 196\u001b[0m         value_or_values \u001b[38;5;241m=\u001b[39m func(trial)\n\u001b[0;32m    197\u001b[0m     \u001b[38;5;28;01mexcept\u001b[39;00m exceptions\u001b[38;5;241m.\u001b[39mTrialPruned \u001b[38;5;28;01mas\u001b[39;00m e:\n\u001b[0;32m    198\u001b[0m         \u001b[38;5;66;03m# TODO(mamu): Handle multi-objective cases.\u001b[39;00m\n\u001b[0;32m    199\u001b[0m         state \u001b[38;5;241m=\u001b[39m TrialState\u001b[38;5;241m.\u001b[39mPRUNED\n",
      "Cell \u001b[1;32mIn[50], line 17\u001b[0m, in \u001b[0;36mobjective\u001b[1;34m(trial)\u001b[0m\n\u001b[0;32m     15\u001b[0m     gc\u001b[38;5;241m.\u001b[39mcollect()\n\u001b[0;32m     16\u001b[0m     model_xgr \u001b[38;5;241m=\u001b[39m XGBRegressor(\u001b[38;5;241m*\u001b[39m\u001b[38;5;241m*\u001b[39mparams)\n\u001b[1;32m---> 17\u001b[0m     model_xgr\u001b[38;5;241m.\u001b[39mfit(X_train, y_train, verbose\u001b[38;5;241m=\u001b[39m\u001b[38;5;28;01mFalse\u001b[39;00m)\n\u001b[0;32m     18\u001b[0m     predictions \u001b[38;5;241m=\u001b[39m model_xgr\u001b[38;5;241m.\u001b[39mpredict(X_valid)\n\u001b[0;32m     19\u001b[0m \u001b[38;5;66;03m#     rmse = mean_absolute_error(y_valid, predictions)\u001b[39;00m\n",
      "File \u001b[1;32mD:\\Programy\\anaconda3\\Lib\\site-packages\\xgboost\\core.py:730\u001b[0m, in \u001b[0;36mrequire_keyword_args.<locals>.throw_if.<locals>.inner_f\u001b[1;34m(*args, **kwargs)\u001b[0m\n\u001b[0;32m    728\u001b[0m \u001b[38;5;28;01mfor\u001b[39;00m k, arg \u001b[38;5;129;01min\u001b[39;00m \u001b[38;5;28mzip\u001b[39m(sig\u001b[38;5;241m.\u001b[39mparameters, args):\n\u001b[0;32m    729\u001b[0m     kwargs[k] \u001b[38;5;241m=\u001b[39m arg\n\u001b[1;32m--> 730\u001b[0m \u001b[38;5;28;01mreturn\u001b[39;00m func(\u001b[38;5;241m*\u001b[39m\u001b[38;5;241m*\u001b[39mkwargs)\n",
      "File \u001b[1;32mD:\\Programy\\anaconda3\\Lib\\site-packages\\xgboost\\sklearn.py:1090\u001b[0m, in \u001b[0;36mXGBModel.fit\u001b[1;34m(self, X, y, sample_weight, base_margin, eval_set, eval_metric, early_stopping_rounds, verbose, xgb_model, sample_weight_eval_set, base_margin_eval_set, feature_weights, callbacks)\u001b[0m\n\u001b[0;32m   1079\u001b[0m     obj \u001b[38;5;241m=\u001b[39m \u001b[38;5;28;01mNone\u001b[39;00m\n\u001b[0;32m   1081\u001b[0m (\n\u001b[0;32m   1082\u001b[0m     model,\n\u001b[0;32m   1083\u001b[0m     metric,\n\u001b[1;32m   (...)\u001b[0m\n\u001b[0;32m   1088\u001b[0m     xgb_model, eval_metric, params, early_stopping_rounds, callbacks\n\u001b[0;32m   1089\u001b[0m )\n\u001b[1;32m-> 1090\u001b[0m \u001b[38;5;28mself\u001b[39m\u001b[38;5;241m.\u001b[39m_Booster \u001b[38;5;241m=\u001b[39m train(\n\u001b[0;32m   1091\u001b[0m     params,\n\u001b[0;32m   1092\u001b[0m     train_dmatrix,\n\u001b[0;32m   1093\u001b[0m     \u001b[38;5;28mself\u001b[39m\u001b[38;5;241m.\u001b[39mget_num_boosting_rounds(),\n\u001b[0;32m   1094\u001b[0m     evals\u001b[38;5;241m=\u001b[39mevals,\n\u001b[0;32m   1095\u001b[0m     early_stopping_rounds\u001b[38;5;241m=\u001b[39mearly_stopping_rounds,\n\u001b[0;32m   1096\u001b[0m     evals_result\u001b[38;5;241m=\u001b[39mevals_result,\n\u001b[0;32m   1097\u001b[0m     obj\u001b[38;5;241m=\u001b[39mobj,\n\u001b[0;32m   1098\u001b[0m     custom_metric\u001b[38;5;241m=\u001b[39mmetric,\n\u001b[0;32m   1099\u001b[0m     verbose_eval\u001b[38;5;241m=\u001b[39mverbose,\n\u001b[0;32m   1100\u001b[0m     xgb_model\u001b[38;5;241m=\u001b[39mmodel,\n\u001b[0;32m   1101\u001b[0m     callbacks\u001b[38;5;241m=\u001b[39mcallbacks,\n\u001b[0;32m   1102\u001b[0m )\n\u001b[0;32m   1104\u001b[0m \u001b[38;5;28mself\u001b[39m\u001b[38;5;241m.\u001b[39m_set_evaluation_result(evals_result)\n\u001b[0;32m   1105\u001b[0m \u001b[38;5;28;01mreturn\u001b[39;00m \u001b[38;5;28mself\u001b[39m\n",
      "File \u001b[1;32mD:\\Programy\\anaconda3\\Lib\\site-packages\\xgboost\\core.py:730\u001b[0m, in \u001b[0;36mrequire_keyword_args.<locals>.throw_if.<locals>.inner_f\u001b[1;34m(*args, **kwargs)\u001b[0m\n\u001b[0;32m    728\u001b[0m \u001b[38;5;28;01mfor\u001b[39;00m k, arg \u001b[38;5;129;01min\u001b[39;00m \u001b[38;5;28mzip\u001b[39m(sig\u001b[38;5;241m.\u001b[39mparameters, args):\n\u001b[0;32m    729\u001b[0m     kwargs[k] \u001b[38;5;241m=\u001b[39m arg\n\u001b[1;32m--> 730\u001b[0m \u001b[38;5;28;01mreturn\u001b[39;00m func(\u001b[38;5;241m*\u001b[39m\u001b[38;5;241m*\u001b[39mkwargs)\n",
      "File \u001b[1;32mD:\\Programy\\anaconda3\\Lib\\site-packages\\xgboost\\training.py:181\u001b[0m, in \u001b[0;36mtrain\u001b[1;34m(params, dtrain, num_boost_round, evals, obj, feval, maximize, early_stopping_rounds, evals_result, verbose_eval, xgb_model, callbacks, custom_metric)\u001b[0m\n\u001b[0;32m    179\u001b[0m \u001b[38;5;28;01mif\u001b[39;00m cb_container\u001b[38;5;241m.\u001b[39mbefore_iteration(bst, i, dtrain, evals):\n\u001b[0;32m    180\u001b[0m     \u001b[38;5;28;01mbreak\u001b[39;00m\n\u001b[1;32m--> 181\u001b[0m bst\u001b[38;5;241m.\u001b[39mupdate(dtrain, i, obj)\n\u001b[0;32m    182\u001b[0m \u001b[38;5;28;01mif\u001b[39;00m cb_container\u001b[38;5;241m.\u001b[39mafter_iteration(bst, i, dtrain, evals):\n\u001b[0;32m    183\u001b[0m     \u001b[38;5;28;01mbreak\u001b[39;00m\n",
      "File \u001b[1;32mD:\\Programy\\anaconda3\\Lib\\site-packages\\xgboost\\core.py:2051\u001b[0m, in \u001b[0;36mBooster.update\u001b[1;34m(self, dtrain, iteration, fobj)\u001b[0m\n\u001b[0;32m   2047\u001b[0m \u001b[38;5;28mself\u001b[39m\u001b[38;5;241m.\u001b[39m_assign_dmatrix_features(dtrain)\n\u001b[0;32m   2049\u001b[0m \u001b[38;5;28;01mif\u001b[39;00m fobj \u001b[38;5;129;01mis\u001b[39;00m \u001b[38;5;28;01mNone\u001b[39;00m:\n\u001b[0;32m   2050\u001b[0m     _check_call(\n\u001b[1;32m-> 2051\u001b[0m         _LIB\u001b[38;5;241m.\u001b[39mXGBoosterUpdateOneIter(\n\u001b[0;32m   2052\u001b[0m             \u001b[38;5;28mself\u001b[39m\u001b[38;5;241m.\u001b[39mhandle, ctypes\u001b[38;5;241m.\u001b[39mc_int(iteration), dtrain\u001b[38;5;241m.\u001b[39mhandle\n\u001b[0;32m   2053\u001b[0m         )\n\u001b[0;32m   2054\u001b[0m     )\n\u001b[0;32m   2055\u001b[0m \u001b[38;5;28;01melse\u001b[39;00m:\n\u001b[0;32m   2056\u001b[0m     pred \u001b[38;5;241m=\u001b[39m \u001b[38;5;28mself\u001b[39m\u001b[38;5;241m.\u001b[39mpredict(dtrain, output_margin\u001b[38;5;241m=\u001b[39m\u001b[38;5;28;01mTrue\u001b[39;00m, training\u001b[38;5;241m=\u001b[39m\u001b[38;5;28;01mTrue\u001b[39;00m)\n",
      "\u001b[1;31mKeyboardInterrupt\u001b[0m: "
     ]
    }
   ],
   "source": [
    "optimize_r2_xgr.optimize(objective, timeout=3*60*60, show_progress_bar=True)\n",
    "dump(optimize_r2_xgr,'Optimizing R2 for XGBRegressor.pkl')"
   ]
  },
  {
   "cell_type": "code",
   "execution_count": null,
   "metadata": {},
   "outputs": [],
   "source": []
  },
  {
   "cell_type": "code",
   "execution_count": 51,
   "metadata": {
    "collapsed": true
   },
   "outputs": [
    {
     "name": "stderr",
     "output_type": "stream",
     "text": [
      "[I 2024-07-01 15:35:33,760] A new study created in memory with name: no-name-bb466c53-e431-410e-a29c-664c0df4fa9f\n",
      "[I 2024-07-01 15:36:08,438] Trial 0 finished with value: 0.7415181937878526 and parameters: {'n_estimators': 481, 'learning_rate': 0.0020351535981315136, 'max_depth': 10, 'subsample': 0.2955148652065257, 'colsample_bytree': 0.5755069774385734, 'min_child_weight': 1}. Best is trial 0 with value: 0.7415181937878526.\n",
      "[I 2024-07-01 15:36:12,715] Trial 1 finished with value: 0.29015542383488824 and parameters: {'n_estimators': 174, 'learning_rate': 0.0023191922989200904, 'max_depth': 1, 'subsample': 0.21475201180857723, 'colsample_bytree': 0.39212694051280955, 'min_child_weight': 16}. Best is trial 0 with value: 0.7415181937878526.\n",
      "[I 2024-07-01 15:36:27,005] Trial 2 finished with value: 0.8323569127433665 and parameters: {'n_estimators': 416, 'learning_rate': 0.005322665480144706, 'max_depth': 4, 'subsample': 0.5438529422316266, 'colsample_bytree': 0.24868032787179817, 'min_child_weight': 11}. Best is trial 2 with value: 0.8323569127433665.\n",
      "[I 2024-07-01 15:36:35,327] Trial 3 finished with value: 0.24979436747453254 and parameters: {'n_estimators': 145, 'learning_rate': 0.0011715920643929107, 'max_depth': 7, 'subsample': 0.17975665801039276, 'colsample_bytree': 0.9110988640899994, 'min_child_weight': 13}. Best is trial 2 with value: 0.8323569127433665.\n",
      "[I 2024-07-01 15:36:45,736] Trial 4 finished with value: 0.8652735319856345 and parameters: {'n_estimators': 353, 'learning_rate': 0.013907912816382975, 'max_depth': 3, 'subsample': 0.5575999196252452, 'colsample_bytree': 0.68119567245046, 'min_child_weight': 11}. Best is trial 4 with value: 0.8652735319856345.\n",
      "[I 2024-07-01 15:36:52,391] Trial 5 finished with value: 0.14045506539528207 and parameters: {'n_estimators': 80, 'learning_rate': 0.0012642889823956261, 'max_depth': 10, 'subsample': 0.5209261274663398, 'colsample_bytree': 0.18852790087538207, 'min_child_weight': 17}. Best is trial 4 with value: 0.8652735319856345.\n",
      "[I 2024-07-01 15:37:24,400] Trial 6 finished with value: 0.8689965634149663 and parameters: {'n_estimators': 453, 'learning_rate': 0.015531510573455313, 'max_depth': 11, 'subsample': 0.46720376795828283, 'colsample_bytree': 0.5737179578859359, 'min_child_weight': 9}. Best is trial 6 with value: 0.8689965634149663.\n",
      "[I 2024-07-01 15:37:50,981] Trial 7 finished with value: 0.8680280334374705 and parameters: {'n_estimators': 402, 'learning_rate': 0.056587565309042576, 'max_depth': 11, 'subsample': 0.8698091245100263, 'colsample_bytree': 0.11024884521445374, 'min_child_weight': 8}. Best is trial 6 with value: 0.8689965634149663.\n",
      "[I 2024-07-01 15:38:01,936] Trial 8 finished with value: 0.8626587625428115 and parameters: {'n_estimators': 261, 'learning_rate': 0.02838898050265546, 'max_depth': 6, 'subsample': 0.0936588725260096, 'colsample_bytree': 0.08640909084924267, 'min_child_weight': 11}. Best is trial 6 with value: 0.8689965634149663.\n",
      "[I 2024-07-01 15:38:09,503] Trial 9 finished with value: 0.7673503159607827 and parameters: {'n_estimators': 90, 'learning_rate': 0.01726991063981844, 'max_depth': 11, 'subsample': 0.7718727816274207, 'colsample_bytree': 0.11589125482714907, 'min_child_weight': 6}. Best is trial 6 with value: 0.8689965634149663.\n",
      "[I 2024-07-01 15:38:30,222] Trial 10 finished with value: 0.8682350419334091 and parameters: {'n_estimators': 498, 'learning_rate': 0.0821332298288415, 'max_depth': 8, 'subsample': 0.4133870438436001, 'colsample_bytree': 0.775758551251051, 'min_child_weight': 20}. Best is trial 6 with value: 0.8689965634149663.\n",
      "[I 2024-07-01 15:38:50,827] Trial 11 finished with value: 0.867967063163702 and parameters: {'n_estimators': 492, 'learning_rate': 0.09002039823911206, 'max_depth': 8, 'subsample': 0.37189132487820076, 'colsample_bytree': 0.7948847334483724, 'min_child_weight': 20}. Best is trial 6 with value: 0.8689965634149663.\n",
      "[I 2024-07-01 15:39:20,373] Trial 12 finished with value: 0.8530127018861795 and parameters: {'n_estimators': 314, 'learning_rate': 0.006343232422705089, 'max_depth': 12, 'subsample': 0.41915896033730626, 'colsample_bytree': 0.9961646589912114, 'min_child_weight': 6}. Best is trial 6 with value: 0.8689965634149663.\n",
      "[I 2024-07-01 15:39:39,574] Trial 13 finished with value: 0.8688217161502623 and parameters: {'n_estimators': 433, 'learning_rate': 0.03612152983594661, 'max_depth': 8, 'subsample': 0.6853246014348571, 'colsample_bytree': 0.47429057176083667, 'min_child_weight': 20}. Best is trial 6 with value: 0.8689965634149663.\n",
      "[I 2024-07-01 15:40:02,289] Trial 14 finished with value: 0.8687677330886493 and parameters: {'n_estimators': 431, 'learning_rate': 0.03370311316378382, 'max_depth': 9, 'subsample': 0.7063059049046274, 'colsample_bytree': 0.42885177364642774, 'min_child_weight': 2}. Best is trial 6 with value: 0.8689965634149663.\n",
      "[I 2024-07-01 15:40:13,355] Trial 15 finished with value: 0.8685265329492656 and parameters: {'n_estimators': 250, 'learning_rate': 0.02961639763594919, 'max_depth': 6, 'subsample': 0.6784007510819868, 'colsample_bytree': 0.5483599716353202, 'min_child_weight': 15}. Best is trial 6 with value: 0.8689965634149663.\n",
      "[I 2024-07-01 15:40:50,010] Trial 16 finished with value: 0.867072916359699 and parameters: {'n_estimators': 375, 'learning_rate': 0.008735270992656677, 'max_depth': 12, 'subsample': 0.9916501738431277, 'colsample_bytree': 0.3781357571075965, 'min_child_weight': 8}. Best is trial 6 with value: 0.8689965634149663.\n",
      "[I 2024-07-01 15:41:09,512] Trial 17 finished with value: 0.8690465416453699 and parameters: {'n_estimators': 325, 'learning_rate': 0.018142943731338065, 'max_depth': 9, 'subsample': 0.6393642047894368, 'colsample_bytree': 0.5959186318684873, 'min_child_weight': 4}. Best is trial 17 with value: 0.8690465416453699.\n",
      "[I 2024-07-01 15:41:31,642] Trial 18 finished with value: 0.8690009719490241 and parameters: {'n_estimators': 309, 'learning_rate': 0.014949197711096334, 'max_depth': 10, 'subsample': 0.5821743221117208, 'colsample_bytree': 0.6402903757422702, 'min_child_weight': 4}. Best is trial 17 with value: 0.8690465416453699.\n",
      "[I 2024-07-01 15:41:45,937] Trial 19 finished with value: 0.7346947768261216 and parameters: {'n_estimators': 206, 'learning_rate': 0.004586743064101159, 'max_depth': 9, 'subsample': 0.8406311792092112, 'colsample_bytree': 0.6650424765334563, 'min_child_weight': 4}. Best is trial 17 with value: 0.8690465416453699.\n",
      "[I 2024-07-01 15:41:57,501] Trial 20 finished with value: 0.8639341040169017 and parameters: {'n_estimators': 318, 'learning_rate': 0.009919368729628503, 'max_depth': 4, 'subsample': 0.6140577828649557, 'colsample_bytree': 0.6958553975326237, 'min_child_weight': 4}. Best is trial 17 with value: 0.8690465416453699.\n",
      "[I 2024-07-01 15:42:18,205] Trial 21 finished with value: 0.8690389594669381 and parameters: {'n_estimators': 309, 'learning_rate': 0.01704333588261761, 'max_depth': 10, 'subsample': 0.45800102553679545, 'colsample_bytree': 0.5938064572146566, 'min_child_weight': 8}. Best is trial 17 with value: 0.8690465416453699.\n",
      "[I 2024-07-01 15:42:39,043] Trial 22 finished with value: 0.8691021305807042 and parameters: {'n_estimators': 309, 'learning_rate': 0.019965529664439288, 'max_depth': 10, 'subsample': 0.5927215723384559, 'colsample_bytree': 0.7745532703076283, 'min_child_weight': 4}. Best is trial 22 with value: 0.8691021305807042.\n",
      "[I 2024-07-01 15:42:54,767] Trial 23 finished with value: 0.8690601679466092 and parameters: {'n_estimators': 245, 'learning_rate': 0.02262722875239744, 'max_depth': 9, 'subsample': 0.3324503130454197, 'colsample_bytree': 0.7980758448507965, 'min_child_weight': 6}. Best is trial 22 with value: 0.8691021305807042.\n",
      "[I 2024-07-01 15:43:05,055] Trial 24 finished with value: 0.8688483609114873 and parameters: {'n_estimators': 221, 'learning_rate': 0.0496394278850466, 'max_depth': 7, 'subsample': 0.3527745752802192, 'colsample_bytree': 0.8329266180171443, 'min_child_weight': 6}. Best is trial 22 with value: 0.8691021305807042.\n",
      "[I 2024-07-01 15:43:25,044] Trial 25 finished with value: 0.8689897840422193 and parameters: {'n_estimators': 358, 'learning_rate': 0.022490663129854673, 'max_depth': 9, 'subsample': 0.27674683874033973, 'colsample_bytree': 0.74178389330889, 'min_child_weight': 2}. Best is trial 22 with value: 0.8691021305807042.\n"
     ]
    },
    {
     "name": "stderr",
     "output_type": "stream",
     "text": [
      "[I 2024-07-01 15:43:41,534] Trial 26 finished with value: 0.8690914809351639 and parameters: {'n_estimators': 289, 'learning_rate': 0.022862892361005034, 'max_depth': 8, 'subsample': 0.634196643692571, 'colsample_bytree': 0.8787938169255539, 'min_child_weight': 5}. Best is trial 22 with value: 0.8691021305807042.\n",
      "[I 2024-07-01 15:43:51,616] Trial 27 finished with value: 0.8685273205135076 and parameters: {'n_estimators': 273, 'learning_rate': 0.04498516975938397, 'max_depth': 5, 'subsample': 0.7575170389111546, 'colsample_bytree': 0.8876239966307936, 'min_child_weight': 6}. Best is trial 22 with value: 0.8691021305807042.\n",
      "[I 2024-07-01 15:44:04,325] Trial 28 finished with value: 0.868940298190295 and parameters: {'n_estimators': 231, 'learning_rate': 0.023176095648422313, 'max_depth': 7, 'subsample': 0.49924473125218494, 'colsample_bytree': 0.9870113511901213, 'min_child_weight': 3}. Best is trial 22 with value: 0.8691021305807042.\n",
      "[I 2024-07-01 15:44:15,046] Trial 29 finished with value: 0.5910310278979156 and parameters: {'n_estimators': 172, 'learning_rate': 0.0033191888105975017, 'max_depth': 8, 'subsample': 0.31312113851261025, 'colsample_bytree': 0.8834183677779612, 'min_child_weight': 1}. Best is trial 22 with value: 0.8691021305807042.\n"
     ]
    }
   ],
   "source": [
    "study = optuna.create_study(direction='maximize')\n",
    "study.optimize(objective, n_trials=30)"
   ]
  },
  {
   "cell_type": "code",
   "execution_count": 52,
   "metadata": {},
   "outputs": [
    {
     "name": "stdout",
     "output_type": "stream",
     "text": [
      "Best hyperparameters: {'n_estimators': 309, 'learning_rate': 0.019965529664439288, 'max_depth': 10, 'subsample': 0.5927215723384559, 'colsample_bytree': 0.7745532703076283, 'min_child_weight': 4}\n",
      "Best RMSE: 0.8691021305807042\n"
     ]
    }
   ],
   "source": [
    "print('Best hyperparameters:', study.best_params)\n",
    "print('Best RMSE:', study.best_value)"
   ]
  },
  {
   "cell_type": "markdown",
   "metadata": {},
   "source": [
    "#### <p style=\"background-color: #EDE7F6; color: #6600ff;margin:0; display:inline-block;padding:.6rem;border-radius:.25rem;\">Ensemble Prediction</p>"
   ]
  },
  {
   "cell_type": "code",
   "execution_count": null,
   "metadata": {
    "execution": {
     "iopub.execute_input": "2024-06-23T12:42:42.630633Z",
     "iopub.status.busy": "2024-06-23T12:42:42.630238Z",
     "iopub.status.idle": "2024-06-23T12:42:42.846139Z",
     "shell.execute_reply": "2024-06-23T12:42:42.844919Z",
     "shell.execute_reply.started": "2024-06-23T12:42:42.630602Z"
    }
   },
   "outputs": [],
   "source": [
    "# Getting the best parameters obtained from Hyperparameter Tuning\n",
    "xgr_params = optimize_r2_xgr.best_trial.params\n",
    "cbr_params = optimize_r2_cbr.best_trial.params\n",
    "lbr_params = optimize_r2_lbr.best_trial.params\n",
    "xgrf_params = optimize_r2_xgrf.best_trial.params\n",
    "ridge_params = optimize_r2_ridge.best_trial.params"
   ]
  },
  {
   "cell_type": "code",
   "execution_count": null,
   "metadata": {
    "execution": {
     "iopub.execute_input": "2024-06-22T14:31:49.216121Z",
     "iopub.status.busy": "2024-06-22T14:31:49.215417Z",
     "iopub.status.idle": "2024-06-22T15:10:57.515747Z",
     "shell.execute_reply": "2024-06-22T15:10:57.512445Z",
     "shell.execute_reply.started": "2024-06-22T14:31:49.216086Z"
    }
   },
   "outputs": [],
   "source": [
    "xgr_tr_pred1, xgr_ts_pred1 = cross_validate_predict(XGBRegressor(**fixed_params_xgr, **xgr_params),\n",
    "                                                    X, y, test_df)\n",
    "\n",
    "cbr_tr_pred2, cbr_ts_pred2 = cross_validate_predict(CatBoostRegressor(**fixed_params_ctr, **cbr_params),\n",
    "                                                    X, y, test_df)\n",
    "\n",
    "lgr_tr_pred3, lgr_ts_pred3 = cross_validate_predict(LGBMRegressor(**fixed_params_lbr, **lbr_params),\n",
    "                                                    X, y, test_df)\n",
    "\n",
    "xgrf_tr_pred4, xgrf_ts_pred4 = cross_validate_predict(XGBRegressor(**fixed_params_xgrf, **xgrf_params),\n",
    "                                                      X, y, test_df)\n",
    "\n",
    "ridge_tr_pred5, ridge_ts_pred5 = cross_validate_predict(Ridge(**ridge_params), X, y, test_df)"
   ]
  },
  {
   "cell_type": "code",
   "execution_count": null,
   "metadata": {
    "execution": {
     "iopub.execute_input": "2024-06-22T15:13:34.863463Z",
     "iopub.status.busy": "2024-06-22T15:13:34.862739Z",
     "iopub.status.idle": "2024-06-22T15:13:34.964686Z",
     "shell.execute_reply": "2024-06-22T15:13:34.96392Z",
     "shell.execute_reply.started": "2024-06-22T15:13:34.863432Z"
    }
   },
   "outputs": [],
   "source": [
    "# Creating the predictions dataset for final prediction\n",
    "ensemble_train = np.c_[xgr_tr_pred1, cbr_tr_pred2, lgr_tr_pred3, xgrf_tr_pred4, ridge_tr_pred5]\n",
    "ensemble_test = np.c_[xgr_ts_pred1, cbr_ts_pred2, lgr_ts_pred3, xgrf_ts_pred4, ridge_ts_pred5]\n",
    "\n",
    "np.save('ensemble_train.npy', ensemble_train)\n",
    "np.save('ensemble_test.npy', ensemble_test)"
   ]
  },
  {
   "cell_type": "code",
   "execution_count": null,
   "metadata": {
    "execution": {
     "iopub.execute_input": "2024-06-22T15:14:02.10292Z",
     "iopub.status.busy": "2024-06-22T15:14:02.102218Z",
     "iopub.status.idle": "2024-06-22T15:14:02.109355Z",
     "shell.execute_reply": "2024-06-22T15:14:02.108314Z",
     "shell.execute_reply.started": "2024-06-22T15:14:02.102886Z"
    }
   },
   "outputs": [],
   "source": [
    "ensemble_train[:5,:]"
   ]
  },
  {
   "cell_type": "code",
   "execution_count": null,
   "metadata": {
    "execution": {
     "iopub.execute_input": "2024-06-22T15:14:09.082461Z",
     "iopub.status.busy": "2024-06-22T15:14:09.082107Z",
     "iopub.status.idle": "2024-06-22T15:14:09.08877Z",
     "shell.execute_reply": "2024-06-22T15:14:09.087803Z",
     "shell.execute_reply.started": "2024-06-22T15:14:09.082432Z"
    }
   },
   "outputs": [],
   "source": [
    "ensemble_test[:5,:]"
   ]
  },
  {
   "cell_type": "markdown",
   "metadata": {},
   "source": [
    "#### <p style=\"background-color: #EDE7F6; color: #6600ff;margin:0; display:inline-block;padding:.6rem;border-radius:.25rem;\">Optimizing The Weights For Final Predictions</p>"
   ]
  },
  {
   "cell_type": "code",
   "execution_count": null,
   "metadata": {
    "execution": {
     "iopub.execute_input": "2024-06-22T15:15:11.800104Z",
     "iopub.status.busy": "2024-06-22T15:15:11.799432Z",
     "iopub.status.idle": "2024-06-22T15:15:11.808033Z",
     "shell.execute_reply": "2024-06-22T15:15:11.807135Z",
     "shell.execute_reply.started": "2024-06-22T15:15:11.800068Z"
    }
   },
   "outputs": [],
   "source": [
    "def objective(trial):\n",
    "    \n",
    "    weights = [trial.suggest_float(f'w{i}', 0, 1) for i in range(1,6)]   # weight suggestions\n",
    "    weights = np.array(weights) / np.sum(weights)                        # normalizing\n",
    "    \n",
    "    ensemble_pred = ensemble_train.dot(weights)\n",
    "    r2_score = skm.r2_score(y, ensemble_pred)\n",
    "    return r2_score\n",
    "\n",
    "TPESampler = optuna.samplers.TPESampler(multivariate=True, group=True)\n",
    "optimize_weights = optuna.create_study(direction='maximize', sampler=TPESampler, study_name='Ensemble Weights')"
   ]
  },
  {
   "cell_type": "code",
   "execution_count": null,
   "metadata": {
    "_kg_hide-output": true,
    "execution": {
     "iopub.execute_input": "2024-06-22T15:15:15.757608Z",
     "iopub.status.busy": "2024-06-22T15:15:15.757011Z",
     "iopub.status.idle": "2024-06-22T15:17:13.662799Z",
     "shell.execute_reply": "2024-06-22T15:17:13.661899Z",
     "shell.execute_reply.started": "2024-06-22T15:15:15.757577Z"
    },
    "scrolled": true
   },
   "outputs": [],
   "source": [
    "optimize_weights.optimize(objective, n_trials=1000, show_progress_bar=True)\n",
    "dump(optimize_weights,'Ensemble Weights.pkl')"
   ]
  },
  {
   "cell_type": "code",
   "execution_count": null,
   "metadata": {
    "execution": {
     "iopub.execute_input": "2024-06-22T15:23:21.677662Z",
     "iopub.status.busy": "2024-06-22T15:23:21.676838Z",
     "iopub.status.idle": "2024-06-22T15:23:21.683603Z",
     "shell.execute_reply": "2024-06-22T15:23:21.68268Z",
     "shell.execute_reply.started": "2024-06-22T15:23:21.67763Z"
    }
   },
   "outputs": [],
   "source": [
    "weights = optimize_weights.best_trial.params\n",
    "weights"
   ]
  },
  {
   "cell_type": "code",
   "execution_count": null,
   "metadata": {
    "execution": {
     "iopub.execute_input": "2024-06-22T15:23:28.201309Z",
     "iopub.status.busy": "2024-06-22T15:23:28.200513Z",
     "iopub.status.idle": "2024-06-22T15:23:28.207484Z",
     "shell.execute_reply": "2024-06-22T15:23:28.206587Z",
     "shell.execute_reply.started": "2024-06-22T15:23:28.201277Z"
    }
   },
   "outputs": [],
   "source": [
    "# Normalizing the weights\n",
    "weights = np.array(list(weights.values()))\n",
    "weights /= np.sum(weights)\n",
    "weights"
   ]
  },
  {
   "cell_type": "markdown",
   "metadata": {},
   "source": [
    "#### <p style=\"background-color: #EDE7F6; color: #6600ff;margin:0; display:inline-block;padding:.6rem;border-radius:.25rem;\">Making The Final Test Predictions</p>"
   ]
  },
  {
   "cell_type": "code",
   "execution_count": 72,
   "metadata": {},
   "outputs": [],
   "source": [
    "predictionsXGB_test = model_XGB.predict(test_df)"
   ]
  },
  {
   "cell_type": "code",
   "execution_count": 73,
   "metadata": {},
   "outputs": [
    {
     "data": {
      "text/plain": [
       "array([0.57759094, 0.4582304 , 0.44923756, ..., 0.6219937 , 0.5490062 ,\n",
       "       0.5299143 ], dtype=float32)"
      ]
     },
     "execution_count": 73,
     "metadata": {},
     "output_type": "execute_result"
    }
   ],
   "source": [
    "predictionsXGB_test"
   ]
  },
  {
   "cell_type": "code",
   "execution_count": 70,
   "metadata": {},
   "outputs": [
    {
     "data": {
      "text/plain": [
       "(745305, 21)"
      ]
     },
     "execution_count": 70,
     "metadata": {},
     "output_type": "execute_result"
    }
   ],
   "source": [
    "test.shape"
   ]
  },
  {
   "cell_type": "code",
   "execution_count": 74,
   "metadata": {
    "execution": {
     "iopub.execute_input": "2024-06-22T15:27:03.898985Z",
     "iopub.status.busy": "2024-06-22T15:27:03.898229Z",
     "iopub.status.idle": "2024-06-22T15:27:05.988542Z",
     "shell.execute_reply": "2024-06-22T15:27:05.987708Z",
     "shell.execute_reply.started": "2024-06-22T15:27:03.898954Z"
    }
   },
   "outputs": [],
   "source": [
    "submission = pd.DataFrame()\n",
    "submission['id'] = test['id']\n",
    "submission['FloodProbability'] = predictionsXGB_test\n",
    "submission.to_csv('submission.csv',index=False)"
   ]
  },
  {
   "cell_type": "code",
   "execution_count": 75,
   "metadata": {
    "execution": {
     "iopub.execute_input": "2024-06-22T15:27:56.817712Z",
     "iopub.status.busy": "2024-06-22T15:27:56.817351Z",
     "iopub.status.idle": "2024-06-22T15:27:56.830394Z",
     "shell.execute_reply": "2024-06-22T15:27:56.829468Z",
     "shell.execute_reply.started": "2024-06-22T15:27:56.81768Z"
    }
   },
   "outputs": [
    {
     "data": {
      "text/html": [
       "<div>\n",
       "<style scoped>\n",
       "    .dataframe tbody tr th:only-of-type {\n",
       "        vertical-align: middle;\n",
       "    }\n",
       "\n",
       "    .dataframe tbody tr th {\n",
       "        vertical-align: top;\n",
       "    }\n",
       "\n",
       "    .dataframe thead th {\n",
       "        text-align: right;\n",
       "    }\n",
       "</style>\n",
       "<table border=\"1\" class=\"dataframe\">\n",
       "  <thead>\n",
       "    <tr style=\"text-align: right;\">\n",
       "      <th></th>\n",
       "      <th>id</th>\n",
       "      <th>FloodProbability</th>\n",
       "    </tr>\n",
       "  </thead>\n",
       "  <tbody>\n",
       "    <tr>\n",
       "      <th>0</th>\n",
       "      <td>1117957</td>\n",
       "      <td>0.577591</td>\n",
       "    </tr>\n",
       "    <tr>\n",
       "      <th>1</th>\n",
       "      <td>1117958</td>\n",
       "      <td>0.458230</td>\n",
       "    </tr>\n",
       "    <tr>\n",
       "      <th>2</th>\n",
       "      <td>1117959</td>\n",
       "      <td>0.449238</td>\n",
       "    </tr>\n",
       "    <tr>\n",
       "      <th>3</th>\n",
       "      <td>1117960</td>\n",
       "      <td>0.468001</td>\n",
       "    </tr>\n",
       "    <tr>\n",
       "      <th>4</th>\n",
       "      <td>1117961</td>\n",
       "      <td>0.467441</td>\n",
       "    </tr>\n",
       "    <tr>\n",
       "      <th>...</th>\n",
       "      <td>...</td>\n",
       "      <td>...</td>\n",
       "    </tr>\n",
       "    <tr>\n",
       "      <th>745300</th>\n",
       "      <td>1863257</td>\n",
       "      <td>0.476886</td>\n",
       "    </tr>\n",
       "    <tr>\n",
       "      <th>745301</th>\n",
       "      <td>1863258</td>\n",
       "      <td>0.440631</td>\n",
       "    </tr>\n",
       "    <tr>\n",
       "      <th>745302</th>\n",
       "      <td>1863259</td>\n",
       "      <td>0.621994</td>\n",
       "    </tr>\n",
       "    <tr>\n",
       "      <th>745303</th>\n",
       "      <td>1863260</td>\n",
       "      <td>0.549006</td>\n",
       "    </tr>\n",
       "    <tr>\n",
       "      <th>745304</th>\n",
       "      <td>1863261</td>\n",
       "      <td>0.529914</td>\n",
       "    </tr>\n",
       "  </tbody>\n",
       "</table>\n",
       "<p>745305 rows × 2 columns</p>\n",
       "</div>"
      ],
      "text/plain": [
       "             id  FloodProbability\n",
       "0       1117957          0.577591\n",
       "1       1117958          0.458230\n",
       "2       1117959          0.449238\n",
       "3       1117960          0.468001\n",
       "4       1117961          0.467441\n",
       "...         ...               ...\n",
       "745300  1863257          0.476886\n",
       "745301  1863258          0.440631\n",
       "745302  1863259          0.621994\n",
       "745303  1863260          0.549006\n",
       "745304  1863261          0.529914\n",
       "\n",
       "[745305 rows x 2 columns]"
      ]
     },
     "execution_count": 75,
     "metadata": {},
     "output_type": "execute_result"
    }
   ],
   "source": [
    "submission"
   ]
  }
 ],
 "metadata": {
  "kaggle": {
   "accelerator": "none",
   "dataSources": [
    {
     "databundleVersionId": 8121328,
     "sourceId": 73278,
     "sourceType": "competition"
    }
   ],
   "dockerImageVersionId": 30715,
   "isGpuEnabled": false,
   "isInternetEnabled": true,
   "language": "python",
   "sourceType": "notebook"
  },
  "kernelspec": {
   "display_name": "Python 3 (ipykernel)",
   "language": "python",
   "name": "python3"
  },
  "language_info": {
   "codemirror_mode": {
    "name": "ipython",
    "version": 3
   },
   "file_extension": ".py",
   "mimetype": "text/x-python",
   "name": "python",
   "nbconvert_exporter": "python",
   "pygments_lexer": "ipython3",
   "version": "3.11.5"
  }
 },
 "nbformat": 4,
 "nbformat_minor": 4
}
