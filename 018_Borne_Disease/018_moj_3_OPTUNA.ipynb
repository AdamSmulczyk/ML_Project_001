{
 "cells": [
  {
   "cell_type": "code",
   "execution_count": 136,
   "id": "289c9fdc",
   "metadata": {},
   "outputs": [],
   "source": [
    "import numpy as np\n",
    "import pandas as pd\n",
    "import optuna\n",
    "import warnings\n",
    "\n",
    "import seaborn as sns\n",
    "import matplotlib as plt\n",
    "\n",
    "from sklearn.preprocessing import OrdinalEncoder\n",
    "from sklearnex.ensemble import RandomForestClassifier\n",
    "from sklearn.model_selection import RandomizedSearchCV, cross_val_score, KFold\n",
    "from sklearn.metrics import r2_score, auc, accuracy_score, confusion_matrix, mean_squared_error, mean_absolute_error\n",
    "\n",
    "import xgboost as xgb\n",
    "from sklearn.model_selection import train_test_split \n",
    "\n",
    "\n",
    "# from utils import mapk\n",
    "\n",
    "\n",
    "warnings.filterwarnings('ignore')"
   ]
  },
  {
   "cell_type": "code",
   "execution_count": 1,
   "id": "e9ee889d",
   "metadata": {
    "scrolled": true
   },
   "outputs": [
    {
     "ename": "ImportError",
     "evalue": "cannot import name 'mapk' from 'utils' (D:\\Programy\\anaconda3\\Lib\\site-packages\\utils\\__init__.py)",
     "output_type": "error",
     "traceback": [
      "\u001b[1;31m---------------------------------------------------------------------------\u001b[0m",
      "\u001b[1;31mImportError\u001b[0m                               Traceback (most recent call last)",
      "Cell \u001b[1;32mIn[1], line 1\u001b[0m\n\u001b[1;32m----> 1\u001b[0m \u001b[38;5;28;01mfrom\u001b[39;00m \u001b[38;5;21;01mutils\u001b[39;00m \u001b[38;5;28;01mimport\u001b[39;00m mapk\n",
      "\u001b[1;31mImportError\u001b[0m: cannot import name 'mapk' from 'utils' (D:\\Programy\\anaconda3\\Lib\\site-packages\\utils\\__init__.py)"
     ]
    }
   ],
   "source": [
    "from utils import mapk"
   ]
  },
  {
   "cell_type": "code",
   "execution_count": 110,
   "id": "8ea68466",
   "metadata": {},
   "outputs": [],
   "source": [
    "pd.options.display.max_columns = 100\n",
    "pd.options.display.max_rows = 100"
   ]
  },
  {
   "cell_type": "code",
   "execution_count": 5,
   "id": "dcc13375",
   "metadata": {},
   "outputs": [],
   "source": [
    "train = pd.read_csv(\"train.csv\")\n",
    "test = pd.read_csv(\"test.csv\")"
   ]
  },
  {
   "cell_type": "code",
   "execution_count": 6,
   "id": "3d262deb",
   "metadata": {},
   "outputs": [],
   "source": [
    "from sklearn.preprocessing import LabelEncoder\n",
    "# encode the target calss into numeric\n",
    "label = LabelEncoder()\n",
    "train['prognosis'] =label.fit_transform(train['prognosis'])"
   ]
  },
  {
   "cell_type": "code",
   "execution_count": 5,
   "id": "791ca125",
   "metadata": {},
   "outputs": [
    {
     "data": {
      "text/html": [
       "<div>\n",
       "<style scoped>\n",
       "    .dataframe tbody tr th:only-of-type {\n",
       "        vertical-align: middle;\n",
       "    }\n",
       "\n",
       "    .dataframe tbody tr th {\n",
       "        vertical-align: top;\n",
       "    }\n",
       "\n",
       "    .dataframe thead th {\n",
       "        text-align: right;\n",
       "    }\n",
       "</style>\n",
       "<table border=\"1\" class=\"dataframe\">\n",
       "  <thead>\n",
       "    <tr style=\"text-align: right;\">\n",
       "      <th></th>\n",
       "      <th>id</th>\n",
       "      <th>sudden_fever</th>\n",
       "      <th>headache</th>\n",
       "      <th>mouth_bleed</th>\n",
       "      <th>nose_bleed</th>\n",
       "      <th>muscle_pain</th>\n",
       "      <th>joint_pain</th>\n",
       "      <th>vomiting</th>\n",
       "      <th>rash</th>\n",
       "      <th>diarrhea</th>\n",
       "      <th>hypotension</th>\n",
       "      <th>pleural_effusion</th>\n",
       "      <th>ascites</th>\n",
       "      <th>gastro_bleeding</th>\n",
       "      <th>swelling</th>\n",
       "      <th>nausea</th>\n",
       "      <th>chills</th>\n",
       "      <th>myalgia</th>\n",
       "      <th>digestion_trouble</th>\n",
       "      <th>fatigue</th>\n",
       "      <th>skin_lesions</th>\n",
       "      <th>stomach_pain</th>\n",
       "      <th>orbital_pain</th>\n",
       "      <th>neck_pain</th>\n",
       "      <th>weakness</th>\n",
       "      <th>back_pain</th>\n",
       "      <th>weight_loss</th>\n",
       "      <th>gum_bleed</th>\n",
       "      <th>jaundice</th>\n",
       "      <th>coma</th>\n",
       "      <th>diziness</th>\n",
       "      <th>inflammation</th>\n",
       "      <th>red_eyes</th>\n",
       "      <th>loss_of_appetite</th>\n",
       "      <th>urination_loss</th>\n",
       "      <th>slow_heart_rate</th>\n",
       "      <th>abdominal_pain</th>\n",
       "      <th>light_sensitivity</th>\n",
       "      <th>yellow_skin</th>\n",
       "      <th>yellow_eyes</th>\n",
       "      <th>facial_distortion</th>\n",
       "      <th>microcephaly</th>\n",
       "      <th>rigor</th>\n",
       "      <th>bitter_tongue</th>\n",
       "      <th>convulsion</th>\n",
       "      <th>anemia</th>\n",
       "      <th>cocacola_urine</th>\n",
       "      <th>hypoglycemia</th>\n",
       "      <th>prostraction</th>\n",
       "      <th>hyperpyrexia</th>\n",
       "      <th>stiff_neck</th>\n",
       "      <th>irritability</th>\n",
       "      <th>confusion</th>\n",
       "      <th>tremor</th>\n",
       "      <th>paralysis</th>\n",
       "      <th>lymph_swells</th>\n",
       "      <th>breathing_restriction</th>\n",
       "      <th>toe_inflammation</th>\n",
       "      <th>finger_inflammation</th>\n",
       "      <th>lips_irritation</th>\n",
       "      <th>itchiness</th>\n",
       "      <th>ulcers</th>\n",
       "      <th>toenail_loss</th>\n",
       "      <th>speech_problem</th>\n",
       "      <th>bullseye_rash</th>\n",
       "      <th>prognosis</th>\n",
       "    </tr>\n",
       "  </thead>\n",
       "  <tbody>\n",
       "    <tr>\n",
       "      <th>0</th>\n",
       "      <td>0</td>\n",
       "      <td>1.0</td>\n",
       "      <td>1.0</td>\n",
       "      <td>0.0</td>\n",
       "      <td>1.0</td>\n",
       "      <td>1.0</td>\n",
       "      <td>1.0</td>\n",
       "      <td>1.0</td>\n",
       "      <td>0.0</td>\n",
       "      <td>1.0</td>\n",
       "      <td>1.0</td>\n",
       "      <td>1.0</td>\n",
       "      <td>1.0</td>\n",
       "      <td>0.0</td>\n",
       "      <td>0.0</td>\n",
       "      <td>1.0</td>\n",
       "      <td>1.0</td>\n",
       "      <td>0.0</td>\n",
       "      <td>0.0</td>\n",
       "      <td>1.0</td>\n",
       "      <td>0.0</td>\n",
       "      <td>1.0</td>\n",
       "      <td>0.0</td>\n",
       "      <td>1.0</td>\n",
       "      <td>1.0</td>\n",
       "      <td>1.0</td>\n",
       "      <td>1.0</td>\n",
       "      <td>1.0</td>\n",
       "      <td>1.0</td>\n",
       "      <td>1.0</td>\n",
       "      <td>0.0</td>\n",
       "      <td>0.0</td>\n",
       "      <td>1.0</td>\n",
       "      <td>0.0</td>\n",
       "      <td>0.0</td>\n",
       "      <td>0.0</td>\n",
       "      <td>0.0</td>\n",
       "      <td>1.0</td>\n",
       "      <td>0.0</td>\n",
       "      <td>0.0</td>\n",
       "      <td>0.0</td>\n",
       "      <td>0.0</td>\n",
       "      <td>0.0</td>\n",
       "      <td>1.0</td>\n",
       "      <td>0.0</td>\n",
       "      <td>1.0</td>\n",
       "      <td>0.0</td>\n",
       "      <td>1.0</td>\n",
       "      <td>0.0</td>\n",
       "      <td>0.0</td>\n",
       "      <td>0.0</td>\n",
       "      <td>0.0</td>\n",
       "      <td>1.0</td>\n",
       "      <td>0.0</td>\n",
       "      <td>1.0</td>\n",
       "      <td>0.0</td>\n",
       "      <td>0.0</td>\n",
       "      <td>0.0</td>\n",
       "      <td>0.0</td>\n",
       "      <td>0.0</td>\n",
       "      <td>0.0</td>\n",
       "      <td>0.0</td>\n",
       "      <td>0.0</td>\n",
       "      <td>0.0</td>\n",
       "      <td>0.0</td>\n",
       "      <td>3</td>\n",
       "    </tr>\n",
       "    <tr>\n",
       "      <th>1</th>\n",
       "      <td>1</td>\n",
       "      <td>0.0</td>\n",
       "      <td>0.0</td>\n",
       "      <td>0.0</td>\n",
       "      <td>0.0</td>\n",
       "      <td>0.0</td>\n",
       "      <td>0.0</td>\n",
       "      <td>1.0</td>\n",
       "      <td>0.0</td>\n",
       "      <td>1.0</td>\n",
       "      <td>0.0</td>\n",
       "      <td>1.0</td>\n",
       "      <td>0.0</td>\n",
       "      <td>1.0</td>\n",
       "      <td>0.0</td>\n",
       "      <td>1.0</td>\n",
       "      <td>0.0</td>\n",
       "      <td>0.0</td>\n",
       "      <td>0.0</td>\n",
       "      <td>0.0</td>\n",
       "      <td>1.0</td>\n",
       "      <td>0.0</td>\n",
       "      <td>0.0</td>\n",
       "      <td>0.0</td>\n",
       "      <td>0.0</td>\n",
       "      <td>0.0</td>\n",
       "      <td>0.0</td>\n",
       "      <td>0.0</td>\n",
       "      <td>0.0</td>\n",
       "      <td>0.0</td>\n",
       "      <td>0.0</td>\n",
       "      <td>0.0</td>\n",
       "      <td>0.0</td>\n",
       "      <td>0.0</td>\n",
       "      <td>0.0</td>\n",
       "      <td>0.0</td>\n",
       "      <td>0.0</td>\n",
       "      <td>0.0</td>\n",
       "      <td>0.0</td>\n",
       "      <td>0.0</td>\n",
       "      <td>0.0</td>\n",
       "      <td>0.0</td>\n",
       "      <td>0.0</td>\n",
       "      <td>0.0</td>\n",
       "      <td>0.0</td>\n",
       "      <td>0.0</td>\n",
       "      <td>0.0</td>\n",
       "      <td>0.0</td>\n",
       "      <td>0.0</td>\n",
       "      <td>0.0</td>\n",
       "      <td>0.0</td>\n",
       "      <td>0.0</td>\n",
       "      <td>0.0</td>\n",
       "      <td>0.0</td>\n",
       "      <td>0.0</td>\n",
       "      <td>0.0</td>\n",
       "      <td>0.0</td>\n",
       "      <td>0.0</td>\n",
       "      <td>0.0</td>\n",
       "      <td>0.0</td>\n",
       "      <td>0.0</td>\n",
       "      <td>0.0</td>\n",
       "      <td>0.0</td>\n",
       "      <td>0.0</td>\n",
       "      <td>0.0</td>\n",
       "      <td>7</td>\n",
       "    </tr>\n",
       "    <tr>\n",
       "      <th>2</th>\n",
       "      <td>2</td>\n",
       "      <td>0.0</td>\n",
       "      <td>1.0</td>\n",
       "      <td>1.0</td>\n",
       "      <td>1.0</td>\n",
       "      <td>0.0</td>\n",
       "      <td>1.0</td>\n",
       "      <td>1.0</td>\n",
       "      <td>1.0</td>\n",
       "      <td>1.0</td>\n",
       "      <td>1.0</td>\n",
       "      <td>1.0</td>\n",
       "      <td>1.0</td>\n",
       "      <td>1.0</td>\n",
       "      <td>1.0</td>\n",
       "      <td>1.0</td>\n",
       "      <td>1.0</td>\n",
       "      <td>1.0</td>\n",
       "      <td>0.0</td>\n",
       "      <td>1.0</td>\n",
       "      <td>1.0</td>\n",
       "      <td>1.0</td>\n",
       "      <td>1.0</td>\n",
       "      <td>1.0</td>\n",
       "      <td>1.0</td>\n",
       "      <td>1.0</td>\n",
       "      <td>1.0</td>\n",
       "      <td>1.0</td>\n",
       "      <td>1.0</td>\n",
       "      <td>0.0</td>\n",
       "      <td>0.0</td>\n",
       "      <td>1.0</td>\n",
       "      <td>1.0</td>\n",
       "      <td>1.0</td>\n",
       "      <td>1.0</td>\n",
       "      <td>0.0</td>\n",
       "      <td>1.0</td>\n",
       "      <td>0.0</td>\n",
       "      <td>1.0</td>\n",
       "      <td>1.0</td>\n",
       "      <td>1.0</td>\n",
       "      <td>0.0</td>\n",
       "      <td>1.0</td>\n",
       "      <td>1.0</td>\n",
       "      <td>1.0</td>\n",
       "      <td>1.0</td>\n",
       "      <td>0.0</td>\n",
       "      <td>1.0</td>\n",
       "      <td>0.0</td>\n",
       "      <td>0.0</td>\n",
       "      <td>0.0</td>\n",
       "      <td>1.0</td>\n",
       "      <td>1.0</td>\n",
       "      <td>1.0</td>\n",
       "      <td>1.0</td>\n",
       "      <td>1.0</td>\n",
       "      <td>1.0</td>\n",
       "      <td>1.0</td>\n",
       "      <td>1.0</td>\n",
       "      <td>1.0</td>\n",
       "      <td>1.0</td>\n",
       "      <td>0.0</td>\n",
       "      <td>1.0</td>\n",
       "      <td>1.0</td>\n",
       "      <td>1.0</td>\n",
       "      <td>3</td>\n",
       "    </tr>\n",
       "  </tbody>\n",
       "</table>\n",
       "</div>"
      ],
      "text/plain": [
       "   id  sudden_fever  headache  mouth_bleed  nose_bleed  muscle_pain  \\\n",
       "0   0           1.0       1.0          0.0         1.0          1.0   \n",
       "1   1           0.0       0.0          0.0         0.0          0.0   \n",
       "2   2           0.0       1.0          1.0         1.0          0.0   \n",
       "\n",
       "   joint_pain  vomiting  rash  diarrhea  hypotension  pleural_effusion  \\\n",
       "0         1.0       1.0   0.0       1.0          1.0               1.0   \n",
       "1         0.0       1.0   0.0       1.0          0.0               1.0   \n",
       "2         1.0       1.0   1.0       1.0          1.0               1.0   \n",
       "\n",
       "   ascites  gastro_bleeding  swelling  nausea  chills  myalgia  \\\n",
       "0      1.0              0.0       0.0     1.0     1.0      0.0   \n",
       "1      0.0              1.0       0.0     1.0     0.0      0.0   \n",
       "2      1.0              1.0       1.0     1.0     1.0      1.0   \n",
       "\n",
       "   digestion_trouble  fatigue  skin_lesions  stomach_pain  orbital_pain  \\\n",
       "0                0.0      1.0           0.0           1.0           0.0   \n",
       "1                0.0      0.0           1.0           0.0           0.0   \n",
       "2                0.0      1.0           1.0           1.0           1.0   \n",
       "\n",
       "   neck_pain  weakness  back_pain  weight_loss  gum_bleed  jaundice  coma  \\\n",
       "0        1.0       1.0        1.0          1.0        1.0       1.0   1.0   \n",
       "1        0.0       0.0        0.0          0.0        0.0       0.0   0.0   \n",
       "2        1.0       1.0        1.0          1.0        1.0       1.0   0.0   \n",
       "\n",
       "   diziness  inflammation  red_eyes  loss_of_appetite  urination_loss  \\\n",
       "0       0.0           0.0       1.0               0.0             0.0   \n",
       "1       0.0           0.0       0.0               0.0             0.0   \n",
       "2       0.0           1.0       1.0               1.0             1.0   \n",
       "\n",
       "   slow_heart_rate  abdominal_pain  light_sensitivity  yellow_skin  \\\n",
       "0              0.0             0.0                1.0          0.0   \n",
       "1              0.0             0.0                0.0          0.0   \n",
       "2              0.0             1.0                0.0          1.0   \n",
       "\n",
       "   yellow_eyes  facial_distortion  microcephaly  rigor  bitter_tongue  \\\n",
       "0          0.0                0.0           0.0    0.0            1.0   \n",
       "1          0.0                0.0           0.0    0.0            0.0   \n",
       "2          1.0                1.0           0.0    1.0            1.0   \n",
       "\n",
       "   convulsion  anemia  cocacola_urine  hypoglycemia  prostraction  \\\n",
       "0         0.0     1.0             0.0           1.0           0.0   \n",
       "1         0.0     0.0             0.0           0.0           0.0   \n",
       "2         1.0     1.0             0.0           1.0           0.0   \n",
       "\n",
       "   hyperpyrexia  stiff_neck  irritability  confusion  tremor  paralysis  \\\n",
       "0           0.0         0.0           0.0        1.0     0.0        1.0   \n",
       "1           0.0         0.0           0.0        0.0     0.0        0.0   \n",
       "2           0.0         0.0           1.0        1.0     1.0        1.0   \n",
       "\n",
       "   lymph_swells  breathing_restriction  toe_inflammation  finger_inflammation  \\\n",
       "0           0.0                    0.0               0.0                  0.0   \n",
       "1           0.0                    0.0               0.0                  0.0   \n",
       "2           1.0                    1.0               1.0                  1.0   \n",
       "\n",
       "   lips_irritation  itchiness  ulcers  toenail_loss  speech_problem  \\\n",
       "0              0.0        0.0     0.0           0.0             0.0   \n",
       "1              0.0        0.0     0.0           0.0             0.0   \n",
       "2              1.0        1.0     0.0           1.0             1.0   \n",
       "\n",
       "   bullseye_rash  prognosis  \n",
       "0            0.0          3  \n",
       "1            0.0          7  \n",
       "2            1.0          3  "
      ]
     },
     "execution_count": 5,
     "metadata": {},
     "output_type": "execute_result"
    }
   ],
   "source": [
    "train.head(3)"
   ]
  },
  {
   "cell_type": "code",
   "execution_count": null,
   "id": "a2dfc2bd",
   "metadata": {},
   "outputs": [],
   "source": []
  },
  {
   "cell_type": "code",
   "execution_count": 7,
   "id": "5979ff79",
   "metadata": {},
   "outputs": [],
   "source": [
    "y = train['prognosis']\n",
    "X = train.drop('prognosis',axis=1)"
   ]
  },
  {
   "cell_type": "code",
   "execution_count": 8,
   "id": "97ae060b",
   "metadata": {},
   "outputs": [
    {
     "data": {
      "text/plain": [
       "array([ 3,  7, 10,  6,  8,  4,  0,  5,  1,  9,  2])"
      ]
     },
     "execution_count": 8,
     "metadata": {},
     "output_type": "execute_result"
    }
   ],
   "source": [
    "y.unique()"
   ]
  },
  {
   "cell_type": "code",
   "execution_count": 42,
   "id": "bfc01228",
   "metadata": {},
   "outputs": [],
   "source": [
    "# ohe = OrdinalEncoder()\n",
    "# y = ohe.fit_transform(train[['prognosis']])"
   ]
  },
  {
   "cell_type": "code",
   "execution_count": 9,
   "id": "249d8ca6",
   "metadata": {},
   "outputs": [],
   "source": [
    "# from sklearn.preprocessing import LabelEncoder\n",
    "# # encode the target calss into numeric\n",
    "# label = LabelEncoder()\n",
    "# y =label.fit_transform(train['prognosis'])"
   ]
  },
  {
   "cell_type": "markdown",
   "id": "70a821be",
   "metadata": {},
   "source": [
    "# train_test_split"
   ]
  },
  {
   "cell_type": "code",
   "execution_count": 9,
   "id": "5c0f1989",
   "metadata": {},
   "outputs": [],
   "source": [
    "X_train, X_test, y_train, y_test = train_test_split(X, y, random_state=42, test_size=0.2)"
   ]
  },
  {
   "cell_type": "code",
   "execution_count": 10,
   "id": "bd594db7",
   "metadata": {},
   "outputs": [
    {
     "data": {
      "text/plain": [
       "(565, 65)"
      ]
     },
     "execution_count": 10,
     "metadata": {},
     "output_type": "execute_result"
    }
   ],
   "source": [
    "X_train.shape"
   ]
  },
  {
   "cell_type": "code",
   "execution_count": 11,
   "id": "8344b70e",
   "metadata": {},
   "outputs": [
    {
     "data": {
      "text/plain": [
       "(142, 65)"
      ]
     },
     "execution_count": 11,
     "metadata": {},
     "output_type": "execute_result"
    }
   ],
   "source": [
    "X_test.shape"
   ]
  },
  {
   "cell_type": "markdown",
   "id": "09fbde24",
   "metadata": {},
   "source": [
    "# XGB"
   ]
  },
  {
   "cell_type": "code",
   "execution_count": 91,
   "id": "b56d7f8e",
   "metadata": {},
   "outputs": [],
   "source": [
    "XGB_model = xgb.XGBRegressor(random_state=42)"
   ]
  },
  {
   "cell_type": "code",
   "execution_count": 96,
   "id": "f392b59c",
   "metadata": {},
   "outputs": [
    {
     "data": {
      "text/html": [
       "<style>#sk-container-id-8 {color: black;}#sk-container-id-8 pre{padding: 0;}#sk-container-id-8 div.sk-toggleable {background-color: white;}#sk-container-id-8 label.sk-toggleable__label {cursor: pointer;display: block;width: 100%;margin-bottom: 0;padding: 0.3em;box-sizing: border-box;text-align: center;}#sk-container-id-8 label.sk-toggleable__label-arrow:before {content: \"▸\";float: left;margin-right: 0.25em;color: #696969;}#sk-container-id-8 label.sk-toggleable__label-arrow:hover:before {color: black;}#sk-container-id-8 div.sk-estimator:hover label.sk-toggleable__label-arrow:before {color: black;}#sk-container-id-8 div.sk-toggleable__content {max-height: 0;max-width: 0;overflow: hidden;text-align: left;background-color: #f0f8ff;}#sk-container-id-8 div.sk-toggleable__content pre {margin: 0.2em;color: black;border-radius: 0.25em;background-color: #f0f8ff;}#sk-container-id-8 input.sk-toggleable__control:checked~div.sk-toggleable__content {max-height: 200px;max-width: 100%;overflow: auto;}#sk-container-id-8 input.sk-toggleable__control:checked~label.sk-toggleable__label-arrow:before {content: \"▾\";}#sk-container-id-8 div.sk-estimator input.sk-toggleable__control:checked~label.sk-toggleable__label {background-color: #d4ebff;}#sk-container-id-8 div.sk-label input.sk-toggleable__control:checked~label.sk-toggleable__label {background-color: #d4ebff;}#sk-container-id-8 input.sk-hidden--visually {border: 0;clip: rect(1px 1px 1px 1px);clip: rect(1px, 1px, 1px, 1px);height: 1px;margin: -1px;overflow: hidden;padding: 0;position: absolute;width: 1px;}#sk-container-id-8 div.sk-estimator {font-family: monospace;background-color: #f0f8ff;border: 1px dotted black;border-radius: 0.25em;box-sizing: border-box;margin-bottom: 0.5em;}#sk-container-id-8 div.sk-estimator:hover {background-color: #d4ebff;}#sk-container-id-8 div.sk-parallel-item::after {content: \"\";width: 100%;border-bottom: 1px solid gray;flex-grow: 1;}#sk-container-id-8 div.sk-label:hover label.sk-toggleable__label {background-color: #d4ebff;}#sk-container-id-8 div.sk-serial::before {content: \"\";position: absolute;border-left: 1px solid gray;box-sizing: border-box;top: 0;bottom: 0;left: 50%;z-index: 0;}#sk-container-id-8 div.sk-serial {display: flex;flex-direction: column;align-items: center;background-color: white;padding-right: 0.2em;padding-left: 0.2em;position: relative;}#sk-container-id-8 div.sk-item {position: relative;z-index: 1;}#sk-container-id-8 div.sk-parallel {display: flex;align-items: stretch;justify-content: center;background-color: white;position: relative;}#sk-container-id-8 div.sk-item::before, #sk-container-id-8 div.sk-parallel-item::before {content: \"\";position: absolute;border-left: 1px solid gray;box-sizing: border-box;top: 0;bottom: 0;left: 50%;z-index: -1;}#sk-container-id-8 div.sk-parallel-item {display: flex;flex-direction: column;z-index: 1;position: relative;background-color: white;}#sk-container-id-8 div.sk-parallel-item:first-child::after {align-self: flex-end;width: 50%;}#sk-container-id-8 div.sk-parallel-item:last-child::after {align-self: flex-start;width: 50%;}#sk-container-id-8 div.sk-parallel-item:only-child::after {width: 0;}#sk-container-id-8 div.sk-dashed-wrapped {border: 1px dashed gray;margin: 0 0.4em 0.5em 0.4em;box-sizing: border-box;padding-bottom: 0.4em;background-color: white;}#sk-container-id-8 div.sk-label label {font-family: monospace;font-weight: bold;display: inline-block;line-height: 1.2em;}#sk-container-id-8 div.sk-label-container {text-align: center;}#sk-container-id-8 div.sk-container {/* jupyter's `normalize.less` sets `[hidden] { display: none; }` but bootstrap.min.css set `[hidden] { display: none !important; }` so we also need the `!important` here to be able to override the default hidden behavior on the sphinx rendered scikit-learn.org. See: https://github.com/scikit-learn/scikit-learn/issues/21755 */display: inline-block !important;position: relative;}#sk-container-id-8 div.sk-text-repr-fallback {display: none;}</style><div id=\"sk-container-id-8\" class=\"sk-top-container\"><div class=\"sk-text-repr-fallback\"><pre>XGBRegressor(base_score=None, booster=None, callbacks=None,\n",
       "             colsample_bylevel=None, colsample_bynode=None,\n",
       "             colsample_bytree=None, device=None, early_stopping_rounds=None,\n",
       "             enable_categorical=False, eval_metric=None, feature_types=None,\n",
       "             gamma=None, grow_policy=None, importance_type=None,\n",
       "             interaction_constraints=None, learning_rate=None, max_bin=None,\n",
       "             max_cat_threshold=None, max_cat_to_onehot=None,\n",
       "             max_delta_step=None, max_depth=None, max_leaves=None,\n",
       "             min_child_weight=None, missing=nan, monotone_constraints=None,\n",
       "             multi_strategy=None, n_estimators=None, n_jobs=None,\n",
       "             num_parallel_tree=None, random_state=42, ...)</pre><b>In a Jupyter environment, please rerun this cell to show the HTML representation or trust the notebook. <br />On GitHub, the HTML representation is unable to render, please try loading this page with nbviewer.org.</b></div><div class=\"sk-container\" hidden><div class=\"sk-item\"><div class=\"sk-estimator sk-toggleable\"><input class=\"sk-toggleable__control sk-hidden--visually\" id=\"sk-estimator-id-8\" type=\"checkbox\" checked><label for=\"sk-estimator-id-8\" class=\"sk-toggleable__label sk-toggleable__label-arrow\">XGBRegressor</label><div class=\"sk-toggleable__content\"><pre>XGBRegressor(base_score=None, booster=None, callbacks=None,\n",
       "             colsample_bylevel=None, colsample_bynode=None,\n",
       "             colsample_bytree=None, device=None, early_stopping_rounds=None,\n",
       "             enable_categorical=False, eval_metric=None, feature_types=None,\n",
       "             gamma=None, grow_policy=None, importance_type=None,\n",
       "             interaction_constraints=None, learning_rate=None, max_bin=None,\n",
       "             max_cat_threshold=None, max_cat_to_onehot=None,\n",
       "             max_delta_step=None, max_depth=None, max_leaves=None,\n",
       "             min_child_weight=None, missing=nan, monotone_constraints=None,\n",
       "             multi_strategy=None, n_estimators=None, n_jobs=None,\n",
       "             num_parallel_tree=None, random_state=42, ...)</pre></div></div></div></div></div>"
      ],
      "text/plain": [
       "XGBRegressor(base_score=None, booster=None, callbacks=None,\n",
       "             colsample_bylevel=None, colsample_bynode=None,\n",
       "             colsample_bytree=None, device=None, early_stopping_rounds=None,\n",
       "             enable_categorical=False, eval_metric=None, feature_types=None,\n",
       "             gamma=None, grow_policy=None, importance_type=None,\n",
       "             interaction_constraints=None, learning_rate=None, max_bin=None,\n",
       "             max_cat_threshold=None, max_cat_to_onehot=None,\n",
       "             max_delta_step=None, max_depth=None, max_leaves=None,\n",
       "             min_child_weight=None, missing=nan, monotone_constraints=None,\n",
       "             multi_strategy=None, n_estimators=None, n_jobs=None,\n",
       "             num_parallel_tree=None, random_state=42, ...)"
      ]
     },
     "execution_count": 96,
     "metadata": {},
     "output_type": "execute_result"
    }
   ],
   "source": [
    "XGB_model.fit(X_train, y_train)"
   ]
  },
  {
   "cell_type": "code",
   "execution_count": 97,
   "id": "b62dcea8",
   "metadata": {},
   "outputs": [],
   "source": [
    "XGB_pred = XGB_model.predict(X_test)"
   ]
  },
  {
   "cell_type": "code",
   "execution_count": 104,
   "id": "14807e9c",
   "metadata": {
    "collapsed": true
   },
   "outputs": [
    {
     "name": "stdout",
     "output_type": "stream",
     "text": [
      "Train Score:0.999949002476155\n",
      "Valid Score:0.15618732059960394\n",
      "MAE: 2.3243008543837798\n"
     ]
    },
    {
     "ename": "ValueError",
     "evalue": "Classification metrics can't handle a mix of multiclass and continuous targets",
     "output_type": "error",
     "traceback": [
      "\u001b[1;31m---------------------------------------------------------------------------\u001b[0m",
      "\u001b[1;31mValueError\u001b[0m                                Traceback (most recent call last)",
      "Cell \u001b[1;32mIn[104], line 5\u001b[0m\n\u001b[0;32m      3\u001b[0m \u001b[38;5;28mprint\u001b[39m(\u001b[38;5;124mf\u001b[39m\u001b[38;5;124m'\u001b[39m\u001b[38;5;124mValid Score:\u001b[39m\u001b[38;5;132;01m{\u001b[39;00mXGB_model\u001b[38;5;241m.\u001b[39mscore(X_test,\u001b[38;5;250m \u001b[39my_test)\u001b[38;5;132;01m}\u001b[39;00m\u001b[38;5;124m'\u001b[39m)\n\u001b[0;32m      4\u001b[0m \u001b[38;5;28mprint\u001b[39m(\u001b[38;5;124mf\u001b[39m\u001b[38;5;124m'\u001b[39m\u001b[38;5;124mMAE: \u001b[39m\u001b[38;5;132;01m{\u001b[39;00mmean_absolute_error(y_test,\u001b[38;5;250m \u001b[39mXGB_pred)\u001b[38;5;132;01m}\u001b[39;00m\u001b[38;5;124m'\u001b[39m)\n\u001b[1;32m----> 5\u001b[0m \u001b[38;5;28mprint\u001b[39m(\u001b[38;5;124m'\u001b[39m\u001b[38;5;124mValid MCC matthews_corrcoef score:\u001b[39m\u001b[38;5;124m'\u001b[39m, matthews_corrcoef(y_test ,XGB_pred))\n",
      "File \u001b[1;32mD:\\Programy\\anaconda3\\Lib\\site-packages\\sklearn\\utils\\_param_validation.py:211\u001b[0m, in \u001b[0;36mvalidate_params.<locals>.decorator.<locals>.wrapper\u001b[1;34m(*args, **kwargs)\u001b[0m\n\u001b[0;32m    205\u001b[0m \u001b[38;5;28;01mtry\u001b[39;00m:\n\u001b[0;32m    206\u001b[0m     \u001b[38;5;28;01mwith\u001b[39;00m config_context(\n\u001b[0;32m    207\u001b[0m         skip_parameter_validation\u001b[38;5;241m=\u001b[39m(\n\u001b[0;32m    208\u001b[0m             prefer_skip_nested_validation \u001b[38;5;129;01mor\u001b[39;00m global_skip_validation\n\u001b[0;32m    209\u001b[0m         )\n\u001b[0;32m    210\u001b[0m     ):\n\u001b[1;32m--> 211\u001b[0m         \u001b[38;5;28;01mreturn\u001b[39;00m func(\u001b[38;5;241m*\u001b[39margs, \u001b[38;5;241m*\u001b[39m\u001b[38;5;241m*\u001b[39mkwargs)\n\u001b[0;32m    212\u001b[0m \u001b[38;5;28;01mexcept\u001b[39;00m InvalidParameterError \u001b[38;5;28;01mas\u001b[39;00m e:\n\u001b[0;32m    213\u001b[0m     \u001b[38;5;66;03m# When the function is just a wrapper around an estimator, we allow\u001b[39;00m\n\u001b[0;32m    214\u001b[0m     \u001b[38;5;66;03m# the function to delegate validation to the estimator, but we replace\u001b[39;00m\n\u001b[0;32m    215\u001b[0m     \u001b[38;5;66;03m# the name of the estimator by the name of the function in the error\u001b[39;00m\n\u001b[0;32m    216\u001b[0m     \u001b[38;5;66;03m# message to avoid confusion.\u001b[39;00m\n\u001b[0;32m    217\u001b[0m     msg \u001b[38;5;241m=\u001b[39m re\u001b[38;5;241m.\u001b[39msub(\n\u001b[0;32m    218\u001b[0m         \u001b[38;5;124mr\u001b[39m\u001b[38;5;124m\"\u001b[39m\u001b[38;5;124mparameter of \u001b[39m\u001b[38;5;124m\\\u001b[39m\u001b[38;5;124mw+ must be\u001b[39m\u001b[38;5;124m\"\u001b[39m,\n\u001b[0;32m    219\u001b[0m         \u001b[38;5;124mf\u001b[39m\u001b[38;5;124m\"\u001b[39m\u001b[38;5;124mparameter of \u001b[39m\u001b[38;5;132;01m{\u001b[39;00mfunc\u001b[38;5;241m.\u001b[39m\u001b[38;5;18m__qualname__\u001b[39m\u001b[38;5;132;01m}\u001b[39;00m\u001b[38;5;124m must be\u001b[39m\u001b[38;5;124m\"\u001b[39m,\n\u001b[0;32m    220\u001b[0m         \u001b[38;5;28mstr\u001b[39m(e),\n\u001b[0;32m    221\u001b[0m     )\n",
      "File \u001b[1;32mD:\\Programy\\anaconda3\\Lib\\site-packages\\sklearn\\metrics\\_classification.py:961\u001b[0m, in \u001b[0;36mmatthews_corrcoef\u001b[1;34m(y_true, y_pred, sample_weight)\u001b[0m\n\u001b[0;32m    890\u001b[0m \u001b[38;5;129m@validate_params\u001b[39m(\n\u001b[0;32m    891\u001b[0m     {\n\u001b[0;32m    892\u001b[0m         \u001b[38;5;124m\"\u001b[39m\u001b[38;5;124my_true\u001b[39m\u001b[38;5;124m\"\u001b[39m: [\u001b[38;5;124m\"\u001b[39m\u001b[38;5;124marray-like\u001b[39m\u001b[38;5;124m\"\u001b[39m],\n\u001b[1;32m   (...)\u001b[0m\n\u001b[0;32m    897\u001b[0m )\n\u001b[0;32m    898\u001b[0m \u001b[38;5;28;01mdef\u001b[39;00m \u001b[38;5;21mmatthews_corrcoef\u001b[39m(y_true, y_pred, \u001b[38;5;241m*\u001b[39m, sample_weight\u001b[38;5;241m=\u001b[39m\u001b[38;5;28;01mNone\u001b[39;00m):\n\u001b[0;32m    899\u001b[0m \u001b[38;5;250m    \u001b[39m\u001b[38;5;124;03m\"\"\"Compute the Matthews correlation coefficient (MCC).\u001b[39;00m\n\u001b[0;32m    900\u001b[0m \n\u001b[0;32m    901\u001b[0m \u001b[38;5;124;03m    The Matthews correlation coefficient is used in machine learning as a\u001b[39;00m\n\u001b[1;32m   (...)\u001b[0m\n\u001b[0;32m    959\u001b[0m \u001b[38;5;124;03m    -0.33...\u001b[39;00m\n\u001b[0;32m    960\u001b[0m \u001b[38;5;124;03m    \"\"\"\u001b[39;00m\n\u001b[1;32m--> 961\u001b[0m     y_type, y_true, y_pred \u001b[38;5;241m=\u001b[39m _check_targets(y_true, y_pred)\n\u001b[0;32m    962\u001b[0m     check_consistent_length(y_true, y_pred, sample_weight)\n\u001b[0;32m    963\u001b[0m     \u001b[38;5;28;01mif\u001b[39;00m y_type \u001b[38;5;129;01mnot\u001b[39;00m \u001b[38;5;129;01min\u001b[39;00m {\u001b[38;5;124m\"\u001b[39m\u001b[38;5;124mbinary\u001b[39m\u001b[38;5;124m\"\u001b[39m, \u001b[38;5;124m\"\u001b[39m\u001b[38;5;124mmulticlass\u001b[39m\u001b[38;5;124m\"\u001b[39m}:\n",
      "File \u001b[1;32mD:\\Programy\\anaconda3\\Lib\\site-packages\\sklearn\\metrics\\_classification.py:93\u001b[0m, in \u001b[0;36m_check_targets\u001b[1;34m(y_true, y_pred)\u001b[0m\n\u001b[0;32m     90\u001b[0m     y_type \u001b[38;5;241m=\u001b[39m {\u001b[38;5;124m\"\u001b[39m\u001b[38;5;124mmulticlass\u001b[39m\u001b[38;5;124m\"\u001b[39m}\n\u001b[0;32m     92\u001b[0m \u001b[38;5;28;01mif\u001b[39;00m \u001b[38;5;28mlen\u001b[39m(y_type) \u001b[38;5;241m>\u001b[39m \u001b[38;5;241m1\u001b[39m:\n\u001b[1;32m---> 93\u001b[0m     \u001b[38;5;28;01mraise\u001b[39;00m \u001b[38;5;167;01mValueError\u001b[39;00m(\n\u001b[0;32m     94\u001b[0m         \u001b[38;5;124m\"\u001b[39m\u001b[38;5;124mClassification metrics can\u001b[39m\u001b[38;5;124m'\u001b[39m\u001b[38;5;124mt handle a mix of \u001b[39m\u001b[38;5;132;01m{0}\u001b[39;00m\u001b[38;5;124m and \u001b[39m\u001b[38;5;132;01m{1}\u001b[39;00m\u001b[38;5;124m targets\u001b[39m\u001b[38;5;124m\"\u001b[39m\u001b[38;5;241m.\u001b[39mformat(\n\u001b[0;32m     95\u001b[0m             type_true, type_pred\n\u001b[0;32m     96\u001b[0m         )\n\u001b[0;32m     97\u001b[0m     )\n\u001b[0;32m     99\u001b[0m \u001b[38;5;66;03m# We can't have more than one value on y_type => The set is no more needed\u001b[39;00m\n\u001b[0;32m    100\u001b[0m y_type \u001b[38;5;241m=\u001b[39m y_type\u001b[38;5;241m.\u001b[39mpop()\n",
      "\u001b[1;31mValueError\u001b[0m: Classification metrics can't handle a mix of multiclass and continuous targets"
     ]
    }
   ],
   "source": [
    "print(f'Train Score:{XGB_model.score(X_train, y_train)}')\n",
    "print(f'Valid Score:{XGB_model.score(X_test, y_test)}')\n",
    "print(f'MAE: {mean_absolute_error(y_test, XGB_pred)}')"
   ]
  },
  {
   "cell_type": "code",
   "execution_count": null,
   "id": "d287e389",
   "metadata": {},
   "outputs": [],
   "source": []
  },
  {
   "cell_type": "code",
   "execution_count": 26,
   "id": "f7de13bb",
   "metadata": {},
   "outputs": [],
   "source": []
  },
  {
   "cell_type": "code",
   "execution_count": 32,
   "id": "2be90c9e",
   "metadata": {},
   "outputs": [
    {
     "name": "stdout",
     "output_type": "stream",
     "text": [
      "3.0983587307412805\n"
     ]
    }
   ],
   "source": [
    "mse=mean_squared_error(y_test, XGB_pred)\n",
    "print(np.sqrt(mse))"
   ]
  },
  {
   "cell_type": "code",
   "execution_count": 62,
   "id": "45e9dee6",
   "metadata": {},
   "outputs": [],
   "source": [
    "def display_scores(scores):\n",
    "    print(\"Scores: {0}\\nMean: {1:.3f}\\nStd: {2:.3f}\".format(scores, np.mean(scores), np.std(scores)))"
   ]
  },
  {
   "cell_type": "code",
   "execution_count": null,
   "id": "931b8a6d",
   "metadata": {},
   "outputs": [],
   "source": []
  },
  {
   "cell_type": "code",
   "execution_count": null,
   "id": "9b720ceb",
   "metadata": {},
   "outputs": [],
   "source": [
    "# cross-val"
   ]
  },
  {
   "cell_type": "code",
   "execution_count": 99,
   "id": "ff795e53",
   "metadata": {},
   "outputs": [
    {
     "name": "stdout",
     "output_type": "stream",
     "text": [
      "Scores: [3.05934272 3.10445489 3.50067918 2.86057667 3.12576751]\n",
      "Mean: 3.130\n",
      "Std: 0.208\n",
      "RFR- Score 0.7488023794793321\n"
     ]
    }
   ],
   "source": [
    "from sklearn.model_selection import cross_val_score\n",
    "scores = cross_val_score(XGB_model, X, y, scoring=\"neg_mean_squared_error\", cv=5)\n",
    "\n",
    "display_scores(np.sqrt(-scores))\n",
    "print(f'RFR- Score {XGB_model.score(X,y)}')"
   ]
  },
  {
   "cell_type": "code",
   "execution_count": null,
   "id": "46a2ba3e",
   "metadata": {},
   "outputs": [],
   "source": [
    "# cross-val"
   ]
  },
  {
   "cell_type": "code",
   "execution_count": 101,
   "id": "68204cbc",
   "metadata": {},
   "outputs": [
    {
     "data": {
      "text/html": [
       "<style>#sk-container-id-9 {color: black;}#sk-container-id-9 pre{padding: 0;}#sk-container-id-9 div.sk-toggleable {background-color: white;}#sk-container-id-9 label.sk-toggleable__label {cursor: pointer;display: block;width: 100%;margin-bottom: 0;padding: 0.3em;box-sizing: border-box;text-align: center;}#sk-container-id-9 label.sk-toggleable__label-arrow:before {content: \"▸\";float: left;margin-right: 0.25em;color: #696969;}#sk-container-id-9 label.sk-toggleable__label-arrow:hover:before {color: black;}#sk-container-id-9 div.sk-estimator:hover label.sk-toggleable__label-arrow:before {color: black;}#sk-container-id-9 div.sk-toggleable__content {max-height: 0;max-width: 0;overflow: hidden;text-align: left;background-color: #f0f8ff;}#sk-container-id-9 div.sk-toggleable__content pre {margin: 0.2em;color: black;border-radius: 0.25em;background-color: #f0f8ff;}#sk-container-id-9 input.sk-toggleable__control:checked~div.sk-toggleable__content {max-height: 200px;max-width: 100%;overflow: auto;}#sk-container-id-9 input.sk-toggleable__control:checked~label.sk-toggleable__label-arrow:before {content: \"▾\";}#sk-container-id-9 div.sk-estimator input.sk-toggleable__control:checked~label.sk-toggleable__label {background-color: #d4ebff;}#sk-container-id-9 div.sk-label input.sk-toggleable__control:checked~label.sk-toggleable__label {background-color: #d4ebff;}#sk-container-id-9 input.sk-hidden--visually {border: 0;clip: rect(1px 1px 1px 1px);clip: rect(1px, 1px, 1px, 1px);height: 1px;margin: -1px;overflow: hidden;padding: 0;position: absolute;width: 1px;}#sk-container-id-9 div.sk-estimator {font-family: monospace;background-color: #f0f8ff;border: 1px dotted black;border-radius: 0.25em;box-sizing: border-box;margin-bottom: 0.5em;}#sk-container-id-9 div.sk-estimator:hover {background-color: #d4ebff;}#sk-container-id-9 div.sk-parallel-item::after {content: \"\";width: 100%;border-bottom: 1px solid gray;flex-grow: 1;}#sk-container-id-9 div.sk-label:hover label.sk-toggleable__label {background-color: #d4ebff;}#sk-container-id-9 div.sk-serial::before {content: \"\";position: absolute;border-left: 1px solid gray;box-sizing: border-box;top: 0;bottom: 0;left: 50%;z-index: 0;}#sk-container-id-9 div.sk-serial {display: flex;flex-direction: column;align-items: center;background-color: white;padding-right: 0.2em;padding-left: 0.2em;position: relative;}#sk-container-id-9 div.sk-item {position: relative;z-index: 1;}#sk-container-id-9 div.sk-parallel {display: flex;align-items: stretch;justify-content: center;background-color: white;position: relative;}#sk-container-id-9 div.sk-item::before, #sk-container-id-9 div.sk-parallel-item::before {content: \"\";position: absolute;border-left: 1px solid gray;box-sizing: border-box;top: 0;bottom: 0;left: 50%;z-index: -1;}#sk-container-id-9 div.sk-parallel-item {display: flex;flex-direction: column;z-index: 1;position: relative;background-color: white;}#sk-container-id-9 div.sk-parallel-item:first-child::after {align-self: flex-end;width: 50%;}#sk-container-id-9 div.sk-parallel-item:last-child::after {align-self: flex-start;width: 50%;}#sk-container-id-9 div.sk-parallel-item:only-child::after {width: 0;}#sk-container-id-9 div.sk-dashed-wrapped {border: 1px dashed gray;margin: 0 0.4em 0.5em 0.4em;box-sizing: border-box;padding-bottom: 0.4em;background-color: white;}#sk-container-id-9 div.sk-label label {font-family: monospace;font-weight: bold;display: inline-block;line-height: 1.2em;}#sk-container-id-9 div.sk-label-container {text-align: center;}#sk-container-id-9 div.sk-container {/* jupyter's `normalize.less` sets `[hidden] { display: none; }` but bootstrap.min.css set `[hidden] { display: none !important; }` so we also need the `!important` here to be able to override the default hidden behavior on the sphinx rendered scikit-learn.org. See: https://github.com/scikit-learn/scikit-learn/issues/21755 */display: inline-block !important;position: relative;}#sk-container-id-9 div.sk-text-repr-fallback {display: none;}</style><div id=\"sk-container-id-9\" class=\"sk-top-container\"><div class=\"sk-text-repr-fallback\"><pre>XGBRegressor(base_score=None, booster=None, callbacks=None,\n",
       "             colsample_bylevel=None, colsample_bynode=None,\n",
       "             colsample_bytree=None, device=None, early_stopping_rounds=None,\n",
       "             enable_categorical=False, eval_metric=None, feature_types=None,\n",
       "             gamma=None, grow_policy=None, importance_type=None,\n",
       "             interaction_constraints=None, learning_rate=None, max_bin=None,\n",
       "             max_cat_threshold=None, max_cat_to_onehot=None,\n",
       "             max_delta_step=None, max_depth=None, max_leaves=None,\n",
       "             min_child_weight=None, missing=nan, monotone_constraints=None,\n",
       "             multi_strategy=None, n_estimators=None, n_jobs=None,\n",
       "             num_parallel_tree=None, random_state=42, ...)</pre><b>In a Jupyter environment, please rerun this cell to show the HTML representation or trust the notebook. <br />On GitHub, the HTML representation is unable to render, please try loading this page with nbviewer.org.</b></div><div class=\"sk-container\" hidden><div class=\"sk-item\"><div class=\"sk-estimator sk-toggleable\"><input class=\"sk-toggleable__control sk-hidden--visually\" id=\"sk-estimator-id-9\" type=\"checkbox\" checked><label for=\"sk-estimator-id-9\" class=\"sk-toggleable__label sk-toggleable__label-arrow\">XGBRegressor</label><div class=\"sk-toggleable__content\"><pre>XGBRegressor(base_score=None, booster=None, callbacks=None,\n",
       "             colsample_bylevel=None, colsample_bynode=None,\n",
       "             colsample_bytree=None, device=None, early_stopping_rounds=None,\n",
       "             enable_categorical=False, eval_metric=None, feature_types=None,\n",
       "             gamma=None, grow_policy=None, importance_type=None,\n",
       "             interaction_constraints=None, learning_rate=None, max_bin=None,\n",
       "             max_cat_threshold=None, max_cat_to_onehot=None,\n",
       "             max_delta_step=None, max_depth=None, max_leaves=None,\n",
       "             min_child_weight=None, missing=nan, monotone_constraints=None,\n",
       "             multi_strategy=None, n_estimators=None, n_jobs=None,\n",
       "             num_parallel_tree=None, random_state=42, ...)</pre></div></div></div></div></div>"
      ],
      "text/plain": [
       "XGBRegressor(base_score=None, booster=None, callbacks=None,\n",
       "             colsample_bylevel=None, colsample_bynode=None,\n",
       "             colsample_bytree=None, device=None, early_stopping_rounds=None,\n",
       "             enable_categorical=False, eval_metric=None, feature_types=None,\n",
       "             gamma=None, grow_policy=None, importance_type=None,\n",
       "             interaction_constraints=None, learning_rate=None, max_bin=None,\n",
       "             max_cat_threshold=None, max_cat_to_onehot=None,\n",
       "             max_delta_step=None, max_depth=None, max_leaves=None,\n",
       "             min_child_weight=None, missing=nan, monotone_constraints=None,\n",
       "             multi_strategy=None, n_estimators=None, n_jobs=None,\n",
       "             num_parallel_tree=None, random_state=42, ...)"
      ]
     },
     "execution_count": 101,
     "metadata": {},
     "output_type": "execute_result"
    }
   ],
   "source": [
    "XGB_model_2 = xgb.XGBRegressor(random_state=42)\n",
    "XGB_model_2.fit(X, y)"
   ]
  },
  {
   "cell_type": "code",
   "execution_count": 102,
   "id": "430aa662",
   "metadata": {},
   "outputs": [
    {
     "name": "stdout",
     "output_type": "stream",
     "text": [
      "ROC-AUC- The 10-fold average of ROC-AUC score of the Logistic Regression model is nan\n",
      "ROC-AUC- The 10-fold std of ROC-AUC score of the Logistic Regression model is nan\n",
      "MAE -The 10-fold average of MAE score of the Logistic Regression model is -2.4028966664138918\n",
      "MSE -The 10-fold average of MSE score of the Logistic Regression model is nan\n",
      "RFR- Score 0.9996706037322938\n"
     ]
    }
   ],
   "source": [
    "from sklearn.model_selection import KFold, StratifiedKFold, GridSearchCV, RepeatedStratifiedKFold\n",
    "skf = RepeatedStratifiedKFold(n_splits=3, n_repeats=1, random_state=42)\n",
    "\n",
    "RFR_cv = cross_val_score(XGB_model_2, X, y, cv=skf, scoring='roc_auc', n_jobs=-1)\n",
    "\n",
    "# # ROC_AUC\n",
    "print(f\"ROC-AUC- The 10-fold average of ROC-AUC score of the Logistic Regression model is {RFR_cv.mean()}\")\n",
    "print(f\"ROC-AUC- The 10-fold std of ROC-AUC score of the Logistic Regression model is {RFR_cv.std()}\")\n",
    "# MAE\n",
    "RFR_mae = cross_val_score(XGB_model_2, X, y, cv=skf, scoring='neg_mean_absolute_error', n_jobs=-1)\n",
    "print(f\"MAE -The 10-fold average of MAE score of the Logistic Regression model is {RFR_mae.mean()}\")\n",
    "# MSE\n",
    "RFR_mse = cross_val_score(XGB_model_2, X, y, cv=skf, scoring='neg_mean_squared_log_error', n_jobs=-1)\n",
    "print(f\"MSE -The 10-fold average of MSE score of the Logistic Regression model is {RFR_mse.mean()}\")\n",
    "\n",
    "# # SCORE\n",
    "# RFR_2.fit(X, y)\n",
    "print(f'RFR- Score {XGB_model_2.score(X,y)}')"
   ]
  },
  {
   "cell_type": "code",
   "execution_count": null,
   "id": "7a824bdb",
   "metadata": {},
   "outputs": [],
   "source": []
  },
  {
   "cell_type": "code",
   "execution_count": null,
   "id": "58037921",
   "metadata": {},
   "outputs": [],
   "source": []
  },
  {
   "cell_type": "code",
   "execution_count": null,
   "id": "770fb664",
   "metadata": {},
   "outputs": [],
   "source": []
  },
  {
   "cell_type": "code",
   "execution_count": 180,
   "id": "e22443d7",
   "metadata": {
    "scrolled": true
   },
   "outputs": [
    {
     "data": {
      "text/plain": [
       "array([[ 3],\n",
       "       [ 7],\n",
       "       [ 3],\n",
       "       [10],\n",
       "       [ 6],\n",
       "       [ 3],\n",
       "       [ 8],\n",
       "       [ 7],\n",
       "       [ 4],\n",
       "       [ 0],\n",
       "       [ 5],\n",
       "       [10],\n",
       "       [ 1],\n",
       "       [ 4],\n",
       "       [ 0],\n",
       "       [ 4],\n",
       "       [10],\n",
       "       [ 9],\n",
       "       [ 7],\n",
       "       [ 3],\n",
       "       [ 0],\n",
       "       [ 0],\n",
       "       [ 8],\n",
       "       [10],\n",
       "       [ 3],\n",
       "       [ 2],\n",
       "       [ 9],\n",
       "       [ 5],\n",
       "       [ 6],\n",
       "       [ 0],\n",
       "       [ 2],\n",
       "       [ 7],\n",
       "       [ 8],\n",
       "       [ 7],\n",
       "       [10],\n",
       "       [ 0],\n",
       "       [ 7],\n",
       "       [ 6],\n",
       "       [ 2],\n",
       "       [ 8],\n",
       "       [10],\n",
       "       [10],\n",
       "       [ 1],\n",
       "       [ 1],\n",
       "       [10],\n",
       "       [ 0],\n",
       "       [ 9],\n",
       "       [ 0],\n",
       "       [ 3],\n",
       "       [ 9],\n",
       "       [ 7],\n",
       "       [ 0],\n",
       "       [ 2],\n",
       "       [ 8],\n",
       "       [ 3],\n",
       "       [ 2],\n",
       "       [ 5],\n",
       "       [ 1],\n",
       "       [ 4],\n",
       "       [10],\n",
       "       [ 9],\n",
       "       [ 9],\n",
       "       [ 8],\n",
       "       [ 8],\n",
       "       [ 9],\n",
       "       [ 3],\n",
       "       [ 4],\n",
       "       [ 8],\n",
       "       [ 7],\n",
       "       [ 7],\n",
       "       [ 7],\n",
       "       [10],\n",
       "       [ 6],\n",
       "       [ 5],\n",
       "       [ 2],\n",
       "       [ 1],\n",
       "       [10],\n",
       "       [ 8],\n",
       "       [ 2],\n",
       "       [ 3],\n",
       "       [ 9],\n",
       "       [ 8],\n",
       "       [ 7],\n",
       "       [ 7],\n",
       "       [ 2],\n",
       "       [ 5],\n",
       "       [10],\n",
       "       [ 5],\n",
       "       [ 6],\n",
       "       [ 5],\n",
       "       [ 0],\n",
       "       [ 8],\n",
       "       [ 3],\n",
       "       [ 0],\n",
       "       [ 2],\n",
       "       [ 7],\n",
       "       [ 1],\n",
       "       [ 2],\n",
       "       [ 1],\n",
       "       [ 1],\n",
       "       [ 7],\n",
       "       [10],\n",
       "       [ 5],\n",
       "       [ 3],\n",
       "       [ 4],\n",
       "       [ 8],\n",
       "       [ 9],\n",
       "       [ 9],\n",
       "       [ 2],\n",
       "       [ 5],\n",
       "       [ 0],\n",
       "       [ 2],\n",
       "       [10],\n",
       "       [10],\n",
       "       [ 7],\n",
       "       [ 4],\n",
       "       [ 2],\n",
       "       [ 3],\n",
       "       [ 0],\n",
       "       [ 4],\n",
       "       [ 5],\n",
       "       [ 6],\n",
       "       [ 2],\n",
       "       [ 1],\n",
       "       [ 1],\n",
       "       [ 8],\n",
       "       [ 8],\n",
       "       [ 5],\n",
       "       [ 3],\n",
       "       [ 1],\n",
       "       [ 8],\n",
       "       [ 4],\n",
       "       [ 4],\n",
       "       [ 1],\n",
       "       [ 5],\n",
       "       [ 2],\n",
       "       [ 8],\n",
       "       [ 2],\n",
       "       [ 0],\n",
       "       [ 0],\n",
       "       [ 4],\n",
       "       [ 1],\n",
       "       [10],\n",
       "       [ 1],\n",
       "       [ 6],\n",
       "       [ 5],\n",
       "       [ 1],\n",
       "       [ 8],\n",
       "       [ 8],\n",
       "       [ 8],\n",
       "       [ 7],\n",
       "       [ 1],\n",
       "       [ 6],\n",
       "       [ 4],\n",
       "       [ 0],\n",
       "       [ 8],\n",
       "       [ 2],\n",
       "       [ 4],\n",
       "       [ 5],\n",
       "       [ 0],\n",
       "       [ 6],\n",
       "       [ 8],\n",
       "       [ 2],\n",
       "       [ 1],\n",
       "       [ 3],\n",
       "       [ 8],\n",
       "       [ 6],\n",
       "       [ 0],\n",
       "       [10],\n",
       "       [ 8],\n",
       "       [ 0],\n",
       "       [ 8],\n",
       "       [ 2],\n",
       "       [ 5],\n",
       "       [ 9],\n",
       "       [ 8],\n",
       "       [ 4],\n",
       "       [ 5],\n",
       "       [ 9],\n",
       "       [ 2],\n",
       "       [ 6],\n",
       "       [ 9],\n",
       "       [ 6],\n",
       "       [ 1],\n",
       "       [ 3],\n",
       "       [ 3],\n",
       "       [ 7],\n",
       "       [ 6],\n",
       "       [ 0],\n",
       "       [ 1],\n",
       "       [ 8],\n",
       "       [ 2],\n",
       "       [ 3],\n",
       "       [ 0],\n",
       "       [ 2],\n",
       "       [ 0],\n",
       "       [ 4],\n",
       "       [ 6],\n",
       "       [ 7],\n",
       "       [ 4],\n",
       "       [ 2],\n",
       "       [ 7],\n",
       "       [ 2],\n",
       "       [ 9],\n",
       "       [ 8],\n",
       "       [ 2],\n",
       "       [ 6],\n",
       "       [ 1],\n",
       "       [ 2],\n",
       "       [ 2],\n",
       "       [10],\n",
       "       [ 3],\n",
       "       [ 5],\n",
       "       [ 9],\n",
       "       [ 6],\n",
       "       [ 7],\n",
       "       [ 7],\n",
       "       [ 2],\n",
       "       [ 3],\n",
       "       [ 2],\n",
       "       [ 2],\n",
       "       [ 1],\n",
       "       [ 8],\n",
       "       [ 5],\n",
       "       [ 8],\n",
       "       [ 9],\n",
       "       [10],\n",
       "       [ 4],\n",
       "       [ 1],\n",
       "       [ 9],\n",
       "       [ 9],\n",
       "       [ 8],\n",
       "       [ 9],\n",
       "       [10],\n",
       "       [ 5],\n",
       "       [ 0],\n",
       "       [ 7],\n",
       "       [ 2],\n",
       "       [ 6],\n",
       "       [ 9],\n",
       "       [ 1],\n",
       "       [ 6],\n",
       "       [ 4],\n",
       "       [ 6],\n",
       "       [ 8],\n",
       "       [ 8],\n",
       "       [ 9],\n",
       "       [ 9],\n",
       "       [ 2],\n",
       "       [ 2],\n",
       "       [ 6],\n",
       "       [ 2],\n",
       "       [ 3],\n",
       "       [ 3],\n",
       "       [ 5],\n",
       "       [ 9],\n",
       "       [ 2],\n",
       "       [ 0],\n",
       "       [ 0],\n",
       "       [10],\n",
       "       [10],\n",
       "       [ 3],\n",
       "       [ 1],\n",
       "       [ 7],\n",
       "       [ 4],\n",
       "       [ 1],\n",
       "       [ 8],\n",
       "       [ 0],\n",
       "       [ 4],\n",
       "       [ 6],\n",
       "       [ 6],\n",
       "       [ 6],\n",
       "       [ 6],\n",
       "       [ 6],\n",
       "       [ 5],\n",
       "       [ 8],\n",
       "       [ 4],\n",
       "       [ 8],\n",
       "       [ 2],\n",
       "       [ 2],\n",
       "       [ 8],\n",
       "       [ 9],\n",
       "       [ 4],\n",
       "       [ 2],\n",
       "       [ 9],\n",
       "       [ 5],\n",
       "       [10],\n",
       "       [ 6],\n",
       "       [ 9],\n",
       "       [ 9],\n",
       "       [ 8],\n",
       "       [10],\n",
       "       [ 8],\n",
       "       [ 9],\n",
       "       [ 7],\n",
       "       [10],\n",
       "       [ 7],\n",
       "       [ 2],\n",
       "       [ 2],\n",
       "       [10],\n",
       "       [ 7],\n",
       "       [ 4],\n",
       "       [ 1],\n",
       "       [ 4],\n",
       "       [10],\n",
       "       [ 2],\n",
       "       [ 4],\n",
       "       [ 8],\n",
       "       [ 1],\n",
       "       [ 8],\n",
       "       [ 6],\n",
       "       [ 0],\n",
       "       [ 2],\n",
       "       [ 6],\n",
       "       [ 7],\n",
       "       [ 7],\n",
       "       [ 7],\n",
       "       [ 5],\n",
       "       [ 5],\n",
       "       [ 6],\n",
       "       [ 8],\n",
       "       [ 2],\n",
       "       [ 2],\n",
       "       [10],\n",
       "       [ 6],\n",
       "       [ 7],\n",
       "       [ 7],\n",
       "       [ 6],\n",
       "       [ 0],\n",
       "       [ 0],\n",
       "       [ 0],\n",
       "       [ 8],\n",
       "       [ 9],\n",
       "       [ 1],\n",
       "       [ 9],\n",
       "       [ 5],\n",
       "       [ 8],\n",
       "       [ 9],\n",
       "       [ 1],\n",
       "       [ 2],\n",
       "       [ 6],\n",
       "       [10],\n",
       "       [ 1],\n",
       "       [ 1],\n",
       "       [ 0],\n",
       "       [10],\n",
       "       [ 6],\n",
       "       [ 4],\n",
       "       [ 7],\n",
       "       [ 8],\n",
       "       [10],\n",
       "       [ 8],\n",
       "       [ 6],\n",
       "       [ 8],\n",
       "       [ 6],\n",
       "       [ 3],\n",
       "       [ 9],\n",
       "       [ 8],\n",
       "       [ 7],\n",
       "       [ 9],\n",
       "       [ 7],\n",
       "       [ 2],\n",
       "       [10],\n",
       "       [ 3],\n",
       "       [ 1],\n",
       "       [ 6],\n",
       "       [ 0],\n",
       "       [ 9],\n",
       "       [ 3],\n",
       "       [ 8],\n",
       "       [ 3],\n",
       "       [ 4],\n",
       "       [ 0],\n",
       "       [ 0],\n",
       "       [ 2],\n",
       "       [ 5],\n",
       "       [ 1],\n",
       "       [ 1],\n",
       "       [ 0],\n",
       "       [ 1],\n",
       "       [ 0],\n",
       "       [ 7],\n",
       "       [ 3],\n",
       "       [ 5],\n",
       "       [ 3],\n",
       "       [ 4],\n",
       "       [ 6],\n",
       "       [10],\n",
       "       [ 7],\n",
       "       [ 6],\n",
       "       [ 9],\n",
       "       [ 3],\n",
       "       [ 2],\n",
       "       [ 5],\n",
       "       [10],\n",
       "       [10],\n",
       "       [ 6],\n",
       "       [ 7],\n",
       "       [ 5],\n",
       "       [ 5],\n",
       "       [ 8],\n",
       "       [ 8],\n",
       "       [ 0],\n",
       "       [ 0],\n",
       "       [ 6],\n",
       "       [ 3],\n",
       "       [ 8],\n",
       "       [ 5],\n",
       "       [ 2],\n",
       "       [ 1],\n",
       "       [ 6],\n",
       "       [ 4],\n",
       "       [ 0],\n",
       "       [ 7],\n",
       "       [ 3],\n",
       "       [ 4],\n",
       "       [ 2],\n",
       "       [10],\n",
       "       [ 1],\n",
       "       [ 5],\n",
       "       [ 0],\n",
       "       [ 9],\n",
       "       [ 8],\n",
       "       [ 2],\n",
       "       [ 8],\n",
       "       [ 1],\n",
       "       [ 3],\n",
       "       [ 2],\n",
       "       [ 8],\n",
       "       [ 9],\n",
       "       [ 4],\n",
       "       [ 2],\n",
       "       [ 2],\n",
       "       [10],\n",
       "       [ 2],\n",
       "       [ 7],\n",
       "       [10],\n",
       "       [ 1],\n",
       "       [ 7],\n",
       "       [ 2],\n",
       "       [ 7],\n",
       "       [ 6],\n",
       "       [ 8],\n",
       "       [ 2],\n",
       "       [ 1],\n",
       "       [ 6],\n",
       "       [ 7],\n",
       "       [ 8],\n",
       "       [ 5],\n",
       "       [ 6],\n",
       "       [ 8],\n",
       "       [10],\n",
       "       [ 4],\n",
       "       [ 6],\n",
       "       [ 9],\n",
       "       [ 8],\n",
       "       [ 4],\n",
       "       [ 0],\n",
       "       [ 4],\n",
       "       [ 9],\n",
       "       [ 0],\n",
       "       [ 6],\n",
       "       [10],\n",
       "       [ 1],\n",
       "       [ 3],\n",
       "       [ 1],\n",
       "       [ 3],\n",
       "       [ 6],\n",
       "       [ 3],\n",
       "       [ 3],\n",
       "       [ 7],\n",
       "       [ 4],\n",
       "       [ 8],\n",
       "       [ 0],\n",
       "       [ 1],\n",
       "       [ 0],\n",
       "       [ 9],\n",
       "       [ 7],\n",
       "       [10],\n",
       "       [ 1],\n",
       "       [ 2],\n",
       "       [ 1],\n",
       "       [ 1],\n",
       "       [ 9],\n",
       "       [ 3],\n",
       "       [ 0],\n",
       "       [ 5],\n",
       "       [ 7],\n",
       "       [ 0],\n",
       "       [ 9],\n",
       "       [ 7],\n",
       "       [ 5],\n",
       "       [ 5],\n",
       "       [ 8],\n",
       "       [ 6],\n",
       "       [ 9],\n",
       "       [ 7],\n",
       "       [ 2],\n",
       "       [ 9],\n",
       "       [ 2],\n",
       "       [ 5],\n",
       "       [ 5],\n",
       "       [10],\n",
       "       [ 0],\n",
       "       [ 0],\n",
       "       [10],\n",
       "       [ 7],\n",
       "       [ 8],\n",
       "       [ 0],\n",
       "       [ 0],\n",
       "       [ 6],\n",
       "       [ 1],\n",
       "       [ 3],\n",
       "       [ 3],\n",
       "       [ 3],\n",
       "       [ 1],\n",
       "       [ 5],\n",
       "       [ 6],\n",
       "       [ 2],\n",
       "       [ 7],\n",
       "       [ 4],\n",
       "       [ 7],\n",
       "       [ 7],\n",
       "       [10],\n",
       "       [10],\n",
       "       [ 2],\n",
       "       [10],\n",
       "       [ 8],\n",
       "       [ 0],\n",
       "       [ 5],\n",
       "       [ 8],\n",
       "       [ 7],\n",
       "       [ 2],\n",
       "       [ 1],\n",
       "       [ 4],\n",
       "       [ 2],\n",
       "       [ 7],\n",
       "       [ 9],\n",
       "       [ 9],\n",
       "       [ 7],\n",
       "       [10],\n",
       "       [ 4],\n",
       "       [ 0],\n",
       "       [10],\n",
       "       [ 6],\n",
       "       [ 7],\n",
       "       [ 3],\n",
       "       [ 8],\n",
       "       [ 3],\n",
       "       [ 2],\n",
       "       [ 0],\n",
       "       [ 5],\n",
       "       [ 2],\n",
       "       [10],\n",
       "       [ 7],\n",
       "       [ 0],\n",
       "       [ 6],\n",
       "       [ 1],\n",
       "       [ 6],\n",
       "       [ 9],\n",
       "       [ 8],\n",
       "       [ 1],\n",
       "       [10],\n",
       "       [10],\n",
       "       [ 9],\n",
       "       [ 3],\n",
       "       [ 4],\n",
       "       [ 8],\n",
       "       [ 7],\n",
       "       [ 6],\n",
       "       [ 0],\n",
       "       [ 9],\n",
       "       [ 2],\n",
       "       [ 2],\n",
       "       [ 6],\n",
       "       [ 7],\n",
       "       [ 8],\n",
       "       [ 1],\n",
       "       [ 7],\n",
       "       [ 8],\n",
       "       [ 6],\n",
       "       [ 9],\n",
       "       [ 6],\n",
       "       [ 6],\n",
       "       [ 1],\n",
       "       [ 5],\n",
       "       [ 3],\n",
       "       [ 1],\n",
       "       [ 2],\n",
       "       [ 6],\n",
       "       [10],\n",
       "       [ 9],\n",
       "       [ 8],\n",
       "       [ 8],\n",
       "       [ 0],\n",
       "       [ 7],\n",
       "       [ 2],\n",
       "       [10],\n",
       "       [ 4],\n",
       "       [ 9],\n",
       "       [ 0],\n",
       "       [ 1],\n",
       "       [ 6],\n",
       "       [ 9],\n",
       "       [ 2],\n",
       "       [ 9],\n",
       "       [ 8],\n",
       "       [ 5],\n",
       "       [ 8],\n",
       "       [ 2],\n",
       "       [ 6],\n",
       "       [ 0],\n",
       "       [ 1],\n",
       "       [ 7],\n",
       "       [ 0],\n",
       "       [ 1],\n",
       "       [ 7],\n",
       "       [ 2],\n",
       "       [ 6],\n",
       "       [ 2],\n",
       "       [ 6],\n",
       "       [10],\n",
       "       [ 4],\n",
       "       [ 3],\n",
       "       [ 9],\n",
       "       [ 2],\n",
       "       [ 1],\n",
       "       [ 8],\n",
       "       [10],\n",
       "       [ 5],\n",
       "       [ 9],\n",
       "       [ 5],\n",
       "       [ 0],\n",
       "       [ 4],\n",
       "       [ 5],\n",
       "       [ 9],\n",
       "       [ 4],\n",
       "       [ 6],\n",
       "       [ 8],\n",
       "       [ 3],\n",
       "       [ 0],\n",
       "       [ 6],\n",
       "       [ 1],\n",
       "       [ 6],\n",
       "       [ 4],\n",
       "       [ 2],\n",
       "       [ 5],\n",
       "       [ 7],\n",
       "       [ 8],\n",
       "       [ 3],\n",
       "       [ 9],\n",
       "       [ 4],\n",
       "       [ 6],\n",
       "       [ 8],\n",
       "       [ 7],\n",
       "       [ 6],\n",
       "       [ 4],\n",
       "       [ 3],\n",
       "       [10],\n",
       "       [ 5],\n",
       "       [ 5],\n",
       "       [ 9],\n",
       "       [ 0],\n",
       "       [ 8],\n",
       "       [ 8],\n",
       "       [ 3],\n",
       "       [10],\n",
       "       [ 9],\n",
       "       [ 2],\n",
       "       [ 7],\n",
       "       [ 1],\n",
       "       [ 6],\n",
       "       [ 1],\n",
       "       [ 0],\n",
       "       [ 3],\n",
       "       [ 2],\n",
       "       [ 8],\n",
       "       [ 0],\n",
       "       [ 8],\n",
       "       [ 7],\n",
       "       [ 8],\n",
       "       [ 5],\n",
       "       [ 2],\n",
       "       [ 2],\n",
       "       [ 8],\n",
       "       [ 3],\n",
       "       [ 6],\n",
       "       [ 8],\n",
       "       [ 1],\n",
       "       [ 9],\n",
       "       [ 0],\n",
       "       [ 3],\n",
       "       [ 0],\n",
       "       [ 8],\n",
       "       [ 4],\n",
       "       [ 2],\n",
       "       [ 5],\n",
       "       [ 1],\n",
       "       [ 7],\n",
       "       [ 8],\n",
       "       [ 7],\n",
       "       [ 7],\n",
       "       [ 5],\n",
       "       [ 4],\n",
       "       [10],\n",
       "       [ 5],\n",
       "       [ 7]])"
      ]
     },
     "execution_count": 180,
     "metadata": {},
     "output_type": "execute_result"
    }
   ],
   "source": [
    "s = np.array(y)\n",
    "ss = s.reshape(-1, 1)\n",
    "ss"
   ]
  },
  {
   "cell_type": "code",
   "execution_count": 104,
   "id": "cd24d150",
   "metadata": {},
   "outputs": [],
   "source": [
    "RFC_model2 = RandomForestClassifier(oob_score=True, random_state=42)"
   ]
  },
  {
   "cell_type": "code",
   "execution_count": 105,
   "id": "b65f09b8",
   "metadata": {},
   "outputs": [
    {
     "data": {
      "text/html": [
       "<style>#sk-container-id-8 {color: black;}#sk-container-id-8 pre{padding: 0;}#sk-container-id-8 div.sk-toggleable {background-color: white;}#sk-container-id-8 label.sk-toggleable__label {cursor: pointer;display: block;width: 100%;margin-bottom: 0;padding: 0.3em;box-sizing: border-box;text-align: center;}#sk-container-id-8 label.sk-toggleable__label-arrow:before {content: \"▸\";float: left;margin-right: 0.25em;color: #696969;}#sk-container-id-8 label.sk-toggleable__label-arrow:hover:before {color: black;}#sk-container-id-8 div.sk-estimator:hover label.sk-toggleable__label-arrow:before {color: black;}#sk-container-id-8 div.sk-toggleable__content {max-height: 0;max-width: 0;overflow: hidden;text-align: left;background-color: #f0f8ff;}#sk-container-id-8 div.sk-toggleable__content pre {margin: 0.2em;color: black;border-radius: 0.25em;background-color: #f0f8ff;}#sk-container-id-8 input.sk-toggleable__control:checked~div.sk-toggleable__content {max-height: 200px;max-width: 100%;overflow: auto;}#sk-container-id-8 input.sk-toggleable__control:checked~label.sk-toggleable__label-arrow:before {content: \"▾\";}#sk-container-id-8 div.sk-estimator input.sk-toggleable__control:checked~label.sk-toggleable__label {background-color: #d4ebff;}#sk-container-id-8 div.sk-label input.sk-toggleable__control:checked~label.sk-toggleable__label {background-color: #d4ebff;}#sk-container-id-8 input.sk-hidden--visually {border: 0;clip: rect(1px 1px 1px 1px);clip: rect(1px, 1px, 1px, 1px);height: 1px;margin: -1px;overflow: hidden;padding: 0;position: absolute;width: 1px;}#sk-container-id-8 div.sk-estimator {font-family: monospace;background-color: #f0f8ff;border: 1px dotted black;border-radius: 0.25em;box-sizing: border-box;margin-bottom: 0.5em;}#sk-container-id-8 div.sk-estimator:hover {background-color: #d4ebff;}#sk-container-id-8 div.sk-parallel-item::after {content: \"\";width: 100%;border-bottom: 1px solid gray;flex-grow: 1;}#sk-container-id-8 div.sk-label:hover label.sk-toggleable__label {background-color: #d4ebff;}#sk-container-id-8 div.sk-serial::before {content: \"\";position: absolute;border-left: 1px solid gray;box-sizing: border-box;top: 0;bottom: 0;left: 50%;z-index: 0;}#sk-container-id-8 div.sk-serial {display: flex;flex-direction: column;align-items: center;background-color: white;padding-right: 0.2em;padding-left: 0.2em;position: relative;}#sk-container-id-8 div.sk-item {position: relative;z-index: 1;}#sk-container-id-8 div.sk-parallel {display: flex;align-items: stretch;justify-content: center;background-color: white;position: relative;}#sk-container-id-8 div.sk-item::before, #sk-container-id-8 div.sk-parallel-item::before {content: \"\";position: absolute;border-left: 1px solid gray;box-sizing: border-box;top: 0;bottom: 0;left: 50%;z-index: -1;}#sk-container-id-8 div.sk-parallel-item {display: flex;flex-direction: column;z-index: 1;position: relative;background-color: white;}#sk-container-id-8 div.sk-parallel-item:first-child::after {align-self: flex-end;width: 50%;}#sk-container-id-8 div.sk-parallel-item:last-child::after {align-self: flex-start;width: 50%;}#sk-container-id-8 div.sk-parallel-item:only-child::after {width: 0;}#sk-container-id-8 div.sk-dashed-wrapped {border: 1px dashed gray;margin: 0 0.4em 0.5em 0.4em;box-sizing: border-box;padding-bottom: 0.4em;background-color: white;}#sk-container-id-8 div.sk-label label {font-family: monospace;font-weight: bold;display: inline-block;line-height: 1.2em;}#sk-container-id-8 div.sk-label-container {text-align: center;}#sk-container-id-8 div.sk-container {/* jupyter's `normalize.less` sets `[hidden] { display: none; }` but bootstrap.min.css set `[hidden] { display: none !important; }` so we also need the `!important` here to be able to override the default hidden behavior on the sphinx rendered scikit-learn.org. See: https://github.com/scikit-learn/scikit-learn/issues/21755 */display: inline-block !important;position: relative;}#sk-container-id-8 div.sk-text-repr-fallback {display: none;}</style><div id=\"sk-container-id-8\" class=\"sk-top-container\"><div class=\"sk-text-repr-fallback\"><pre>RandomForestClassifier(oob_score=True, random_state=42)</pre><b>In a Jupyter environment, please rerun this cell to show the HTML representation or trust the notebook. <br />On GitHub, the HTML representation is unable to render, please try loading this page with nbviewer.org.</b></div><div class=\"sk-container\" hidden><div class=\"sk-item\"><div class=\"sk-estimator sk-toggleable\"><input class=\"sk-toggleable__control sk-hidden--visually\" id=\"sk-estimator-id-8\" type=\"checkbox\" checked><label for=\"sk-estimator-id-8\" class=\"sk-toggleable__label sk-toggleable__label-arrow\">RandomForestClassifier</label><div class=\"sk-toggleable__content\"><pre>RandomForestClassifier(oob_score=True, random_state=42)</pre></div></div></div></div></div>"
      ],
      "text/plain": [
       "RandomForestClassifier(oob_score=True, random_state=42)"
      ]
     },
     "execution_count": 105,
     "metadata": {},
     "output_type": "execute_result"
    }
   ],
   "source": [
    "RFC_model2.fit(X, y)"
   ]
  },
  {
   "cell_type": "code",
   "execution_count": 106,
   "id": "19de8340",
   "metadata": {},
   "outputs": [],
   "source": [
    "pred_tr = RFC_model2.oob_decision_function_"
   ]
  },
  {
   "cell_type": "code",
   "execution_count": 181,
   "id": "7cfd6c6b",
   "metadata": {
    "collapsed": true
   },
   "outputs": [
    {
     "data": {
      "text/plain": [
       "array([[0.        , 0.        , 0.11363636, ..., 0.15909091, 0.04545455,\n",
       "        0.15909091],\n",
       "       [0.51724138, 0.10344828, 0.06896552, ..., 0.03448276, 0.03448276,\n",
       "        0.        ],\n",
       "       [0.        , 0.        , 0.02325581, ..., 0.1627907 , 0.        ,\n",
       "        0.04651163],\n",
       "       ...,\n",
       "       [0.02564103, 0.05128205, 0.1025641 , ..., 0.20512821, 0.15384615,\n",
       "        0.07692308],\n",
       "       [0.02272727, 0.09090909, 0.11363636, ..., 0.20454545, 0.09090909,\n",
       "        0.04545455],\n",
       "       [0.        , 0.17647059, 0.        , ..., 0.05882353, 0.02941176,\n",
       "        0.02941176]])"
      ]
     },
     "execution_count": 181,
     "metadata": {},
     "output_type": "execute_result"
    }
   ],
   "source": [
    "pred_tr"
   ]
  },
  {
   "cell_type": "code",
   "execution_count": 127,
   "id": "6d4ec332",
   "metadata": {},
   "outputs": [],
   "source": [
    "sorted_prediction_ids = np.argsort(-pred_tr, axis=1)\n",
    "top_3_prediction_ids = sorted_prediction_ids[:,:3]\n",
    "# score = mapk(y.reshape(-1, 1), top_3_prediction_ids, k=3)"
   ]
  },
  {
   "cell_type": "code",
   "execution_count": 128,
   "id": "70c4cf45",
   "metadata": {},
   "outputs": [
    {
     "data": {
      "text/plain": [
       "array([[ 8, 10,  3, ...,  9,  0,  1],\n",
       "       [ 0,  1,  7, ...,  9,  3, 10],\n",
       "       [ 3,  5,  8, ...,  0,  1,  9],\n",
       "       ...,\n",
       "       [ 8,  9,  5, ...,  1,  0,  7],\n",
       "       [ 3,  8,  2, ..., 10,  0,  4],\n",
       "       [ 7,  1,  6, ...,  0,  2,  4]], dtype=int64)"
      ]
     },
     "execution_count": 128,
     "metadata": {},
     "output_type": "execute_result"
    }
   ],
   "source": [
    "sorted_prediction_ids"
   ]
  },
  {
   "cell_type": "code",
   "execution_count": 129,
   "id": "aab15ad3",
   "metadata": {},
   "outputs": [
    {
     "data": {
      "text/plain": [
       "array([[ 8, 10,  3],\n",
       "       [ 0,  1,  7],\n",
       "       [ 3,  5,  8],\n",
       "       ...,\n",
       "       [ 8,  9,  5],\n",
       "       [ 3,  8,  2],\n",
       "       [ 7,  1,  6]], dtype=int64)"
      ]
     },
     "execution_count": 129,
     "metadata": {},
     "output_type": "execute_result"
    }
   ],
   "source": [
    "top_3_prediction_ids"
   ]
  },
  {
   "cell_type": "code",
   "execution_count": 130,
   "id": "ba971956",
   "metadata": {},
   "outputs": [
    {
     "data": {
      "text/plain": [
       "array([[ 8],\n",
       "       [10],\n",
       "       [ 3],\n",
       "       ...,\n",
       "       [ 7],\n",
       "       [ 1],\n",
       "       [ 6]], dtype=int64)"
      ]
     },
     "execution_count": 130,
     "metadata": {},
     "output_type": "execute_result"
    }
   ],
   "source": [
    "z = top_3_prediction_ids.reshape(-1, 1)\n",
    "z"
   ]
  },
  {
   "cell_type": "code",
   "execution_count": 131,
   "id": "60fcf210",
   "metadata": {
    "scrolled": true
   },
   "outputs": [
    {
     "data": {
      "text/plain": [
       "0       3\n",
       "1       7\n",
       "2       3\n",
       "3      10\n",
       "4       6\n",
       "       ..\n",
       "702     5\n",
       "703     4\n",
       "704    10\n",
       "705     5\n",
       "706     7\n",
       "Name: prognosis, Length: 707, dtype: int32"
      ]
     },
     "execution_count": 131,
     "metadata": {},
     "output_type": "execute_result"
    }
   ],
   "source": [
    "y"
   ]
  },
  {
   "cell_type": "markdown",
   "id": "6f30b536",
   "metadata": {},
   "source": [
    "# RandomForestClassifier"
   ]
  },
  {
   "cell_type": "code",
   "execution_count": 55,
   "id": "da8b62ec",
   "metadata": {},
   "outputs": [],
   "source": [
    "from sklearn.ensemble import RandomForestClassifier\n",
    "from sklearn.metrics import adjusted_mutual_info_score"
   ]
  },
  {
   "cell_type": "code",
   "execution_count": 100,
   "id": "e92e34b1",
   "metadata": {},
   "outputs": [],
   "source": [
    "RFC_model = RandomForestClassifier(random_state=42)"
   ]
  },
  {
   "cell_type": "code",
   "execution_count": 57,
   "id": "a8827c8d",
   "metadata": {},
   "outputs": [
    {
     "data": {
      "text/html": [
       "<style>#sk-container-id-3 {color: black;}#sk-container-id-3 pre{padding: 0;}#sk-container-id-3 div.sk-toggleable {background-color: white;}#sk-container-id-3 label.sk-toggleable__label {cursor: pointer;display: block;width: 100%;margin-bottom: 0;padding: 0.3em;box-sizing: border-box;text-align: center;}#sk-container-id-3 label.sk-toggleable__label-arrow:before {content: \"▸\";float: left;margin-right: 0.25em;color: #696969;}#sk-container-id-3 label.sk-toggleable__label-arrow:hover:before {color: black;}#sk-container-id-3 div.sk-estimator:hover label.sk-toggleable__label-arrow:before {color: black;}#sk-container-id-3 div.sk-toggleable__content {max-height: 0;max-width: 0;overflow: hidden;text-align: left;background-color: #f0f8ff;}#sk-container-id-3 div.sk-toggleable__content pre {margin: 0.2em;color: black;border-radius: 0.25em;background-color: #f0f8ff;}#sk-container-id-3 input.sk-toggleable__control:checked~div.sk-toggleable__content {max-height: 200px;max-width: 100%;overflow: auto;}#sk-container-id-3 input.sk-toggleable__control:checked~label.sk-toggleable__label-arrow:before {content: \"▾\";}#sk-container-id-3 div.sk-estimator input.sk-toggleable__control:checked~label.sk-toggleable__label {background-color: #d4ebff;}#sk-container-id-3 div.sk-label input.sk-toggleable__control:checked~label.sk-toggleable__label {background-color: #d4ebff;}#sk-container-id-3 input.sk-hidden--visually {border: 0;clip: rect(1px 1px 1px 1px);clip: rect(1px, 1px, 1px, 1px);height: 1px;margin: -1px;overflow: hidden;padding: 0;position: absolute;width: 1px;}#sk-container-id-3 div.sk-estimator {font-family: monospace;background-color: #f0f8ff;border: 1px dotted black;border-radius: 0.25em;box-sizing: border-box;margin-bottom: 0.5em;}#sk-container-id-3 div.sk-estimator:hover {background-color: #d4ebff;}#sk-container-id-3 div.sk-parallel-item::after {content: \"\";width: 100%;border-bottom: 1px solid gray;flex-grow: 1;}#sk-container-id-3 div.sk-label:hover label.sk-toggleable__label {background-color: #d4ebff;}#sk-container-id-3 div.sk-serial::before {content: \"\";position: absolute;border-left: 1px solid gray;box-sizing: border-box;top: 0;bottom: 0;left: 50%;z-index: 0;}#sk-container-id-3 div.sk-serial {display: flex;flex-direction: column;align-items: center;background-color: white;padding-right: 0.2em;padding-left: 0.2em;position: relative;}#sk-container-id-3 div.sk-item {position: relative;z-index: 1;}#sk-container-id-3 div.sk-parallel {display: flex;align-items: stretch;justify-content: center;background-color: white;position: relative;}#sk-container-id-3 div.sk-item::before, #sk-container-id-3 div.sk-parallel-item::before {content: \"\";position: absolute;border-left: 1px solid gray;box-sizing: border-box;top: 0;bottom: 0;left: 50%;z-index: -1;}#sk-container-id-3 div.sk-parallel-item {display: flex;flex-direction: column;z-index: 1;position: relative;background-color: white;}#sk-container-id-3 div.sk-parallel-item:first-child::after {align-self: flex-end;width: 50%;}#sk-container-id-3 div.sk-parallel-item:last-child::after {align-self: flex-start;width: 50%;}#sk-container-id-3 div.sk-parallel-item:only-child::after {width: 0;}#sk-container-id-3 div.sk-dashed-wrapped {border: 1px dashed gray;margin: 0 0.4em 0.5em 0.4em;box-sizing: border-box;padding-bottom: 0.4em;background-color: white;}#sk-container-id-3 div.sk-label label {font-family: monospace;font-weight: bold;display: inline-block;line-height: 1.2em;}#sk-container-id-3 div.sk-label-container {text-align: center;}#sk-container-id-3 div.sk-container {/* jupyter's `normalize.less` sets `[hidden] { display: none; }` but bootstrap.min.css set `[hidden] { display: none !important; }` so we also need the `!important` here to be able to override the default hidden behavior on the sphinx rendered scikit-learn.org. See: https://github.com/scikit-learn/scikit-learn/issues/21755 */display: inline-block !important;position: relative;}#sk-container-id-3 div.sk-text-repr-fallback {display: none;}</style><div id=\"sk-container-id-3\" class=\"sk-top-container\"><div class=\"sk-text-repr-fallback\"><pre>RandomForestClassifier(random_state=42)</pre><b>In a Jupyter environment, please rerun this cell to show the HTML representation or trust the notebook. <br />On GitHub, the HTML representation is unable to render, please try loading this page with nbviewer.org.</b></div><div class=\"sk-container\" hidden><div class=\"sk-item\"><div class=\"sk-estimator sk-toggleable\"><input class=\"sk-toggleable__control sk-hidden--visually\" id=\"sk-estimator-id-3\" type=\"checkbox\" checked><label for=\"sk-estimator-id-3\" class=\"sk-toggleable__label sk-toggleable__label-arrow\">RandomForestClassifier</label><div class=\"sk-toggleable__content\"><pre>RandomForestClassifier(random_state=42)</pre></div></div></div></div></div>"
      ],
      "text/plain": [
       "RandomForestClassifier(random_state=42)"
      ]
     },
     "execution_count": 57,
     "metadata": {},
     "output_type": "execute_result"
    }
   ],
   "source": [
    "RFC_model.fit(X_train, y_train)"
   ]
  },
  {
   "cell_type": "code",
   "execution_count": 111,
   "id": "8332dc83",
   "metadata": {},
   "outputs": [],
   "source": [
    "# Test data"
   ]
  },
  {
   "cell_type": "code",
   "execution_count": 58,
   "id": "053d65fa",
   "metadata": {},
   "outputs": [],
   "source": [
    "RFC_pred = RFC_model.predict(X_test)"
   ]
  },
  {
   "cell_type": "code",
   "execution_count": 35,
   "id": "9c58561e",
   "metadata": {},
   "outputs": [
    {
     "name": "stdout",
     "output_type": "stream",
     "text": [
      "MAE: 2.619718309859155\n",
      "Training Accuracy: 0.30985915492957744\n",
      "Adjusted_mutual_info_score: 0.16499630896788467\n"
     ]
    }
   ],
   "source": [
    "RFC_pred = RFC_model.predict(X_test)\n",
    "print(f'MAE: {mean_absolute_error(y_test, RFC_pred)}')\n",
    "print(\"Training Accuracy:\", accuracy_score(y_test, RFC_pred))\n",
    "print(\"Adjusted_mutual_info_score:\", adjusted_mutual_info_score(y_test, RFC_pred))"
   ]
  },
  {
   "cell_type": "code",
   "execution_count": 36,
   "id": "6f59b29c",
   "metadata": {},
   "outputs": [
    {
     "name": "stdout",
     "output_type": "stream",
     "text": [
      "Valid MCC matthews_corrcoef score: 0.2418830838656464\n"
     ]
    }
   ],
   "source": [
    "from sklearn.metrics import matthews_corrcoef\n",
    "print('Valid MCC matthews_corrcoef score:', matthews_corrcoef(y_test ,RFC_pred))"
   ]
  },
  {
   "cell_type": "code",
   "execution_count": 42,
   "id": "c44afc28",
   "metadata": {
    "collapsed": true
   },
   "outputs": [
    {
     "data": {
      "text/plain": [
       "{'bootstrap': True,\n",
       " 'ccp_alpha': 0.0,\n",
       " 'class_weight': None,\n",
       " 'criterion': 'gini',\n",
       " 'max_depth': None,\n",
       " 'max_features': 'sqrt',\n",
       " 'max_leaf_nodes': None,\n",
       " 'max_samples': None,\n",
       " 'min_impurity_decrease': 0.0,\n",
       " 'min_samples_leaf': 1,\n",
       " 'min_samples_split': 2,\n",
       " 'min_weight_fraction_leaf': 0.0,\n",
       " 'n_estimators': 100,\n",
       " 'n_jobs': None,\n",
       " 'oob_score': False,\n",
       " 'random_state': 42,\n",
       " 'verbose': 0,\n",
       " 'warm_start': False}"
      ]
     },
     "execution_count": 42,
     "metadata": {},
     "output_type": "execute_result"
    }
   ],
   "source": [
    "RFC_model.get_params()"
   ]
  },
  {
   "cell_type": "code",
   "execution_count": 59,
   "id": "5faa4527",
   "metadata": {},
   "outputs": [
    {
     "data": {
      "text/plain": [
       "0.3026548672566372"
      ]
     },
     "execution_count": 59,
     "metadata": {},
     "output_type": "execute_result"
    }
   ],
   "source": [
    "cv_score = cross_val_score(RFC_model, X_train, y_train, cv=5)\n",
    "mean_cv_accuracy = cv_score.mean()\n",
    "mean_cv_accuracy"
   ]
  },
  {
   "cell_type": "code",
   "execution_count": null,
   "id": "ddf4c763",
   "metadata": {},
   "outputs": [],
   "source": []
  },
  {
   "cell_type": "code",
   "execution_count": null,
   "id": "f90b8e3c",
   "metadata": {},
   "outputs": [],
   "source": []
  },
  {
   "cell_type": "code",
   "execution_count": null,
   "id": "e70f8699",
   "metadata": {},
   "outputs": [],
   "source": []
  },
  {
   "cell_type": "code",
   "execution_count": 13,
   "id": "4b8ced1c",
   "metadata": {},
   "outputs": [],
   "source": [
    "import optuna"
   ]
  },
  {
   "cell_type": "code",
   "execution_count": 121,
   "id": "9053781e",
   "metadata": {},
   "outputs": [],
   "source": [
    "def objective(trial):\n",
    "    # Suggest values for hyperparameters\n",
    "    n_estimators = trial.suggest_int(\"n_estimators\", 200, 1000, log=True)\n",
    "    max_depth = trial.suggest_int(\"max_depth\", 5, 20, log=True)\n",
    "    max_features = trial.suggest_float('max_features', 0.1, 1.0)\n",
    "    min_samples_split = trial.suggest_int('min_samples_split', 2, 50)\n",
    "    min_samples_leaf = trial.suggest_int('min_samples_leaf', 1, 25)\n",
    "    max_samples = trial.suggest_float('max_samples', 0.2, 0.99)\n",
    "\n",
    "    # Create and fit random forest model\n",
    "    model = RandomForestClassifier(\n",
    "        max_depth=max_depth,\n",
    "        n_estimators=n_estimators,\n",
    "        max_features=max_features,\n",
    "        min_samples_split=min_samples_split,\n",
    "        min_samples_leaf=min_samples_leaf,\n",
    "        max_samples=max_samples,\n",
    "        bootstrap=True,\n",
    "        verbose=0,\n",
    "        oob_score=True,\n",
    "        random_state=42,\n",
    "        n_jobs=2\n",
    "    )\n",
    "    model.fit(X_train, y_train)\n",
    "\n",
    "#     Make predictions and calculate RMSE\n",
    "#     y_pred = model.predict(X_test)\n",
    "# #     rmse = np.sqrt(mean_squared_error(y_test, y_pred))\n",
    "#     mae = mean_absolute_error(y_test, y_pred)\n",
    "# #     r2 = r2_score(y_test, y_pred)\n",
    "# #     a = accuracy_score(y_test, y_pred)\n",
    "#     return mae\n",
    "\n",
    "#     pred_tr = model.oob_decision_function_\n",
    "#     sorted_prediction_ids = np.argsort(-pred_tr, axis=1)\n",
    "#     top_3_prediction_ids = sorted_prediction_ids[:,:3]\n",
    "#     score = mapk(y.reshape(-1, 1), top_3_prediction_ids, k=3)    \n",
    "#     return score\n",
    "\n",
    "#     pred_train = model.oob_prediction_  REGRESSOr\n",
    "    pred_train = model.oob_decision_function_\n",
    "    score = mean_squared_error(y_train, pred_train, squared=False)\n",
    "    return score\n",
    "\n",
    "\n",
    "#     cv_score = cross_val_score(model, X_train, y_train, cv=5)\n",
    "#     mean_cv_accuracy = cv_score.mean()\n",
    "#     return mean_cv_accuracy"
   ]
  },
  {
   "cell_type": "code",
   "execution_count": 122,
   "id": "7dae323e",
   "metadata": {
    "collapsed": true
   },
   "outputs": [
    {
     "data": {
      "application/vnd.jupyter.widget-view+json": {
       "model_id": "6373f125a3504418910c4fb3aedbcfb4",
       "version_major": 2,
       "version_minor": 0
      },
      "text/plain": [
       "  0%|          | 0/100 [00:00<?, ?it/s]"
      ]
     },
     "metadata": {},
     "output_type": "display_data"
    },
    {
     "name": "stdout",
     "output_type": "stream",
     "text": [
      "[W 2024-10-03 12:03:43,947] Trial 0 failed with parameters: {'n_estimators': 365, 'max_depth': 19, 'max_features': 0.7587945476302645, 'min_samples_split': 31, 'min_samples_leaf': 4, 'max_samples': 0.32323567106560014} because of the following error: ValueError('y_true and y_pred have different number of output (1!=11)').\n",
      "Traceback (most recent call last):\n",
      "  File \"D:\\Programy\\anaconda3\\Lib\\site-packages\\optuna\\study\\_optimize.py\", line 196, in _run_trial\n",
      "    value_or_values = func(trial)\n",
      "                      ^^^^^^^^^^^\n",
      "  File \"C:\\Users\\adams\\AppData\\Local\\Temp\\ipykernel_11380\\1193393443.py\", line 42, in objective\n",
      "    score = mean_squared_error(y_train, pred_train, squared=False)\n",
      "            ^^^^^^^^^^^^^^^^^^^^^^^^^^^^^^^^^^^^^^^^^^^^^^^^^^^^^^\n",
      "  File \"D:\\Programy\\anaconda3\\Lib\\site-packages\\sklearn\\utils\\_param_validation.py\", line 211, in wrapper\n",
      "    return func(*args, **kwargs)\n",
      "           ^^^^^^^^^^^^^^^^^^^^^\n",
      "  File \"D:\\Programy\\anaconda3\\Lib\\site-packages\\sklearn\\metrics\\_regression.py\", line 474, in mean_squared_error\n",
      "    y_type, y_true, y_pred, multioutput = _check_reg_targets(\n",
      "                                          ^^^^^^^^^^^^^^^^^^^\n",
      "  File \"D:\\Programy\\anaconda3\\Lib\\site-packages\\sklearn\\metrics\\_regression.py\", line 110, in _check_reg_targets\n",
      "    raise ValueError(\n",
      "ValueError: y_true and y_pred have different number of output (1!=11)\n",
      "[W 2024-10-03 12:03:43,974] Trial 0 failed with value None.\n"
     ]
    },
    {
     "ename": "ValueError",
     "evalue": "y_true and y_pred have different number of output (1!=11)",
     "output_type": "error",
     "traceback": [
      "\u001b[1;31m---------------------------------------------------------------------------\u001b[0m",
      "\u001b[1;31mValueError\u001b[0m                                Traceback (most recent call last)",
      "Cell \u001b[1;32mIn[122], line 6\u001b[0m\n\u001b[0;32m      4\u001b[0m study \u001b[38;5;241m=\u001b[39m optuna\u001b[38;5;241m.\u001b[39mcreate_study(direction\u001b[38;5;241m=\u001b[39m\u001b[38;5;124m\"\u001b[39m\u001b[38;5;124mminimize\u001b[39m\u001b[38;5;124m\"\u001b[39m, sampler\u001b[38;5;241m=\u001b[39msampler)\n\u001b[0;32m      5\u001b[0m \u001b[38;5;66;03m# Run optimization process\u001b[39;00m\n\u001b[1;32m----> 6\u001b[0m study\u001b[38;5;241m.\u001b[39moptimize(objective, n_trials\u001b[38;5;241m=\u001b[39m\u001b[38;5;241m100\u001b[39m, show_progress_bar\u001b[38;5;241m=\u001b[39m\u001b[38;5;28;01mTrue\u001b[39;00m)\n",
      "File \u001b[1;32mD:\\Programy\\anaconda3\\Lib\\site-packages\\optuna\\study\\study.py:451\u001b[0m, in \u001b[0;36mStudy.optimize\u001b[1;34m(self, func, n_trials, timeout, n_jobs, catch, callbacks, gc_after_trial, show_progress_bar)\u001b[0m\n\u001b[0;32m    348\u001b[0m \u001b[38;5;28;01mdef\u001b[39;00m \u001b[38;5;21moptimize\u001b[39m(\n\u001b[0;32m    349\u001b[0m     \u001b[38;5;28mself\u001b[39m,\n\u001b[0;32m    350\u001b[0m     func: ObjectiveFuncType,\n\u001b[1;32m   (...)\u001b[0m\n\u001b[0;32m    357\u001b[0m     show_progress_bar: \u001b[38;5;28mbool\u001b[39m \u001b[38;5;241m=\u001b[39m \u001b[38;5;28;01mFalse\u001b[39;00m,\n\u001b[0;32m    358\u001b[0m ) \u001b[38;5;241m-\u001b[39m\u001b[38;5;241m>\u001b[39m \u001b[38;5;28;01mNone\u001b[39;00m:\n\u001b[0;32m    359\u001b[0m \u001b[38;5;250m    \u001b[39m\u001b[38;5;124;03m\"\"\"Optimize an objective function.\u001b[39;00m\n\u001b[0;32m    360\u001b[0m \n\u001b[0;32m    361\u001b[0m \u001b[38;5;124;03m    Optimization is done by choosing a suitable set of hyperparameter values from a given\u001b[39;00m\n\u001b[1;32m   (...)\u001b[0m\n\u001b[0;32m    449\u001b[0m \u001b[38;5;124;03m            If nested invocation of this method occurs.\u001b[39;00m\n\u001b[0;32m    450\u001b[0m \u001b[38;5;124;03m    \"\"\"\u001b[39;00m\n\u001b[1;32m--> 451\u001b[0m     _optimize(\n\u001b[0;32m    452\u001b[0m         study\u001b[38;5;241m=\u001b[39m\u001b[38;5;28mself\u001b[39m,\n\u001b[0;32m    453\u001b[0m         func\u001b[38;5;241m=\u001b[39mfunc,\n\u001b[0;32m    454\u001b[0m         n_trials\u001b[38;5;241m=\u001b[39mn_trials,\n\u001b[0;32m    455\u001b[0m         timeout\u001b[38;5;241m=\u001b[39mtimeout,\n\u001b[0;32m    456\u001b[0m         n_jobs\u001b[38;5;241m=\u001b[39mn_jobs,\n\u001b[0;32m    457\u001b[0m         catch\u001b[38;5;241m=\u001b[39m\u001b[38;5;28mtuple\u001b[39m(catch) \u001b[38;5;28;01mif\u001b[39;00m \u001b[38;5;28misinstance\u001b[39m(catch, Iterable) \u001b[38;5;28;01melse\u001b[39;00m (catch,),\n\u001b[0;32m    458\u001b[0m         callbacks\u001b[38;5;241m=\u001b[39mcallbacks,\n\u001b[0;32m    459\u001b[0m         gc_after_trial\u001b[38;5;241m=\u001b[39mgc_after_trial,\n\u001b[0;32m    460\u001b[0m         show_progress_bar\u001b[38;5;241m=\u001b[39mshow_progress_bar,\n\u001b[0;32m    461\u001b[0m     )\n",
      "File \u001b[1;32mD:\\Programy\\anaconda3\\Lib\\site-packages\\optuna\\study\\_optimize.py:62\u001b[0m, in \u001b[0;36m_optimize\u001b[1;34m(study, func, n_trials, timeout, n_jobs, catch, callbacks, gc_after_trial, show_progress_bar)\u001b[0m\n\u001b[0;32m     60\u001b[0m \u001b[38;5;28;01mtry\u001b[39;00m:\n\u001b[0;32m     61\u001b[0m     \u001b[38;5;28;01mif\u001b[39;00m n_jobs \u001b[38;5;241m==\u001b[39m \u001b[38;5;241m1\u001b[39m:\n\u001b[1;32m---> 62\u001b[0m         _optimize_sequential(\n\u001b[0;32m     63\u001b[0m             study,\n\u001b[0;32m     64\u001b[0m             func,\n\u001b[0;32m     65\u001b[0m             n_trials,\n\u001b[0;32m     66\u001b[0m             timeout,\n\u001b[0;32m     67\u001b[0m             catch,\n\u001b[0;32m     68\u001b[0m             callbacks,\n\u001b[0;32m     69\u001b[0m             gc_after_trial,\n\u001b[0;32m     70\u001b[0m             reseed_sampler_rng\u001b[38;5;241m=\u001b[39m\u001b[38;5;28;01mFalse\u001b[39;00m,\n\u001b[0;32m     71\u001b[0m             time_start\u001b[38;5;241m=\u001b[39m\u001b[38;5;28;01mNone\u001b[39;00m,\n\u001b[0;32m     72\u001b[0m             progress_bar\u001b[38;5;241m=\u001b[39mprogress_bar,\n\u001b[0;32m     73\u001b[0m         )\n\u001b[0;32m     74\u001b[0m     \u001b[38;5;28;01melse\u001b[39;00m:\n\u001b[0;32m     75\u001b[0m         \u001b[38;5;28;01mif\u001b[39;00m n_jobs \u001b[38;5;241m==\u001b[39m \u001b[38;5;241m-\u001b[39m\u001b[38;5;241m1\u001b[39m:\n",
      "File \u001b[1;32mD:\\Programy\\anaconda3\\Lib\\site-packages\\optuna\\study\\_optimize.py:159\u001b[0m, in \u001b[0;36m_optimize_sequential\u001b[1;34m(study, func, n_trials, timeout, catch, callbacks, gc_after_trial, reseed_sampler_rng, time_start, progress_bar)\u001b[0m\n\u001b[0;32m    156\u001b[0m         \u001b[38;5;28;01mbreak\u001b[39;00m\n\u001b[0;32m    158\u001b[0m \u001b[38;5;28;01mtry\u001b[39;00m:\n\u001b[1;32m--> 159\u001b[0m     frozen_trial \u001b[38;5;241m=\u001b[39m _run_trial(study, func, catch)\n\u001b[0;32m    160\u001b[0m \u001b[38;5;28;01mfinally\u001b[39;00m:\n\u001b[0;32m    161\u001b[0m     \u001b[38;5;66;03m# The following line mitigates memory problems that can be occurred in some\u001b[39;00m\n\u001b[0;32m    162\u001b[0m     \u001b[38;5;66;03m# environments (e.g., services that use computing containers such as GitHub Actions).\u001b[39;00m\n\u001b[0;32m    163\u001b[0m     \u001b[38;5;66;03m# Please refer to the following PR for further details:\u001b[39;00m\n\u001b[0;32m    164\u001b[0m     \u001b[38;5;66;03m# https://github.com/optuna/optuna/pull/325.\u001b[39;00m\n\u001b[0;32m    165\u001b[0m     \u001b[38;5;28;01mif\u001b[39;00m gc_after_trial:\n",
      "File \u001b[1;32mD:\\Programy\\anaconda3\\Lib\\site-packages\\optuna\\study\\_optimize.py:247\u001b[0m, in \u001b[0;36m_run_trial\u001b[1;34m(study, func, catch)\u001b[0m\n\u001b[0;32m    240\u001b[0m         \u001b[38;5;28;01massert\u001b[39;00m \u001b[38;5;28;01mFalse\u001b[39;00m, \u001b[38;5;124m\"\u001b[39m\u001b[38;5;124mShould not reach.\u001b[39m\u001b[38;5;124m\"\u001b[39m\n\u001b[0;32m    242\u001b[0m \u001b[38;5;28;01mif\u001b[39;00m (\n\u001b[0;32m    243\u001b[0m     frozen_trial\u001b[38;5;241m.\u001b[39mstate \u001b[38;5;241m==\u001b[39m TrialState\u001b[38;5;241m.\u001b[39mFAIL\n\u001b[0;32m    244\u001b[0m     \u001b[38;5;129;01mand\u001b[39;00m func_err \u001b[38;5;129;01mis\u001b[39;00m \u001b[38;5;129;01mnot\u001b[39;00m \u001b[38;5;28;01mNone\u001b[39;00m\n\u001b[0;32m    245\u001b[0m     \u001b[38;5;129;01mand\u001b[39;00m \u001b[38;5;129;01mnot\u001b[39;00m \u001b[38;5;28misinstance\u001b[39m(func_err, catch)\n\u001b[0;32m    246\u001b[0m ):\n\u001b[1;32m--> 247\u001b[0m     \u001b[38;5;28;01mraise\u001b[39;00m func_err\n\u001b[0;32m    248\u001b[0m \u001b[38;5;28;01mreturn\u001b[39;00m frozen_trial\n",
      "File \u001b[1;32mD:\\Programy\\anaconda3\\Lib\\site-packages\\optuna\\study\\_optimize.py:196\u001b[0m, in \u001b[0;36m_run_trial\u001b[1;34m(study, func, catch)\u001b[0m\n\u001b[0;32m    194\u001b[0m \u001b[38;5;28;01mwith\u001b[39;00m get_heartbeat_thread(trial\u001b[38;5;241m.\u001b[39m_trial_id, study\u001b[38;5;241m.\u001b[39m_storage):\n\u001b[0;32m    195\u001b[0m     \u001b[38;5;28;01mtry\u001b[39;00m:\n\u001b[1;32m--> 196\u001b[0m         value_or_values \u001b[38;5;241m=\u001b[39m func(trial)\n\u001b[0;32m    197\u001b[0m     \u001b[38;5;28;01mexcept\u001b[39;00m exceptions\u001b[38;5;241m.\u001b[39mTrialPruned \u001b[38;5;28;01mas\u001b[39;00m e:\n\u001b[0;32m    198\u001b[0m         \u001b[38;5;66;03m# TODO(mamu): Handle multi-objective cases.\u001b[39;00m\n\u001b[0;32m    199\u001b[0m         state \u001b[38;5;241m=\u001b[39m TrialState\u001b[38;5;241m.\u001b[39mPRUNED\n",
      "Cell \u001b[1;32mIn[121], line 42\u001b[0m, in \u001b[0;36mobjective\u001b[1;34m(trial)\u001b[0m\n\u001b[0;32m     26\u001b[0m \u001b[38;5;66;03m#     Make predictions and calculate RMSE\u001b[39;00m\n\u001b[0;32m     27\u001b[0m \u001b[38;5;66;03m#     y_pred = model.predict(X_test)\u001b[39;00m\n\u001b[0;32m     28\u001b[0m \u001b[38;5;66;03m# #     rmse = np.sqrt(mean_squared_error(y_test, y_pred))\u001b[39;00m\n\u001b[1;32m   (...)\u001b[0m\n\u001b[0;32m     39\u001b[0m \n\u001b[0;32m     40\u001b[0m \u001b[38;5;66;03m#     pred_train = model.oob_prediction_  REGRESSOr\u001b[39;00m\n\u001b[0;32m     41\u001b[0m     pred_train \u001b[38;5;241m=\u001b[39m model\u001b[38;5;241m.\u001b[39moob_decision_function_\n\u001b[1;32m---> 42\u001b[0m     score \u001b[38;5;241m=\u001b[39m mean_squared_error(y_train, pred_train, squared\u001b[38;5;241m=\u001b[39m\u001b[38;5;28;01mFalse\u001b[39;00m)\n\u001b[0;32m     43\u001b[0m     \u001b[38;5;28;01mreturn\u001b[39;00m score\n",
      "File \u001b[1;32mD:\\Programy\\anaconda3\\Lib\\site-packages\\sklearn\\utils\\_param_validation.py:211\u001b[0m, in \u001b[0;36mvalidate_params.<locals>.decorator.<locals>.wrapper\u001b[1;34m(*args, **kwargs)\u001b[0m\n\u001b[0;32m    205\u001b[0m \u001b[38;5;28;01mtry\u001b[39;00m:\n\u001b[0;32m    206\u001b[0m     \u001b[38;5;28;01mwith\u001b[39;00m config_context(\n\u001b[0;32m    207\u001b[0m         skip_parameter_validation\u001b[38;5;241m=\u001b[39m(\n\u001b[0;32m    208\u001b[0m             prefer_skip_nested_validation \u001b[38;5;129;01mor\u001b[39;00m global_skip_validation\n\u001b[0;32m    209\u001b[0m         )\n\u001b[0;32m    210\u001b[0m     ):\n\u001b[1;32m--> 211\u001b[0m         \u001b[38;5;28;01mreturn\u001b[39;00m func(\u001b[38;5;241m*\u001b[39margs, \u001b[38;5;241m*\u001b[39m\u001b[38;5;241m*\u001b[39mkwargs)\n\u001b[0;32m    212\u001b[0m \u001b[38;5;28;01mexcept\u001b[39;00m InvalidParameterError \u001b[38;5;28;01mas\u001b[39;00m e:\n\u001b[0;32m    213\u001b[0m     \u001b[38;5;66;03m# When the function is just a wrapper around an estimator, we allow\u001b[39;00m\n\u001b[0;32m    214\u001b[0m     \u001b[38;5;66;03m# the function to delegate validation to the estimator, but we replace\u001b[39;00m\n\u001b[0;32m    215\u001b[0m     \u001b[38;5;66;03m# the name of the estimator by the name of the function in the error\u001b[39;00m\n\u001b[0;32m    216\u001b[0m     \u001b[38;5;66;03m# message to avoid confusion.\u001b[39;00m\n\u001b[0;32m    217\u001b[0m     msg \u001b[38;5;241m=\u001b[39m re\u001b[38;5;241m.\u001b[39msub(\n\u001b[0;32m    218\u001b[0m         \u001b[38;5;124mr\u001b[39m\u001b[38;5;124m\"\u001b[39m\u001b[38;5;124mparameter of \u001b[39m\u001b[38;5;124m\\\u001b[39m\u001b[38;5;124mw+ must be\u001b[39m\u001b[38;5;124m\"\u001b[39m,\n\u001b[0;32m    219\u001b[0m         \u001b[38;5;124mf\u001b[39m\u001b[38;5;124m\"\u001b[39m\u001b[38;5;124mparameter of \u001b[39m\u001b[38;5;132;01m{\u001b[39;00mfunc\u001b[38;5;241m.\u001b[39m\u001b[38;5;18m__qualname__\u001b[39m\u001b[38;5;132;01m}\u001b[39;00m\u001b[38;5;124m must be\u001b[39m\u001b[38;5;124m\"\u001b[39m,\n\u001b[0;32m    220\u001b[0m         \u001b[38;5;28mstr\u001b[39m(e),\n\u001b[0;32m    221\u001b[0m     )\n",
      "File \u001b[1;32mD:\\Programy\\anaconda3\\Lib\\site-packages\\sklearn\\metrics\\_regression.py:474\u001b[0m, in \u001b[0;36mmean_squared_error\u001b[1;34m(y_true, y_pred, sample_weight, multioutput, squared)\u001b[0m\n\u001b[0;32m    404\u001b[0m \u001b[38;5;129m@validate_params\u001b[39m(\n\u001b[0;32m    405\u001b[0m     {\n\u001b[0;32m    406\u001b[0m         \u001b[38;5;124m\"\u001b[39m\u001b[38;5;124my_true\u001b[39m\u001b[38;5;124m\"\u001b[39m: [\u001b[38;5;124m\"\u001b[39m\u001b[38;5;124marray-like\u001b[39m\u001b[38;5;124m\"\u001b[39m],\n\u001b[1;32m   (...)\u001b[0m\n\u001b[0;32m    415\u001b[0m     y_true, y_pred, \u001b[38;5;241m*\u001b[39m, sample_weight\u001b[38;5;241m=\u001b[39m\u001b[38;5;28;01mNone\u001b[39;00m, multioutput\u001b[38;5;241m=\u001b[39m\u001b[38;5;124m\"\u001b[39m\u001b[38;5;124muniform_average\u001b[39m\u001b[38;5;124m\"\u001b[39m, squared\u001b[38;5;241m=\u001b[39m\u001b[38;5;28;01mTrue\u001b[39;00m\n\u001b[0;32m    416\u001b[0m ):\n\u001b[0;32m    417\u001b[0m \u001b[38;5;250m    \u001b[39m\u001b[38;5;124;03m\"\"\"Mean squared error regression loss.\u001b[39;00m\n\u001b[0;32m    418\u001b[0m \n\u001b[0;32m    419\u001b[0m \u001b[38;5;124;03m    Read more in the :ref:`User Guide <mean_squared_error>`.\u001b[39;00m\n\u001b[1;32m   (...)\u001b[0m\n\u001b[0;32m    472\u001b[0m \u001b[38;5;124;03m    0.825...\u001b[39;00m\n\u001b[0;32m    473\u001b[0m \u001b[38;5;124;03m    \"\"\"\u001b[39;00m\n\u001b[1;32m--> 474\u001b[0m     y_type, y_true, y_pred, multioutput \u001b[38;5;241m=\u001b[39m _check_reg_targets(\n\u001b[0;32m    475\u001b[0m         y_true, y_pred, multioutput\n\u001b[0;32m    476\u001b[0m     )\n\u001b[0;32m    477\u001b[0m     check_consistent_length(y_true, y_pred, sample_weight)\n\u001b[0;32m    478\u001b[0m     output_errors \u001b[38;5;241m=\u001b[39m np\u001b[38;5;241m.\u001b[39maverage((y_true \u001b[38;5;241m-\u001b[39m y_pred) \u001b[38;5;241m*\u001b[39m\u001b[38;5;241m*\u001b[39m \u001b[38;5;241m2\u001b[39m, axis\u001b[38;5;241m=\u001b[39m\u001b[38;5;241m0\u001b[39m, weights\u001b[38;5;241m=\u001b[39msample_weight)\n",
      "File \u001b[1;32mD:\\Programy\\anaconda3\\Lib\\site-packages\\sklearn\\metrics\\_regression.py:110\u001b[0m, in \u001b[0;36m_check_reg_targets\u001b[1;34m(y_true, y_pred, multioutput, dtype)\u001b[0m\n\u001b[0;32m    107\u001b[0m     y_pred \u001b[38;5;241m=\u001b[39m y_pred\u001b[38;5;241m.\u001b[39mreshape((\u001b[38;5;241m-\u001b[39m\u001b[38;5;241m1\u001b[39m, \u001b[38;5;241m1\u001b[39m))\n\u001b[0;32m    109\u001b[0m \u001b[38;5;28;01mif\u001b[39;00m y_true\u001b[38;5;241m.\u001b[39mshape[\u001b[38;5;241m1\u001b[39m] \u001b[38;5;241m!=\u001b[39m y_pred\u001b[38;5;241m.\u001b[39mshape[\u001b[38;5;241m1\u001b[39m]:\n\u001b[1;32m--> 110\u001b[0m     \u001b[38;5;28;01mraise\u001b[39;00m \u001b[38;5;167;01mValueError\u001b[39;00m(\n\u001b[0;32m    111\u001b[0m         \u001b[38;5;124m\"\u001b[39m\u001b[38;5;124my_true and y_pred have different number of output (\u001b[39m\u001b[38;5;132;01m{0}\u001b[39;00m\u001b[38;5;124m!=\u001b[39m\u001b[38;5;132;01m{1}\u001b[39;00m\u001b[38;5;124m)\u001b[39m\u001b[38;5;124m\"\u001b[39m\u001b[38;5;241m.\u001b[39mformat(\n\u001b[0;32m    112\u001b[0m             y_true\u001b[38;5;241m.\u001b[39mshape[\u001b[38;5;241m1\u001b[39m], y_pred\u001b[38;5;241m.\u001b[39mshape[\u001b[38;5;241m1\u001b[39m]\n\u001b[0;32m    113\u001b[0m         )\n\u001b[0;32m    114\u001b[0m     )\n\u001b[0;32m    116\u001b[0m n_outputs \u001b[38;5;241m=\u001b[39m y_true\u001b[38;5;241m.\u001b[39mshape[\u001b[38;5;241m1\u001b[39m]\n\u001b[0;32m    117\u001b[0m allowed_multioutput_str \u001b[38;5;241m=\u001b[39m (\u001b[38;5;124m\"\u001b[39m\u001b[38;5;124mraw_values\u001b[39m\u001b[38;5;124m\"\u001b[39m, \u001b[38;5;124m\"\u001b[39m\u001b[38;5;124muniform_average\u001b[39m\u001b[38;5;124m\"\u001b[39m, \u001b[38;5;124m\"\u001b[39m\u001b[38;5;124mvariance_weighted\u001b[39m\u001b[38;5;124m\"\u001b[39m)\n",
      "\u001b[1;31mValueError\u001b[0m: y_true and y_pred have different number of output (1!=11)"
     ]
    }
   ],
   "source": [
    "from sklearn.metrics import mean_squared_error, mean_absolute_error, r2_score\n",
    "# Create study object\n",
    "sampler = optuna.samplers.TPESampler(seed=42)\n",
    "study = optuna.create_study(direction=\"minimize\", sampler=sampler)\n",
    "# Run optimization process\n",
    "study.optimize(objective, n_trials=100, show_progress_bar=True)"
   ]
  },
  {
   "cell_type": "code",
   "execution_count": 118,
   "id": "6af869d6",
   "metadata": {
    "collapsed": true
   },
   "outputs": [
    {
     "data": {
      "application/vnd.jupyter.widget-view+json": {
       "model_id": "5a79423b14884748b5ce0fbc95e051d0",
       "version_major": 2,
       "version_minor": 0
      },
      "text/plain": [
       "  0%|          | 0/100 [00:00<?, ?it/s]"
      ]
     },
     "metadata": {},
     "output_type": "display_data"
    },
    {
     "name": "stdout",
     "output_type": "stream",
     "text": [
      "[W 2024-10-03 11:48:32,199] Trial 0 failed with parameters: {'n_estimators': 365, 'max_depth': 19, 'max_features': 0.7587945476302645, 'min_samples_split': 31, 'min_samples_leaf': 4, 'max_samples': 0.32323567106560014} because of the following error: AttributeError(\"module 'utils' has no attribute 'mapk'\").\n",
      "Traceback (most recent call last):\n",
      "  File \"D:\\Programy\\anaconda3\\Lib\\site-packages\\optuna\\study\\_optimize.py\", line 196, in _run_trial\n",
      "    value_or_values = func(trial)\n",
      "                      ^^^^^^^^^^^\n",
      "  File \"C:\\Users\\adams\\AppData\\Local\\Temp\\ipykernel_11380\\1952289490.py\", line 37, in objective\n",
      "    score = ut.mapk(y.reshape(-1, 1), top_3_prediction_ids, k=3)\n",
      "        ^^^^^^^\n",
      "AttributeError: module 'utils' has no attribute 'mapk'\n",
      "[W 2024-10-03 11:48:32,199] Trial 0 failed with value None.\n"
     ]
    },
    {
     "ename": "AttributeError",
     "evalue": "module 'utils' has no attribute 'mapk'",
     "output_type": "error",
     "traceback": [
      "\u001b[1;31m---------------------------------------------------------------------------\u001b[0m",
      "\u001b[1;31mAttributeError\u001b[0m                            Traceback (most recent call last)",
      "Cell \u001b[1;32mIn[118], line 4\u001b[0m\n\u001b[0;32m      2\u001b[0m sampler \u001b[38;5;241m=\u001b[39m optuna\u001b[38;5;241m.\u001b[39msamplers\u001b[38;5;241m.\u001b[39mTPESampler(seed\u001b[38;5;241m=\u001b[39m\u001b[38;5;241m42\u001b[39m)\n\u001b[0;32m      3\u001b[0m study \u001b[38;5;241m=\u001b[39m optuna\u001b[38;5;241m.\u001b[39mcreate_study(direction\u001b[38;5;241m=\u001b[39m\u001b[38;5;124m\"\u001b[39m\u001b[38;5;124mmaximize\u001b[39m\u001b[38;5;124m\"\u001b[39m, sampler\u001b[38;5;241m=\u001b[39msampler)\n\u001b[1;32m----> 4\u001b[0m study\u001b[38;5;241m.\u001b[39moptimize(objective, n_trials\u001b[38;5;241m=\u001b[39m\u001b[38;5;241m100\u001b[39m, show_progress_bar\u001b[38;5;241m=\u001b[39m\u001b[38;5;28;01mTrue\u001b[39;00m)\n",
      "File \u001b[1;32mD:\\Programy\\anaconda3\\Lib\\site-packages\\optuna\\study\\study.py:451\u001b[0m, in \u001b[0;36mStudy.optimize\u001b[1;34m(self, func, n_trials, timeout, n_jobs, catch, callbacks, gc_after_trial, show_progress_bar)\u001b[0m\n\u001b[0;32m    348\u001b[0m \u001b[38;5;28;01mdef\u001b[39;00m \u001b[38;5;21moptimize\u001b[39m(\n\u001b[0;32m    349\u001b[0m     \u001b[38;5;28mself\u001b[39m,\n\u001b[0;32m    350\u001b[0m     func: ObjectiveFuncType,\n\u001b[1;32m   (...)\u001b[0m\n\u001b[0;32m    357\u001b[0m     show_progress_bar: \u001b[38;5;28mbool\u001b[39m \u001b[38;5;241m=\u001b[39m \u001b[38;5;28;01mFalse\u001b[39;00m,\n\u001b[0;32m    358\u001b[0m ) \u001b[38;5;241m-\u001b[39m\u001b[38;5;241m>\u001b[39m \u001b[38;5;28;01mNone\u001b[39;00m:\n\u001b[0;32m    359\u001b[0m \u001b[38;5;250m    \u001b[39m\u001b[38;5;124;03m\"\"\"Optimize an objective function.\u001b[39;00m\n\u001b[0;32m    360\u001b[0m \n\u001b[0;32m    361\u001b[0m \u001b[38;5;124;03m    Optimization is done by choosing a suitable set of hyperparameter values from a given\u001b[39;00m\n\u001b[1;32m   (...)\u001b[0m\n\u001b[0;32m    449\u001b[0m \u001b[38;5;124;03m            If nested invocation of this method occurs.\u001b[39;00m\n\u001b[0;32m    450\u001b[0m \u001b[38;5;124;03m    \"\"\"\u001b[39;00m\n\u001b[1;32m--> 451\u001b[0m     _optimize(\n\u001b[0;32m    452\u001b[0m         study\u001b[38;5;241m=\u001b[39m\u001b[38;5;28mself\u001b[39m,\n\u001b[0;32m    453\u001b[0m         func\u001b[38;5;241m=\u001b[39mfunc,\n\u001b[0;32m    454\u001b[0m         n_trials\u001b[38;5;241m=\u001b[39mn_trials,\n\u001b[0;32m    455\u001b[0m         timeout\u001b[38;5;241m=\u001b[39mtimeout,\n\u001b[0;32m    456\u001b[0m         n_jobs\u001b[38;5;241m=\u001b[39mn_jobs,\n\u001b[0;32m    457\u001b[0m         catch\u001b[38;5;241m=\u001b[39m\u001b[38;5;28mtuple\u001b[39m(catch) \u001b[38;5;28;01mif\u001b[39;00m \u001b[38;5;28misinstance\u001b[39m(catch, Iterable) \u001b[38;5;28;01melse\u001b[39;00m (catch,),\n\u001b[0;32m    458\u001b[0m         callbacks\u001b[38;5;241m=\u001b[39mcallbacks,\n\u001b[0;32m    459\u001b[0m         gc_after_trial\u001b[38;5;241m=\u001b[39mgc_after_trial,\n\u001b[0;32m    460\u001b[0m         show_progress_bar\u001b[38;5;241m=\u001b[39mshow_progress_bar,\n\u001b[0;32m    461\u001b[0m     )\n",
      "File \u001b[1;32mD:\\Programy\\anaconda3\\Lib\\site-packages\\optuna\\study\\_optimize.py:62\u001b[0m, in \u001b[0;36m_optimize\u001b[1;34m(study, func, n_trials, timeout, n_jobs, catch, callbacks, gc_after_trial, show_progress_bar)\u001b[0m\n\u001b[0;32m     60\u001b[0m \u001b[38;5;28;01mtry\u001b[39;00m:\n\u001b[0;32m     61\u001b[0m     \u001b[38;5;28;01mif\u001b[39;00m n_jobs \u001b[38;5;241m==\u001b[39m \u001b[38;5;241m1\u001b[39m:\n\u001b[1;32m---> 62\u001b[0m         _optimize_sequential(\n\u001b[0;32m     63\u001b[0m             study,\n\u001b[0;32m     64\u001b[0m             func,\n\u001b[0;32m     65\u001b[0m             n_trials,\n\u001b[0;32m     66\u001b[0m             timeout,\n\u001b[0;32m     67\u001b[0m             catch,\n\u001b[0;32m     68\u001b[0m             callbacks,\n\u001b[0;32m     69\u001b[0m             gc_after_trial,\n\u001b[0;32m     70\u001b[0m             reseed_sampler_rng\u001b[38;5;241m=\u001b[39m\u001b[38;5;28;01mFalse\u001b[39;00m,\n\u001b[0;32m     71\u001b[0m             time_start\u001b[38;5;241m=\u001b[39m\u001b[38;5;28;01mNone\u001b[39;00m,\n\u001b[0;32m     72\u001b[0m             progress_bar\u001b[38;5;241m=\u001b[39mprogress_bar,\n\u001b[0;32m     73\u001b[0m         )\n\u001b[0;32m     74\u001b[0m     \u001b[38;5;28;01melse\u001b[39;00m:\n\u001b[0;32m     75\u001b[0m         \u001b[38;5;28;01mif\u001b[39;00m n_jobs \u001b[38;5;241m==\u001b[39m \u001b[38;5;241m-\u001b[39m\u001b[38;5;241m1\u001b[39m:\n",
      "File \u001b[1;32mD:\\Programy\\anaconda3\\Lib\\site-packages\\optuna\\study\\_optimize.py:159\u001b[0m, in \u001b[0;36m_optimize_sequential\u001b[1;34m(study, func, n_trials, timeout, catch, callbacks, gc_after_trial, reseed_sampler_rng, time_start, progress_bar)\u001b[0m\n\u001b[0;32m    156\u001b[0m         \u001b[38;5;28;01mbreak\u001b[39;00m\n\u001b[0;32m    158\u001b[0m \u001b[38;5;28;01mtry\u001b[39;00m:\n\u001b[1;32m--> 159\u001b[0m     frozen_trial \u001b[38;5;241m=\u001b[39m _run_trial(study, func, catch)\n\u001b[0;32m    160\u001b[0m \u001b[38;5;28;01mfinally\u001b[39;00m:\n\u001b[0;32m    161\u001b[0m     \u001b[38;5;66;03m# The following line mitigates memory problems that can be occurred in some\u001b[39;00m\n\u001b[0;32m    162\u001b[0m     \u001b[38;5;66;03m# environments (e.g., services that use computing containers such as GitHub Actions).\u001b[39;00m\n\u001b[0;32m    163\u001b[0m     \u001b[38;5;66;03m# Please refer to the following PR for further details:\u001b[39;00m\n\u001b[0;32m    164\u001b[0m     \u001b[38;5;66;03m# https://github.com/optuna/optuna/pull/325.\u001b[39;00m\n\u001b[0;32m    165\u001b[0m     \u001b[38;5;28;01mif\u001b[39;00m gc_after_trial:\n",
      "File \u001b[1;32mD:\\Programy\\anaconda3\\Lib\\site-packages\\optuna\\study\\_optimize.py:247\u001b[0m, in \u001b[0;36m_run_trial\u001b[1;34m(study, func, catch)\u001b[0m\n\u001b[0;32m    240\u001b[0m         \u001b[38;5;28;01massert\u001b[39;00m \u001b[38;5;28;01mFalse\u001b[39;00m, \u001b[38;5;124m\"\u001b[39m\u001b[38;5;124mShould not reach.\u001b[39m\u001b[38;5;124m\"\u001b[39m\n\u001b[0;32m    242\u001b[0m \u001b[38;5;28;01mif\u001b[39;00m (\n\u001b[0;32m    243\u001b[0m     frozen_trial\u001b[38;5;241m.\u001b[39mstate \u001b[38;5;241m==\u001b[39m TrialState\u001b[38;5;241m.\u001b[39mFAIL\n\u001b[0;32m    244\u001b[0m     \u001b[38;5;129;01mand\u001b[39;00m func_err \u001b[38;5;129;01mis\u001b[39;00m \u001b[38;5;129;01mnot\u001b[39;00m \u001b[38;5;28;01mNone\u001b[39;00m\n\u001b[0;32m    245\u001b[0m     \u001b[38;5;129;01mand\u001b[39;00m \u001b[38;5;129;01mnot\u001b[39;00m \u001b[38;5;28misinstance\u001b[39m(func_err, catch)\n\u001b[0;32m    246\u001b[0m ):\n\u001b[1;32m--> 247\u001b[0m     \u001b[38;5;28;01mraise\u001b[39;00m func_err\n\u001b[0;32m    248\u001b[0m \u001b[38;5;28;01mreturn\u001b[39;00m frozen_trial\n",
      "File \u001b[1;32mD:\\Programy\\anaconda3\\Lib\\site-packages\\optuna\\study\\_optimize.py:196\u001b[0m, in \u001b[0;36m_run_trial\u001b[1;34m(study, func, catch)\u001b[0m\n\u001b[0;32m    194\u001b[0m \u001b[38;5;28;01mwith\u001b[39;00m get_heartbeat_thread(trial\u001b[38;5;241m.\u001b[39m_trial_id, study\u001b[38;5;241m.\u001b[39m_storage):\n\u001b[0;32m    195\u001b[0m     \u001b[38;5;28;01mtry\u001b[39;00m:\n\u001b[1;32m--> 196\u001b[0m         value_or_values \u001b[38;5;241m=\u001b[39m func(trial)\n\u001b[0;32m    197\u001b[0m     \u001b[38;5;28;01mexcept\u001b[39;00m exceptions\u001b[38;5;241m.\u001b[39mTrialPruned \u001b[38;5;28;01mas\u001b[39;00m e:\n\u001b[0;32m    198\u001b[0m         \u001b[38;5;66;03m# TODO(mamu): Handle multi-objective cases.\u001b[39;00m\n\u001b[0;32m    199\u001b[0m         state \u001b[38;5;241m=\u001b[39m TrialState\u001b[38;5;241m.\u001b[39mPRUNED\n",
      "Cell \u001b[1;32mIn[116], line 37\u001b[0m, in \u001b[0;36mobjective\u001b[1;34m(trial)\u001b[0m\n\u001b[0;32m     35\u001b[0m sorted_prediction_ids \u001b[38;5;241m=\u001b[39m np\u001b[38;5;241m.\u001b[39margsort(\u001b[38;5;241m-\u001b[39mpred_tr, axis\u001b[38;5;241m=\u001b[39m\u001b[38;5;241m1\u001b[39m)\n\u001b[0;32m     36\u001b[0m top_3_prediction_ids \u001b[38;5;241m=\u001b[39m sorted_prediction_ids[:,:\u001b[38;5;241m3\u001b[39m]\n\u001b[1;32m---> 37\u001b[0m score \u001b[38;5;241m=\u001b[39m ut\u001b[38;5;241m.\u001b[39mmapk(y\u001b[38;5;241m.\u001b[39mreshape(\u001b[38;5;241m-\u001b[39m\u001b[38;5;241m1\u001b[39m, \u001b[38;5;241m1\u001b[39m), top_3_prediction_ids, k\u001b[38;5;241m=\u001b[39m\u001b[38;5;241m3\u001b[39m)    \n\u001b[0;32m     38\u001b[0m \u001b[38;5;28;01mreturn\u001b[39;00m score\n",
      "\u001b[1;31mAttributeError\u001b[0m: module 'utils' has no attribute 'mapk'"
     ]
    }
   ],
   "source": [
    "optuna.logging.set_verbosity(optuna.logging.WARNING)\n",
    "sampler = optuna.samplers.TPESampler(seed=42)\n",
    "study = optuna.create_study(direction=\"maximize\", sampler=sampler)\n",
    "study.optimize(objective, n_trials=100, show_progress_bar=True)"
   ]
  },
  {
   "cell_type": "code",
   "execution_count": 60,
   "id": "07c3c829",
   "metadata": {
    "collapsed": true
   },
   "outputs": [
    {
     "data": {
      "application/vnd.jupyter.widget-view+json": {
       "model_id": "ec1820877758435f9c1b2bdb64e53b0a",
       "version_major": 2,
       "version_minor": 0
      },
      "text/plain": [
       "  0%|          | 0/5 [00:00<?, ?it/s]"
      ]
     },
     "metadata": {},
     "output_type": "display_data"
    }
   ],
   "source": [
    "study = optuna.create_study()\n",
    "study.optimize(objective, n_trials=5, show_progress_bar=True)"
   ]
  },
  {
   "cell_type": "code",
   "execution_count": 61,
   "id": "b70fd279",
   "metadata": {},
   "outputs": [
    {
     "name": "stdout",
     "output_type": "stream",
     "text": [
      "Best trial: FrozenTrial(number=0, state=1, values=[0.23893805309734512], datetime_start=datetime.datetime(2024, 10, 3, 10, 54, 3, 948217), datetime_complete=datetime.datetime(2024, 10, 3, 10, 54, 5, 981629), params={'n_estimators': 228, 'max_depth': 7, 'max_features': 0.8178540658854897, 'min_samples_split': 10, 'min_samples_leaf': 25, 'max_samples': 0.32268350463391154}, user_attrs={}, system_attrs={}, intermediate_values={}, distributions={'n_estimators': IntDistribution(high=1000, log=True, low=200, step=1), 'max_depth': IntDistribution(high=20, log=True, low=5, step=1), 'max_features': FloatDistribution(high=1.0, log=False, low=0.1, step=None), 'min_samples_split': IntDistribution(high=50, log=False, low=2, step=1), 'min_samples_leaf': IntDistribution(high=25, log=False, low=1, step=1), 'max_samples': FloatDistribution(high=0.99, log=False, low=0.2, step=None)}, trial_id=0, value=None)\n"
     ]
    }
   ],
   "source": [
    "# Print best trial and best hyperparameters\n",
    "print(\"Best trial:\", study.best_trial)"
   ]
  },
  {
   "cell_type": "code",
   "execution_count": 93,
   "id": "90db5ab0",
   "metadata": {},
   "outputs": [
    {
     "name": "stdout",
     "output_type": "stream",
     "text": [
      "Best hyperparameters: {'n_estimators': 988, 'max_depth': 14, 'max_features': 0.2904845133901127, 'min_samples_split': 13, 'min_samples_leaf': 12, 'max_samples': 0.9041261373912746}\n"
     ]
    }
   ],
   "source": [
    "print(\"Best hyperparameters:\", study.best_params)"
   ]
  },
  {
   "cell_type": "code",
   "execution_count": null,
   "id": "9e312e06",
   "metadata": {},
   "outputs": [],
   "source": [
    "# Best hyperparameters: {'n_estimators': 128, 'max_depth': 9, 'min_samples_split': 3, 'min_samples_leaf': 10}"
   ]
  },
  {
   "cell_type": "code",
   "execution_count": 22,
   "id": "6c4e0e32",
   "metadata": {
    "collapsed": true
   },
   "outputs": [
    {
     "data": {
      "text/plain": [
       "{'n_estimators': 128,\n",
       " 'max_depth': 9,\n",
       " 'min_samples_split': 3,\n",
       " 'min_samples_leaf': 10}"
      ]
     },
     "execution_count": 22,
     "metadata": {},
     "output_type": "execute_result"
    }
   ],
   "source": [
    "study.best_params"
   ]
  },
  {
   "cell_type": "code",
   "execution_count": 34,
   "id": "09f8b85e",
   "metadata": {},
   "outputs": [
    {
     "data": {
      "application/vnd.plotly.v1+json": {
       "config": {
        "plotlyServerURL": "https://plot.ly"
       },
       "data": [
        {
         "dimensions": [
          {
           "label": "Objective Value",
           "range": [
            2.436619718309859,
            2.7253521126760565
           ],
           "values": [
            2.7183098591549295,
            2.6549295774647885,
            2.5140845070422535,
            2.619718309859155,
            2.5774647887323945,
            2.436619718309859,
            2.528169014084507,
            2.5774647887323945,
            2.471830985915493,
            2.535211267605634,
            2.4788732394366195,
            2.556338028169014,
            2.5774647887323945,
            2.7253521126760565,
            2.5704225352112675,
            2.6338028169014085,
            2.5492957746478875,
            2.5774647887323945,
            2.492957746478873,
            2.6267605633802815
           ]
          },
          {
           "label": "max_depth",
           "range": [
            0.6989700043360189,
            1.3010299956639813
           ],
           "ticktext": [
            "5",
            "10",
            "20"
           ],
           "tickvals": [
            0.6989700043360189,
            1,
            1.3010299956639813
           ],
           "values": [
            1,
            0.6989700043360189,
            1.2041199826559248,
            1.1139433523068367,
            1.146128035678238,
            1.0413926851582251,
            1.1139433523068367,
            1.2787536009528289,
            1.1139433523068367,
            1,
            0.8450980400142568,
            0.9030899869919435,
            1.0413926851582251,
            0.9030899869919435,
            1.3010299956639813,
            1.1760912590556813,
            0.7781512503836436,
            1.0791812460476249,
            1.2304489213782739,
            0.9542425094393249
           ]
          },
          {
           "label": "max_features",
           "range": [
            0.1339521781501155,
            0.9998405276103561
           ],
           "values": [
            0.5079858800278174,
            0.802027051696177,
            0.7680688597737948,
            0.44627077346987265,
            0.7694430166132676,
            0.36780987395983444,
            0.6276388281591284,
            0.9998405276103561,
            0.29501262812007095,
            0.7168612179822919,
            0.1339521781501155,
            0.29347683956381493,
            0.30979002752040513,
            0.34329452304596736,
            0.13706786909191002,
            0.4113497404590677,
            0.594032337374492,
            0.24949303654449317,
            0.20074035320253586,
            0.4060690177423715
           ]
          },
          {
           "label": "max_samples",
           "range": [
            0.21561951517341044,
            0.9698587399818073
           ],
           "values": [
            0.7825207369065024,
            0.8537687821678126,
            0.8073133385375222,
            0.2843127352319324,
            0.21561951517341044,
            0.623535043562082,
            0.8112388729101023,
            0.46600185694448854,
            0.6499988288302441,
            0.9047354309067426,
            0.5339728917226935,
            0.6755654753109209,
            0.6641535443219234,
            0.41313389398913125,
            0.5938598791394056,
            0.6920185732016436,
            0.3956420456010146,
            0.5608728462261943,
            0.9698587399818073,
            0.7170504058840725
           ]
          },
          {
           "label": "min_samples_leaf",
           "range": [
            2,
            25
           ],
           "values": [
            22,
            10,
            8,
            22,
            18,
            16,
            13,
            2,
            12,
            13,
            18,
            5,
            17,
            15,
            25,
            10,
            7,
            15,
            11,
            21
           ]
          },
          {
           "label": "min_samples_split",
           "range": [
            4,
            50
           ],
           "values": [
            24,
            24,
            36,
            38,
            12,
            27,
            42,
            10,
            25,
            19,
            50,
            31,
            4,
            17,
            30,
            28,
            19,
            34,
            44,
            25
           ]
          },
          {
           "label": "n_estimators",
           "range": [
            2.3201462861110542,
            2.983175072037813
           ],
           "ticktext": [
            "209",
            "962"
           ],
           "tickvals": [
            2.3201462861110542,
            2.983175072037813
           ],
           "values": [
            2.4913616938342726,
            2.3201462861110542,
            2.843855422623161,
            2.519827993775719,
            2.5888317255942073,
            2.73559889969818,
            2.5352941200427703,
            2.469822015978163,
            2.369215857410143,
            2.513217600067939,
            2.795184589682424,
            2.983175072037813,
            2.711807229041191,
            2.3541084391474008,
            2.6893088591236203,
            2.8506462351830666,
            2.3961993470957363,
            2.75815462196739,
            2.640481436970422,
            2.9434945159061026
           ]
          }
         ],
         "labelangle": 30,
         "labelside": "bottom",
         "line": {
          "color": [
           2.7183098591549295,
           2.6549295774647885,
           2.5140845070422535,
           2.619718309859155,
           2.5774647887323945,
           2.436619718309859,
           2.528169014084507,
           2.5774647887323945,
           2.471830985915493,
           2.535211267605634,
           2.4788732394366195,
           2.556338028169014,
           2.5774647887323945,
           2.7253521126760565,
           2.5704225352112675,
           2.6338028169014085,
           2.5492957746478875,
           2.5774647887323945,
           2.492957746478873,
           2.6267605633802815
          ],
          "colorbar": {
           "title": {
            "text": "Objective Value"
           }
          },
          "colorscale": [
           [
            0,
            "rgb(247,251,255)"
           ],
           [
            0.125,
            "rgb(222,235,247)"
           ],
           [
            0.25,
            "rgb(198,219,239)"
           ],
           [
            0.375,
            "rgb(158,202,225)"
           ],
           [
            0.5,
            "rgb(107,174,214)"
           ],
           [
            0.625,
            "rgb(66,146,198)"
           ],
           [
            0.75,
            "rgb(33,113,181)"
           ],
           [
            0.875,
            "rgb(8,81,156)"
           ],
           [
            1,
            "rgb(8,48,107)"
           ]
          ],
          "reversescale": true,
          "showscale": true
         },
         "type": "parcoords"
        }
       ],
       "layout": {
        "template": {
         "data": {
          "bar": [
           {
            "error_x": {
             "color": "#2a3f5f"
            },
            "error_y": {
             "color": "#2a3f5f"
            },
            "marker": {
             "line": {
              "color": "#E5ECF6",
              "width": 0.5
             },
             "pattern": {
              "fillmode": "overlay",
              "size": 10,
              "solidity": 0.2
             }
            },
            "type": "bar"
           }
          ],
          "barpolar": [
           {
            "marker": {
             "line": {
              "color": "#E5ECF6",
              "width": 0.5
             },
             "pattern": {
              "fillmode": "overlay",
              "size": 10,
              "solidity": 0.2
             }
            },
            "type": "barpolar"
           }
          ],
          "carpet": [
           {
            "aaxis": {
             "endlinecolor": "#2a3f5f",
             "gridcolor": "white",
             "linecolor": "white",
             "minorgridcolor": "white",
             "startlinecolor": "#2a3f5f"
            },
            "baxis": {
             "endlinecolor": "#2a3f5f",
             "gridcolor": "white",
             "linecolor": "white",
             "minorgridcolor": "white",
             "startlinecolor": "#2a3f5f"
            },
            "type": "carpet"
           }
          ],
          "choropleth": [
           {
            "colorbar": {
             "outlinewidth": 0,
             "ticks": ""
            },
            "type": "choropleth"
           }
          ],
          "contour": [
           {
            "colorbar": {
             "outlinewidth": 0,
             "ticks": ""
            },
            "colorscale": [
             [
              0,
              "#0d0887"
             ],
             [
              0.1111111111111111,
              "#46039f"
             ],
             [
              0.2222222222222222,
              "#7201a8"
             ],
             [
              0.3333333333333333,
              "#9c179e"
             ],
             [
              0.4444444444444444,
              "#bd3786"
             ],
             [
              0.5555555555555556,
              "#d8576b"
             ],
             [
              0.6666666666666666,
              "#ed7953"
             ],
             [
              0.7777777777777778,
              "#fb9f3a"
             ],
             [
              0.8888888888888888,
              "#fdca26"
             ],
             [
              1,
              "#f0f921"
             ]
            ],
            "type": "contour"
           }
          ],
          "contourcarpet": [
           {
            "colorbar": {
             "outlinewidth": 0,
             "ticks": ""
            },
            "type": "contourcarpet"
           }
          ],
          "heatmap": [
           {
            "colorbar": {
             "outlinewidth": 0,
             "ticks": ""
            },
            "colorscale": [
             [
              0,
              "#0d0887"
             ],
             [
              0.1111111111111111,
              "#46039f"
             ],
             [
              0.2222222222222222,
              "#7201a8"
             ],
             [
              0.3333333333333333,
              "#9c179e"
             ],
             [
              0.4444444444444444,
              "#bd3786"
             ],
             [
              0.5555555555555556,
              "#d8576b"
             ],
             [
              0.6666666666666666,
              "#ed7953"
             ],
             [
              0.7777777777777778,
              "#fb9f3a"
             ],
             [
              0.8888888888888888,
              "#fdca26"
             ],
             [
              1,
              "#f0f921"
             ]
            ],
            "type": "heatmap"
           }
          ],
          "heatmapgl": [
           {
            "colorbar": {
             "outlinewidth": 0,
             "ticks": ""
            },
            "colorscale": [
             [
              0,
              "#0d0887"
             ],
             [
              0.1111111111111111,
              "#46039f"
             ],
             [
              0.2222222222222222,
              "#7201a8"
             ],
             [
              0.3333333333333333,
              "#9c179e"
             ],
             [
              0.4444444444444444,
              "#bd3786"
             ],
             [
              0.5555555555555556,
              "#d8576b"
             ],
             [
              0.6666666666666666,
              "#ed7953"
             ],
             [
              0.7777777777777778,
              "#fb9f3a"
             ],
             [
              0.8888888888888888,
              "#fdca26"
             ],
             [
              1,
              "#f0f921"
             ]
            ],
            "type": "heatmapgl"
           }
          ],
          "histogram": [
           {
            "marker": {
             "pattern": {
              "fillmode": "overlay",
              "size": 10,
              "solidity": 0.2
             }
            },
            "type": "histogram"
           }
          ],
          "histogram2d": [
           {
            "colorbar": {
             "outlinewidth": 0,
             "ticks": ""
            },
            "colorscale": [
             [
              0,
              "#0d0887"
             ],
             [
              0.1111111111111111,
              "#46039f"
             ],
             [
              0.2222222222222222,
              "#7201a8"
             ],
             [
              0.3333333333333333,
              "#9c179e"
             ],
             [
              0.4444444444444444,
              "#bd3786"
             ],
             [
              0.5555555555555556,
              "#d8576b"
             ],
             [
              0.6666666666666666,
              "#ed7953"
             ],
             [
              0.7777777777777778,
              "#fb9f3a"
             ],
             [
              0.8888888888888888,
              "#fdca26"
             ],
             [
              1,
              "#f0f921"
             ]
            ],
            "type": "histogram2d"
           }
          ],
          "histogram2dcontour": [
           {
            "colorbar": {
             "outlinewidth": 0,
             "ticks": ""
            },
            "colorscale": [
             [
              0,
              "#0d0887"
             ],
             [
              0.1111111111111111,
              "#46039f"
             ],
             [
              0.2222222222222222,
              "#7201a8"
             ],
             [
              0.3333333333333333,
              "#9c179e"
             ],
             [
              0.4444444444444444,
              "#bd3786"
             ],
             [
              0.5555555555555556,
              "#d8576b"
             ],
             [
              0.6666666666666666,
              "#ed7953"
             ],
             [
              0.7777777777777778,
              "#fb9f3a"
             ],
             [
              0.8888888888888888,
              "#fdca26"
             ],
             [
              1,
              "#f0f921"
             ]
            ],
            "type": "histogram2dcontour"
           }
          ],
          "mesh3d": [
           {
            "colorbar": {
             "outlinewidth": 0,
             "ticks": ""
            },
            "type": "mesh3d"
           }
          ],
          "parcoords": [
           {
            "line": {
             "colorbar": {
              "outlinewidth": 0,
              "ticks": ""
             }
            },
            "type": "parcoords"
           }
          ],
          "pie": [
           {
            "automargin": true,
            "type": "pie"
           }
          ],
          "scatter": [
           {
            "fillpattern": {
             "fillmode": "overlay",
             "size": 10,
             "solidity": 0.2
            },
            "type": "scatter"
           }
          ],
          "scatter3d": [
           {
            "line": {
             "colorbar": {
              "outlinewidth": 0,
              "ticks": ""
             }
            },
            "marker": {
             "colorbar": {
              "outlinewidth": 0,
              "ticks": ""
             }
            },
            "type": "scatter3d"
           }
          ],
          "scattercarpet": [
           {
            "marker": {
             "colorbar": {
              "outlinewidth": 0,
              "ticks": ""
             }
            },
            "type": "scattercarpet"
           }
          ],
          "scattergeo": [
           {
            "marker": {
             "colorbar": {
              "outlinewidth": 0,
              "ticks": ""
             }
            },
            "type": "scattergeo"
           }
          ],
          "scattergl": [
           {
            "marker": {
             "colorbar": {
              "outlinewidth": 0,
              "ticks": ""
             }
            },
            "type": "scattergl"
           }
          ],
          "scattermapbox": [
           {
            "marker": {
             "colorbar": {
              "outlinewidth": 0,
              "ticks": ""
             }
            },
            "type": "scattermapbox"
           }
          ],
          "scatterpolar": [
           {
            "marker": {
             "colorbar": {
              "outlinewidth": 0,
              "ticks": ""
             }
            },
            "type": "scatterpolar"
           }
          ],
          "scatterpolargl": [
           {
            "marker": {
             "colorbar": {
              "outlinewidth": 0,
              "ticks": ""
             }
            },
            "type": "scatterpolargl"
           }
          ],
          "scatterternary": [
           {
            "marker": {
             "colorbar": {
              "outlinewidth": 0,
              "ticks": ""
             }
            },
            "type": "scatterternary"
           }
          ],
          "surface": [
           {
            "colorbar": {
             "outlinewidth": 0,
             "ticks": ""
            },
            "colorscale": [
             [
              0,
              "#0d0887"
             ],
             [
              0.1111111111111111,
              "#46039f"
             ],
             [
              0.2222222222222222,
              "#7201a8"
             ],
             [
              0.3333333333333333,
              "#9c179e"
             ],
             [
              0.4444444444444444,
              "#bd3786"
             ],
             [
              0.5555555555555556,
              "#d8576b"
             ],
             [
              0.6666666666666666,
              "#ed7953"
             ],
             [
              0.7777777777777778,
              "#fb9f3a"
             ],
             [
              0.8888888888888888,
              "#fdca26"
             ],
             [
              1,
              "#f0f921"
             ]
            ],
            "type": "surface"
           }
          ],
          "table": [
           {
            "cells": {
             "fill": {
              "color": "#EBF0F8"
             },
             "line": {
              "color": "white"
             }
            },
            "header": {
             "fill": {
              "color": "#C8D4E3"
             },
             "line": {
              "color": "white"
             }
            },
            "type": "table"
           }
          ]
         },
         "layout": {
          "annotationdefaults": {
           "arrowcolor": "#2a3f5f",
           "arrowhead": 0,
           "arrowwidth": 1
          },
          "autotypenumbers": "strict",
          "coloraxis": {
           "colorbar": {
            "outlinewidth": 0,
            "ticks": ""
           }
          },
          "colorscale": {
           "diverging": [
            [
             0,
             "#8e0152"
            ],
            [
             0.1,
             "#c51b7d"
            ],
            [
             0.2,
             "#de77ae"
            ],
            [
             0.3,
             "#f1b6da"
            ],
            [
             0.4,
             "#fde0ef"
            ],
            [
             0.5,
             "#f7f7f7"
            ],
            [
             0.6,
             "#e6f5d0"
            ],
            [
             0.7,
             "#b8e186"
            ],
            [
             0.8,
             "#7fbc41"
            ],
            [
             0.9,
             "#4d9221"
            ],
            [
             1,
             "#276419"
            ]
           ],
           "sequential": [
            [
             0,
             "#0d0887"
            ],
            [
             0.1111111111111111,
             "#46039f"
            ],
            [
             0.2222222222222222,
             "#7201a8"
            ],
            [
             0.3333333333333333,
             "#9c179e"
            ],
            [
             0.4444444444444444,
             "#bd3786"
            ],
            [
             0.5555555555555556,
             "#d8576b"
            ],
            [
             0.6666666666666666,
             "#ed7953"
            ],
            [
             0.7777777777777778,
             "#fb9f3a"
            ],
            [
             0.8888888888888888,
             "#fdca26"
            ],
            [
             1,
             "#f0f921"
            ]
           ],
           "sequentialminus": [
            [
             0,
             "#0d0887"
            ],
            [
             0.1111111111111111,
             "#46039f"
            ],
            [
             0.2222222222222222,
             "#7201a8"
            ],
            [
             0.3333333333333333,
             "#9c179e"
            ],
            [
             0.4444444444444444,
             "#bd3786"
            ],
            [
             0.5555555555555556,
             "#d8576b"
            ],
            [
             0.6666666666666666,
             "#ed7953"
            ],
            [
             0.7777777777777778,
             "#fb9f3a"
            ],
            [
             0.8888888888888888,
             "#fdca26"
            ],
            [
             1,
             "#f0f921"
            ]
           ]
          },
          "colorway": [
           "#636efa",
           "#EF553B",
           "#00cc96",
           "#ab63fa",
           "#FFA15A",
           "#19d3f3",
           "#FF6692",
           "#B6E880",
           "#FF97FF",
           "#FECB52"
          ],
          "font": {
           "color": "#2a3f5f"
          },
          "geo": {
           "bgcolor": "white",
           "lakecolor": "white",
           "landcolor": "#E5ECF6",
           "showlakes": true,
           "showland": true,
           "subunitcolor": "white"
          },
          "hoverlabel": {
           "align": "left"
          },
          "hovermode": "closest",
          "mapbox": {
           "style": "light"
          },
          "paper_bgcolor": "white",
          "plot_bgcolor": "#E5ECF6",
          "polar": {
           "angularaxis": {
            "gridcolor": "white",
            "linecolor": "white",
            "ticks": ""
           },
           "bgcolor": "#E5ECF6",
           "radialaxis": {
            "gridcolor": "white",
            "linecolor": "white",
            "ticks": ""
           }
          },
          "scene": {
           "xaxis": {
            "backgroundcolor": "#E5ECF6",
            "gridcolor": "white",
            "gridwidth": 2,
            "linecolor": "white",
            "showbackground": true,
            "ticks": "",
            "zerolinecolor": "white"
           },
           "yaxis": {
            "backgroundcolor": "#E5ECF6",
            "gridcolor": "white",
            "gridwidth": 2,
            "linecolor": "white",
            "showbackground": true,
            "ticks": "",
            "zerolinecolor": "white"
           },
           "zaxis": {
            "backgroundcolor": "#E5ECF6",
            "gridcolor": "white",
            "gridwidth": 2,
            "linecolor": "white",
            "showbackground": true,
            "ticks": "",
            "zerolinecolor": "white"
           }
          },
          "shapedefaults": {
           "line": {
            "color": "#2a3f5f"
           }
          },
          "ternary": {
           "aaxis": {
            "gridcolor": "white",
            "linecolor": "white",
            "ticks": ""
           },
           "baxis": {
            "gridcolor": "white",
            "linecolor": "white",
            "ticks": ""
           },
           "bgcolor": "#E5ECF6",
           "caxis": {
            "gridcolor": "white",
            "linecolor": "white",
            "ticks": ""
           }
          },
          "title": {
           "x": 0.05
          },
          "xaxis": {
           "automargin": true,
           "gridcolor": "white",
           "linecolor": "white",
           "ticks": "",
           "title": {
            "standoff": 15
           },
           "zerolinecolor": "white",
           "zerolinewidth": 2
          },
          "yaxis": {
           "automargin": true,
           "gridcolor": "white",
           "linecolor": "white",
           "ticks": "",
           "title": {
            "standoff": 15
           },
           "zerolinecolor": "white",
           "zerolinewidth": 2
          }
         }
        },
        "title": {
         "text": "Parallel Coordinate Plot"
        }
       }
      },
      "text/html": [
       "<div>                            <div id=\"505e3539-e263-48af-a5c3-886add361e37\" class=\"plotly-graph-div\" style=\"height:525px; width:100%;\"></div>            <script type=\"text/javascript\">                require([\"plotly\"], function(Plotly) {                    window.PLOTLYENV=window.PLOTLYENV || {};                                    if (document.getElementById(\"505e3539-e263-48af-a5c3-886add361e37\")) {                    Plotly.newPlot(                        \"505e3539-e263-48af-a5c3-886add361e37\",                        [{\"dimensions\":[{\"label\":\"Objective Value\",\"range\":[2.436619718309859,2.7253521126760565],\"values\":[2.7183098591549295,2.6549295774647885,2.5140845070422535,2.619718309859155,2.5774647887323945,2.436619718309859,2.528169014084507,2.5774647887323945,2.471830985915493,2.535211267605634,2.4788732394366195,2.556338028169014,2.5774647887323945,2.7253521126760565,2.5704225352112675,2.6338028169014085,2.5492957746478875,2.5774647887323945,2.492957746478873,2.6267605633802815]},{\"label\":\"max_depth\",\"range\":[0.6989700043360189,1.3010299956639813],\"ticktext\":[\"5\",\"10\",\"20\"],\"tickvals\":[0.6989700043360189,1,1.3010299956639813],\"values\":[1.0,0.6989700043360189,1.2041199826559248,1.1139433523068367,1.146128035678238,1.0413926851582251,1.1139433523068367,1.2787536009528289,1.1139433523068367,1.0,0.8450980400142568,0.9030899869919435,1.0413926851582251,0.9030899869919435,1.3010299956639813,1.1760912590556813,0.7781512503836436,1.0791812460476249,1.2304489213782739,0.9542425094393249]},{\"label\":\"max_features\",\"range\":[0.1339521781501155,0.9998405276103561],\"values\":[0.5079858800278174,0.802027051696177,0.7680688597737948,0.44627077346987265,0.7694430166132676,0.36780987395983444,0.6276388281591284,0.9998405276103561,0.29501262812007095,0.7168612179822919,0.1339521781501155,0.29347683956381493,0.30979002752040513,0.34329452304596736,0.13706786909191002,0.4113497404590677,0.594032337374492,0.24949303654449317,0.20074035320253586,0.4060690177423715]},{\"label\":\"max_samples\",\"range\":[0.21561951517341044,0.9698587399818073],\"values\":[0.7825207369065024,0.8537687821678126,0.8073133385375222,0.2843127352319324,0.21561951517341044,0.623535043562082,0.8112388729101023,0.46600185694448854,0.6499988288302441,0.9047354309067426,0.5339728917226935,0.6755654753109209,0.6641535443219234,0.41313389398913125,0.5938598791394056,0.6920185732016436,0.3956420456010146,0.5608728462261943,0.9698587399818073,0.7170504058840725]},{\"label\":\"min_samples_leaf\",\"range\":[2,25],\"values\":[22,10,8,22,18,16,13,2,12,13,18,5,17,15,25,10,7,15,11,21]},{\"label\":\"min_samples_split\",\"range\":[4,50],\"values\":[24,24,36,38,12,27,42,10,25,19,50,31,4,17,30,28,19,34,44,25]},{\"label\":\"n_estimators\",\"range\":[2.3201462861110542,2.983175072037813],\"ticktext\":[\"209\",\"962\"],\"tickvals\":[2.3201462861110542,2.983175072037813],\"values\":[2.4913616938342726,2.3201462861110542,2.843855422623161,2.519827993775719,2.5888317255942073,2.73559889969818,2.5352941200427703,2.469822015978163,2.369215857410143,2.513217600067939,2.795184589682424,2.983175072037813,2.711807229041191,2.3541084391474008,2.6893088591236203,2.8506462351830666,2.3961993470957363,2.75815462196739,2.640481436970422,2.9434945159061026]}],\"labelangle\":30,\"labelside\":\"bottom\",\"line\":{\"color\":[2.7183098591549295,2.6549295774647885,2.5140845070422535,2.619718309859155,2.5774647887323945,2.436619718309859,2.528169014084507,2.5774647887323945,2.471830985915493,2.535211267605634,2.4788732394366195,2.556338028169014,2.5774647887323945,2.7253521126760565,2.5704225352112675,2.6338028169014085,2.5492957746478875,2.5774647887323945,2.492957746478873,2.6267605633802815],\"colorbar\":{\"title\":{\"text\":\"Objective Value\"}},\"colorscale\":[[0.0,\"rgb(247,251,255)\"],[0.125,\"rgb(222,235,247)\"],[0.25,\"rgb(198,219,239)\"],[0.375,\"rgb(158,202,225)\"],[0.5,\"rgb(107,174,214)\"],[0.625,\"rgb(66,146,198)\"],[0.75,\"rgb(33,113,181)\"],[0.875,\"rgb(8,81,156)\"],[1.0,\"rgb(8,48,107)\"]],\"reversescale\":true,\"showscale\":true},\"type\":\"parcoords\"}],                        {\"title\":{\"text\":\"Parallel Coordinate Plot\"},\"template\":{\"data\":{\"histogram2dcontour\":[{\"type\":\"histogram2dcontour\",\"colorbar\":{\"outlinewidth\":0,\"ticks\":\"\"},\"colorscale\":[[0.0,\"#0d0887\"],[0.1111111111111111,\"#46039f\"],[0.2222222222222222,\"#7201a8\"],[0.3333333333333333,\"#9c179e\"],[0.4444444444444444,\"#bd3786\"],[0.5555555555555556,\"#d8576b\"],[0.6666666666666666,\"#ed7953\"],[0.7777777777777778,\"#fb9f3a\"],[0.8888888888888888,\"#fdca26\"],[1.0,\"#f0f921\"]]}],\"choropleth\":[{\"type\":\"choropleth\",\"colorbar\":{\"outlinewidth\":0,\"ticks\":\"\"}}],\"histogram2d\":[{\"type\":\"histogram2d\",\"colorbar\":{\"outlinewidth\":0,\"ticks\":\"\"},\"colorscale\":[[0.0,\"#0d0887\"],[0.1111111111111111,\"#46039f\"],[0.2222222222222222,\"#7201a8\"],[0.3333333333333333,\"#9c179e\"],[0.4444444444444444,\"#bd3786\"],[0.5555555555555556,\"#d8576b\"],[0.6666666666666666,\"#ed7953\"],[0.7777777777777778,\"#fb9f3a\"],[0.8888888888888888,\"#fdca26\"],[1.0,\"#f0f921\"]]}],\"heatmap\":[{\"type\":\"heatmap\",\"colorbar\":{\"outlinewidth\":0,\"ticks\":\"\"},\"colorscale\":[[0.0,\"#0d0887\"],[0.1111111111111111,\"#46039f\"],[0.2222222222222222,\"#7201a8\"],[0.3333333333333333,\"#9c179e\"],[0.4444444444444444,\"#bd3786\"],[0.5555555555555556,\"#d8576b\"],[0.6666666666666666,\"#ed7953\"],[0.7777777777777778,\"#fb9f3a\"],[0.8888888888888888,\"#fdca26\"],[1.0,\"#f0f921\"]]}],\"heatmapgl\":[{\"type\":\"heatmapgl\",\"colorbar\":{\"outlinewidth\":0,\"ticks\":\"\"},\"colorscale\":[[0.0,\"#0d0887\"],[0.1111111111111111,\"#46039f\"],[0.2222222222222222,\"#7201a8\"],[0.3333333333333333,\"#9c179e\"],[0.4444444444444444,\"#bd3786\"],[0.5555555555555556,\"#d8576b\"],[0.6666666666666666,\"#ed7953\"],[0.7777777777777778,\"#fb9f3a\"],[0.8888888888888888,\"#fdca26\"],[1.0,\"#f0f921\"]]}],\"contourcarpet\":[{\"type\":\"contourcarpet\",\"colorbar\":{\"outlinewidth\":0,\"ticks\":\"\"}}],\"contour\":[{\"type\":\"contour\",\"colorbar\":{\"outlinewidth\":0,\"ticks\":\"\"},\"colorscale\":[[0.0,\"#0d0887\"],[0.1111111111111111,\"#46039f\"],[0.2222222222222222,\"#7201a8\"],[0.3333333333333333,\"#9c179e\"],[0.4444444444444444,\"#bd3786\"],[0.5555555555555556,\"#d8576b\"],[0.6666666666666666,\"#ed7953\"],[0.7777777777777778,\"#fb9f3a\"],[0.8888888888888888,\"#fdca26\"],[1.0,\"#f0f921\"]]}],\"surface\":[{\"type\":\"surface\",\"colorbar\":{\"outlinewidth\":0,\"ticks\":\"\"},\"colorscale\":[[0.0,\"#0d0887\"],[0.1111111111111111,\"#46039f\"],[0.2222222222222222,\"#7201a8\"],[0.3333333333333333,\"#9c179e\"],[0.4444444444444444,\"#bd3786\"],[0.5555555555555556,\"#d8576b\"],[0.6666666666666666,\"#ed7953\"],[0.7777777777777778,\"#fb9f3a\"],[0.8888888888888888,\"#fdca26\"],[1.0,\"#f0f921\"]]}],\"mesh3d\":[{\"type\":\"mesh3d\",\"colorbar\":{\"outlinewidth\":0,\"ticks\":\"\"}}],\"scatter\":[{\"fillpattern\":{\"fillmode\":\"overlay\",\"size\":10,\"solidity\":0.2},\"type\":\"scatter\"}],\"parcoords\":[{\"type\":\"parcoords\",\"line\":{\"colorbar\":{\"outlinewidth\":0,\"ticks\":\"\"}}}],\"scatterpolargl\":[{\"type\":\"scatterpolargl\",\"marker\":{\"colorbar\":{\"outlinewidth\":0,\"ticks\":\"\"}}}],\"bar\":[{\"error_x\":{\"color\":\"#2a3f5f\"},\"error_y\":{\"color\":\"#2a3f5f\"},\"marker\":{\"line\":{\"color\":\"#E5ECF6\",\"width\":0.5},\"pattern\":{\"fillmode\":\"overlay\",\"size\":10,\"solidity\":0.2}},\"type\":\"bar\"}],\"scattergeo\":[{\"type\":\"scattergeo\",\"marker\":{\"colorbar\":{\"outlinewidth\":0,\"ticks\":\"\"}}}],\"scatterpolar\":[{\"type\":\"scatterpolar\",\"marker\":{\"colorbar\":{\"outlinewidth\":0,\"ticks\":\"\"}}}],\"histogram\":[{\"marker\":{\"pattern\":{\"fillmode\":\"overlay\",\"size\":10,\"solidity\":0.2}},\"type\":\"histogram\"}],\"scattergl\":[{\"type\":\"scattergl\",\"marker\":{\"colorbar\":{\"outlinewidth\":0,\"ticks\":\"\"}}}],\"scatter3d\":[{\"type\":\"scatter3d\",\"line\":{\"colorbar\":{\"outlinewidth\":0,\"ticks\":\"\"}},\"marker\":{\"colorbar\":{\"outlinewidth\":0,\"ticks\":\"\"}}}],\"scattermapbox\":[{\"type\":\"scattermapbox\",\"marker\":{\"colorbar\":{\"outlinewidth\":0,\"ticks\":\"\"}}}],\"scatterternary\":[{\"type\":\"scatterternary\",\"marker\":{\"colorbar\":{\"outlinewidth\":0,\"ticks\":\"\"}}}],\"scattercarpet\":[{\"type\":\"scattercarpet\",\"marker\":{\"colorbar\":{\"outlinewidth\":0,\"ticks\":\"\"}}}],\"carpet\":[{\"aaxis\":{\"endlinecolor\":\"#2a3f5f\",\"gridcolor\":\"white\",\"linecolor\":\"white\",\"minorgridcolor\":\"white\",\"startlinecolor\":\"#2a3f5f\"},\"baxis\":{\"endlinecolor\":\"#2a3f5f\",\"gridcolor\":\"white\",\"linecolor\":\"white\",\"minorgridcolor\":\"white\",\"startlinecolor\":\"#2a3f5f\"},\"type\":\"carpet\"}],\"table\":[{\"cells\":{\"fill\":{\"color\":\"#EBF0F8\"},\"line\":{\"color\":\"white\"}},\"header\":{\"fill\":{\"color\":\"#C8D4E3\"},\"line\":{\"color\":\"white\"}},\"type\":\"table\"}],\"barpolar\":[{\"marker\":{\"line\":{\"color\":\"#E5ECF6\",\"width\":0.5},\"pattern\":{\"fillmode\":\"overlay\",\"size\":10,\"solidity\":0.2}},\"type\":\"barpolar\"}],\"pie\":[{\"automargin\":true,\"type\":\"pie\"}]},\"layout\":{\"autotypenumbers\":\"strict\",\"colorway\":[\"#636efa\",\"#EF553B\",\"#00cc96\",\"#ab63fa\",\"#FFA15A\",\"#19d3f3\",\"#FF6692\",\"#B6E880\",\"#FF97FF\",\"#FECB52\"],\"font\":{\"color\":\"#2a3f5f\"},\"hovermode\":\"closest\",\"hoverlabel\":{\"align\":\"left\"},\"paper_bgcolor\":\"white\",\"plot_bgcolor\":\"#E5ECF6\",\"polar\":{\"bgcolor\":\"#E5ECF6\",\"angularaxis\":{\"gridcolor\":\"white\",\"linecolor\":\"white\",\"ticks\":\"\"},\"radialaxis\":{\"gridcolor\":\"white\",\"linecolor\":\"white\",\"ticks\":\"\"}},\"ternary\":{\"bgcolor\":\"#E5ECF6\",\"aaxis\":{\"gridcolor\":\"white\",\"linecolor\":\"white\",\"ticks\":\"\"},\"baxis\":{\"gridcolor\":\"white\",\"linecolor\":\"white\",\"ticks\":\"\"},\"caxis\":{\"gridcolor\":\"white\",\"linecolor\":\"white\",\"ticks\":\"\"}},\"coloraxis\":{\"colorbar\":{\"outlinewidth\":0,\"ticks\":\"\"}},\"colorscale\":{\"sequential\":[[0.0,\"#0d0887\"],[0.1111111111111111,\"#46039f\"],[0.2222222222222222,\"#7201a8\"],[0.3333333333333333,\"#9c179e\"],[0.4444444444444444,\"#bd3786\"],[0.5555555555555556,\"#d8576b\"],[0.6666666666666666,\"#ed7953\"],[0.7777777777777778,\"#fb9f3a\"],[0.8888888888888888,\"#fdca26\"],[1.0,\"#f0f921\"]],\"sequentialminus\":[[0.0,\"#0d0887\"],[0.1111111111111111,\"#46039f\"],[0.2222222222222222,\"#7201a8\"],[0.3333333333333333,\"#9c179e\"],[0.4444444444444444,\"#bd3786\"],[0.5555555555555556,\"#d8576b\"],[0.6666666666666666,\"#ed7953\"],[0.7777777777777778,\"#fb9f3a\"],[0.8888888888888888,\"#fdca26\"],[1.0,\"#f0f921\"]],\"diverging\":[[0,\"#8e0152\"],[0.1,\"#c51b7d\"],[0.2,\"#de77ae\"],[0.3,\"#f1b6da\"],[0.4,\"#fde0ef\"],[0.5,\"#f7f7f7\"],[0.6,\"#e6f5d0\"],[0.7,\"#b8e186\"],[0.8,\"#7fbc41\"],[0.9,\"#4d9221\"],[1,\"#276419\"]]},\"xaxis\":{\"gridcolor\":\"white\",\"linecolor\":\"white\",\"ticks\":\"\",\"title\":{\"standoff\":15},\"zerolinecolor\":\"white\",\"automargin\":true,\"zerolinewidth\":2},\"yaxis\":{\"gridcolor\":\"white\",\"linecolor\":\"white\",\"ticks\":\"\",\"title\":{\"standoff\":15},\"zerolinecolor\":\"white\",\"automargin\":true,\"zerolinewidth\":2},\"scene\":{\"xaxis\":{\"backgroundcolor\":\"#E5ECF6\",\"gridcolor\":\"white\",\"linecolor\":\"white\",\"showbackground\":true,\"ticks\":\"\",\"zerolinecolor\":\"white\",\"gridwidth\":2},\"yaxis\":{\"backgroundcolor\":\"#E5ECF6\",\"gridcolor\":\"white\",\"linecolor\":\"white\",\"showbackground\":true,\"ticks\":\"\",\"zerolinecolor\":\"white\",\"gridwidth\":2},\"zaxis\":{\"backgroundcolor\":\"#E5ECF6\",\"gridcolor\":\"white\",\"linecolor\":\"white\",\"showbackground\":true,\"ticks\":\"\",\"zerolinecolor\":\"white\",\"gridwidth\":2}},\"shapedefaults\":{\"line\":{\"color\":\"#2a3f5f\"}},\"annotationdefaults\":{\"arrowcolor\":\"#2a3f5f\",\"arrowhead\":0,\"arrowwidth\":1},\"geo\":{\"bgcolor\":\"white\",\"landcolor\":\"#E5ECF6\",\"subunitcolor\":\"white\",\"showland\":true,\"showlakes\":true,\"lakecolor\":\"white\"},\"title\":{\"x\":0.05},\"mapbox\":{\"style\":\"light\"}}}},                        {\"responsive\": true}                    ).then(function(){\n",
       "                            \n",
       "var gd = document.getElementById('505e3539-e263-48af-a5c3-886add361e37');\n",
       "var x = new MutationObserver(function (mutations, observer) {{\n",
       "        var display = window.getComputedStyle(gd).display;\n",
       "        if (!display || display === 'none') {{\n",
       "            console.log([gd, 'removed!']);\n",
       "            Plotly.purge(gd);\n",
       "            observer.disconnect();\n",
       "        }}\n",
       "}});\n",
       "\n",
       "// Listen for the removal of the full notebook cells\n",
       "var notebookContainer = gd.closest('#notebook-container');\n",
       "if (notebookContainer) {{\n",
       "    x.observe(notebookContainer, {childList: true});\n",
       "}}\n",
       "\n",
       "// Listen for the clearing of the current output cell\n",
       "var outputEl = gd.closest('.output');\n",
       "if (outputEl) {{\n",
       "    x.observe(outputEl, {childList: true});\n",
       "}}\n",
       "\n",
       "                        })                };                });            </script>        </div>"
      ]
     },
     "metadata": {},
     "output_type": "display_data"
    }
   ],
   "source": [
    "# Import optuna.visualization\n",
    "import optuna.visualization as vis\n",
    "\n",
    "# Plot optimization history\n",
    "vis.plot_optimization_history(study)\n",
    "\n",
    "# Plot parameter importance\n",
    "vis.plot_param_importances(study)\n",
    "\n",
    "# Plot slice plot\n",
    "vis.plot_slice(study, params=[\"n_estimators\", \"max_depth\"])\n",
    "\n",
    "# Plot contour plot\n",
    "vis.plot_contour(study, params=[\"min_samples_split\", \"min_samples_leaf\"])\n",
    "\n",
    "# Plot parallel_coordinate\n",
    "vis.plot_parallel_coordinate(study)"
   ]
  },
  {
   "cell_type": "markdown",
   "id": "ba870994",
   "metadata": {},
   "source": [
    "# RandomForestRegresor"
   ]
  },
  {
   "cell_type": "code",
   "execution_count": 132,
   "id": "50765465",
   "metadata": {},
   "outputs": [],
   "source": [
    "from sklearn.ensemble import RandomForestRegressor\n",
    "from sklearn.metrics import mean_absolute_error\n",
    "from sklearn.metrics import accuracy_score, roc_auc_score, roc_curve, RocCurveDisplay,  log_loss, f1_score, r2_score"
   ]
  },
  {
   "cell_type": "code",
   "execution_count": 133,
   "id": "e4432f49",
   "metadata": {},
   "outputs": [],
   "source": [
    "RFR_model = RandomForestRegressor(random_state=42)"
   ]
  },
  {
   "cell_type": "code",
   "execution_count": 134,
   "id": "596c98f3",
   "metadata": {},
   "outputs": [],
   "source": [
    "RFR=RFR_model.fit(X_train, y_train)"
   ]
  },
  {
   "cell_type": "code",
   "execution_count": 135,
   "id": "324e6648",
   "metadata": {},
   "outputs": [],
   "source": [
    "RFR_predict = RFR.predict(X_test)"
   ]
  },
  {
   "cell_type": "code",
   "execution_count": 137,
   "id": "9ae5d716",
   "metadata": {},
   "outputs": [
    {
     "name": "stdout",
     "output_type": "stream",
     "text": [
      "Train Score:0.893264255252321\n",
      "Valid Score:0.2056859531669708\n",
      "MAE: 2.3207746478873235\n"
     ]
    }
   ],
   "source": [
    "print(f'Train Score:{RFR_model.score(X_train, y_train)}')\n",
    "print(f'Valid Score:{RFR_model.score(X_test, y_test)}')\n",
    "print(f'MAE: {mean_absolute_error(y_test, RFR_predict)}')"
   ]
  },
  {
   "cell_type": "code",
   "execution_count": 138,
   "id": "65553b05",
   "metadata": {},
   "outputs": [],
   "source": [
    "kf = KFold(n_splits=5)"
   ]
  },
  {
   "cell_type": "code",
   "execution_count": 142,
   "id": "c4bf28f0",
   "metadata": {},
   "outputs": [],
   "source": [
    "def objective(trial):\n",
    "    n_estimators = trial.suggest_int(\"n_estimators\", 10, 150, log=True)\n",
    "    max_depth = trial.suggest_int(\"max_depth\", 5, 20, log=True)\n",
    "    max_features = trial.suggest_float('max_features', 0.15, 1.0)\n",
    "    min_samples_split = trial.suggest_int('min_samples_split', 2, 28)\n",
    "    min_samples_leaf = trial.suggest_int('min_samples_leaf', 1, 14)\n",
    "    max_samples = trial.suggest_float('max_samples', 0.3, 0.9)\n",
    "\n",
    "    model = RandomForestRegressor(max_depth=max_depth,\n",
    "                                  n_estimators=n_estimators,\n",
    "                                  max_features=max_features,\n",
    "                                  min_samples_split=min_samples_split,\n",
    "                                  min_samples_leaf=min_samples_leaf,\n",
    "                                  max_samples=max_samples,\n",
    "                                  bootstrap=True,\n",
    "                                  n_jobs=2,\n",
    "                                  verbose=0,\n",
    "                                  random_state=42)\n",
    "    \n",
    "    cvs = cross_val_score(model,\n",
    "                          cv=kf,\n",
    "                          X=X_train,\n",
    "                          y=y_train,\n",
    "                          scoring='neg_root_mean_squared_error')\n",
    "    score = cvs.mean()\n",
    "    return score"
   ]
  },
  {
   "cell_type": "code",
   "execution_count": 146,
   "id": "3acf4329",
   "metadata": {},
   "outputs": [
    {
     "data": {
      "application/vnd.jupyter.widget-view+json": {
       "model_id": "ceead4f8d75a48679ecfba80f3efcafa",
       "version_major": 2,
       "version_minor": 0
      },
      "text/plain": [
       "  0%|          | 0/100 [00:00<?, ?it/s]"
      ]
     },
     "metadata": {},
     "output_type": "display_data"
    }
   ],
   "source": [
    "optuna.logging.set_verbosity(optuna.logging.WARNING)\n",
    "sampler = optuna.samplers.TPESampler(seed=42)\n",
    "study = optuna.create_study(direction=\"maximize\", sampler=sampler)\n",
    "study.optimize(objective, n_trials=100, show_progress_bar=True)"
   ]
  },
  {
   "cell_type": "code",
   "execution_count": 147,
   "id": "578e10e2",
   "metadata": {},
   "outputs": [
    {
     "name": "stdout",
     "output_type": "stream",
     "text": [
      "Best hyperparameters: {'n_estimators': 150, 'max_depth': 11, 'max_features': 0.32010011491238954, 'min_samples_split': 14, 'min_samples_leaf': 1, 'max_samples': 0.7607392194343146}\n"
     ]
    }
   ],
   "source": [
    "print(\"Best hyperparameters:\", study.best_params)"
   ]
  },
  {
   "cell_type": "code",
   "execution_count": 148,
   "id": "b0f0967b",
   "metadata": {},
   "outputs": [
    {
     "data": {
      "text/html": [
       "<style>#sk-container-id-9 {color: black;}#sk-container-id-9 pre{padding: 0;}#sk-container-id-9 div.sk-toggleable {background-color: white;}#sk-container-id-9 label.sk-toggleable__label {cursor: pointer;display: block;width: 100%;margin-bottom: 0;padding: 0.3em;box-sizing: border-box;text-align: center;}#sk-container-id-9 label.sk-toggleable__label-arrow:before {content: \"▸\";float: left;margin-right: 0.25em;color: #696969;}#sk-container-id-9 label.sk-toggleable__label-arrow:hover:before {color: black;}#sk-container-id-9 div.sk-estimator:hover label.sk-toggleable__label-arrow:before {color: black;}#sk-container-id-9 div.sk-toggleable__content {max-height: 0;max-width: 0;overflow: hidden;text-align: left;background-color: #f0f8ff;}#sk-container-id-9 div.sk-toggleable__content pre {margin: 0.2em;color: black;border-radius: 0.25em;background-color: #f0f8ff;}#sk-container-id-9 input.sk-toggleable__control:checked~div.sk-toggleable__content {max-height: 200px;max-width: 100%;overflow: auto;}#sk-container-id-9 input.sk-toggleable__control:checked~label.sk-toggleable__label-arrow:before {content: \"▾\";}#sk-container-id-9 div.sk-estimator input.sk-toggleable__control:checked~label.sk-toggleable__label {background-color: #d4ebff;}#sk-container-id-9 div.sk-label input.sk-toggleable__control:checked~label.sk-toggleable__label {background-color: #d4ebff;}#sk-container-id-9 input.sk-hidden--visually {border: 0;clip: rect(1px 1px 1px 1px);clip: rect(1px, 1px, 1px, 1px);height: 1px;margin: -1px;overflow: hidden;padding: 0;position: absolute;width: 1px;}#sk-container-id-9 div.sk-estimator {font-family: monospace;background-color: #f0f8ff;border: 1px dotted black;border-radius: 0.25em;box-sizing: border-box;margin-bottom: 0.5em;}#sk-container-id-9 div.sk-estimator:hover {background-color: #d4ebff;}#sk-container-id-9 div.sk-parallel-item::after {content: \"\";width: 100%;border-bottom: 1px solid gray;flex-grow: 1;}#sk-container-id-9 div.sk-label:hover label.sk-toggleable__label {background-color: #d4ebff;}#sk-container-id-9 div.sk-serial::before {content: \"\";position: absolute;border-left: 1px solid gray;box-sizing: border-box;top: 0;bottom: 0;left: 50%;z-index: 0;}#sk-container-id-9 div.sk-serial {display: flex;flex-direction: column;align-items: center;background-color: white;padding-right: 0.2em;padding-left: 0.2em;position: relative;}#sk-container-id-9 div.sk-item {position: relative;z-index: 1;}#sk-container-id-9 div.sk-parallel {display: flex;align-items: stretch;justify-content: center;background-color: white;position: relative;}#sk-container-id-9 div.sk-item::before, #sk-container-id-9 div.sk-parallel-item::before {content: \"\";position: absolute;border-left: 1px solid gray;box-sizing: border-box;top: 0;bottom: 0;left: 50%;z-index: -1;}#sk-container-id-9 div.sk-parallel-item {display: flex;flex-direction: column;z-index: 1;position: relative;background-color: white;}#sk-container-id-9 div.sk-parallel-item:first-child::after {align-self: flex-end;width: 50%;}#sk-container-id-9 div.sk-parallel-item:last-child::after {align-self: flex-start;width: 50%;}#sk-container-id-9 div.sk-parallel-item:only-child::after {width: 0;}#sk-container-id-9 div.sk-dashed-wrapped {border: 1px dashed gray;margin: 0 0.4em 0.5em 0.4em;box-sizing: border-box;padding-bottom: 0.4em;background-color: white;}#sk-container-id-9 div.sk-label label {font-family: monospace;font-weight: bold;display: inline-block;line-height: 1.2em;}#sk-container-id-9 div.sk-label-container {text-align: center;}#sk-container-id-9 div.sk-container {/* jupyter's `normalize.less` sets `[hidden] { display: none; }` but bootstrap.min.css set `[hidden] { display: none !important; }` so we also need the `!important` here to be able to override the default hidden behavior on the sphinx rendered scikit-learn.org. See: https://github.com/scikit-learn/scikit-learn/issues/21755 */display: inline-block !important;position: relative;}#sk-container-id-9 div.sk-text-repr-fallback {display: none;}</style><div id=\"sk-container-id-9\" class=\"sk-top-container\"><div class=\"sk-text-repr-fallback\"><pre>RandomForestRegressor(max_depth=11, max_features=0.32010011491238954,\n",
       "                      max_samples=0.7607392194343146, min_samples_split=14,\n",
       "                      n_estimators=150, random_state=42)</pre><b>In a Jupyter environment, please rerun this cell to show the HTML representation or trust the notebook. <br />On GitHub, the HTML representation is unable to render, please try loading this page with nbviewer.org.</b></div><div class=\"sk-container\" hidden><div class=\"sk-item\"><div class=\"sk-estimator sk-toggleable\"><input class=\"sk-toggleable__control sk-hidden--visually\" id=\"sk-estimator-id-9\" type=\"checkbox\" checked><label for=\"sk-estimator-id-9\" class=\"sk-toggleable__label sk-toggleable__label-arrow\">RandomForestRegressor</label><div class=\"sk-toggleable__content\"><pre>RandomForestRegressor(max_depth=11, max_features=0.32010011491238954,\n",
       "                      max_samples=0.7607392194343146, min_samples_split=14,\n",
       "                      n_estimators=150, random_state=42)</pre></div></div></div></div></div>"
      ],
      "text/plain": [
       "RandomForestRegressor(max_depth=11, max_features=0.32010011491238954,\n",
       "                      max_samples=0.7607392194343146, min_samples_split=14,\n",
       "                      n_estimators=150, random_state=42)"
      ]
     },
     "execution_count": 148,
     "metadata": {},
     "output_type": "execute_result"
    }
   ],
   "source": [
    "model = RandomForestRegressor(**study.best_params, random_state=42)\n",
    "model.fit(X_train, y_train)"
   ]
  },
  {
   "cell_type": "code",
   "execution_count": 149,
   "id": "d1f190db",
   "metadata": {},
   "outputs": [],
   "source": [
    "pred_test = model.predict(test)"
   ]
  },
  {
   "cell_type": "code",
   "execution_count": null,
   "id": "6ecabc61",
   "metadata": {},
   "outputs": [],
   "source": []
  },
  {
   "cell_type": "code",
   "execution_count": null,
   "id": "0f2e21b6",
   "metadata": {},
   "outputs": [],
   "source": []
  },
  {
   "cell_type": "code",
   "execution_count": null,
   "id": "0ec581bd",
   "metadata": {},
   "outputs": [],
   "source": []
  },
  {
   "cell_type": "code",
   "execution_count": null,
   "id": "56a70dfc",
   "metadata": {},
   "outputs": [],
   "source": []
  },
  {
   "cell_type": "code",
   "execution_count": 116,
   "id": "4966970a",
   "metadata": {},
   "outputs": [],
   "source": [
    "RFR_model_2 = RandomForestRegressor(random_state=42)\n",
    "RFR_2 = RFR_model_2.fit(X, y)"
   ]
  },
  {
   "cell_type": "code",
   "execution_count": null,
   "id": "98e50ef9",
   "metadata": {},
   "outputs": [],
   "source": [
    "# cross-val"
   ]
  },
  {
   "cell_type": "code",
   "execution_count": 131,
   "id": "a1b37c48",
   "metadata": {
    "collapsed": true
   },
   "outputs": [
    {
     "data": {
      "text/plain": [
       "array([ 3,  7,  3, 10,  6,  3,  8,  7,  4,  0,  5, 10,  1,  4,  0,  4, 10,\n",
       "        9,  7,  3,  0,  0,  8, 10,  3,  2,  9,  5,  6,  0,  2,  7,  8,  7,\n",
       "       10,  0,  7,  6,  2,  8, 10, 10,  1,  1, 10,  0,  9,  0,  3,  9,  7,\n",
       "        0,  2,  8,  3,  2,  5,  1,  4, 10,  9,  9,  8,  8,  9,  3,  4,  8,\n",
       "        7,  7,  7, 10,  6,  5,  2,  1, 10,  8,  2,  3,  9,  8,  7,  7,  2,\n",
       "        5, 10,  5,  6,  5,  0,  8,  3,  0,  2,  7,  1,  2,  1,  1,  7, 10,\n",
       "        5,  3,  4,  8,  9,  9,  2,  5,  0,  2, 10, 10,  7,  4,  2,  3,  0,\n",
       "        4,  5,  6,  2,  1,  1,  8,  8,  5,  3,  1,  8,  4,  4,  1,  5,  2,\n",
       "        8,  2,  0,  0,  4,  1, 10,  1,  6,  5,  1,  8,  8,  8,  7,  1,  6,\n",
       "        4,  0,  8,  2,  4,  5,  0,  6,  8,  2,  1,  3,  8,  6,  0, 10,  8,\n",
       "        0,  8,  2,  5,  9,  8,  4,  5,  9,  2,  6,  9,  6,  1,  3,  3,  7,\n",
       "        6,  0,  1,  8,  2,  3,  0,  2,  0,  4,  6,  7,  4,  2,  7,  2,  9,\n",
       "        8,  2,  6,  1,  2,  2, 10,  3,  5,  9,  6,  7,  7,  2,  3,  2,  2,\n",
       "        1,  8,  5,  8,  9, 10,  4,  1,  9,  9,  8,  9, 10,  5,  0,  7,  2,\n",
       "        6,  9,  1,  6,  4,  6,  8,  8,  9,  9,  2,  2,  6,  2,  3,  3,  5,\n",
       "        9,  2,  0,  0, 10, 10,  3,  1,  7,  4,  1,  8,  0,  4,  6,  6,  6,\n",
       "        6,  6,  5,  8,  4,  8,  2,  2,  8,  9,  4,  2,  9,  5, 10,  6,  9,\n",
       "        9,  8, 10,  8,  9,  7, 10,  7,  2,  2, 10,  7,  4,  1,  4, 10,  2,\n",
       "        4,  8,  1,  8,  6,  0,  2,  6,  7,  7,  7,  5,  5,  6,  8,  2,  2,\n",
       "       10,  6,  7,  7,  6,  0,  0,  0,  8,  9,  1,  9,  5,  8,  9,  1,  2,\n",
       "        6, 10,  1,  1,  0, 10,  6,  4,  7,  8, 10,  8,  6,  8,  6,  3,  9,\n",
       "        8,  7,  9,  7,  2, 10,  3,  1,  6,  0,  9,  3,  8,  3,  4,  0,  0,\n",
       "        2,  5,  1,  1,  0,  1,  0,  7,  3,  5,  3,  4,  6, 10,  7,  6,  9,\n",
       "        3,  2,  5, 10, 10,  6,  7,  5,  5,  8,  8,  0,  0,  6,  3,  8,  5,\n",
       "        2,  1,  6,  4,  0,  7,  3,  4,  2, 10,  1,  5,  0,  9,  8,  2,  8,\n",
       "        1,  3,  2,  8,  9,  4,  2,  2, 10,  2,  7, 10,  1,  7,  2,  7,  6,\n",
       "        8,  2,  1,  6,  7,  8,  5,  6,  8, 10,  4,  6,  9,  8,  4,  0,  4,\n",
       "        9,  0,  6, 10,  1,  3,  1,  3,  6,  3,  3,  7,  4,  8,  0,  1,  0,\n",
       "        9,  7, 10,  1,  2,  1,  1,  9,  3,  0,  5,  7,  0,  9,  7,  5,  5,\n",
       "        8,  6,  9,  7,  2,  9,  2,  5,  5, 10,  0,  0, 10,  7,  8,  0,  0,\n",
       "        6,  1,  3,  3,  3,  1,  5,  6,  2,  7,  4,  7,  7, 10, 10,  2, 10,\n",
       "        8,  0,  5,  8,  7,  2,  1,  4,  2,  7,  9,  9,  7, 10,  4,  0, 10,\n",
       "        6,  7,  3,  8,  3,  2,  0,  5,  2, 10,  7,  0,  6,  1,  6,  9,  8,\n",
       "        1, 10, 10,  9,  3,  4,  8,  7,  6,  0,  9,  2,  2,  6,  7,  8,  1,\n",
       "        7,  8,  6,  9,  6,  6,  1,  5,  3,  1,  2,  6, 10,  9,  8,  8,  0,\n",
       "        7,  2, 10,  4,  9,  0,  1,  6,  9,  2,  9,  8,  5,  8,  2,  6,  0,\n",
       "        1,  7,  0,  1,  7,  2,  6,  2,  6, 10,  4,  3,  9,  2,  1,  8, 10,\n",
       "        5,  9,  5,  0,  4,  5,  9,  4,  6,  8,  3,  0,  6,  1,  6,  4,  2,\n",
       "        5,  7,  8,  3,  9,  4,  6,  8,  7,  6,  4,  3, 10,  5,  5,  9,  0,\n",
       "        8,  8,  3, 10,  9,  2,  7,  1,  6,  1,  0,  3,  2,  8,  0,  8,  7,\n",
       "        8,  5,  2,  2,  8,  3,  6,  8,  1,  9,  0,  3,  0,  8,  4,  2,  5,\n",
       "        1,  7,  8,  7,  7,  5,  4, 10,  5,  7])"
      ]
     },
     "execution_count": 131,
     "metadata": {},
     "output_type": "execute_result"
    }
   ],
   "source": [
    "y"
   ]
  },
  {
   "cell_type": "code",
   "execution_count": 136,
   "id": "e9f16aa3",
   "metadata": {
    "collapsed": true
   },
   "outputs": [
    {
     "ename": "TypeError",
     "evalue": "cross_val_score() got an unexpected keyword argument 'random_state'",
     "output_type": "error",
     "traceback": [
      "\u001b[1;31m---------------------------------------------------------------------------\u001b[0m",
      "\u001b[1;31mTypeError\u001b[0m                                 Traceback (most recent call last)",
      "Cell \u001b[1;32mIn[136], line 1\u001b[0m\n\u001b[1;32m----> 1\u001b[0m cv_scores \u001b[38;5;241m=\u001b[39m cross_val_score(RFR, X, y, \n\u001b[0;32m      2\u001b[0m                             cv\u001b[38;5;241m=\u001b[39m\u001b[38;5;241m5\u001b[39m,\n\u001b[0;32m      3\u001b[0m                             scoring\u001b[38;5;241m=\u001b[39m\u001b[38;5;124m'\u001b[39m\u001b[38;5;124maccuracy\u001b[39m\u001b[38;5;124m'\u001b[39m, random_state\u001b[38;5;241m=\u001b[39m\u001b[38;5;241m42\u001b[39m)\n\u001b[0;32m      5\u001b[0m \u001b[38;5;28mprint\u001b[39m(\u001b[38;5;124m\"\u001b[39m\u001b[38;5;124mAccuracy scores:\u001b[39m\u001b[38;5;130;01m\\n\u001b[39;00m\u001b[38;5;124m\"\u001b[39m, scores)\n\u001b[0;32m      6\u001b[0m \u001b[38;5;28mprint\u001b[39m(\u001b[38;5;124m\"\u001b[39m\u001b[38;5;124mCross-validation accuracy: \u001b[39m\u001b[38;5;132;01m%f\u001b[39;00m\u001b[38;5;124m\"\u001b[39m \u001b[38;5;241m%\u001b[39m cv_scores\u001b[38;5;241m.\u001b[39mmean())\n",
      "\u001b[1;31mTypeError\u001b[0m: cross_val_score() got an unexpected keyword argument 'random_state'"
     ]
    }
   ],
   "source": [
    "cv_scores = cross_val_score(RFR, X, y, \n",
    "                            cv=5,\n",
    "                            scoring='accuracy')\n",
    "\n",
    "print(\"Accuracy scores:\\n\", scores)\n",
    "print(\"Cross-validation accuracy: %f\" % cv_scores.mean())"
   ]
  },
  {
   "cell_type": "code",
   "execution_count": 137,
   "id": "4f2f3f20",
   "metadata": {},
   "outputs": [
    {
     "name": "stdout",
     "output_type": "stream",
     "text": [
      "ROC-AUC- The 10-fold average of ROC-AUC score of the Logistic Regression model is nan\n",
      "ROC-AUC- The 10-fold std of ROC-AUC score of the Logistic Regression model is nan\n",
      "MAE -The 10-fold average of MAE score of the Logistic Regression model is -2.3409699483110953\n",
      "MSE -The 10-fold average of MSE score of the Logistic Regression model is -0.3432977407214916\n",
      "RFR- Score 0.892670743909153\n"
     ]
    }
   ],
   "source": [
    "from sklearn.model_selection import KFold, StratifiedKFold, GridSearchCV, RepeatedStratifiedKFold\n",
    "skf = RepeatedStratifiedKFold(n_splits=3, n_repeats=1, random_state=42)\n",
    "\n",
    "RFR_cv = cross_val_score(RFR, X, y, cv=skf, scoring='roc_auc', n_jobs=-1)\n",
    "\n",
    "# # ROC_AUC\n",
    "\n",
    "print(f\"ROC-AUC- The 10-fold average of ROC-AUC score of the Logistic Regression model is {RFR_cv.mean()}\")\n",
    "print(f\"ROC-AUC- The 10-fold std of ROC-AUC score of the Logistic Regression model is {RFR_cv.std()}\")\n",
    "# MAE\n",
    "RFR_mae = cross_val_score(RFR, X, y, cv=skf, scoring='neg_mean_absolute_error', n_jobs=-1)\n",
    "print(f\"MAE -The 10-fold average of MAE score of the Logistic Regression model is {RFR_mae.mean()}\")\n",
    "# MSE\n",
    "RFR_mse = cross_val_score(RFR, X, y, cv=skf, scoring='neg_mean_squared_log_error', n_jobs=-1)\n",
    "print(f\"MSE -The 10-fold average of MSE score of the Logistic Regression model is {RFR_mse.mean()}\")\n",
    "\n",
    "# # SCORE\n",
    "RFR.fit(X, y)\n",
    "print(f'RFR- Score {RFR_2.score(X,y)}')"
   ]
  },
  {
   "cell_type": "code",
   "execution_count": null,
   "id": "1f84b8e4",
   "metadata": {},
   "outputs": [],
   "source": []
  },
  {
   "cell_type": "markdown",
   "id": "2b1a295d",
   "metadata": {},
   "source": [
    "# RandomizedSearchCV"
   ]
  },
  {
   "cell_type": "code",
   "execution_count": 43,
   "id": "64251ddb",
   "metadata": {},
   "outputs": [
    {
     "data": {
      "text/plain": [
       "{'bootstrap': True,\n",
       " 'ccp_alpha': 0.0,\n",
       " 'class_weight': None,\n",
       " 'criterion': 'gini',\n",
       " 'max_depth': None,\n",
       " 'max_features': 'sqrt',\n",
       " 'max_leaf_nodes': None,\n",
       " 'max_samples': None,\n",
       " 'min_impurity_decrease': 0.0,\n",
       " 'min_samples_leaf': 1,\n",
       " 'min_samples_split': 2,\n",
       " 'min_weight_fraction_leaf': 0.0,\n",
       " 'n_estimators': 100,\n",
       " 'n_jobs': None,\n",
       " 'oob_score': False,\n",
       " 'random_state': 42,\n",
       " 'verbose': 0,\n",
       " 'warm_start': False}"
      ]
     },
     "execution_count": 43,
     "metadata": {},
     "output_type": "execute_result"
    }
   ],
   "source": [
    "RFC_model.get_params()"
   ]
  },
  {
   "cell_type": "code",
   "execution_count": null,
   "id": "e20c7dd0",
   "metadata": {},
   "outputs": [],
   "source": [
    "# clf = RandomizedSearchCV(RFC_model,  random_state=42)\n",
    "# search = clf.fit(X_train)\n",
    "# search.best_params_"
   ]
  },
  {
   "cell_type": "code",
   "execution_count": null,
   "id": "3eefb27a",
   "metadata": {},
   "outputs": [],
   "source": [
    "# random_param_1 = {\n",
    "#     'max_depth': range(2,10),\n",
    "#     'learning_rate': np.logspace(np.log10(0.005), np.log10(0.5), base = 10, num = 1000),\n",
    "#     'n_estimators': range(100, 1000, 50),\n",
    "#     'gamma': np.linspace(0, 0.4, 6),\n",
    "#     'min_child_weight': range(1,100,5),\n",
    "#     'subsample': np.linspace(0.5, 1, 101),\n",
    "#     'colsample_bytree': np.linspace(0.6, 1, 11),\n",
    "#     'colsample_bylevel': np.linspace(0.6, 1, 11),\n",
    "#     'reg_alpha': np.linspace(0, 1),\n",
    "#     'reg_lambda': np.linspace(0, 1),\n",
    "#     'tree_method': ['gpu_hist']\n",
    "# }"
   ]
  },
  {
   "cell_type": "code",
   "execution_count": 44,
   "id": "55e52fb6",
   "metadata": {},
   "outputs": [],
   "source": [
    "random_param_1 = {'bootstrap': [True, False],\n",
    "               'max_depth': [10, 20, 30, 40, 50, 60, 70, 80, 90, 100, 110, None],\n",
    "               'max_features': ['auto', 'sqrt'],\n",
    "               'min_samples_leaf': [1, 2, 4],\n",
    "               'min_samples_split': [2, 5, 10],\n",
    "               'n_estimators': [200, 1000]}"
   ]
  },
  {
   "cell_type": "code",
   "execution_count": 168,
   "id": "3887eb30",
   "metadata": {},
   "outputs": [],
   "source": [
    "grzyb_param = {'bootstrap': [True],\n",
    "               'max_depth': [5, 20],\n",
    "               'max_features': [0.1, 1.0],\n",
    "               'min_samples_leaf': [1, 25],\n",
    "               'min_samples_split': [2, 50],\n",
    "               'n_estimators': [200, 1000],\n",
    "               'max_samples': [0.2, 0.99]}"
   ]
  },
  {
   "cell_type": "code",
   "execution_count": 54,
   "id": "3aee15f3",
   "metadata": {
    "collapsed": true
   },
   "outputs": [
    {
     "ename": "SyntaxError",
     "evalue": "invalid syntax. Maybe you meant '==' or ':=' instead of '='? (2622056627.py, line 1)",
     "output_type": "error",
     "traceback": [
      "\u001b[1;36m  Cell \u001b[1;32mIn[54], line 1\u001b[1;36m\u001b[0m\n\u001b[1;33m    grzybo = {n_estimators = trial.suggest_int(\"n_estimators\", 200, 1000, log=True)\u001b[0m\n\u001b[1;37m              ^\u001b[0m\n\u001b[1;31mSyntaxError\u001b[0m\u001b[1;31m:\u001b[0m invalid syntax. Maybe you meant '==' or ':=' instead of '='?\n"
     ]
    }
   ],
   "source": [
    "# grzybo = {n_estimators = trial.suggest_int(\"n_estimators\", 200, 1000, log=True)\n",
    "#                 max_depth = trial.suggest_int(\"max_depth\", 5, 20, log=True)\n",
    "#                 max_features = trial.suggest_float('max_features', 0.1, 1.0)\n",
    "#                 min_samples_split = trial.suggest_int('min_samples_split', 2, 50)\n",
    "#                 min_samples_leaf = trial.suggest_int('min_samples_leaf', 1, 25)\n",
    "#                 max_samples = trial.suggest_float('max_samples', 0.2, 0.99)}"
   ]
  },
  {
   "cell_type": "code",
   "execution_count": 169,
   "id": "c10933b7",
   "metadata": {},
   "outputs": [],
   "source": [
    "random_search_grybo = RandomizedSearchCV(estimator=RFC_model,\n",
    "                                 param_distributions=grzyb_param,\n",
    "                                 n_iter=4*4*4*2,\n",
    "                                 verbose=0,\n",
    "                                 random_state=42,\n",
    "                                 n_jobs=3,      \n",
    "                                 scoring='roc_auc' )"
   ]
  },
  {
   "cell_type": "code",
   "execution_count": 56,
   "id": "65637736",
   "metadata": {},
   "outputs": [],
   "source": [
    "random_search = RandomizedSearchCV(estimator=RFC_model\n",
    "                                 , param_distributions=random_param_1\n",
    "                                 , n_iter=4*4*4*2\n",
    "                                 , scoring='roc_auc' )"
   ]
  },
  {
   "cell_type": "code",
   "execution_count": 171,
   "id": "7921d8aa",
   "metadata": {},
   "outputs": [
    {
     "data": {
      "text/plain": [
       "{'n_estimators': 200,\n",
       " 'min_samples_split': 2,\n",
       " 'min_samples_leaf': 1,\n",
       " 'max_samples': 0.2,\n",
       " 'max_features': 0.1,\n",
       " 'max_depth': 5,\n",
       " 'bootstrap': True}"
      ]
     },
     "execution_count": 171,
     "metadata": {},
     "output_type": "execute_result"
    }
   ],
   "source": [
    "random_search_grybo.fit(X=X_train, y=y_train)\n",
    " \n",
    "best_parameters = random_search_grybo.best_params_  \n",
    "best_parameters "
   ]
  },
  {
   "cell_type": "code",
   "execution_count": 174,
   "id": "9a914eca",
   "metadata": {},
   "outputs": [],
   "source": [
    "best_parameters= {'n_estimators': 200,\n",
    " 'min_samples_split': 2,\n",
    " 'min_samples_leaf': 1,\n",
    " 'max_samples': 0.2,\n",
    " 'max_features': 0.1,\n",
    " 'max_depth': 5,\n",
    " 'bootstrap': True}"
   ]
  },
  {
   "cell_type": "code",
   "execution_count": 64,
   "id": "fb8b5c94",
   "metadata": {},
   "outputs": [],
   "source": [
    "random_param_1__AFTER ={'n_estimators': 130,\n",
    " 'min_samples_split': 2,\n",
    " 'min_samples_leaf': 2,\n",
    " 'max_features': 'sqrt',\n",
    " 'max_depth': 50,\n",
    " 'bootstrap': True}\n",
    "\n",
    "# MAE: 2.676056338028169\n",
    "# Training Accuracy: 0.3380281690140845\n",
    "# Adjusted_mutual_info_score: 0.16106294842911503"
   ]
  },
  {
   "cell_type": "code",
   "execution_count": 67,
   "id": "debe0c69",
   "metadata": {},
   "outputs": [],
   "source": [
    "grzyb_param_AFTER ={'n_estimators': 130,\n",
    " 'min_samples_split': 2,\n",
    " 'min_samples_leaf': 1,\n",
    " 'max_features': 0.1,\n",
    " 'max_depth': 5,\n",
    "  'bootstrap': True}\n",
    "\n",
    "# MAE: 2.676056338028169\n",
    "# Training Accuracy: 0.3380281690140845\n",
    "# Adjusted_mutual_info_score: 0.16106294842911503"
   ]
  },
  {
   "cell_type": "code",
   "execution_count": 175,
   "id": "983d5229",
   "metadata": {
    "collapsed": true
   },
   "outputs": [
    {
     "ename": "ValueError",
     "evalue": "node array from the pickle has an incompatible dtype:\n- expected: {'names': ['left_child', 'right_child', 'feature', 'threshold', 'impurity', 'n_node_samples', 'weighted_n_node_samples', 'missing_go_to_left'], 'formats': ['<i8', '<i8', '<i8', '<f8', '<f8', '<i8', '<f8', 'u1'], 'offsets': [0, 8, 16, 24, 32, 40, 48, 56], 'itemsize': 64}\n- got     : [('left_child', '<i8'), ('right_child', '<i8'), ('feature', '<i8'), ('threshold', '<f8'), ('impurity', '<f8'), ('n_node_samples', '<i8'), ('weighted_n_node_samples', '<f8')]",
     "output_type": "error",
     "traceback": [
      "\u001b[1;31m---------------------------------------------------------------------------\u001b[0m",
      "\u001b[1;31mValueError\u001b[0m                                Traceback (most recent call last)",
      "Cell \u001b[1;32mIn[175], line 2\u001b[0m\n\u001b[0;32m      1\u001b[0m model \u001b[38;5;241m=\u001b[39m RandomForestClassifier(\u001b[38;5;241m*\u001b[39m\u001b[38;5;241m*\u001b[39mbest_parameters, random_state\u001b[38;5;241m=\u001b[39m\u001b[38;5;241m42\u001b[39m)\n\u001b[1;32m----> 2\u001b[0m model\u001b[38;5;241m.\u001b[39mfit(X_train, y_train)\n",
      "File \u001b[1;32mD:\\Programy\\anaconda3\\Lib\\site-packages\\daal4py\\sklearn\\_device_offload.py:88\u001b[0m, in \u001b[0;36msupport_usm_ndarray.<locals>.decorator.<locals>.wrapper_with_self\u001b[1;34m(self, *args, **kwargs)\u001b[0m\n\u001b[0;32m     86\u001b[0m \u001b[38;5;129m@wraps\u001b[39m(func)\n\u001b[0;32m     87\u001b[0m \u001b[38;5;28;01mdef\u001b[39;00m \u001b[38;5;21mwrapper_with_self\u001b[39m(\u001b[38;5;28mself\u001b[39m, \u001b[38;5;241m*\u001b[39margs, \u001b[38;5;241m*\u001b[39m\u001b[38;5;241m*\u001b[39mkwargs):\n\u001b[1;32m---> 88\u001b[0m     \u001b[38;5;28;01mreturn\u001b[39;00m wrapper_impl(\u001b[38;5;28mself\u001b[39m, \u001b[38;5;241m*\u001b[39margs, \u001b[38;5;241m*\u001b[39m\u001b[38;5;241m*\u001b[39mkwargs)\n",
      "File \u001b[1;32mD:\\Programy\\anaconda3\\Lib\\site-packages\\daal4py\\sklearn\\_device_offload.py:74\u001b[0m, in \u001b[0;36msupport_usm_ndarray.<locals>.decorator.<locals>.wrapper_impl\u001b[1;34m(obj, *args, **kwargs)\u001b[0m\n\u001b[0;32m     72\u001b[0m usm_iface \u001b[38;5;241m=\u001b[39m _extract_usm_iface(\u001b[38;5;241m*\u001b[39margs, \u001b[38;5;241m*\u001b[39m\u001b[38;5;241m*\u001b[39mkwargs)\n\u001b[0;32m     73\u001b[0m q, hostargs, hostkwargs \u001b[38;5;241m=\u001b[39m _get_host_inputs(\u001b[38;5;241m*\u001b[39margs, \u001b[38;5;241m*\u001b[39m\u001b[38;5;241m*\u001b[39mkwargs)\n\u001b[1;32m---> 74\u001b[0m result \u001b[38;5;241m=\u001b[39m _run_on_device(func, q, obj, \u001b[38;5;241m*\u001b[39mhostargs, \u001b[38;5;241m*\u001b[39m\u001b[38;5;241m*\u001b[39mhostkwargs)\n\u001b[0;32m     75\u001b[0m \u001b[38;5;28;01mif\u001b[39;00m usm_iface \u001b[38;5;129;01mis\u001b[39;00m \u001b[38;5;129;01mnot\u001b[39;00m \u001b[38;5;28;01mNone\u001b[39;00m \u001b[38;5;129;01mand\u001b[39;00m \u001b[38;5;28mhasattr\u001b[39m(result, \u001b[38;5;124m'\u001b[39m\u001b[38;5;124m__array_interface__\u001b[39m\u001b[38;5;124m'\u001b[39m):\n\u001b[0;32m     76\u001b[0m     \u001b[38;5;28;01mreturn\u001b[39;00m _copy_to_usm(q, result)\n",
      "File \u001b[1;32mD:\\Programy\\anaconda3\\Lib\\site-packages\\daal4py\\sklearn\\_device_offload.py:65\u001b[0m, in \u001b[0;36m_run_on_device\u001b[1;34m(func, queue, obj, *args, **kwargs)\u001b[0m\n\u001b[0;32m     62\u001b[0m         \u001b[38;5;28;01mwith\u001b[39;00m sycl_context(\u001b[38;5;124m'\u001b[39m\u001b[38;5;124mgpu\u001b[39m\u001b[38;5;124m'\u001b[39m \u001b[38;5;28;01mif\u001b[39;00m queue\u001b[38;5;241m.\u001b[39msycl_device\u001b[38;5;241m.\u001b[39mis_gpu \u001b[38;5;28;01melse\u001b[39;00m \u001b[38;5;124m'\u001b[39m\u001b[38;5;124mcpu\u001b[39m\u001b[38;5;124m'\u001b[39m,\n\u001b[0;32m     63\u001b[0m                           host_offload_on_fail\u001b[38;5;241m=\u001b[39mhost_offload):\n\u001b[0;32m     64\u001b[0m             \u001b[38;5;28;01mreturn\u001b[39;00m dispatch_by_obj(obj, func, \u001b[38;5;241m*\u001b[39margs, \u001b[38;5;241m*\u001b[39m\u001b[38;5;241m*\u001b[39mkwargs)\n\u001b[1;32m---> 65\u001b[0m \u001b[38;5;28;01mreturn\u001b[39;00m dispatch_by_obj(obj, func, \u001b[38;5;241m*\u001b[39margs, \u001b[38;5;241m*\u001b[39m\u001b[38;5;241m*\u001b[39mkwargs)\n",
      "File \u001b[1;32mD:\\Programy\\anaconda3\\Lib\\site-packages\\daal4py\\sklearn\\_device_offload.py:53\u001b[0m, in \u001b[0;36m_run_on_device.<locals>.dispatch_by_obj\u001b[1;34m(obj, func, *args, **kwargs)\u001b[0m\n\u001b[0;32m     51\u001b[0m \u001b[38;5;28;01mdef\u001b[39;00m \u001b[38;5;21mdispatch_by_obj\u001b[39m(obj, func, \u001b[38;5;241m*\u001b[39margs, \u001b[38;5;241m*\u001b[39m\u001b[38;5;241m*\u001b[39mkwargs):\n\u001b[0;32m     52\u001b[0m     \u001b[38;5;28;01mif\u001b[39;00m obj \u001b[38;5;129;01mis\u001b[39;00m \u001b[38;5;129;01mnot\u001b[39;00m \u001b[38;5;28;01mNone\u001b[39;00m:\n\u001b[1;32m---> 53\u001b[0m         \u001b[38;5;28;01mreturn\u001b[39;00m func(obj, \u001b[38;5;241m*\u001b[39margs, \u001b[38;5;241m*\u001b[39m\u001b[38;5;241m*\u001b[39mkwargs)\n\u001b[0;32m     54\u001b[0m     \u001b[38;5;28;01mreturn\u001b[39;00m func(\u001b[38;5;241m*\u001b[39margs, \u001b[38;5;241m*\u001b[39m\u001b[38;5;241m*\u001b[39mkwargs)\n",
      "File \u001b[1;32mD:\\Programy\\anaconda3\\Lib\\site-packages\\daal4py\\sklearn\\ensemble\\_forest.py:715\u001b[0m, in \u001b[0;36mRandomForestClassifier.fit\u001b[1;34m(self, X, y, sample_weight)\u001b[0m\n\u001b[0;32m    688\u001b[0m \u001b[38;5;129m@support_usm_ndarray\u001b[39m()\n\u001b[0;32m    689\u001b[0m \u001b[38;5;28;01mdef\u001b[39;00m \u001b[38;5;21mfit\u001b[39m(\u001b[38;5;28mself\u001b[39m, X, y, sample_weight\u001b[38;5;241m=\u001b[39m\u001b[38;5;28;01mNone\u001b[39;00m):\n\u001b[0;32m    690\u001b[0m \u001b[38;5;250m    \u001b[39m\u001b[38;5;124;03m\"\"\"\u001b[39;00m\n\u001b[0;32m    691\u001b[0m \u001b[38;5;124;03m    Build a forest of trees from the training set (X, y).\u001b[39;00m\n\u001b[0;32m    692\u001b[0m \n\u001b[1;32m   (...)\u001b[0m\n\u001b[0;32m    713\u001b[0m \u001b[38;5;124;03m    self : object\u001b[39;00m\n\u001b[0;32m    714\u001b[0m \u001b[38;5;124;03m    \"\"\"\u001b[39;00m\n\u001b[1;32m--> 715\u001b[0m     \u001b[38;5;28;01mreturn\u001b[39;00m _fit_classifier(\u001b[38;5;28mself\u001b[39m, X, y, sample_weight\u001b[38;5;241m=\u001b[39msample_weight)\n",
      "File \u001b[1;32mD:\\Programy\\anaconda3\\Lib\\site-packages\\daal4py\\sklearn\\ensemble\\_forest.py:375\u001b[0m, in \u001b[0;36m_fit_classifier\u001b[1;34m(self, X, y, sample_weight)\u001b[0m\n\u001b[0;32m    373\u001b[0m \u001b[38;5;28;01mif\u001b[39;00m sklearn_check_version(\u001b[38;5;124m\"\u001b[39m\u001b[38;5;124m1.2\u001b[39m\u001b[38;5;124m\"\u001b[39m):\n\u001b[0;32m    374\u001b[0m     \u001b[38;5;28mself\u001b[39m\u001b[38;5;241m.\u001b[39m_estimator \u001b[38;5;241m=\u001b[39m DecisionTreeClassifier()\n\u001b[1;32m--> 375\u001b[0m \u001b[38;5;28mself\u001b[39m\u001b[38;5;241m.\u001b[39mestimators_ \u001b[38;5;241m=\u001b[39m \u001b[38;5;28mself\u001b[39m\u001b[38;5;241m.\u001b[39m_estimators_\n\u001b[0;32m    377\u001b[0m \u001b[38;5;66;03m# Decapsulate classes_ attributes\u001b[39;00m\n\u001b[0;32m    378\u001b[0m \u001b[38;5;28mself\u001b[39m\u001b[38;5;241m.\u001b[39mn_classes_ \u001b[38;5;241m=\u001b[39m \u001b[38;5;28mself\u001b[39m\u001b[38;5;241m.\u001b[39mn_classes_[\u001b[38;5;241m0\u001b[39m]\n",
      "File \u001b[1;32mD:\\Programy\\anaconda3\\Lib\\site-packages\\daal4py\\sklearn\\ensemble\\_forest.py:895\u001b[0m, in \u001b[0;36mRandomForestClassifier._estimators_\u001b[1;34m(self)\u001b[0m\n\u001b[0;32m    884\u001b[0m     tree_i_state_dict \u001b[38;5;241m=\u001b[39m {\n\u001b[0;32m    885\u001b[0m         \u001b[38;5;124m'\u001b[39m\u001b[38;5;124mmax_depth\u001b[39m\u001b[38;5;124m'\u001b[39m: tree_i_state_class\u001b[38;5;241m.\u001b[39mmax_depth,\n\u001b[0;32m    886\u001b[0m         \u001b[38;5;124m'\u001b[39m\u001b[38;5;124mnode_count\u001b[39m\u001b[38;5;124m'\u001b[39m: tree_i_state_class\u001b[38;5;241m.\u001b[39mnode_count,\n\u001b[0;32m    887\u001b[0m         \u001b[38;5;124m'\u001b[39m\u001b[38;5;124mnodes\u001b[39m\u001b[38;5;124m'\u001b[39m: tree_i_state_class\u001b[38;5;241m.\u001b[39mnode_ar,\n\u001b[0;32m    888\u001b[0m         \u001b[38;5;124m'\u001b[39m\u001b[38;5;124mvalues\u001b[39m\u001b[38;5;124m'\u001b[39m: tree_i_state_class\u001b[38;5;241m.\u001b[39mvalue_ar}\n\u001b[0;32m    889\u001b[0m     est_i\u001b[38;5;241m.\u001b[39mtree_ \u001b[38;5;241m=\u001b[39m Tree(\n\u001b[0;32m    890\u001b[0m         \u001b[38;5;28mself\u001b[39m\u001b[38;5;241m.\u001b[39mn_features_in_,\n\u001b[0;32m    891\u001b[0m         np\u001b[38;5;241m.\u001b[39marray(\n\u001b[0;32m    892\u001b[0m             [n_classes_],\n\u001b[0;32m    893\u001b[0m             dtype\u001b[38;5;241m=\u001b[39mnp\u001b[38;5;241m.\u001b[39mintp),\n\u001b[0;32m    894\u001b[0m         \u001b[38;5;28mself\u001b[39m\u001b[38;5;241m.\u001b[39mn_outputs_)\n\u001b[1;32m--> 895\u001b[0m     est_i\u001b[38;5;241m.\u001b[39mtree_\u001b[38;5;241m.\u001b[39m__setstate__(tree_i_state_dict)\n\u001b[0;32m    896\u001b[0m     estimators_\u001b[38;5;241m.\u001b[39mappend(est_i)\n\u001b[0;32m    898\u001b[0m \u001b[38;5;28mself\u001b[39m\u001b[38;5;241m.\u001b[39m_cached_estimators_ \u001b[38;5;241m=\u001b[39m estimators_\n",
      "File \u001b[1;32msklearn\\tree\\_tree.pyx:714\u001b[0m, in \u001b[0;36msklearn.tree._tree.Tree.__setstate__\u001b[1;34m()\u001b[0m\n",
      "File \u001b[1;32msklearn\\tree\\_tree.pyx:1418\u001b[0m, in \u001b[0;36msklearn.tree._tree._check_node_ndarray\u001b[1;34m()\u001b[0m\n",
      "\u001b[1;31mValueError\u001b[0m: node array from the pickle has an incompatible dtype:\n- expected: {'names': ['left_child', 'right_child', 'feature', 'threshold', 'impurity', 'n_node_samples', 'weighted_n_node_samples', 'missing_go_to_left'], 'formats': ['<i8', '<i8', '<i8', '<f8', '<f8', '<i8', '<f8', 'u1'], 'offsets': [0, 8, 16, 24, 32, 40, 48, 56], 'itemsize': 64}\n- got     : [('left_child', '<i8'), ('right_child', '<i8'), ('feature', '<i8'), ('threshold', '<f8'), ('impurity', '<f8'), ('n_node_samples', '<i8'), ('weighted_n_node_samples', '<f8')]"
     ]
    }
   ],
   "source": [
    "model = RandomForestClassifier(**best_parameters, random_state=42)\n",
    "model.fit(X_train, y_train)"
   ]
  },
  {
   "cell_type": "code",
   "execution_count": null,
   "id": "ab80a0c2",
   "metadata": {},
   "outputs": [],
   "source": []
  },
  {
   "cell_type": "code",
   "execution_count": null,
   "id": "c3179d0a",
   "metadata": {},
   "outputs": [],
   "source": []
  },
  {
   "cell_type": "code",
   "execution_count": 94,
   "id": "e750d555",
   "metadata": {},
   "outputs": [
    {
     "data": {
      "text/html": [
       "<style>#sk-container-id-6 {color: black;}#sk-container-id-6 pre{padding: 0;}#sk-container-id-6 div.sk-toggleable {background-color: white;}#sk-container-id-6 label.sk-toggleable__label {cursor: pointer;display: block;width: 100%;margin-bottom: 0;padding: 0.3em;box-sizing: border-box;text-align: center;}#sk-container-id-6 label.sk-toggleable__label-arrow:before {content: \"▸\";float: left;margin-right: 0.25em;color: #696969;}#sk-container-id-6 label.sk-toggleable__label-arrow:hover:before {color: black;}#sk-container-id-6 div.sk-estimator:hover label.sk-toggleable__label-arrow:before {color: black;}#sk-container-id-6 div.sk-toggleable__content {max-height: 0;max-width: 0;overflow: hidden;text-align: left;background-color: #f0f8ff;}#sk-container-id-6 div.sk-toggleable__content pre {margin: 0.2em;color: black;border-radius: 0.25em;background-color: #f0f8ff;}#sk-container-id-6 input.sk-toggleable__control:checked~div.sk-toggleable__content {max-height: 200px;max-width: 100%;overflow: auto;}#sk-container-id-6 input.sk-toggleable__control:checked~label.sk-toggleable__label-arrow:before {content: \"▾\";}#sk-container-id-6 div.sk-estimator input.sk-toggleable__control:checked~label.sk-toggleable__label {background-color: #d4ebff;}#sk-container-id-6 div.sk-label input.sk-toggleable__control:checked~label.sk-toggleable__label {background-color: #d4ebff;}#sk-container-id-6 input.sk-hidden--visually {border: 0;clip: rect(1px 1px 1px 1px);clip: rect(1px, 1px, 1px, 1px);height: 1px;margin: -1px;overflow: hidden;padding: 0;position: absolute;width: 1px;}#sk-container-id-6 div.sk-estimator {font-family: monospace;background-color: #f0f8ff;border: 1px dotted black;border-radius: 0.25em;box-sizing: border-box;margin-bottom: 0.5em;}#sk-container-id-6 div.sk-estimator:hover {background-color: #d4ebff;}#sk-container-id-6 div.sk-parallel-item::after {content: \"\";width: 100%;border-bottom: 1px solid gray;flex-grow: 1;}#sk-container-id-6 div.sk-label:hover label.sk-toggleable__label {background-color: #d4ebff;}#sk-container-id-6 div.sk-serial::before {content: \"\";position: absolute;border-left: 1px solid gray;box-sizing: border-box;top: 0;bottom: 0;left: 50%;z-index: 0;}#sk-container-id-6 div.sk-serial {display: flex;flex-direction: column;align-items: center;background-color: white;padding-right: 0.2em;padding-left: 0.2em;position: relative;}#sk-container-id-6 div.sk-item {position: relative;z-index: 1;}#sk-container-id-6 div.sk-parallel {display: flex;align-items: stretch;justify-content: center;background-color: white;position: relative;}#sk-container-id-6 div.sk-item::before, #sk-container-id-6 div.sk-parallel-item::before {content: \"\";position: absolute;border-left: 1px solid gray;box-sizing: border-box;top: 0;bottom: 0;left: 50%;z-index: -1;}#sk-container-id-6 div.sk-parallel-item {display: flex;flex-direction: column;z-index: 1;position: relative;background-color: white;}#sk-container-id-6 div.sk-parallel-item:first-child::after {align-self: flex-end;width: 50%;}#sk-container-id-6 div.sk-parallel-item:last-child::after {align-self: flex-start;width: 50%;}#sk-container-id-6 div.sk-parallel-item:only-child::after {width: 0;}#sk-container-id-6 div.sk-dashed-wrapped {border: 1px dashed gray;margin: 0 0.4em 0.5em 0.4em;box-sizing: border-box;padding-bottom: 0.4em;background-color: white;}#sk-container-id-6 div.sk-label label {font-family: monospace;font-weight: bold;display: inline-block;line-height: 1.2em;}#sk-container-id-6 div.sk-label-container {text-align: center;}#sk-container-id-6 div.sk-container {/* jupyter's `normalize.less` sets `[hidden] { display: none; }` but bootstrap.min.css set `[hidden] { display: none !important; }` so we also need the `!important` here to be able to override the default hidden behavior on the sphinx rendered scikit-learn.org. See: https://github.com/scikit-learn/scikit-learn/issues/21755 */display: inline-block !important;position: relative;}#sk-container-id-6 div.sk-text-repr-fallback {display: none;}</style><div id=\"sk-container-id-6\" class=\"sk-top-container\"><div class=\"sk-text-repr-fallback\"><pre>RandomForestClassifier(max_depth=14, max_features=0.2904845133901127,\n",
       "                       max_samples=0.9041261373912746, min_samples_leaf=12,\n",
       "                       min_samples_split=13, n_estimators=988, random_state=42)</pre><b>In a Jupyter environment, please rerun this cell to show the HTML representation or trust the notebook. <br />On GitHub, the HTML representation is unable to render, please try loading this page with nbviewer.org.</b></div><div class=\"sk-container\" hidden><div class=\"sk-item\"><div class=\"sk-estimator sk-toggleable\"><input class=\"sk-toggleable__control sk-hidden--visually\" id=\"sk-estimator-id-6\" type=\"checkbox\" checked><label for=\"sk-estimator-id-6\" class=\"sk-toggleable__label sk-toggleable__label-arrow\">RandomForestClassifier</label><div class=\"sk-toggleable__content\"><pre>RandomForestClassifier(max_depth=14, max_features=0.2904845133901127,\n",
       "                       max_samples=0.9041261373912746, min_samples_leaf=12,\n",
       "                       min_samples_split=13, n_estimators=988, random_state=42)</pre></div></div></div></div></div>"
      ],
      "text/plain": [
       "RandomForestClassifier(max_depth=14, max_features=0.2904845133901127,\n",
       "                       max_samples=0.9041261373912746, min_samples_leaf=12,\n",
       "                       min_samples_split=13, n_estimators=988, random_state=42)"
      ]
     },
     "execution_count": 94,
     "metadata": {},
     "output_type": "execute_result"
    }
   ],
   "source": [
    "# model = xgb.XGBClassifier(**best_parameters)\n",
    "model = RandomForestClassifier(**study.best_params, random_state=42)\n",
    "model.fit(X_train, y_train)"
   ]
  },
  {
   "cell_type": "code",
   "execution_count": 95,
   "id": "e489030c",
   "metadata": {},
   "outputs": [
    {
     "name": "stdout",
     "output_type": "stream",
     "text": [
      "MAE: 2.387323943661972\n",
      "Training Accuracy: 0.33098591549295775\n",
      "Adjusted_mutual_info_score: 0.1800268415816041\n"
     ]
    }
   ],
   "source": [
    "pred = model.predict(X_test)\n",
    "print(f'MAE: {mean_absolute_error(y_test, pred)}')\n",
    "print(\"Training Accuracy:\", accuracy_score(y_test, pred))\n",
    "print(\"Adjusted_mutual_info_score:\", adjusted_mutual_info_score(y_test, pred))"
   ]
  },
  {
   "cell_type": "code",
   "execution_count": 96,
   "id": "8ece7d24",
   "metadata": {},
   "outputs": [],
   "source": [
    "pred_test = model.predict(test)"
   ]
  },
  {
   "cell_type": "code",
   "execution_count": 150,
   "id": "57b39025",
   "metadata": {
    "collapsed": true
   },
   "outputs": [
    {
     "data": {
      "text/plain": [
       "array([5.44103721, 3.66855987, 5.41497756, 5.51379453, 5.31361248,\n",
       "       6.37989843, 4.92643897, 3.52448307, 5.95583984, 5.86836916,\n",
       "       5.1821534 , 5.4082298 , 4.81953403, 1.83280652, 5.77057347,\n",
       "       6.01579023, 6.08797921, 5.50009607, 2.78595851, 5.77738109,\n",
       "       5.56997721, 6.55833873, 4.5759417 , 4.27402934, 4.1298467 ,\n",
       "       2.34964175, 4.08311799, 5.91535534, 5.84960548, 4.58139577,\n",
       "       5.81074731, 5.78367495, 4.9168322 , 5.06313804, 4.87787806,\n",
       "       5.22858815, 5.67413479, 5.67426092, 4.5393334 , 5.48906456,\n",
       "       5.38039272, 1.27223172, 5.61347184, 6.88238995, 1.10772696,\n",
       "       5.46793106, 1.5558094 , 4.85161453, 6.16693642, 5.96924808,\n",
       "       5.49093622, 3.75336375, 5.05975463, 6.34734877, 5.3603922 ,\n",
       "       4.74153983, 4.48982358, 1.12961926, 4.61756793, 4.10094976,\n",
       "       5.57910977, 5.68682806, 5.141431  , 2.95334069, 5.35728567,\n",
       "       5.00677432, 5.58809696, 5.40220691, 4.73521542, 5.44459087,\n",
       "       4.82777647, 5.72559131, 4.56250676, 5.41560293, 5.43092668,\n",
       "       1.61284363, 5.3677513 , 5.3451595 , 5.80168816, 4.82560103,\n",
       "       5.99322652, 5.61779501, 5.68082805, 5.34413732, 4.96582799,\n",
       "       4.4737499 , 4.84456555, 2.09067799, 4.67315653, 5.4226064 ,\n",
       "       5.17070526, 2.73743224, 6.1638267 , 5.62174253, 4.59048833,\n",
       "       2.46926569, 5.27636837, 5.13214301, 5.45945048, 5.84459619,\n",
       "       5.05299769, 5.11796554, 4.57819105, 5.06855252, 5.55864723,\n",
       "       1.54897972, 5.15760272, 4.90053997, 5.86493012, 4.63105201,\n",
       "       6.12751291, 5.02867205, 6.12224373, 5.02729109, 6.01896959,\n",
       "       5.06909404, 5.65862018, 2.45335691, 4.82600046, 5.16475209,\n",
       "       5.69411455, 1.94947303, 5.17815035, 4.86917184, 4.67399753,\n",
       "       5.57752102, 5.92335087, 4.86907282, 1.86542166, 5.25299425,\n",
       "       4.78651839, 3.66620199, 5.30138221, 4.42138123, 5.71448189,\n",
       "       4.67104706, 5.73038305, 5.31780571, 5.4793706 , 1.60030295,\n",
       "       5.2046238 , 5.64900183, 5.29684038, 5.24759595, 5.74163073,\n",
       "       2.54113841, 4.61640185, 4.90955161, 4.8902776 , 5.31773768,\n",
       "       2.56228644, 5.30048052, 5.1024205 , 5.75339003, 3.44267765,\n",
       "       4.55459264, 4.44831194, 1.97614901, 5.61819371, 1.5792662 ,\n",
       "       5.36744979, 1.06660073, 5.71168317, 4.41942469, 1.58088034,\n",
       "       5.44900057, 4.8319635 , 1.30111049, 5.22396386, 5.74031587,\n",
       "       5.92476807, 6.01498335, 5.1854707 , 5.83855283, 5.91219651,\n",
       "       5.21488896, 1.58121009, 5.05935222, 5.49950274, 4.84124192,\n",
       "       2.97333185, 5.26872539, 1.51238017, 4.86512936, 5.1917617 ,\n",
       "       4.62940378, 5.48614912, 1.36097524, 2.0453637 , 5.96460394,\n",
       "       4.88262329, 5.35960626, 5.22750655, 6.76629504, 5.42765917,\n",
       "       5.87573416, 6.31075011, 4.49112375, 5.569536  , 4.31148688,\n",
       "       5.49075581, 3.69788411, 1.88042288, 5.58528697, 5.08856795,\n",
       "       5.40246928, 5.38358149, 5.81250267, 5.47986902, 5.55356415,\n",
       "       5.28441513, 5.68197913, 5.04138632, 4.61603091, 1.0815997 ,\n",
       "       3.09963332, 3.48418058, 5.79215911, 5.41880889, 4.16408057,\n",
       "       5.93401211, 5.77646347, 3.31998267, 5.16134554, 3.72386906,\n",
       "       5.70038025, 5.26497909, 4.47766573, 1.46069378, 5.42902559,\n",
       "       4.69172706, 5.60243165, 5.68780326, 5.13841129, 4.89564955,\n",
       "       2.66092118, 5.66015358, 5.19765167, 3.75095988, 4.97145502,\n",
       "       5.74041736, 3.41942818, 5.37423774, 5.49054881, 4.59397576,\n",
       "       4.8317899 , 5.11153041, 4.87900882, 5.45451828, 5.58743381,\n",
       "       4.9176789 , 1.16800415, 4.93547581, 5.50162574, 3.04978801,\n",
       "       5.45817353, 5.36038742, 5.60532882, 5.30240353, 4.63939308,\n",
       "       5.18510767, 4.73924881, 5.48540207, 5.26525691, 6.20699246,\n",
       "       6.13730457, 4.37542952, 4.76863272, 5.32011825, 5.28567377,\n",
       "       5.1270155 , 5.21810481, 5.22204009, 6.2645847 , 5.50069379,\n",
       "       5.55156852, 5.59289078, 4.76566626, 4.72716209, 3.55278882,\n",
       "       5.06466122, 1.74340167, 5.14597633, 5.29946039, 5.07175849,\n",
       "       6.00760708, 6.0060397 , 5.17292652, 4.56550268, 4.19542684,\n",
       "       5.06982185, 6.46386948, 5.85100899, 4.66646964, 5.28120867,\n",
       "       5.92189894, 6.11138076, 5.78687389, 6.14225903, 4.485316  ,\n",
       "       5.11083056, 5.47290849, 5.79228698])"
      ]
     },
     "execution_count": 150,
     "metadata": {},
     "output_type": "execute_result"
    }
   ],
   "source": [
    "pred_test"
   ]
  },
  {
   "cell_type": "code",
   "execution_count": 39,
   "id": "d37b6437",
   "metadata": {
    "collapsed": true
   },
   "outputs": [
    {
     "data": {
      "text/plain": [
       "array(['Chikungunya', 'Chikungunya', 'West_Nile_fever',\n",
       "       'Japanese_encephalitis', 'West_Nile_fever', 'Zika', 'Malaria',\n",
       "       'Chikungunya', 'Yellow_Fever', 'West_Nile_fever', 'Chikungunya',\n",
       "       'Rift_Valley_fever', 'Dengue', 'Chikungunya', 'West_Nile_fever',\n",
       "       'Japanese_encephalitis', 'West_Nile_fever', 'Tungiasis',\n",
       "       'Chikungunya', 'West_Nile_fever', 'Lyme_disease', 'Yellow_Fever',\n",
       "       'Lyme_disease', 'Lyme_disease', 'Chikungunya', 'Chikungunya',\n",
       "       'Chikungunya', 'Yellow_Fever', 'West_Nile_fever', 'Lyme_disease',\n",
       "       'West_Nile_fever', 'Tungiasis', 'Lyme_disease', 'Lyme_disease',\n",
       "       'Lyme_disease', 'West_Nile_fever', 'Zika', 'Zika', 'Tungiasis',\n",
       "       'West_Nile_fever', 'West_Nile_fever', 'Chikungunya',\n",
       "       'Yellow_Fever', 'Zika', 'Chikungunya', 'Rift_Valley_fever',\n",
       "       'Chikungunya', 'Lyme_disease', 'Zika', 'Tungiasis',\n",
       "       'Rift_Valley_fever', 'Chikungunya', 'Tungiasis', 'Yellow_Fever',\n",
       "       'Rift_Valley_fever', 'Lyme_disease', 'Chikungunya', 'Chikungunya',\n",
       "       'Dengue', 'Tungiasis', 'West_Nile_fever', 'West_Nile_fever',\n",
       "       'Lyme_disease', 'Chikungunya', 'Tungiasis', 'Lyme_disease',\n",
       "       'West_Nile_fever', 'West_Nile_fever', 'Chikungunya', 'Tungiasis',\n",
       "       'Tungiasis', 'Japanese_encephalitis', 'Malaria',\n",
       "       'Rift_Valley_fever', 'Japanese_encephalitis', 'Chikungunya',\n",
       "       'West_Nile_fever', 'Japanese_encephalitis', 'West_Nile_fever',\n",
       "       'Lyme_disease', 'Zika', 'Yellow_Fever', 'Yellow_Fever',\n",
       "       'West_Nile_fever', 'Chikungunya', 'Malaria', 'Lyme_disease',\n",
       "       'Chikungunya', 'Tungiasis', 'Lyme_disease', 'Rift_Valley_fever',\n",
       "       'Chikungunya', 'Yellow_Fever', 'Tungiasis', 'Dengue',\n",
       "       'Chikungunya', 'Lyme_disease', 'West_Nile_fever',\n",
       "       'Japanese_encephalitis', 'West_Nile_fever', 'Lyme_disease',\n",
       "       'Rift_Valley_fever', 'Rift_Valley_fever', 'Japanese_encephalitis',\n",
       "       'Tungiasis', 'Chikungunya', 'Japanese_encephalitis', 'Tungiasis',\n",
       "       'Yellow_Fever', 'Malaria', 'Zika', 'Tungiasis', 'Yellow_Fever',\n",
       "       'Tungiasis', 'West_Nile_fever', 'West_Nile_fever',\n",
       "       'West_Nile_fever', 'Chikungunya', 'Tungiasis', 'West_Nile_fever',\n",
       "       'West_Nile_fever', 'Chikungunya', 'Malaria', 'Tungiasis',\n",
       "       'Chikungunya', 'Zika', 'Tungiasis', 'Japanese_encephalitis',\n",
       "       'Chikungunya', 'Tungiasis', 'Lyme_disease', 'Chikungunya',\n",
       "       'West_Nile_fever', 'Lyme_disease', 'Yellow_Fever', 'Lyme_disease',\n",
       "       'Dengue', 'Tungiasis', 'Tungiasis', 'Chikungunya', 'Malaria',\n",
       "       'Japanese_encephalitis', 'Malaria', 'Chikungunya',\n",
       "       'West_Nile_fever', 'Chikungunya', 'Dengue', 'Lyme_disease',\n",
       "       'West_Nile_fever', 'Yellow_Fever', 'Chikungunya', 'Tungiasis',\n",
       "       'Malaria', 'West_Nile_fever', 'Chikungunya', 'Lyme_disease',\n",
       "       'Dengue', 'Chikungunya', 'West_Nile_fever', 'Chikungunya',\n",
       "       'West_Nile_fever', 'Chikungunya', 'Yellow_Fever', 'Chikungunya',\n",
       "       'Chikungunya', 'Lyme_disease', 'Malaria', 'Chikungunya',\n",
       "       'Rift_Valley_fever', 'Japanese_encephalitis', 'Yellow_Fever',\n",
       "       'Zika', 'Japanese_encephalitis', 'Zika', 'Tungiasis', 'Tungiasis',\n",
       "       'Chikungunya', 'Lyme_disease', 'Rift_Valley_fever', 'Tungiasis',\n",
       "       'Chikungunya', 'Rift_Valley_fever', 'Chikungunya', 'Dengue',\n",
       "       'Tungiasis', 'Lyme_disease', 'Yellow_Fever', 'Chikungunya',\n",
       "       'Chikungunya', 'West_Nile_fever', 'Lyme_disease', 'Tungiasis',\n",
       "       'West_Nile_fever', 'Yellow_Fever', 'Yellow_Fever', 'Yellow_Fever',\n",
       "       'Yellow_Fever', 'Lyme_disease', 'Zika', 'Lyme_disease',\n",
       "       'Rift_Valley_fever', 'Chikungunya', 'Chikungunya', 'Yellow_Fever',\n",
       "       'Lyme_disease', 'Dengue', 'Japanese_encephalitis', 'Zika',\n",
       "       'Lyme_disease', 'Tungiasis', 'Malaria', 'Rift_Valley_fever',\n",
       "       'Japanese_encephalitis', 'Lyme_disease', 'Chikungunya',\n",
       "       'Chikungunya', 'Chikungunya', 'Japanese_encephalitis',\n",
       "       'Rift_Valley_fever', 'Chikungunya', 'West_Nile_fever',\n",
       "       'West_Nile_fever', 'Chikungunya', 'Japanese_encephalitis',\n",
       "       'Tungiasis', 'West_Nile_fever', 'Dengue', 'Lyme_disease',\n",
       "       'Chikungunya', 'Lyme_disease', 'Malaria', 'Tungiasis',\n",
       "       'West_Nile_fever', 'Tungiasis', 'Lyme_disease', 'Chikungunya',\n",
       "       'Yellow_Fever', 'Japanese_encephalitis', 'Dengue', 'Dengue',\n",
       "       'West_Nile_fever', 'Chikungunya', 'Tungiasis',\n",
       "       'Japanese_encephalitis', 'Lyme_disease', 'Dengue', 'Lyme_disease',\n",
       "       'Dengue', 'Tungiasis', 'Zika', 'West_Nile_fever', 'Chikungunya',\n",
       "       'Tungiasis', 'West_Nile_fever', 'Chikungunya', 'Yellow_Fever',\n",
       "       'West_Nile_fever', 'Yellow_Fever', 'Malaria', 'Lyme_disease',\n",
       "       'Tungiasis', 'Tungiasis', 'Japanese_encephalitis', 'Tungiasis',\n",
       "       'Tungiasis', 'Zika', 'Chikungunya', 'Lyme_disease',\n",
       "       'West_Nile_fever', 'West_Nile_fever', 'Japanese_encephalitis',\n",
       "       'West_Nile_fever', 'Malaria', 'Yellow_Fever', 'Zika',\n",
       "       'Yellow_Fever', 'Tungiasis', 'Malaria', 'Lyme_disease', 'Dengue',\n",
       "       'Dengue', 'Chikungunya', 'Rift_Valley_fever', 'West_Nile_fever',\n",
       "       'Chikungunya', 'West_Nile_fever', 'Yellow_Fever', 'Malaria',\n",
       "       'Tungiasis', 'Chikungunya', 'Tungiasis', 'West_Nile_fever',\n",
       "       'West_Nile_fever', 'Chikungunya', 'West_Nile_fever', 'Zika',\n",
       "       'Yellow_Fever', 'West_Nile_fever', 'Zika', 'Lyme_disease',\n",
       "       'Lyme_disease', 'West_Nile_fever', 'West_Nile_fever'], dtype=object)"
      ]
     },
     "execution_count": 39,
     "metadata": {},
     "output_type": "execute_result"
    }
   ],
   "source": [
    "# x = label.inverse_transform(pred_test)\n",
    "# x"
   ]
  },
  {
   "cell_type": "code",
   "execution_count": 159,
   "id": "aa1607e8",
   "metadata": {
    "collapsed": true
   },
   "outputs": [
    {
     "data": {
      "text/plain": [
       "array([5, 4, 5, 6, 5, 6, 5, 4, 6, 6, 5, 5, 5, 2, 6, 6, 6, 6, 3, 6, 6, 7,\n",
       "       5, 4, 4, 2, 4, 6, 6, 5, 6, 6, 5, 5, 5, 5, 6, 6, 5, 5, 5, 1, 6, 7,\n",
       "       1, 5, 2, 5, 6, 6, 5, 4, 5, 6, 5, 5, 4, 1, 5, 4, 6, 6, 5, 3, 5, 5,\n",
       "       6, 5, 5, 5, 5, 6, 5, 5, 5, 2, 5, 5, 6, 5, 6, 6, 6, 5, 5, 4, 5, 2,\n",
       "       5, 5, 5, 3, 6, 6, 5, 2, 5, 5, 5, 6, 5, 5, 5, 5, 6, 2, 5, 5, 6, 5,\n",
       "       6, 5, 6, 5, 6, 5, 6, 2, 5, 5, 6, 2, 5, 5, 5, 6, 6, 5, 2, 5, 5, 4,\n",
       "       5, 4, 6, 5, 6, 5, 5, 2, 5, 6, 5, 5, 6, 3, 5, 5, 5, 5, 3, 5, 5, 6,\n",
       "       3, 5, 4, 2, 6, 2, 5, 1, 6, 4, 2, 5, 5, 1, 5, 6, 6, 6, 5, 6, 6, 5,\n",
       "       2, 5, 5, 5, 3, 5, 2, 5, 5, 5, 5, 1, 2, 6, 5, 5, 5, 7, 5, 6, 6, 4,\n",
       "       6, 4, 5, 4, 2, 6, 5, 5, 5, 6, 5, 6, 5, 6, 5, 5, 1, 3, 3, 6, 5, 4,\n",
       "       6, 6, 3, 5, 4, 6, 5, 4, 1, 5, 5, 6, 6, 5, 5, 3, 6, 5, 4, 5, 6, 3,\n",
       "       5, 5, 5, 5, 5, 5, 5, 6, 5, 1, 5, 6, 3, 5, 5, 6, 5, 5, 5, 5, 5, 5,\n",
       "       6, 6, 4, 5, 5, 5, 5, 5, 5, 6, 6, 6, 6, 5, 5, 4, 5, 2, 5, 5, 5, 6,\n",
       "       6, 5, 5, 4, 5, 6, 6, 5, 5, 6, 6, 6, 6, 4, 5, 5, 6])"
      ]
     },
     "execution_count": 159,
     "metadata": {},
     "output_type": "execute_result"
    }
   ],
   "source": [
    "pred_test= pred_test.round()\n",
    "pred_test= zz.astype('int')\n",
    "pred_test"
   ]
  },
  {
   "cell_type": "code",
   "execution_count": 160,
   "id": "548b18a0",
   "metadata": {},
   "outputs": [
    {
     "data": {
      "text/html": [
       "<div>\n",
       "<style scoped>\n",
       "    .dataframe tbody tr th:only-of-type {\n",
       "        vertical-align: middle;\n",
       "    }\n",
       "\n",
       "    .dataframe tbody tr th {\n",
       "        vertical-align: top;\n",
       "    }\n",
       "\n",
       "    .dataframe thead th {\n",
       "        text-align: right;\n",
       "    }\n",
       "</style>\n",
       "<table border=\"1\" class=\"dataframe\">\n",
       "  <thead>\n",
       "    <tr style=\"text-align: right;\">\n",
       "      <th></th>\n",
       "      <th>id</th>\n",
       "      <th>prognosis</th>\n",
       "    </tr>\n",
       "  </thead>\n",
       "  <tbody>\n",
       "    <tr>\n",
       "      <th>0</th>\n",
       "      <td>707</td>\n",
       "      <td>Plague</td>\n",
       "    </tr>\n",
       "    <tr>\n",
       "      <th>1</th>\n",
       "      <td>708</td>\n",
       "      <td>Malaria</td>\n",
       "    </tr>\n",
       "    <tr>\n",
       "      <th>2</th>\n",
       "      <td>709</td>\n",
       "      <td>Plague</td>\n",
       "    </tr>\n",
       "    <tr>\n",
       "      <th>3</th>\n",
       "      <td>710</td>\n",
       "      <td>Rift_Valley_fever</td>\n",
       "    </tr>\n",
       "    <tr>\n",
       "      <th>4</th>\n",
       "      <td>711</td>\n",
       "      <td>Plague</td>\n",
       "    </tr>\n",
       "    <tr>\n",
       "      <th>...</th>\n",
       "      <td>...</td>\n",
       "      <td>...</td>\n",
       "    </tr>\n",
       "    <tr>\n",
       "      <th>298</th>\n",
       "      <td>1005</td>\n",
       "      <td>Rift_Valley_fever</td>\n",
       "    </tr>\n",
       "    <tr>\n",
       "      <th>299</th>\n",
       "      <td>1006</td>\n",
       "      <td>Malaria</td>\n",
       "    </tr>\n",
       "    <tr>\n",
       "      <th>300</th>\n",
       "      <td>1007</td>\n",
       "      <td>Plague</td>\n",
       "    </tr>\n",
       "    <tr>\n",
       "      <th>301</th>\n",
       "      <td>1008</td>\n",
       "      <td>Plague</td>\n",
       "    </tr>\n",
       "    <tr>\n",
       "      <th>302</th>\n",
       "      <td>1009</td>\n",
       "      <td>Rift_Valley_fever</td>\n",
       "    </tr>\n",
       "  </tbody>\n",
       "</table>\n",
       "<p>303 rows × 2 columns</p>\n",
       "</div>"
      ],
      "text/plain": [
       "       id          prognosis\n",
       "0     707             Plague\n",
       "1     708            Malaria\n",
       "2     709             Plague\n",
       "3     710  Rift_Valley_fever\n",
       "4     711             Plague\n",
       "..    ...                ...\n",
       "298  1005  Rift_Valley_fever\n",
       "299  1006            Malaria\n",
       "300  1007             Plague\n",
       "301  1008             Plague\n",
       "302  1009  Rift_Valley_fever\n",
       "\n",
       "[303 rows x 2 columns]"
      ]
     },
     "execution_count": 160,
     "metadata": {},
     "output_type": "execute_result"
    }
   ],
   "source": [
    "submission = pd.DataFrame({\n",
    "    'id': test['id'],\n",
    "    'prognosis': label.inverse_transform(pred_test)\n",
    "})\n",
    "submission"
   ]
  },
  {
   "cell_type": "code",
   "execution_count": 161,
   "id": "d43b10cf",
   "metadata": {},
   "outputs": [],
   "source": [
    "submission.to_csv('RFC_07_Reg.csv', index=False)"
   ]
  },
  {
   "cell_type": "code",
   "execution_count": null,
   "id": "33721fe9",
   "metadata": {},
   "outputs": [],
   "source": []
  },
  {
   "cell_type": "code",
   "execution_count": null,
   "id": "b796edb8",
   "metadata": {},
   "outputs": [],
   "source": []
  },
  {
   "cell_type": "code",
   "execution_count": null,
   "id": "38ca5df5",
   "metadata": {},
   "outputs": [],
   "source": []
  },
  {
   "cell_type": "code",
   "execution_count": null,
   "id": "9ed376ee",
   "metadata": {},
   "outputs": [],
   "source": []
  },
  {
   "cell_type": "code",
   "execution_count": null,
   "id": "9a0b67ec",
   "metadata": {},
   "outputs": [],
   "source": []
  },
  {
   "cell_type": "code",
   "execution_count": null,
   "id": "8155595e",
   "metadata": {},
   "outputs": [],
   "source": []
  },
  {
   "cell_type": "code",
   "execution_count": 70,
   "id": "fa50ab11",
   "metadata": {},
   "outputs": [],
   "source": [
    "sample = pd.read_csv('sample_submission.csv')"
   ]
  },
  {
   "cell_type": "code",
   "execution_count": 72,
   "id": "b8ee970c",
   "metadata": {},
   "outputs": [
    {
     "data": {
      "text/html": [
       "<div>\n",
       "<style scoped>\n",
       "    .dataframe tbody tr th:only-of-type {\n",
       "        vertical-align: middle;\n",
       "    }\n",
       "\n",
       "    .dataframe tbody tr th {\n",
       "        vertical-align: top;\n",
       "    }\n",
       "\n",
       "    .dataframe thead th {\n",
       "        text-align: right;\n",
       "    }\n",
       "</style>\n",
       "<table border=\"1\" class=\"dataframe\">\n",
       "  <thead>\n",
       "    <tr style=\"text-align: right;\">\n",
       "      <th></th>\n",
       "      <th>id</th>\n",
       "      <th>prognosis</th>\n",
       "    </tr>\n",
       "  </thead>\n",
       "  <tbody>\n",
       "    <tr>\n",
       "      <th>0</th>\n",
       "      <td>707</td>\n",
       "      <td>Dengue Zika Japanese_encephalitis</td>\n",
       "    </tr>\n",
       "    <tr>\n",
       "      <th>1</th>\n",
       "      <td>708</td>\n",
       "      <td>Dengue Zika Japanese_encephalitis</td>\n",
       "    </tr>\n",
       "    <tr>\n",
       "      <th>2</th>\n",
       "      <td>709</td>\n",
       "      <td>Dengue Zika Japanese_encephalitis</td>\n",
       "    </tr>\n",
       "    <tr>\n",
       "      <th>3</th>\n",
       "      <td>710</td>\n",
       "      <td>Dengue Zika Japanese_encephalitis</td>\n",
       "    </tr>\n",
       "    <tr>\n",
       "      <th>4</th>\n",
       "      <td>711</td>\n",
       "      <td>Dengue Zika Japanese_encephalitis</td>\n",
       "    </tr>\n",
       "  </tbody>\n",
       "</table>\n",
       "</div>"
      ],
      "text/plain": [
       "    id                          prognosis\n",
       "0  707  Dengue Zika Japanese_encephalitis\n",
       "1  708  Dengue Zika Japanese_encephalitis\n",
       "2  709  Dengue Zika Japanese_encephalitis\n",
       "3  710  Dengue Zika Japanese_encephalitis\n",
       "4  711  Dengue Zika Japanese_encephalitis"
      ]
     },
     "execution_count": 72,
     "metadata": {},
     "output_type": "execute_result"
    }
   ],
   "source": [
    "sample.head()"
   ]
  },
  {
   "cell_type": "code",
   "execution_count": 75,
   "id": "6275a54f",
   "metadata": {},
   "outputs": [
    {
     "data": {
      "text/html": [
       "<div>\n",
       "<style scoped>\n",
       "    .dataframe tbody tr th:only-of-type {\n",
       "        vertical-align: middle;\n",
       "    }\n",
       "\n",
       "    .dataframe tbody tr th {\n",
       "        vertical-align: top;\n",
       "    }\n",
       "\n",
       "    .dataframe thead th {\n",
       "        text-align: right;\n",
       "    }\n",
       "</style>\n",
       "<table border=\"1\" class=\"dataframe\">\n",
       "  <thead>\n",
       "    <tr style=\"text-align: right;\">\n",
       "      <th></th>\n",
       "      <th>id</th>\n",
       "      <th>sudden_fever</th>\n",
       "      <th>headache</th>\n",
       "      <th>mouth_bleed</th>\n",
       "      <th>nose_bleed</th>\n",
       "      <th>muscle_pain</th>\n",
       "      <th>joint_pain</th>\n",
       "      <th>vomiting</th>\n",
       "      <th>rash</th>\n",
       "      <th>diarrhea</th>\n",
       "      <th>hypotension</th>\n",
       "      <th>pleural_effusion</th>\n",
       "      <th>ascites</th>\n",
       "      <th>gastro_bleeding</th>\n",
       "      <th>swelling</th>\n",
       "      <th>nausea</th>\n",
       "      <th>chills</th>\n",
       "      <th>myalgia</th>\n",
       "      <th>digestion_trouble</th>\n",
       "      <th>fatigue</th>\n",
       "      <th>skin_lesions</th>\n",
       "      <th>stomach_pain</th>\n",
       "      <th>orbital_pain</th>\n",
       "      <th>neck_pain</th>\n",
       "      <th>weakness</th>\n",
       "      <th>back_pain</th>\n",
       "      <th>weight_loss</th>\n",
       "      <th>gum_bleed</th>\n",
       "      <th>jaundice</th>\n",
       "      <th>coma</th>\n",
       "      <th>diziness</th>\n",
       "      <th>inflammation</th>\n",
       "      <th>red_eyes</th>\n",
       "      <th>loss_of_appetite</th>\n",
       "      <th>urination_loss</th>\n",
       "      <th>slow_heart_rate</th>\n",
       "      <th>abdominal_pain</th>\n",
       "      <th>light_sensitivity</th>\n",
       "      <th>yellow_skin</th>\n",
       "      <th>yellow_eyes</th>\n",
       "      <th>facial_distortion</th>\n",
       "      <th>microcephaly</th>\n",
       "      <th>rigor</th>\n",
       "      <th>bitter_tongue</th>\n",
       "      <th>convulsion</th>\n",
       "      <th>anemia</th>\n",
       "      <th>cocacola_urine</th>\n",
       "      <th>hypoglycemia</th>\n",
       "      <th>prostraction</th>\n",
       "      <th>hyperpyrexia</th>\n",
       "      <th>stiff_neck</th>\n",
       "      <th>irritability</th>\n",
       "      <th>confusion</th>\n",
       "      <th>tremor</th>\n",
       "      <th>paralysis</th>\n",
       "      <th>lymph_swells</th>\n",
       "      <th>breathing_restriction</th>\n",
       "      <th>toe_inflammation</th>\n",
       "      <th>finger_inflammation</th>\n",
       "      <th>lips_irritation</th>\n",
       "      <th>itchiness</th>\n",
       "      <th>ulcers</th>\n",
       "      <th>toenail_loss</th>\n",
       "      <th>speech_problem</th>\n",
       "      <th>bullseye_rash</th>\n",
       "    </tr>\n",
       "  </thead>\n",
       "  <tbody>\n",
       "    <tr>\n",
       "      <th>0</th>\n",
       "      <td>707</td>\n",
       "      <td>0.0</td>\n",
       "      <td>0.0</td>\n",
       "      <td>0.0</td>\n",
       "      <td>0.0</td>\n",
       "      <td>0.0</td>\n",
       "      <td>0.0</td>\n",
       "      <td>0.0</td>\n",
       "      <td>0.0</td>\n",
       "      <td>0.0</td>\n",
       "      <td>1.0</td>\n",
       "      <td>0.0</td>\n",
       "      <td>0.0</td>\n",
       "      <td>0.0</td>\n",
       "      <td>0.0</td>\n",
       "      <td>0.0</td>\n",
       "      <td>0.0</td>\n",
       "      <td>0.0</td>\n",
       "      <td>0.0</td>\n",
       "      <td>0.0</td>\n",
       "      <td>0.0</td>\n",
       "      <td>0.0</td>\n",
       "      <td>0.0</td>\n",
       "      <td>0.0</td>\n",
       "      <td>0.0</td>\n",
       "      <td>1.0</td>\n",
       "      <td>0.0</td>\n",
       "      <td>0.0</td>\n",
       "      <td>0.0</td>\n",
       "      <td>0.0</td>\n",
       "      <td>0.0</td>\n",
       "      <td>0.0</td>\n",
       "      <td>0.0</td>\n",
       "      <td>1.0</td>\n",
       "      <td>0.0</td>\n",
       "      <td>1.0</td>\n",
       "      <td>0.0</td>\n",
       "      <td>1.0</td>\n",
       "      <td>0.0</td>\n",
       "      <td>0.0</td>\n",
       "      <td>0.0</td>\n",
       "      <td>0.0</td>\n",
       "      <td>1.0</td>\n",
       "      <td>0.0</td>\n",
       "      <td>0.0</td>\n",
       "      <td>0.0</td>\n",
       "      <td>0.0</td>\n",
       "      <td>0.0</td>\n",
       "      <td>0.0</td>\n",
       "      <td>1.0</td>\n",
       "      <td>0.0</td>\n",
       "      <td>0.0</td>\n",
       "      <td>0.0</td>\n",
       "      <td>1.0</td>\n",
       "      <td>0.0</td>\n",
       "      <td>0.0</td>\n",
       "      <td>0.0</td>\n",
       "      <td>0.0</td>\n",
       "      <td>0.0</td>\n",
       "      <td>0.0</td>\n",
       "      <td>0.0</td>\n",
       "      <td>0.0</td>\n",
       "      <td>0.0</td>\n",
       "      <td>0.0</td>\n",
       "      <td>0.0</td>\n",
       "    </tr>\n",
       "    <tr>\n",
       "      <th>1</th>\n",
       "      <td>708</td>\n",
       "      <td>1.0</td>\n",
       "      <td>1.0</td>\n",
       "      <td>0.0</td>\n",
       "      <td>1.0</td>\n",
       "      <td>0.0</td>\n",
       "      <td>1.0</td>\n",
       "      <td>1.0</td>\n",
       "      <td>1.0</td>\n",
       "      <td>1.0</td>\n",
       "      <td>1.0</td>\n",
       "      <td>1.0</td>\n",
       "      <td>1.0</td>\n",
       "      <td>0.0</td>\n",
       "      <td>0.0</td>\n",
       "      <td>1.0</td>\n",
       "      <td>1.0</td>\n",
       "      <td>0.0</td>\n",
       "      <td>0.0</td>\n",
       "      <td>1.0</td>\n",
       "      <td>0.0</td>\n",
       "      <td>0.0</td>\n",
       "      <td>0.0</td>\n",
       "      <td>0.0</td>\n",
       "      <td>0.0</td>\n",
       "      <td>0.0</td>\n",
       "      <td>0.0</td>\n",
       "      <td>0.0</td>\n",
       "      <td>0.0</td>\n",
       "      <td>0.0</td>\n",
       "      <td>0.0</td>\n",
       "      <td>0.0</td>\n",
       "      <td>0.0</td>\n",
       "      <td>0.0</td>\n",
       "      <td>0.0</td>\n",
       "      <td>0.0</td>\n",
       "      <td>0.0</td>\n",
       "      <td>0.0</td>\n",
       "      <td>0.0</td>\n",
       "      <td>0.0</td>\n",
       "      <td>0.0</td>\n",
       "      <td>0.0</td>\n",
       "      <td>0.0</td>\n",
       "      <td>0.0</td>\n",
       "      <td>0.0</td>\n",
       "      <td>0.0</td>\n",
       "      <td>0.0</td>\n",
       "      <td>0.0</td>\n",
       "      <td>0.0</td>\n",
       "      <td>0.0</td>\n",
       "      <td>0.0</td>\n",
       "      <td>0.0</td>\n",
       "      <td>0.0</td>\n",
       "      <td>0.0</td>\n",
       "      <td>0.0</td>\n",
       "      <td>0.0</td>\n",
       "      <td>0.0</td>\n",
       "      <td>0.0</td>\n",
       "      <td>0.0</td>\n",
       "      <td>0.0</td>\n",
       "      <td>0.0</td>\n",
       "      <td>0.0</td>\n",
       "      <td>0.0</td>\n",
       "      <td>0.0</td>\n",
       "      <td>0.0</td>\n",
       "    </tr>\n",
       "    <tr>\n",
       "      <th>2</th>\n",
       "      <td>709</td>\n",
       "      <td>1.0</td>\n",
       "      <td>1.0</td>\n",
       "      <td>0.0</td>\n",
       "      <td>1.0</td>\n",
       "      <td>1.0</td>\n",
       "      <td>1.0</td>\n",
       "      <td>1.0</td>\n",
       "      <td>0.0</td>\n",
       "      <td>1.0</td>\n",
       "      <td>0.0</td>\n",
       "      <td>1.0</td>\n",
       "      <td>1.0</td>\n",
       "      <td>0.0</td>\n",
       "      <td>0.0</td>\n",
       "      <td>0.0</td>\n",
       "      <td>1.0</td>\n",
       "      <td>1.0</td>\n",
       "      <td>0.0</td>\n",
       "      <td>0.0</td>\n",
       "      <td>0.0</td>\n",
       "      <td>0.0</td>\n",
       "      <td>1.0</td>\n",
       "      <td>1.0</td>\n",
       "      <td>1.0</td>\n",
       "      <td>0.0</td>\n",
       "      <td>0.0</td>\n",
       "      <td>0.0</td>\n",
       "      <td>1.0</td>\n",
       "      <td>0.0</td>\n",
       "      <td>0.0</td>\n",
       "      <td>0.0</td>\n",
       "      <td>1.0</td>\n",
       "      <td>0.0</td>\n",
       "      <td>0.0</td>\n",
       "      <td>0.0</td>\n",
       "      <td>0.0</td>\n",
       "      <td>1.0</td>\n",
       "      <td>1.0</td>\n",
       "      <td>1.0</td>\n",
       "      <td>1.0</td>\n",
       "      <td>1.0</td>\n",
       "      <td>0.0</td>\n",
       "      <td>0.0</td>\n",
       "      <td>0.0</td>\n",
       "      <td>0.0</td>\n",
       "      <td>0.0</td>\n",
       "      <td>0.0</td>\n",
       "      <td>0.0</td>\n",
       "      <td>0.0</td>\n",
       "      <td>1.0</td>\n",
       "      <td>0.0</td>\n",
       "      <td>0.0</td>\n",
       "      <td>1.0</td>\n",
       "      <td>0.0</td>\n",
       "      <td>0.0</td>\n",
       "      <td>0.0</td>\n",
       "      <td>0.0</td>\n",
       "      <td>0.0</td>\n",
       "      <td>0.0</td>\n",
       "      <td>1.0</td>\n",
       "      <td>0.0</td>\n",
       "      <td>0.0</td>\n",
       "      <td>0.0</td>\n",
       "      <td>0.0</td>\n",
       "    </tr>\n",
       "  </tbody>\n",
       "</table>\n",
       "</div>"
      ],
      "text/plain": [
       "    id  sudden_fever  headache  mouth_bleed  nose_bleed  muscle_pain  \\\n",
       "0  707           0.0       0.0          0.0         0.0          0.0   \n",
       "1  708           1.0       1.0          0.0         1.0          0.0   \n",
       "2  709           1.0       1.0          0.0         1.0          1.0   \n",
       "\n",
       "   joint_pain  vomiting  rash  diarrhea  hypotension  pleural_effusion  \\\n",
       "0         0.0       0.0   0.0       0.0          1.0               0.0   \n",
       "1         1.0       1.0   1.0       1.0          1.0               1.0   \n",
       "2         1.0       1.0   0.0       1.0          0.0               1.0   \n",
       "\n",
       "   ascites  gastro_bleeding  swelling  nausea  chills  myalgia  \\\n",
       "0      0.0              0.0       0.0     0.0     0.0      0.0   \n",
       "1      1.0              0.0       0.0     1.0     1.0      0.0   \n",
       "2      1.0              0.0       0.0     0.0     1.0      1.0   \n",
       "\n",
       "   digestion_trouble  fatigue  skin_lesions  stomach_pain  orbital_pain  \\\n",
       "0                0.0      0.0           0.0           0.0           0.0   \n",
       "1                0.0      1.0           0.0           0.0           0.0   \n",
       "2                0.0      0.0           0.0           0.0           1.0   \n",
       "\n",
       "   neck_pain  weakness  back_pain  weight_loss  gum_bleed  jaundice  coma  \\\n",
       "0        0.0       0.0        1.0          0.0        0.0       0.0   0.0   \n",
       "1        0.0       0.0        0.0          0.0        0.0       0.0   0.0   \n",
       "2        1.0       1.0        0.0          0.0        0.0       1.0   0.0   \n",
       "\n",
       "   diziness  inflammation  red_eyes  loss_of_appetite  urination_loss  \\\n",
       "0       0.0           0.0       0.0               1.0             0.0   \n",
       "1       0.0           0.0       0.0               0.0             0.0   \n",
       "2       0.0           0.0       1.0               0.0             0.0   \n",
       "\n",
       "   slow_heart_rate  abdominal_pain  light_sensitivity  yellow_skin  \\\n",
       "0              1.0             0.0                1.0          0.0   \n",
       "1              0.0             0.0                0.0          0.0   \n",
       "2              0.0             0.0                1.0          1.0   \n",
       "\n",
       "   yellow_eyes  facial_distortion  microcephaly  rigor  bitter_tongue  \\\n",
       "0          0.0                0.0           0.0    1.0            0.0   \n",
       "1          0.0                0.0           0.0    0.0            0.0   \n",
       "2          1.0                1.0           1.0    0.0            0.0   \n",
       "\n",
       "   convulsion  anemia  cocacola_urine  hypoglycemia  prostraction  \\\n",
       "0         0.0     0.0             0.0           0.0           0.0   \n",
       "1         0.0     0.0             0.0           0.0           0.0   \n",
       "2         0.0     0.0             0.0           0.0           0.0   \n",
       "\n",
       "   hyperpyrexia  stiff_neck  irritability  confusion  tremor  paralysis  \\\n",
       "0           1.0         0.0           0.0        0.0     1.0        0.0   \n",
       "1           0.0         0.0           0.0        0.0     0.0        0.0   \n",
       "2           0.0         1.0           0.0        0.0     1.0        0.0   \n",
       "\n",
       "   lymph_swells  breathing_restriction  toe_inflammation  finger_inflammation  \\\n",
       "0           0.0                    0.0               0.0                  0.0   \n",
       "1           0.0                    0.0               0.0                  0.0   \n",
       "2           0.0                    0.0               0.0                  0.0   \n",
       "\n",
       "   lips_irritation  itchiness  ulcers  toenail_loss  speech_problem  \\\n",
       "0              0.0        0.0     0.0           0.0             0.0   \n",
       "1              0.0        0.0     0.0           0.0             0.0   \n",
       "2              0.0        1.0     0.0           0.0             0.0   \n",
       "\n",
       "   bullseye_rash  \n",
       "0            0.0  \n",
       "1            0.0  \n",
       "2            0.0  "
      ]
     },
     "execution_count": 75,
     "metadata": {},
     "output_type": "execute_result"
    }
   ],
   "source": [
    "test.head(3)"
   ]
  },
  {
   "cell_type": "code",
   "execution_count": null,
   "id": "a2d415ee",
   "metadata": {},
   "outputs": [],
   "source": [
    "X.skew()"
   ]
  },
  {
   "cell_type": "code",
   "execution_count": 34,
   "id": "d0157965",
   "metadata": {
    "collapsed": true
   },
   "outputs": [
    {
     "data": {
      "text/html": [
       "<div>\n",
       "<style scoped>\n",
       "    .dataframe tbody tr th:only-of-type {\n",
       "        vertical-align: middle;\n",
       "    }\n",
       "\n",
       "    .dataframe tbody tr th {\n",
       "        vertical-align: top;\n",
       "    }\n",
       "\n",
       "    .dataframe thead th {\n",
       "        text-align: right;\n",
       "    }\n",
       "</style>\n",
       "<table border=\"1\" class=\"dataframe\">\n",
       "  <thead>\n",
       "    <tr style=\"text-align: right;\">\n",
       "      <th></th>\n",
       "      <th>id</th>\n",
       "      <th>sudden_fever</th>\n",
       "      <th>headache</th>\n",
       "      <th>mouth_bleed</th>\n",
       "      <th>nose_bleed</th>\n",
       "      <th>muscle_pain</th>\n",
       "      <th>joint_pain</th>\n",
       "      <th>vomiting</th>\n",
       "      <th>rash</th>\n",
       "      <th>diarrhea</th>\n",
       "      <th>hypotension</th>\n",
       "      <th>pleural_effusion</th>\n",
       "      <th>ascites</th>\n",
       "      <th>gastro_bleeding</th>\n",
       "      <th>swelling</th>\n",
       "      <th>nausea</th>\n",
       "      <th>chills</th>\n",
       "      <th>myalgia</th>\n",
       "      <th>digestion_trouble</th>\n",
       "      <th>fatigue</th>\n",
       "      <th>skin_lesions</th>\n",
       "      <th>stomach_pain</th>\n",
       "      <th>orbital_pain</th>\n",
       "      <th>neck_pain</th>\n",
       "      <th>weakness</th>\n",
       "      <th>back_pain</th>\n",
       "      <th>weight_loss</th>\n",
       "      <th>gum_bleed</th>\n",
       "      <th>jaundice</th>\n",
       "      <th>coma</th>\n",
       "      <th>diziness</th>\n",
       "      <th>inflammation</th>\n",
       "      <th>red_eyes</th>\n",
       "      <th>loss_of_appetite</th>\n",
       "      <th>urination_loss</th>\n",
       "      <th>slow_heart_rate</th>\n",
       "      <th>abdominal_pain</th>\n",
       "      <th>light_sensitivity</th>\n",
       "      <th>yellow_skin</th>\n",
       "      <th>yellow_eyes</th>\n",
       "      <th>facial_distortion</th>\n",
       "      <th>microcephaly</th>\n",
       "      <th>rigor</th>\n",
       "      <th>bitter_tongue</th>\n",
       "      <th>convulsion</th>\n",
       "      <th>anemia</th>\n",
       "      <th>cocacola_urine</th>\n",
       "      <th>hypoglycemia</th>\n",
       "      <th>prostraction</th>\n",
       "      <th>hyperpyrexia</th>\n",
       "      <th>stiff_neck</th>\n",
       "      <th>irritability</th>\n",
       "      <th>confusion</th>\n",
       "      <th>tremor</th>\n",
       "      <th>paralysis</th>\n",
       "      <th>lymph_swells</th>\n",
       "      <th>breathing_restriction</th>\n",
       "      <th>toe_inflammation</th>\n",
       "      <th>finger_inflammation</th>\n",
       "      <th>lips_irritation</th>\n",
       "      <th>itchiness</th>\n",
       "      <th>ulcers</th>\n",
       "      <th>toenail_loss</th>\n",
       "      <th>speech_problem</th>\n",
       "      <th>bullseye_rash</th>\n",
       "    </tr>\n",
       "  </thead>\n",
       "  <tbody>\n",
       "    <tr>\n",
       "      <th>0</th>\n",
       "      <td>4.874705e+02</td>\n",
       "      <td>2769.818059</td>\n",
       "      <td>2846.323663</td>\n",
       "      <td>2817.978783</td>\n",
       "      <td>2773.633238</td>\n",
       "      <td>2778.520936</td>\n",
       "      <td>2846.323663</td>\n",
       "      <td>2876.849009</td>\n",
       "      <td>2773.633238</td>\n",
       "      <td>3247.458079</td>\n",
       "      <td>3213.978749</td>\n",
       "      <td>3363.39137</td>\n",
       "      <td>3509.13787</td>\n",
       "      <td>3813.966399</td>\n",
       "      <td>4876.835924</td>\n",
       "      <td>3408.159071</td>\n",
       "      <td>3198.075265</td>\n",
       "      <td>3857.024661</td>\n",
       "      <td>3431.889555</td>\n",
       "      <td>9034.390491</td>\n",
       "      <td>8122.712411</td>\n",
       "      <td>5307.579604</td>\n",
       "      <td>5694.367022</td>\n",
       "      <td>3628.865143</td>\n",
       "      <td>3042.563557</td>\n",
       "      <td>3247.458079</td>\n",
       "      <td>3385.3431</td>\n",
       "      <td>5147.757561</td>\n",
       "      <td>4055.815403</td>\n",
       "      <td>3153.423327</td>\n",
       "      <td>3813.966399</td>\n",
       "      <td>1597.801215</td>\n",
       "      <td>3456.5891</td>\n",
       "      <td>2850.991871</td>\n",
       "      <td>2846.323663</td>\n",
       "      <td>3100.264928</td>\n",
       "      <td>2841.815698</td>\n",
       "      <td>2780.041129</td>\n",
       "      <td>2778.520936</td>\n",
       "      <td>2888.432799</td>\n",
       "      <td>3482.317007</td>\n",
       "      <td>2.094818e+02</td>\n",
       "      <td>1.371464e+02</td>\n",
       "      <td>1.287001e+02</td>\n",
       "      <td>1.295455e+02</td>\n",
       "      <td>1.309664e+02</td>\n",
       "      <td>1.408448e+02</td>\n",
       "      <td>1.337203e+02</td>\n",
       "      <td>1.289704e+02</td>\n",
       "      <td>1.384251e+02</td>\n",
       "      <td>2.880421e+02</td>\n",
       "      <td>1.602360e+02</td>\n",
       "      <td>1.897159e+02</td>\n",
       "      <td>1.508067e+02</td>\n",
       "      <td>2.000639e+02</td>\n",
       "      <td>2.469690e+02</td>\n",
       "      <td>4.889787e+02</td>\n",
       "      <td>3.888203e+02</td>\n",
       "      <td>4.581979e+02</td>\n",
       "      <td>4.353766e+02</td>\n",
       "      <td>2.344222e+02</td>\n",
       "      <td>2.567452e+02</td>\n",
       "      <td>2.737577e+02</td>\n",
       "      <td>7.469015e+02</td>\n",
       "      <td>7.612328e+02</td>\n",
       "    </tr>\n",
       "    <tr>\n",
       "      <th>1</th>\n",
       "      <td>1.403218e-106</td>\n",
       "      <td>0.000000</td>\n",
       "      <td>0.000000</td>\n",
       "      <td>0.000000</td>\n",
       "      <td>0.000000</td>\n",
       "      <td>0.000000</td>\n",
       "      <td>0.000000</td>\n",
       "      <td>0.000000</td>\n",
       "      <td>0.000000</td>\n",
       "      <td>0.000000</td>\n",
       "      <td>0.000000</td>\n",
       "      <td>0.00000</td>\n",
       "      <td>0.00000</td>\n",
       "      <td>0.000000</td>\n",
       "      <td>0.000000</td>\n",
       "      <td>0.000000</td>\n",
       "      <td>0.000000</td>\n",
       "      <td>0.000000</td>\n",
       "      <td>0.000000</td>\n",
       "      <td>0.000000</td>\n",
       "      <td>0.000000</td>\n",
       "      <td>0.000000</td>\n",
       "      <td>0.000000</td>\n",
       "      <td>0.000000</td>\n",
       "      <td>0.000000</td>\n",
       "      <td>0.000000</td>\n",
       "      <td>0.0000</td>\n",
       "      <td>0.000000</td>\n",
       "      <td>0.000000</td>\n",
       "      <td>0.000000</td>\n",
       "      <td>0.000000</td>\n",
       "      <td>0.000000</td>\n",
       "      <td>0.0000</td>\n",
       "      <td>0.000000</td>\n",
       "      <td>0.000000</td>\n",
       "      <td>0.000000</td>\n",
       "      <td>0.000000</td>\n",
       "      <td>0.000000</td>\n",
       "      <td>0.000000</td>\n",
       "      <td>0.000000</td>\n",
       "      <td>0.000000</td>\n",
       "      <td>3.247983e-46</td>\n",
       "      <td>1.655916e-30</td>\n",
       "      <td>1.130121e-28</td>\n",
       "      <td>7.405475e-29</td>\n",
       "      <td>3.639251e-29</td>\n",
       "      <td>2.605816e-31</td>\n",
       "      <td>9.183277e-30</td>\n",
       "      <td>9.872531e-29</td>\n",
       "      <td>8.736999e-31</td>\n",
       "      <td>2.834400e-63</td>\n",
       "      <td>1.603981e-35</td>\n",
       "      <td>6.363728e-42</td>\n",
       "      <td>1.789500e-33</td>\n",
       "      <td>3.603096e-44</td>\n",
       "      <td>2.351652e-54</td>\n",
       "      <td>6.601344e-107</td>\n",
       "      <td>3.704608e-85</td>\n",
       "      <td>3.188523e-100</td>\n",
       "      <td>2.878573e-95</td>\n",
       "      <td>1.246990e-51</td>\n",
       "      <td>1.772134e-56</td>\n",
       "      <td>3.583111e-60</td>\n",
       "      <td>6.492461e-163</td>\n",
       "      <td>5.016499e-166</td>\n",
       "    </tr>\n",
       "  </tbody>\n",
       "</table>\n",
       "</div>"
      ],
      "text/plain": [
       "              id  sudden_fever     headache  mouth_bleed   nose_bleed  \\\n",
       "0   4.874705e+02   2769.818059  2846.323663  2817.978783  2773.633238   \n",
       "1  1.403218e-106      0.000000     0.000000     0.000000     0.000000   \n",
       "\n",
       "   muscle_pain   joint_pain     vomiting         rash     diarrhea  \\\n",
       "0  2778.520936  2846.323663  2876.849009  2773.633238  3247.458079   \n",
       "1     0.000000     0.000000     0.000000     0.000000     0.000000   \n",
       "\n",
       "   hypotension  pleural_effusion     ascites  gastro_bleeding     swelling  \\\n",
       "0  3213.978749        3363.39137  3509.13787      3813.966399  4876.835924   \n",
       "1     0.000000           0.00000     0.00000         0.000000     0.000000   \n",
       "\n",
       "        nausea       chills      myalgia  digestion_trouble      fatigue  \\\n",
       "0  3408.159071  3198.075265  3857.024661        3431.889555  9034.390491   \n",
       "1     0.000000     0.000000     0.000000           0.000000     0.000000   \n",
       "\n",
       "   skin_lesions  stomach_pain  orbital_pain    neck_pain     weakness  \\\n",
       "0   8122.712411   5307.579604   5694.367022  3628.865143  3042.563557   \n",
       "1      0.000000      0.000000      0.000000     0.000000     0.000000   \n",
       "\n",
       "     back_pain  weight_loss    gum_bleed     jaundice         coma  \\\n",
       "0  3247.458079    3385.3431  5147.757561  4055.815403  3153.423327   \n",
       "1     0.000000       0.0000     0.000000     0.000000     0.000000   \n",
       "\n",
       "      diziness  inflammation   red_eyes  loss_of_appetite  urination_loss  \\\n",
       "0  3813.966399   1597.801215  3456.5891       2850.991871     2846.323663   \n",
       "1     0.000000      0.000000     0.0000          0.000000        0.000000   \n",
       "\n",
       "   slow_heart_rate  abdominal_pain  light_sensitivity  yellow_skin  \\\n",
       "0      3100.264928     2841.815698        2780.041129  2778.520936   \n",
       "1         0.000000        0.000000           0.000000     0.000000   \n",
       "\n",
       "   yellow_eyes  facial_distortion  microcephaly         rigor  bitter_tongue  \\\n",
       "0  2888.432799        3482.317007  2.094818e+02  1.371464e+02   1.287001e+02   \n",
       "1     0.000000           0.000000  3.247983e-46  1.655916e-30   1.130121e-28   \n",
       "\n",
       "     convulsion        anemia  cocacola_urine  hypoglycemia  prostraction  \\\n",
       "0  1.295455e+02  1.309664e+02    1.408448e+02  1.337203e+02  1.289704e+02   \n",
       "1  7.405475e-29  3.639251e-29    2.605816e-31  9.183277e-30  9.872531e-29   \n",
       "\n",
       "   hyperpyrexia    stiff_neck  irritability     confusion        tremor  \\\n",
       "0  1.384251e+02  2.880421e+02  1.602360e+02  1.897159e+02  1.508067e+02   \n",
       "1  8.736999e-31  2.834400e-63  1.603981e-35  6.363728e-42  1.789500e-33   \n",
       "\n",
       "      paralysis  lymph_swells  breathing_restriction  toe_inflammation  \\\n",
       "0  2.000639e+02  2.469690e+02           4.889787e+02      3.888203e+02   \n",
       "1  3.603096e-44  2.351652e-54          6.601344e-107      3.704608e-85   \n",
       "\n",
       "   finger_inflammation  lips_irritation     itchiness        ulcers  \\\n",
       "0         4.581979e+02     4.353766e+02  2.344222e+02  2.567452e+02   \n",
       "1        3.188523e-100     2.878573e-95  1.246990e-51  1.772134e-56   \n",
       "\n",
       "   toenail_loss  speech_problem  bullseye_rash  \n",
       "0  2.737577e+02    7.469015e+02   7.612328e+02  \n",
       "1  3.583111e-60   6.492461e-163  5.016499e-166  "
      ]
     },
     "execution_count": 34,
     "metadata": {},
     "output_type": "execute_result"
    },
    {
     "data": {
      "image/png": "[encoded data removed]",
      "text/plain": [
       "<Figure size 640x480 with 72 Axes>"
      ]
     },
     "metadata": {},
     "output_type": "display_data"
    }
   ],
   "source": [
    "X.hist(bins=12) # histogram dla wszystkich zmiennych \n",
    "from scipy import stats # test na normalność rozkładu \n",
    "X.select_dtypes([float, int]).apply(stats.normaltest) # p-value to wartość"
   ]
  },
  {
   "cell_type": "code",
   "execution_count": 54,
   "id": "50996a55",
   "metadata": {},
   "outputs": [],
   "source": [
    "def objective(trial):    \n",
    "    n_estimators = trial.suggest_int(\"n_estimators\", 200, 1000, log=True)\n",
    "    max_depth = trial.suggest_int(\"max_depth\", 5, 20, log=True)\n",
    "    max_features = trial.suggest_float('max_features', 0.1, 1.0)\n",
    "    min_samples_split = trial.suggest_int('min_samples_split', 2, 50)\n",
    "    min_samples_leaf = trial.suggest_int('min_samples_leaf', 1, 25)\n",
    "    max_samples = trial.suggest_float('max_samples', 0.2, 0.99)\n",
    "    model = RandomForestClassifier(\n",
    "        max_depth=max_depth,\n",
    "        n_estimators=n_estimators,\n",
    "        max_features=max_features,\n",
    "        min_samples_split=min_samples_split,\n",
    "        min_samples_leaf=min_samples_leaf,\n",
    "        max_samples=max_samples,\n",
    "        bootstrap=True,\n",
    "        verbose=0,\n",
    "        oob_score=True,\n",
    "        random_state=42,\n",
    "        n_jobs=3\n",
    "    )\n",
    "    model.fit(X, y)\n",
    "    pred_train = model.oob_prediction_\n",
    "    score = mean_squared_error(y, pred_train, squared=False)\n",
    "    return score"
   ]
  },
  {
   "cell_type": "code",
   "execution_count": 45,
   "id": "db344091",
   "metadata": {
    "collapsed": true
   },
   "outputs": [
    {
     "name": "stderr",
     "output_type": "stream",
     "text": [
      "[W 2024-10-02 11:56:30,047] Trial 0 failed with parameters: {'n_estimators': 365, 'max_depth': 19, 'max_features': 0.7587945476302645, 'min_samples_split': 31, 'min_samples_leaf': 4, 'max_samples': 0.32323567106560014} because of the following error: ValueError(\"node array from the pickle has an incompatible dtype:\\n- expected: {'names': ['left_child', 'right_child', 'feature', 'threshold', 'impurity', 'n_node_samples', 'weighted_n_node_samples', 'missing_go_to_left'], 'formats': ['<i8', '<i8', '<i8', '<f8', '<f8', '<i8', '<f8', 'u1'], 'offsets': [0, 8, 16, 24, 32, 40, 48, 56], 'itemsize': 64}\\n- got     : [('left_child', '<i8'), ('right_child', '<i8'), ('feature', '<i8'), ('threshold', '<f8'), ('impurity', '<f8'), ('n_node_samples', '<i8'), ('weighted_n_node_samples', '<f8')]\").\n",
      "Traceback (most recent call last):\n",
      "  File \"D:\\Programy\\anaconda3\\Lib\\site-packages\\optuna\\study\\_optimize.py\", line 196, in _run_trial\n",
      "    value_or_values = func(trial)\n",
      "                      ^^^^^^^^^^^\n",
      "  File \"C:\\Users\\adams\\AppData\\Local\\Temp\\ipykernel_11164\\3641322890.py\", line 21, in objective\n",
      "    model.fit(X, y)\n",
      "  File \"D:\\Programy\\anaconda3\\Lib\\site-packages\\daal4py\\sklearn\\_device_offload.py\", line 88, in wrapper_with_self\n",
      "    return wrapper_impl(self, *args, **kwargs)\n",
      "           ^^^^^^^^^^^^^^^^^^^^^^^^^^^^^^^^^^^\n",
      "  File \"D:\\Programy\\anaconda3\\Lib\\site-packages\\daal4py\\sklearn\\_device_offload.py\", line 74, in wrapper_impl\n",
      "    result = _run_on_device(func, q, obj, *hostargs, **hostkwargs)\n",
      "             ^^^^^^^^^^^^^^^^^^^^^^^^^^^^^^^^^^^^^^^^^^^^^^^^^^^^^\n",
      "  File \"D:\\Programy\\anaconda3\\Lib\\site-packages\\daal4py\\sklearn\\_device_offload.py\", line 65, in _run_on_device\n",
      "    return dispatch_by_obj(obj, func, *args, **kwargs)\n",
      "           ^^^^^^^^^^^^^^^^^^^^^^^^^^^^^^^^^^^^^^^^^^^\n",
      "  File \"D:\\Programy\\anaconda3\\Lib\\site-packages\\daal4py\\sklearn\\_device_offload.py\", line 53, in dispatch_by_obj\n",
      "    return func(obj, *args, **kwargs)\n",
      "           ^^^^^^^^^^^^^^^^^^^^^^^^^^\n",
      "  File \"D:\\Programy\\anaconda3\\Lib\\site-packages\\daal4py\\sklearn\\ensemble\\_forest.py\", line 715, in fit\n",
      "    return _fit_classifier(self, X, y, sample_weight=sample_weight)\n",
      "           ^^^^^^^^^^^^^^^^^^^^^^^^^^^^^^^^^^^^^^^^^^^^^^^^^^^^^^^^\n",
      "  File \"D:\\Programy\\anaconda3\\Lib\\site-packages\\daal4py\\sklearn\\ensemble\\_forest.py\", line 375, in _fit_classifier\n",
      "    self.estimators_ = self._estimators_\n",
      "                       ^^^^^^^^^^^^^^^^^\n",
      "  File \"D:\\Programy\\anaconda3\\Lib\\site-packages\\daal4py\\sklearn\\ensemble\\_forest.py\", line 895, in _estimators_\n",
      "    est_i.tree_.__setstate__(tree_i_state_dict)\n",
      "  File \"sklearn\\tree\\_tree.pyx\", line 714, in sklearn.tree._tree.Tree.__setstate__\n",
      "  File \"sklearn\\tree\\_tree.pyx\", line 1418, in sklearn.tree._tree._check_node_ndarray\n",
      "ValueError: node array from the pickle has an incompatible dtype:\n",
      "- expected: {'names': ['left_child', 'right_child', 'feature', 'threshold', 'impurity', 'n_node_samples', 'weighted_n_node_samples', 'missing_go_to_left'], 'formats': ['<i8', '<i8', '<i8', '<f8', '<f8', '<i8', '<f8', 'u1'], 'offsets': [0, 8, 16, 24, 32, 40, 48, 56], 'itemsize': 64}\n",
      "- got     : [('left_child', '<i8'), ('right_child', '<i8'), ('feature', '<i8'), ('threshold', '<f8'), ('impurity', '<f8'), ('n_node_samples', '<i8'), ('weighted_n_node_samples', '<f8')]\n",
      "[W 2024-10-02 11:56:30,047] Trial 0 failed with value None.\n"
     ]
    },
    {
     "ename": "ValueError",
     "evalue": "node array from the pickle has an incompatible dtype:\n- expected: {'names': ['left_child', 'right_child', 'feature', 'threshold', 'impurity', 'n_node_samples', 'weighted_n_node_samples', 'missing_go_to_left'], 'formats': ['<i8', '<i8', '<i8', '<f8', '<f8', '<i8', '<f8', 'u1'], 'offsets': [0, 8, 16, 24, 32, 40, 48, 56], 'itemsize': 64}\n- got     : [('left_child', '<i8'), ('right_child', '<i8'), ('feature', '<i8'), ('threshold', '<f8'), ('impurity', '<f8'), ('n_node_samples', '<i8'), ('weighted_n_node_samples', '<f8')]",
     "output_type": "error",
     "traceback": [
      "\u001b[1;31m---------------------------------------------------------------------------\u001b[0m",
      "\u001b[1;31mValueError\u001b[0m                                Traceback (most recent call last)",
      "Cell \u001b[1;32mIn[45], line 4\u001b[0m\n\u001b[0;32m      2\u001b[0m sampler \u001b[38;5;241m=\u001b[39m optuna\u001b[38;5;241m.\u001b[39msamplers\u001b[38;5;241m.\u001b[39mTPESampler(seed\u001b[38;5;241m=\u001b[39m\u001b[38;5;241m42\u001b[39m)\n\u001b[0;32m      3\u001b[0m study \u001b[38;5;241m=\u001b[39m optuna\u001b[38;5;241m.\u001b[39mcreate_study(direction\u001b[38;5;241m=\u001b[39m\u001b[38;5;124m\"\u001b[39m\u001b[38;5;124mmaximize\u001b[39m\u001b[38;5;124m\"\u001b[39m, sampler\u001b[38;5;241m=\u001b[39msampler)\n\u001b[1;32m----> 4\u001b[0m study\u001b[38;5;241m.\u001b[39moptimize(objective, n_trials\u001b[38;5;241m=\u001b[39m\u001b[38;5;241m100\u001b[39m)\n",
      "File \u001b[1;32mD:\\Programy\\anaconda3\\Lib\\site-packages\\optuna\\study\\study.py:451\u001b[0m, in \u001b[0;36mStudy.optimize\u001b[1;34m(self, func, n_trials, timeout, n_jobs, catch, callbacks, gc_after_trial, show_progress_bar)\u001b[0m\n\u001b[0;32m    348\u001b[0m \u001b[38;5;28;01mdef\u001b[39;00m \u001b[38;5;21moptimize\u001b[39m(\n\u001b[0;32m    349\u001b[0m     \u001b[38;5;28mself\u001b[39m,\n\u001b[0;32m    350\u001b[0m     func: ObjectiveFuncType,\n\u001b[1;32m   (...)\u001b[0m\n\u001b[0;32m    357\u001b[0m     show_progress_bar: \u001b[38;5;28mbool\u001b[39m \u001b[38;5;241m=\u001b[39m \u001b[38;5;28;01mFalse\u001b[39;00m,\n\u001b[0;32m    358\u001b[0m ) \u001b[38;5;241m-\u001b[39m\u001b[38;5;241m>\u001b[39m \u001b[38;5;28;01mNone\u001b[39;00m:\n\u001b[0;32m    359\u001b[0m \u001b[38;5;250m    \u001b[39m\u001b[38;5;124;03m\"\"\"Optimize an objective function.\u001b[39;00m\n\u001b[0;32m    360\u001b[0m \n\u001b[0;32m    361\u001b[0m \u001b[38;5;124;03m    Optimization is done by choosing a suitable set of hyperparameter values from a given\u001b[39;00m\n\u001b[1;32m   (...)\u001b[0m\n\u001b[0;32m    449\u001b[0m \u001b[38;5;124;03m            If nested invocation of this method occurs.\u001b[39;00m\n\u001b[0;32m    450\u001b[0m \u001b[38;5;124;03m    \"\"\"\u001b[39;00m\n\u001b[1;32m--> 451\u001b[0m     _optimize(\n\u001b[0;32m    452\u001b[0m         study\u001b[38;5;241m=\u001b[39m\u001b[38;5;28mself\u001b[39m,\n\u001b[0;32m    453\u001b[0m         func\u001b[38;5;241m=\u001b[39mfunc,\n\u001b[0;32m    454\u001b[0m         n_trials\u001b[38;5;241m=\u001b[39mn_trials,\n\u001b[0;32m    455\u001b[0m         timeout\u001b[38;5;241m=\u001b[39mtimeout,\n\u001b[0;32m    456\u001b[0m         n_jobs\u001b[38;5;241m=\u001b[39mn_jobs,\n\u001b[0;32m    457\u001b[0m         catch\u001b[38;5;241m=\u001b[39m\u001b[38;5;28mtuple\u001b[39m(catch) \u001b[38;5;28;01mif\u001b[39;00m \u001b[38;5;28misinstance\u001b[39m(catch, Iterable) \u001b[38;5;28;01melse\u001b[39;00m (catch,),\n\u001b[0;32m    458\u001b[0m         callbacks\u001b[38;5;241m=\u001b[39mcallbacks,\n\u001b[0;32m    459\u001b[0m         gc_after_trial\u001b[38;5;241m=\u001b[39mgc_after_trial,\n\u001b[0;32m    460\u001b[0m         show_progress_bar\u001b[38;5;241m=\u001b[39mshow_progress_bar,\n\u001b[0;32m    461\u001b[0m     )\n",
      "File \u001b[1;32mD:\\Programy\\anaconda3\\Lib\\site-packages\\optuna\\study\\_optimize.py:62\u001b[0m, in \u001b[0;36m_optimize\u001b[1;34m(study, func, n_trials, timeout, n_jobs, catch, callbacks, gc_after_trial, show_progress_bar)\u001b[0m\n\u001b[0;32m     60\u001b[0m \u001b[38;5;28;01mtry\u001b[39;00m:\n\u001b[0;32m     61\u001b[0m     \u001b[38;5;28;01mif\u001b[39;00m n_jobs \u001b[38;5;241m==\u001b[39m \u001b[38;5;241m1\u001b[39m:\n\u001b[1;32m---> 62\u001b[0m         _optimize_sequential(\n\u001b[0;32m     63\u001b[0m             study,\n\u001b[0;32m     64\u001b[0m             func,\n\u001b[0;32m     65\u001b[0m             n_trials,\n\u001b[0;32m     66\u001b[0m             timeout,\n\u001b[0;32m     67\u001b[0m             catch,\n\u001b[0;32m     68\u001b[0m             callbacks,\n\u001b[0;32m     69\u001b[0m             gc_after_trial,\n\u001b[0;32m     70\u001b[0m             reseed_sampler_rng\u001b[38;5;241m=\u001b[39m\u001b[38;5;28;01mFalse\u001b[39;00m,\n\u001b[0;32m     71\u001b[0m             time_start\u001b[38;5;241m=\u001b[39m\u001b[38;5;28;01mNone\u001b[39;00m,\n\u001b[0;32m     72\u001b[0m             progress_bar\u001b[38;5;241m=\u001b[39mprogress_bar,\n\u001b[0;32m     73\u001b[0m         )\n\u001b[0;32m     74\u001b[0m     \u001b[38;5;28;01melse\u001b[39;00m:\n\u001b[0;32m     75\u001b[0m         \u001b[38;5;28;01mif\u001b[39;00m n_jobs \u001b[38;5;241m==\u001b[39m \u001b[38;5;241m-\u001b[39m\u001b[38;5;241m1\u001b[39m:\n",
      "File \u001b[1;32mD:\\Programy\\anaconda3\\Lib\\site-packages\\optuna\\study\\_optimize.py:159\u001b[0m, in \u001b[0;36m_optimize_sequential\u001b[1;34m(study, func, n_trials, timeout, catch, callbacks, gc_after_trial, reseed_sampler_rng, time_start, progress_bar)\u001b[0m\n\u001b[0;32m    156\u001b[0m         \u001b[38;5;28;01mbreak\u001b[39;00m\n\u001b[0;32m    158\u001b[0m \u001b[38;5;28;01mtry\u001b[39;00m:\n\u001b[1;32m--> 159\u001b[0m     frozen_trial \u001b[38;5;241m=\u001b[39m _run_trial(study, func, catch)\n\u001b[0;32m    160\u001b[0m \u001b[38;5;28;01mfinally\u001b[39;00m:\n\u001b[0;32m    161\u001b[0m     \u001b[38;5;66;03m# The following line mitigates memory problems that can be occurred in some\u001b[39;00m\n\u001b[0;32m    162\u001b[0m     \u001b[38;5;66;03m# environments (e.g., services that use computing containers such as GitHub Actions).\u001b[39;00m\n\u001b[0;32m    163\u001b[0m     \u001b[38;5;66;03m# Please refer to the following PR for further details:\u001b[39;00m\n\u001b[0;32m    164\u001b[0m     \u001b[38;5;66;03m# https://github.com/optuna/optuna/pull/325.\u001b[39;00m\n\u001b[0;32m    165\u001b[0m     \u001b[38;5;28;01mif\u001b[39;00m gc_after_trial:\n",
      "File \u001b[1;32mD:\\Programy\\anaconda3\\Lib\\site-packages\\optuna\\study\\_optimize.py:247\u001b[0m, in \u001b[0;36m_run_trial\u001b[1;34m(study, func, catch)\u001b[0m\n\u001b[0;32m    240\u001b[0m         \u001b[38;5;28;01massert\u001b[39;00m \u001b[38;5;28;01mFalse\u001b[39;00m, \u001b[38;5;124m\"\u001b[39m\u001b[38;5;124mShould not reach.\u001b[39m\u001b[38;5;124m\"\u001b[39m\n\u001b[0;32m    242\u001b[0m \u001b[38;5;28;01mif\u001b[39;00m (\n\u001b[0;32m    243\u001b[0m     frozen_trial\u001b[38;5;241m.\u001b[39mstate \u001b[38;5;241m==\u001b[39m TrialState\u001b[38;5;241m.\u001b[39mFAIL\n\u001b[0;32m    244\u001b[0m     \u001b[38;5;129;01mand\u001b[39;00m func_err \u001b[38;5;129;01mis\u001b[39;00m \u001b[38;5;129;01mnot\u001b[39;00m \u001b[38;5;28;01mNone\u001b[39;00m\n\u001b[0;32m    245\u001b[0m     \u001b[38;5;129;01mand\u001b[39;00m \u001b[38;5;129;01mnot\u001b[39;00m \u001b[38;5;28misinstance\u001b[39m(func_err, catch)\n\u001b[0;32m    246\u001b[0m ):\n\u001b[1;32m--> 247\u001b[0m     \u001b[38;5;28;01mraise\u001b[39;00m func_err\n\u001b[0;32m    248\u001b[0m \u001b[38;5;28;01mreturn\u001b[39;00m frozen_trial\n",
      "File \u001b[1;32mD:\\Programy\\anaconda3\\Lib\\site-packages\\optuna\\study\\_optimize.py:196\u001b[0m, in \u001b[0;36m_run_trial\u001b[1;34m(study, func, catch)\u001b[0m\n\u001b[0;32m    194\u001b[0m \u001b[38;5;28;01mwith\u001b[39;00m get_heartbeat_thread(trial\u001b[38;5;241m.\u001b[39m_trial_id, study\u001b[38;5;241m.\u001b[39m_storage):\n\u001b[0;32m    195\u001b[0m     \u001b[38;5;28;01mtry\u001b[39;00m:\n\u001b[1;32m--> 196\u001b[0m         value_or_values \u001b[38;5;241m=\u001b[39m func(trial)\n\u001b[0;32m    197\u001b[0m     \u001b[38;5;28;01mexcept\u001b[39;00m exceptions\u001b[38;5;241m.\u001b[39mTrialPruned \u001b[38;5;28;01mas\u001b[39;00m e:\n\u001b[0;32m    198\u001b[0m         \u001b[38;5;66;03m# TODO(mamu): Handle multi-objective cases.\u001b[39;00m\n\u001b[0;32m    199\u001b[0m         state \u001b[38;5;241m=\u001b[39m TrialState\u001b[38;5;241m.\u001b[39mPRUNED\n",
      "Cell \u001b[1;32mIn[44], line 21\u001b[0m, in \u001b[0;36mobjective\u001b[1;34m(trial)\u001b[0m\n\u001b[0;32m      7\u001b[0m max_samples \u001b[38;5;241m=\u001b[39m trial\u001b[38;5;241m.\u001b[39msuggest_float(\u001b[38;5;124m'\u001b[39m\u001b[38;5;124mmax_samples\u001b[39m\u001b[38;5;124m'\u001b[39m, \u001b[38;5;241m0.2\u001b[39m, \u001b[38;5;241m0.99\u001b[39m)\n\u001b[0;32m      8\u001b[0m model \u001b[38;5;241m=\u001b[39m RandomForestClassifier(\n\u001b[0;32m      9\u001b[0m     max_depth\u001b[38;5;241m=\u001b[39mmax_depth,\n\u001b[0;32m     10\u001b[0m     n_estimators\u001b[38;5;241m=\u001b[39mn_estimators,\n\u001b[1;32m   (...)\u001b[0m\n\u001b[0;32m     19\u001b[0m     n_jobs\u001b[38;5;241m=\u001b[39m\u001b[38;5;241m3\u001b[39m\n\u001b[0;32m     20\u001b[0m )\n\u001b[1;32m---> 21\u001b[0m model\u001b[38;5;241m.\u001b[39mfit(X, y)\n\u001b[0;32m     22\u001b[0m pred_tr \u001b[38;5;241m=\u001b[39m model\u001b[38;5;241m.\u001b[39moob_decision_function_\n\u001b[0;32m     23\u001b[0m sorted_prediction_ids \u001b[38;5;241m=\u001b[39m np\u001b[38;5;241m.\u001b[39margsort(\u001b[38;5;241m-\u001b[39mpred_tr, axis\u001b[38;5;241m=\u001b[39m\u001b[38;5;241m1\u001b[39m)\n",
      "File \u001b[1;32mD:\\Programy\\anaconda3\\Lib\\site-packages\\daal4py\\sklearn\\_device_offload.py:88\u001b[0m, in \u001b[0;36msupport_usm_ndarray.<locals>.decorator.<locals>.wrapper_with_self\u001b[1;34m(self, *args, **kwargs)\u001b[0m\n\u001b[0;32m     86\u001b[0m \u001b[38;5;129m@wraps\u001b[39m(func)\n\u001b[0;32m     87\u001b[0m \u001b[38;5;28;01mdef\u001b[39;00m \u001b[38;5;21mwrapper_with_self\u001b[39m(\u001b[38;5;28mself\u001b[39m, \u001b[38;5;241m*\u001b[39margs, \u001b[38;5;241m*\u001b[39m\u001b[38;5;241m*\u001b[39mkwargs):\n\u001b[1;32m---> 88\u001b[0m     \u001b[38;5;28;01mreturn\u001b[39;00m wrapper_impl(\u001b[38;5;28mself\u001b[39m, \u001b[38;5;241m*\u001b[39margs, \u001b[38;5;241m*\u001b[39m\u001b[38;5;241m*\u001b[39mkwargs)\n",
      "File \u001b[1;32mD:\\Programy\\anaconda3\\Lib\\site-packages\\daal4py\\sklearn\\_device_offload.py:74\u001b[0m, in \u001b[0;36msupport_usm_ndarray.<locals>.decorator.<locals>.wrapper_impl\u001b[1;34m(obj, *args, **kwargs)\u001b[0m\n\u001b[0;32m     72\u001b[0m usm_iface \u001b[38;5;241m=\u001b[39m _extract_usm_iface(\u001b[38;5;241m*\u001b[39margs, \u001b[38;5;241m*\u001b[39m\u001b[38;5;241m*\u001b[39mkwargs)\n\u001b[0;32m     73\u001b[0m q, hostargs, hostkwargs \u001b[38;5;241m=\u001b[39m _get_host_inputs(\u001b[38;5;241m*\u001b[39margs, \u001b[38;5;241m*\u001b[39m\u001b[38;5;241m*\u001b[39mkwargs)\n\u001b[1;32m---> 74\u001b[0m result \u001b[38;5;241m=\u001b[39m _run_on_device(func, q, obj, \u001b[38;5;241m*\u001b[39mhostargs, \u001b[38;5;241m*\u001b[39m\u001b[38;5;241m*\u001b[39mhostkwargs)\n\u001b[0;32m     75\u001b[0m \u001b[38;5;28;01mif\u001b[39;00m usm_iface \u001b[38;5;129;01mis\u001b[39;00m \u001b[38;5;129;01mnot\u001b[39;00m \u001b[38;5;28;01mNone\u001b[39;00m \u001b[38;5;129;01mand\u001b[39;00m \u001b[38;5;28mhasattr\u001b[39m(result, \u001b[38;5;124m'\u001b[39m\u001b[38;5;124m__array_interface__\u001b[39m\u001b[38;5;124m'\u001b[39m):\n\u001b[0;32m     76\u001b[0m     \u001b[38;5;28;01mreturn\u001b[39;00m _copy_to_usm(q, result)\n",
      "File \u001b[1;32mD:\\Programy\\anaconda3\\Lib\\site-packages\\daal4py\\sklearn\\_device_offload.py:65\u001b[0m, in \u001b[0;36m_run_on_device\u001b[1;34m(func, queue, obj, *args, **kwargs)\u001b[0m\n\u001b[0;32m     62\u001b[0m         \u001b[38;5;28;01mwith\u001b[39;00m sycl_context(\u001b[38;5;124m'\u001b[39m\u001b[38;5;124mgpu\u001b[39m\u001b[38;5;124m'\u001b[39m \u001b[38;5;28;01mif\u001b[39;00m queue\u001b[38;5;241m.\u001b[39msycl_device\u001b[38;5;241m.\u001b[39mis_gpu \u001b[38;5;28;01melse\u001b[39;00m \u001b[38;5;124m'\u001b[39m\u001b[38;5;124mcpu\u001b[39m\u001b[38;5;124m'\u001b[39m,\n\u001b[0;32m     63\u001b[0m                           host_offload_on_fail\u001b[38;5;241m=\u001b[39mhost_offload):\n\u001b[0;32m     64\u001b[0m             \u001b[38;5;28;01mreturn\u001b[39;00m dispatch_by_obj(obj, func, \u001b[38;5;241m*\u001b[39margs, \u001b[38;5;241m*\u001b[39m\u001b[38;5;241m*\u001b[39mkwargs)\n\u001b[1;32m---> 65\u001b[0m \u001b[38;5;28;01mreturn\u001b[39;00m dispatch_by_obj(obj, func, \u001b[38;5;241m*\u001b[39margs, \u001b[38;5;241m*\u001b[39m\u001b[38;5;241m*\u001b[39mkwargs)\n",
      "File \u001b[1;32mD:\\Programy\\anaconda3\\Lib\\site-packages\\daal4py\\sklearn\\_device_offload.py:53\u001b[0m, in \u001b[0;36m_run_on_device.<locals>.dispatch_by_obj\u001b[1;34m(obj, func, *args, **kwargs)\u001b[0m\n\u001b[0;32m     51\u001b[0m \u001b[38;5;28;01mdef\u001b[39;00m \u001b[38;5;21mdispatch_by_obj\u001b[39m(obj, func, \u001b[38;5;241m*\u001b[39margs, \u001b[38;5;241m*\u001b[39m\u001b[38;5;241m*\u001b[39mkwargs):\n\u001b[0;32m     52\u001b[0m     \u001b[38;5;28;01mif\u001b[39;00m obj \u001b[38;5;129;01mis\u001b[39;00m \u001b[38;5;129;01mnot\u001b[39;00m \u001b[38;5;28;01mNone\u001b[39;00m:\n\u001b[1;32m---> 53\u001b[0m         \u001b[38;5;28;01mreturn\u001b[39;00m func(obj, \u001b[38;5;241m*\u001b[39margs, \u001b[38;5;241m*\u001b[39m\u001b[38;5;241m*\u001b[39mkwargs)\n\u001b[0;32m     54\u001b[0m     \u001b[38;5;28;01mreturn\u001b[39;00m func(\u001b[38;5;241m*\u001b[39margs, \u001b[38;5;241m*\u001b[39m\u001b[38;5;241m*\u001b[39mkwargs)\n",
      "File \u001b[1;32mD:\\Programy\\anaconda3\\Lib\\site-packages\\daal4py\\sklearn\\ensemble\\_forest.py:715\u001b[0m, in \u001b[0;36mRandomForestClassifier.fit\u001b[1;34m(self, X, y, sample_weight)\u001b[0m\n\u001b[0;32m    688\u001b[0m \u001b[38;5;129m@support_usm_ndarray\u001b[39m()\n\u001b[0;32m    689\u001b[0m \u001b[38;5;28;01mdef\u001b[39;00m \u001b[38;5;21mfit\u001b[39m(\u001b[38;5;28mself\u001b[39m, X, y, sample_weight\u001b[38;5;241m=\u001b[39m\u001b[38;5;28;01mNone\u001b[39;00m):\n\u001b[0;32m    690\u001b[0m \u001b[38;5;250m    \u001b[39m\u001b[38;5;124;03m\"\"\"\u001b[39;00m\n\u001b[0;32m    691\u001b[0m \u001b[38;5;124;03m    Build a forest of trees from the training set (X, y).\u001b[39;00m\n\u001b[0;32m    692\u001b[0m \n\u001b[1;32m   (...)\u001b[0m\n\u001b[0;32m    713\u001b[0m \u001b[38;5;124;03m    self : object\u001b[39;00m\n\u001b[0;32m    714\u001b[0m \u001b[38;5;124;03m    \"\"\"\u001b[39;00m\n\u001b[1;32m--> 715\u001b[0m     \u001b[38;5;28;01mreturn\u001b[39;00m _fit_classifier(\u001b[38;5;28mself\u001b[39m, X, y, sample_weight\u001b[38;5;241m=\u001b[39msample_weight)\n",
      "File \u001b[1;32mD:\\Programy\\anaconda3\\Lib\\site-packages\\daal4py\\sklearn\\ensemble\\_forest.py:375\u001b[0m, in \u001b[0;36m_fit_classifier\u001b[1;34m(self, X, y, sample_weight)\u001b[0m\n\u001b[0;32m    373\u001b[0m \u001b[38;5;28;01mif\u001b[39;00m sklearn_check_version(\u001b[38;5;124m\"\u001b[39m\u001b[38;5;124m1.2\u001b[39m\u001b[38;5;124m\"\u001b[39m):\n\u001b[0;32m    374\u001b[0m     \u001b[38;5;28mself\u001b[39m\u001b[38;5;241m.\u001b[39m_estimator \u001b[38;5;241m=\u001b[39m DecisionTreeClassifier()\n\u001b[1;32m--> 375\u001b[0m \u001b[38;5;28mself\u001b[39m\u001b[38;5;241m.\u001b[39mestimators_ \u001b[38;5;241m=\u001b[39m \u001b[38;5;28mself\u001b[39m\u001b[38;5;241m.\u001b[39m_estimators_\n\u001b[0;32m    377\u001b[0m \u001b[38;5;66;03m# Decapsulate classes_ attributes\u001b[39;00m\n\u001b[0;32m    378\u001b[0m \u001b[38;5;28mself\u001b[39m\u001b[38;5;241m.\u001b[39mn_classes_ \u001b[38;5;241m=\u001b[39m \u001b[38;5;28mself\u001b[39m\u001b[38;5;241m.\u001b[39mn_classes_[\u001b[38;5;241m0\u001b[39m]\n",
      "File \u001b[1;32mD:\\Programy\\anaconda3\\Lib\\site-packages\\daal4py\\sklearn\\ensemble\\_forest.py:895\u001b[0m, in \u001b[0;36mRandomForestClassifier._estimators_\u001b[1;34m(self)\u001b[0m\n\u001b[0;32m    884\u001b[0m     tree_i_state_dict \u001b[38;5;241m=\u001b[39m {\n\u001b[0;32m    885\u001b[0m         \u001b[38;5;124m'\u001b[39m\u001b[38;5;124mmax_depth\u001b[39m\u001b[38;5;124m'\u001b[39m: tree_i_state_class\u001b[38;5;241m.\u001b[39mmax_depth,\n\u001b[0;32m    886\u001b[0m         \u001b[38;5;124m'\u001b[39m\u001b[38;5;124mnode_count\u001b[39m\u001b[38;5;124m'\u001b[39m: tree_i_state_class\u001b[38;5;241m.\u001b[39mnode_count,\n\u001b[0;32m    887\u001b[0m         \u001b[38;5;124m'\u001b[39m\u001b[38;5;124mnodes\u001b[39m\u001b[38;5;124m'\u001b[39m: tree_i_state_class\u001b[38;5;241m.\u001b[39mnode_ar,\n\u001b[0;32m    888\u001b[0m         \u001b[38;5;124m'\u001b[39m\u001b[38;5;124mvalues\u001b[39m\u001b[38;5;124m'\u001b[39m: tree_i_state_class\u001b[38;5;241m.\u001b[39mvalue_ar}\n\u001b[0;32m    889\u001b[0m     est_i\u001b[38;5;241m.\u001b[39mtree_ \u001b[38;5;241m=\u001b[39m Tree(\n\u001b[0;32m    890\u001b[0m         \u001b[38;5;28mself\u001b[39m\u001b[38;5;241m.\u001b[39mn_features_in_,\n\u001b[0;32m    891\u001b[0m         np\u001b[38;5;241m.\u001b[39marray(\n\u001b[0;32m    892\u001b[0m             [n_classes_],\n\u001b[0;32m    893\u001b[0m             dtype\u001b[38;5;241m=\u001b[39mnp\u001b[38;5;241m.\u001b[39mintp),\n\u001b[0;32m    894\u001b[0m         \u001b[38;5;28mself\u001b[39m\u001b[38;5;241m.\u001b[39mn_outputs_)\n\u001b[1;32m--> 895\u001b[0m     est_i\u001b[38;5;241m.\u001b[39mtree_\u001b[38;5;241m.\u001b[39m__setstate__(tree_i_state_dict)\n\u001b[0;32m    896\u001b[0m     estimators_\u001b[38;5;241m.\u001b[39mappend(est_i)\n\u001b[0;32m    898\u001b[0m \u001b[38;5;28mself\u001b[39m\u001b[38;5;241m.\u001b[39m_cached_estimators_ \u001b[38;5;241m=\u001b[39m estimators_\n",
      "File \u001b[1;32msklearn\\tree\\_tree.pyx:714\u001b[0m, in \u001b[0;36msklearn.tree._tree.Tree.__setstate__\u001b[1;34m()\u001b[0m\n",
      "File \u001b[1;32msklearn\\tree\\_tree.pyx:1418\u001b[0m, in \u001b[0;36msklearn.tree._tree._check_node_ndarray\u001b[1;34m()\u001b[0m\n",
      "\u001b[1;31mValueError\u001b[0m: node array from the pickle has an incompatible dtype:\n- expected: {'names': ['left_child', 'right_child', 'feature', 'threshold', 'impurity', 'n_node_samples', 'weighted_n_node_samples', 'missing_go_to_left'], 'formats': ['<i8', '<i8', '<i8', '<f8', '<f8', '<i8', '<f8', 'u1'], 'offsets': [0, 8, 16, 24, 32, 40, 48, 56], 'itemsize': 64}\n- got     : [('left_child', '<i8'), ('right_child', '<i8'), ('feature', '<i8'), ('threshold', '<f8'), ('impurity', '<f8'), ('n_node_samples', '<i8'), ('weighted_n_node_samples', '<f8')]"
     ]
    }
   ],
   "source": [
    "optuna.logging.set_verbosity(optuna.logging.WARNING)\n",
    "sampler = optuna.samplers.TPESampler(seed=42)\n",
    "study = optuna.create_study(direction=\"maximize\", sampler=sampler)\n",
    "study.optimize(objective, n_trials=100)"
   ]
  },
  {
   "cell_type": "code",
   "execution_count": 55,
   "id": "d3857f7c",
   "metadata": {},
   "outputs": [],
   "source": [
    "sampler=optuna.samplers.TPESampler(seed=42) # musimy zadbać o powstarzalność wyników pomiędzy eksperymentami\n",
    "study = optuna.create_study(direction=\"minimize\", sampler=sampler)\n",
    "optuna.logging.set_verbosity(optuna.logging.WARNING)\n"
   ]
  },
  {
   "cell_type": "code",
   "execution_count": 58,
   "id": "ca0d24f7",
   "metadata": {
    "collapsed": true
   },
   "outputs": [
    {
     "data": {
      "application/vnd.jupyter.widget-view+json": {
       "model_id": "c36e040f4c5a4374ad095aac932921c8",
       "version_major": 2,
       "version_minor": 0
      },
      "text/plain": [
       "  0%|          | 0/30 [00:00<?, ?it/s]"
      ]
     },
     "metadata": {},
     "output_type": "display_data"
    },
    {
     "name": "stdout",
     "output_type": "stream",
     "text": [
      "[W 2024-10-02 12:11:32,367] Trial 1 failed with parameters: {'n_estimators': 219, 'max_depth': 17, 'max_features': 0.6410035105688879, 'min_samples_split': 36, 'min_samples_leaf': 1, 'max_samples': 0.9662287832079757} because of the following error: ValueError(\"node array from the pickle has an incompatible dtype:\\n- expected: {'names': ['left_child', 'right_child', 'feature', 'threshold', 'impurity', 'n_node_samples', 'weighted_n_node_samples', 'missing_go_to_left'], 'formats': ['<i8', '<i8', '<i8', '<f8', '<f8', '<i8', '<f8', 'u1'], 'offsets': [0, 8, 16, 24, 32, 40, 48, 56], 'itemsize': 64}\\n- got     : [('left_child', '<i8'), ('right_child', '<i8'), ('feature', '<i8'), ('threshold', '<f8'), ('impurity', '<f8'), ('n_node_samples', '<i8'), ('weighted_n_node_samples', '<f8')]\").\n",
      "Traceback (most recent call last):\n",
      "  File \"D:\\Programy\\anaconda3\\Lib\\site-packages\\optuna\\study\\_optimize.py\", line 196, in _run_trial\n",
      "    value_or_values = func(trial)\n",
      "                      ^^^^^^^^^^^\n",
      "  File \"C:\\Users\\adams\\AppData\\Local\\Temp\\ipykernel_11164\\1301312516.py\", line 21, in objective\n",
      "    model.fit(X, y)\n",
      "  File \"D:\\Programy\\anaconda3\\Lib\\site-packages\\daal4py\\sklearn\\_device_offload.py\", line 88, in wrapper_with_self\n",
      "    return wrapper_impl(self, *args, **kwargs)\n",
      "           ^^^^^^^^^^^^^^^^^^^^^^^^^^^^^^^^^^^\n",
      "  File \"D:\\Programy\\anaconda3\\Lib\\site-packages\\daal4py\\sklearn\\_device_offload.py\", line 74, in wrapper_impl\n",
      "    result = _run_on_device(func, q, obj, *hostargs, **hostkwargs)\n",
      "             ^^^^^^^^^^^^^^^^^^^^^^^^^^^^^^^^^^^^^^^^^^^^^^^^^^^^^\n",
      "  File \"D:\\Programy\\anaconda3\\Lib\\site-packages\\daal4py\\sklearn\\_device_offload.py\", line 65, in _run_on_device\n",
      "    return dispatch_by_obj(obj, func, *args, **kwargs)\n",
      "           ^^^^^^^^^^^^^^^^^^^^^^^^^^^^^^^^^^^^^^^^^^^\n",
      "  File \"D:\\Programy\\anaconda3\\Lib\\site-packages\\daal4py\\sklearn\\_device_offload.py\", line 53, in dispatch_by_obj\n",
      "    return func(obj, *args, **kwargs)\n",
      "           ^^^^^^^^^^^^^^^^^^^^^^^^^^\n",
      "  File \"D:\\Programy\\anaconda3\\Lib\\site-packages\\daal4py\\sklearn\\ensemble\\_forest.py\", line 715, in fit\n",
      "    return _fit_classifier(self, X, y, sample_weight=sample_weight)\n",
      "           ^^^^^^^^^^^^^^^^^^^^^^^^^^^^^^^^^^^^^^^^^^^^^^^^^^^^^^^^\n",
      "  File \"D:\\Programy\\anaconda3\\Lib\\site-packages\\daal4py\\sklearn\\ensemble\\_forest.py\", line 375, in _fit_classifier\n",
      "    self.estimators_ = self._estimators_\n",
      "                       ^^^^^^^^^^^^^^^^^\n",
      "  File \"D:\\Programy\\anaconda3\\Lib\\site-packages\\daal4py\\sklearn\\ensemble\\_forest.py\", line 895, in _estimators_\n",
      "    est_i.tree_.__setstate__(tree_i_state_dict)\n",
      "  File \"sklearn\\tree\\_tree.pyx\", line 714, in sklearn.tree._tree.Tree.__setstate__\n",
      "  File \"sklearn\\tree\\_tree.pyx\", line 1418, in sklearn.tree._tree._check_node_ndarray\n",
      "ValueError: node array from the pickle has an incompatible dtype:\n",
      "- expected: {'names': ['left_child', 'right_child', 'feature', 'threshold', 'impurity', 'n_node_samples', 'weighted_n_node_samples', 'missing_go_to_left'], 'formats': ['<i8', '<i8', '<i8', '<f8', '<f8', '<i8', '<f8', 'u1'], 'offsets': [0, 8, 16, 24, 32, 40, 48, 56], 'itemsize': 64}\n",
      "- got     : [('left_child', '<i8'), ('right_child', '<i8'), ('feature', '<i8'), ('threshold', '<f8'), ('impurity', '<f8'), ('n_node_samples', '<i8'), ('weighted_n_node_samples', '<f8')]\n",
      "[W 2024-10-02 12:11:32,368] Trial 1 failed with value None.\n"
     ]
    },
    {
     "ename": "ValueError",
     "evalue": "node array from the pickle has an incompatible dtype:\n- expected: {'names': ['left_child', 'right_child', 'feature', 'threshold', 'impurity', 'n_node_samples', 'weighted_n_node_samples', 'missing_go_to_left'], 'formats': ['<i8', '<i8', '<i8', '<f8', '<f8', '<i8', '<f8', 'u1'], 'offsets': [0, 8, 16, 24, 32, 40, 48, 56], 'itemsize': 64}\n- got     : [('left_child', '<i8'), ('right_child', '<i8'), ('feature', '<i8'), ('threshold', '<f8'), ('impurity', '<f8'), ('n_node_samples', '<i8'), ('weighted_n_node_samples', '<f8')]",
     "output_type": "error",
     "traceback": [
      "\u001b[1;31m---------------------------------------------------------------------------\u001b[0m",
      "\u001b[1;31mValueError\u001b[0m                                Traceback (most recent call last)",
      "Cell \u001b[1;32mIn[58], line 1\u001b[0m\n\u001b[1;32m----> 1\u001b[0m study\u001b[38;5;241m.\u001b[39moptimize(objective, n_trials\u001b[38;5;241m=\u001b[39m\u001b[38;5;241m30\u001b[39m, show_progress_bar\u001b[38;5;241m=\u001b[39m\u001b[38;5;28;01mTrue\u001b[39;00m)\n",
      "File \u001b[1;32mD:\\Programy\\anaconda3\\Lib\\site-packages\\optuna\\study\\study.py:451\u001b[0m, in \u001b[0;36mStudy.optimize\u001b[1;34m(self, func, n_trials, timeout, n_jobs, catch, callbacks, gc_after_trial, show_progress_bar)\u001b[0m\n\u001b[0;32m    348\u001b[0m \u001b[38;5;28;01mdef\u001b[39;00m \u001b[38;5;21moptimize\u001b[39m(\n\u001b[0;32m    349\u001b[0m     \u001b[38;5;28mself\u001b[39m,\n\u001b[0;32m    350\u001b[0m     func: ObjectiveFuncType,\n\u001b[1;32m   (...)\u001b[0m\n\u001b[0;32m    357\u001b[0m     show_progress_bar: \u001b[38;5;28mbool\u001b[39m \u001b[38;5;241m=\u001b[39m \u001b[38;5;28;01mFalse\u001b[39;00m,\n\u001b[0;32m    358\u001b[0m ) \u001b[38;5;241m-\u001b[39m\u001b[38;5;241m>\u001b[39m \u001b[38;5;28;01mNone\u001b[39;00m:\n\u001b[0;32m    359\u001b[0m \u001b[38;5;250m    \u001b[39m\u001b[38;5;124;03m\"\"\"Optimize an objective function.\u001b[39;00m\n\u001b[0;32m    360\u001b[0m \n\u001b[0;32m    361\u001b[0m \u001b[38;5;124;03m    Optimization is done by choosing a suitable set of hyperparameter values from a given\u001b[39;00m\n\u001b[1;32m   (...)\u001b[0m\n\u001b[0;32m    449\u001b[0m \u001b[38;5;124;03m            If nested invocation of this method occurs.\u001b[39;00m\n\u001b[0;32m    450\u001b[0m \u001b[38;5;124;03m    \"\"\"\u001b[39;00m\n\u001b[1;32m--> 451\u001b[0m     _optimize(\n\u001b[0;32m    452\u001b[0m         study\u001b[38;5;241m=\u001b[39m\u001b[38;5;28mself\u001b[39m,\n\u001b[0;32m    453\u001b[0m         func\u001b[38;5;241m=\u001b[39mfunc,\n\u001b[0;32m    454\u001b[0m         n_trials\u001b[38;5;241m=\u001b[39mn_trials,\n\u001b[0;32m    455\u001b[0m         timeout\u001b[38;5;241m=\u001b[39mtimeout,\n\u001b[0;32m    456\u001b[0m         n_jobs\u001b[38;5;241m=\u001b[39mn_jobs,\n\u001b[0;32m    457\u001b[0m         catch\u001b[38;5;241m=\u001b[39m\u001b[38;5;28mtuple\u001b[39m(catch) \u001b[38;5;28;01mif\u001b[39;00m \u001b[38;5;28misinstance\u001b[39m(catch, Iterable) \u001b[38;5;28;01melse\u001b[39;00m (catch,),\n\u001b[0;32m    458\u001b[0m         callbacks\u001b[38;5;241m=\u001b[39mcallbacks,\n\u001b[0;32m    459\u001b[0m         gc_after_trial\u001b[38;5;241m=\u001b[39mgc_after_trial,\n\u001b[0;32m    460\u001b[0m         show_progress_bar\u001b[38;5;241m=\u001b[39mshow_progress_bar,\n\u001b[0;32m    461\u001b[0m     )\n",
      "File \u001b[1;32mD:\\Programy\\anaconda3\\Lib\\site-packages\\optuna\\study\\_optimize.py:62\u001b[0m, in \u001b[0;36m_optimize\u001b[1;34m(study, func, n_trials, timeout, n_jobs, catch, callbacks, gc_after_trial, show_progress_bar)\u001b[0m\n\u001b[0;32m     60\u001b[0m \u001b[38;5;28;01mtry\u001b[39;00m:\n\u001b[0;32m     61\u001b[0m     \u001b[38;5;28;01mif\u001b[39;00m n_jobs \u001b[38;5;241m==\u001b[39m \u001b[38;5;241m1\u001b[39m:\n\u001b[1;32m---> 62\u001b[0m         _optimize_sequential(\n\u001b[0;32m     63\u001b[0m             study,\n\u001b[0;32m     64\u001b[0m             func,\n\u001b[0;32m     65\u001b[0m             n_trials,\n\u001b[0;32m     66\u001b[0m             timeout,\n\u001b[0;32m     67\u001b[0m             catch,\n\u001b[0;32m     68\u001b[0m             callbacks,\n\u001b[0;32m     69\u001b[0m             gc_after_trial,\n\u001b[0;32m     70\u001b[0m             reseed_sampler_rng\u001b[38;5;241m=\u001b[39m\u001b[38;5;28;01mFalse\u001b[39;00m,\n\u001b[0;32m     71\u001b[0m             time_start\u001b[38;5;241m=\u001b[39m\u001b[38;5;28;01mNone\u001b[39;00m,\n\u001b[0;32m     72\u001b[0m             progress_bar\u001b[38;5;241m=\u001b[39mprogress_bar,\n\u001b[0;32m     73\u001b[0m         )\n\u001b[0;32m     74\u001b[0m     \u001b[38;5;28;01melse\u001b[39;00m:\n\u001b[0;32m     75\u001b[0m         \u001b[38;5;28;01mif\u001b[39;00m n_jobs \u001b[38;5;241m==\u001b[39m \u001b[38;5;241m-\u001b[39m\u001b[38;5;241m1\u001b[39m:\n",
      "File \u001b[1;32mD:\\Programy\\anaconda3\\Lib\\site-packages\\optuna\\study\\_optimize.py:159\u001b[0m, in \u001b[0;36m_optimize_sequential\u001b[1;34m(study, func, n_trials, timeout, catch, callbacks, gc_after_trial, reseed_sampler_rng, time_start, progress_bar)\u001b[0m\n\u001b[0;32m    156\u001b[0m         \u001b[38;5;28;01mbreak\u001b[39;00m\n\u001b[0;32m    158\u001b[0m \u001b[38;5;28;01mtry\u001b[39;00m:\n\u001b[1;32m--> 159\u001b[0m     frozen_trial \u001b[38;5;241m=\u001b[39m _run_trial(study, func, catch)\n\u001b[0;32m    160\u001b[0m \u001b[38;5;28;01mfinally\u001b[39;00m:\n\u001b[0;32m    161\u001b[0m     \u001b[38;5;66;03m# The following line mitigates memory problems that can be occurred in some\u001b[39;00m\n\u001b[0;32m    162\u001b[0m     \u001b[38;5;66;03m# environments (e.g., services that use computing containers such as GitHub Actions).\u001b[39;00m\n\u001b[0;32m    163\u001b[0m     \u001b[38;5;66;03m# Please refer to the following PR for further details:\u001b[39;00m\n\u001b[0;32m    164\u001b[0m     \u001b[38;5;66;03m# https://github.com/optuna/optuna/pull/325.\u001b[39;00m\n\u001b[0;32m    165\u001b[0m     \u001b[38;5;28;01mif\u001b[39;00m gc_after_trial:\n",
      "File \u001b[1;32mD:\\Programy\\anaconda3\\Lib\\site-packages\\optuna\\study\\_optimize.py:247\u001b[0m, in \u001b[0;36m_run_trial\u001b[1;34m(study, func, catch)\u001b[0m\n\u001b[0;32m    240\u001b[0m         \u001b[38;5;28;01massert\u001b[39;00m \u001b[38;5;28;01mFalse\u001b[39;00m, \u001b[38;5;124m\"\u001b[39m\u001b[38;5;124mShould not reach.\u001b[39m\u001b[38;5;124m\"\u001b[39m\n\u001b[0;32m    242\u001b[0m \u001b[38;5;28;01mif\u001b[39;00m (\n\u001b[0;32m    243\u001b[0m     frozen_trial\u001b[38;5;241m.\u001b[39mstate \u001b[38;5;241m==\u001b[39m TrialState\u001b[38;5;241m.\u001b[39mFAIL\n\u001b[0;32m    244\u001b[0m     \u001b[38;5;129;01mand\u001b[39;00m func_err \u001b[38;5;129;01mis\u001b[39;00m \u001b[38;5;129;01mnot\u001b[39;00m \u001b[38;5;28;01mNone\u001b[39;00m\n\u001b[0;32m    245\u001b[0m     \u001b[38;5;129;01mand\u001b[39;00m \u001b[38;5;129;01mnot\u001b[39;00m \u001b[38;5;28misinstance\u001b[39m(func_err, catch)\n\u001b[0;32m    246\u001b[0m ):\n\u001b[1;32m--> 247\u001b[0m     \u001b[38;5;28;01mraise\u001b[39;00m func_err\n\u001b[0;32m    248\u001b[0m \u001b[38;5;28;01mreturn\u001b[39;00m frozen_trial\n",
      "File \u001b[1;32mD:\\Programy\\anaconda3\\Lib\\site-packages\\optuna\\study\\_optimize.py:196\u001b[0m, in \u001b[0;36m_run_trial\u001b[1;34m(study, func, catch)\u001b[0m\n\u001b[0;32m    194\u001b[0m \u001b[38;5;28;01mwith\u001b[39;00m get_heartbeat_thread(trial\u001b[38;5;241m.\u001b[39m_trial_id, study\u001b[38;5;241m.\u001b[39m_storage):\n\u001b[0;32m    195\u001b[0m     \u001b[38;5;28;01mtry\u001b[39;00m:\n\u001b[1;32m--> 196\u001b[0m         value_or_values \u001b[38;5;241m=\u001b[39m func(trial)\n\u001b[0;32m    197\u001b[0m     \u001b[38;5;28;01mexcept\u001b[39;00m exceptions\u001b[38;5;241m.\u001b[39mTrialPruned \u001b[38;5;28;01mas\u001b[39;00m e:\n\u001b[0;32m    198\u001b[0m         \u001b[38;5;66;03m# TODO(mamu): Handle multi-objective cases.\u001b[39;00m\n\u001b[0;32m    199\u001b[0m         state \u001b[38;5;241m=\u001b[39m TrialState\u001b[38;5;241m.\u001b[39mPRUNED\n",
      "Cell \u001b[1;32mIn[54], line 21\u001b[0m, in \u001b[0;36mobjective\u001b[1;34m(trial)\u001b[0m\n\u001b[0;32m      7\u001b[0m max_samples \u001b[38;5;241m=\u001b[39m trial\u001b[38;5;241m.\u001b[39msuggest_float(\u001b[38;5;124m'\u001b[39m\u001b[38;5;124mmax_samples\u001b[39m\u001b[38;5;124m'\u001b[39m, \u001b[38;5;241m0.2\u001b[39m, \u001b[38;5;241m0.99\u001b[39m)\n\u001b[0;32m      8\u001b[0m model \u001b[38;5;241m=\u001b[39m RandomForestClassifier(\n\u001b[0;32m      9\u001b[0m     max_depth\u001b[38;5;241m=\u001b[39mmax_depth,\n\u001b[0;32m     10\u001b[0m     n_estimators\u001b[38;5;241m=\u001b[39mn_estimators,\n\u001b[1;32m   (...)\u001b[0m\n\u001b[0;32m     19\u001b[0m     n_jobs\u001b[38;5;241m=\u001b[39m\u001b[38;5;241m3\u001b[39m\n\u001b[0;32m     20\u001b[0m )\n\u001b[1;32m---> 21\u001b[0m model\u001b[38;5;241m.\u001b[39mfit(X, y)\n\u001b[0;32m     22\u001b[0m pred_train \u001b[38;5;241m=\u001b[39m model\u001b[38;5;241m.\u001b[39moob_prediction_\n\u001b[0;32m     23\u001b[0m score \u001b[38;5;241m=\u001b[39m mean_squared_error(y, pred_train, squared\u001b[38;5;241m=\u001b[39m\u001b[38;5;28;01mFalse\u001b[39;00m)\n",
      "File \u001b[1;32mD:\\Programy\\anaconda3\\Lib\\site-packages\\daal4py\\sklearn\\_device_offload.py:88\u001b[0m, in \u001b[0;36msupport_usm_ndarray.<locals>.decorator.<locals>.wrapper_with_self\u001b[1;34m(self, *args, **kwargs)\u001b[0m\n\u001b[0;32m     86\u001b[0m \u001b[38;5;129m@wraps\u001b[39m(func)\n\u001b[0;32m     87\u001b[0m \u001b[38;5;28;01mdef\u001b[39;00m \u001b[38;5;21mwrapper_with_self\u001b[39m(\u001b[38;5;28mself\u001b[39m, \u001b[38;5;241m*\u001b[39margs, \u001b[38;5;241m*\u001b[39m\u001b[38;5;241m*\u001b[39mkwargs):\n\u001b[1;32m---> 88\u001b[0m     \u001b[38;5;28;01mreturn\u001b[39;00m wrapper_impl(\u001b[38;5;28mself\u001b[39m, \u001b[38;5;241m*\u001b[39margs, \u001b[38;5;241m*\u001b[39m\u001b[38;5;241m*\u001b[39mkwargs)\n",
      "File \u001b[1;32mD:\\Programy\\anaconda3\\Lib\\site-packages\\daal4py\\sklearn\\_device_offload.py:74\u001b[0m, in \u001b[0;36msupport_usm_ndarray.<locals>.decorator.<locals>.wrapper_impl\u001b[1;34m(obj, *args, **kwargs)\u001b[0m\n\u001b[0;32m     72\u001b[0m usm_iface \u001b[38;5;241m=\u001b[39m _extract_usm_iface(\u001b[38;5;241m*\u001b[39margs, \u001b[38;5;241m*\u001b[39m\u001b[38;5;241m*\u001b[39mkwargs)\n\u001b[0;32m     73\u001b[0m q, hostargs, hostkwargs \u001b[38;5;241m=\u001b[39m _get_host_inputs(\u001b[38;5;241m*\u001b[39margs, \u001b[38;5;241m*\u001b[39m\u001b[38;5;241m*\u001b[39mkwargs)\n\u001b[1;32m---> 74\u001b[0m result \u001b[38;5;241m=\u001b[39m _run_on_device(func, q, obj, \u001b[38;5;241m*\u001b[39mhostargs, \u001b[38;5;241m*\u001b[39m\u001b[38;5;241m*\u001b[39mhostkwargs)\n\u001b[0;32m     75\u001b[0m \u001b[38;5;28;01mif\u001b[39;00m usm_iface \u001b[38;5;129;01mis\u001b[39;00m \u001b[38;5;129;01mnot\u001b[39;00m \u001b[38;5;28;01mNone\u001b[39;00m \u001b[38;5;129;01mand\u001b[39;00m \u001b[38;5;28mhasattr\u001b[39m(result, \u001b[38;5;124m'\u001b[39m\u001b[38;5;124m__array_interface__\u001b[39m\u001b[38;5;124m'\u001b[39m):\n\u001b[0;32m     76\u001b[0m     \u001b[38;5;28;01mreturn\u001b[39;00m _copy_to_usm(q, result)\n",
      "File \u001b[1;32mD:\\Programy\\anaconda3\\Lib\\site-packages\\daal4py\\sklearn\\_device_offload.py:65\u001b[0m, in \u001b[0;36m_run_on_device\u001b[1;34m(func, queue, obj, *args, **kwargs)\u001b[0m\n\u001b[0;32m     62\u001b[0m         \u001b[38;5;28;01mwith\u001b[39;00m sycl_context(\u001b[38;5;124m'\u001b[39m\u001b[38;5;124mgpu\u001b[39m\u001b[38;5;124m'\u001b[39m \u001b[38;5;28;01mif\u001b[39;00m queue\u001b[38;5;241m.\u001b[39msycl_device\u001b[38;5;241m.\u001b[39mis_gpu \u001b[38;5;28;01melse\u001b[39;00m \u001b[38;5;124m'\u001b[39m\u001b[38;5;124mcpu\u001b[39m\u001b[38;5;124m'\u001b[39m,\n\u001b[0;32m     63\u001b[0m                           host_offload_on_fail\u001b[38;5;241m=\u001b[39mhost_offload):\n\u001b[0;32m     64\u001b[0m             \u001b[38;5;28;01mreturn\u001b[39;00m dispatch_by_obj(obj, func, \u001b[38;5;241m*\u001b[39margs, \u001b[38;5;241m*\u001b[39m\u001b[38;5;241m*\u001b[39mkwargs)\n\u001b[1;32m---> 65\u001b[0m \u001b[38;5;28;01mreturn\u001b[39;00m dispatch_by_obj(obj, func, \u001b[38;5;241m*\u001b[39margs, \u001b[38;5;241m*\u001b[39m\u001b[38;5;241m*\u001b[39mkwargs)\n",
      "File \u001b[1;32mD:\\Programy\\anaconda3\\Lib\\site-packages\\daal4py\\sklearn\\_device_offload.py:53\u001b[0m, in \u001b[0;36m_run_on_device.<locals>.dispatch_by_obj\u001b[1;34m(obj, func, *args, **kwargs)\u001b[0m\n\u001b[0;32m     51\u001b[0m \u001b[38;5;28;01mdef\u001b[39;00m \u001b[38;5;21mdispatch_by_obj\u001b[39m(obj, func, \u001b[38;5;241m*\u001b[39margs, \u001b[38;5;241m*\u001b[39m\u001b[38;5;241m*\u001b[39mkwargs):\n\u001b[0;32m     52\u001b[0m     \u001b[38;5;28;01mif\u001b[39;00m obj \u001b[38;5;129;01mis\u001b[39;00m \u001b[38;5;129;01mnot\u001b[39;00m \u001b[38;5;28;01mNone\u001b[39;00m:\n\u001b[1;32m---> 53\u001b[0m         \u001b[38;5;28;01mreturn\u001b[39;00m func(obj, \u001b[38;5;241m*\u001b[39margs, \u001b[38;5;241m*\u001b[39m\u001b[38;5;241m*\u001b[39mkwargs)\n\u001b[0;32m     54\u001b[0m     \u001b[38;5;28;01mreturn\u001b[39;00m func(\u001b[38;5;241m*\u001b[39margs, \u001b[38;5;241m*\u001b[39m\u001b[38;5;241m*\u001b[39mkwargs)\n",
      "File \u001b[1;32mD:\\Programy\\anaconda3\\Lib\\site-packages\\daal4py\\sklearn\\ensemble\\_forest.py:715\u001b[0m, in \u001b[0;36mRandomForestClassifier.fit\u001b[1;34m(self, X, y, sample_weight)\u001b[0m\n\u001b[0;32m    688\u001b[0m \u001b[38;5;129m@support_usm_ndarray\u001b[39m()\n\u001b[0;32m    689\u001b[0m \u001b[38;5;28;01mdef\u001b[39;00m \u001b[38;5;21mfit\u001b[39m(\u001b[38;5;28mself\u001b[39m, X, y, sample_weight\u001b[38;5;241m=\u001b[39m\u001b[38;5;28;01mNone\u001b[39;00m):\n\u001b[0;32m    690\u001b[0m \u001b[38;5;250m    \u001b[39m\u001b[38;5;124;03m\"\"\"\u001b[39;00m\n\u001b[0;32m    691\u001b[0m \u001b[38;5;124;03m    Build a forest of trees from the training set (X, y).\u001b[39;00m\n\u001b[0;32m    692\u001b[0m \n\u001b[1;32m   (...)\u001b[0m\n\u001b[0;32m    713\u001b[0m \u001b[38;5;124;03m    self : object\u001b[39;00m\n\u001b[0;32m    714\u001b[0m \u001b[38;5;124;03m    \"\"\"\u001b[39;00m\n\u001b[1;32m--> 715\u001b[0m     \u001b[38;5;28;01mreturn\u001b[39;00m _fit_classifier(\u001b[38;5;28mself\u001b[39m, X, y, sample_weight\u001b[38;5;241m=\u001b[39msample_weight)\n",
      "File \u001b[1;32mD:\\Programy\\anaconda3\\Lib\\site-packages\\daal4py\\sklearn\\ensemble\\_forest.py:375\u001b[0m, in \u001b[0;36m_fit_classifier\u001b[1;34m(self, X, y, sample_weight)\u001b[0m\n\u001b[0;32m    373\u001b[0m \u001b[38;5;28;01mif\u001b[39;00m sklearn_check_version(\u001b[38;5;124m\"\u001b[39m\u001b[38;5;124m1.2\u001b[39m\u001b[38;5;124m\"\u001b[39m):\n\u001b[0;32m    374\u001b[0m     \u001b[38;5;28mself\u001b[39m\u001b[38;5;241m.\u001b[39m_estimator \u001b[38;5;241m=\u001b[39m DecisionTreeClassifier()\n\u001b[1;32m--> 375\u001b[0m \u001b[38;5;28mself\u001b[39m\u001b[38;5;241m.\u001b[39mestimators_ \u001b[38;5;241m=\u001b[39m \u001b[38;5;28mself\u001b[39m\u001b[38;5;241m.\u001b[39m_estimators_\n\u001b[0;32m    377\u001b[0m \u001b[38;5;66;03m# Decapsulate classes_ attributes\u001b[39;00m\n\u001b[0;32m    378\u001b[0m \u001b[38;5;28mself\u001b[39m\u001b[38;5;241m.\u001b[39mn_classes_ \u001b[38;5;241m=\u001b[39m \u001b[38;5;28mself\u001b[39m\u001b[38;5;241m.\u001b[39mn_classes_[\u001b[38;5;241m0\u001b[39m]\n",
      "File \u001b[1;32mD:\\Programy\\anaconda3\\Lib\\site-packages\\daal4py\\sklearn\\ensemble\\_forest.py:895\u001b[0m, in \u001b[0;36mRandomForestClassifier._estimators_\u001b[1;34m(self)\u001b[0m\n\u001b[0;32m    884\u001b[0m     tree_i_state_dict \u001b[38;5;241m=\u001b[39m {\n\u001b[0;32m    885\u001b[0m         \u001b[38;5;124m'\u001b[39m\u001b[38;5;124mmax_depth\u001b[39m\u001b[38;5;124m'\u001b[39m: tree_i_state_class\u001b[38;5;241m.\u001b[39mmax_depth,\n\u001b[0;32m    886\u001b[0m         \u001b[38;5;124m'\u001b[39m\u001b[38;5;124mnode_count\u001b[39m\u001b[38;5;124m'\u001b[39m: tree_i_state_class\u001b[38;5;241m.\u001b[39mnode_count,\n\u001b[0;32m    887\u001b[0m         \u001b[38;5;124m'\u001b[39m\u001b[38;5;124mnodes\u001b[39m\u001b[38;5;124m'\u001b[39m: tree_i_state_class\u001b[38;5;241m.\u001b[39mnode_ar,\n\u001b[0;32m    888\u001b[0m         \u001b[38;5;124m'\u001b[39m\u001b[38;5;124mvalues\u001b[39m\u001b[38;5;124m'\u001b[39m: tree_i_state_class\u001b[38;5;241m.\u001b[39mvalue_ar}\n\u001b[0;32m    889\u001b[0m     est_i\u001b[38;5;241m.\u001b[39mtree_ \u001b[38;5;241m=\u001b[39m Tree(\n\u001b[0;32m    890\u001b[0m         \u001b[38;5;28mself\u001b[39m\u001b[38;5;241m.\u001b[39mn_features_in_,\n\u001b[0;32m    891\u001b[0m         np\u001b[38;5;241m.\u001b[39marray(\n\u001b[0;32m    892\u001b[0m             [n_classes_],\n\u001b[0;32m    893\u001b[0m             dtype\u001b[38;5;241m=\u001b[39mnp\u001b[38;5;241m.\u001b[39mintp),\n\u001b[0;32m    894\u001b[0m         \u001b[38;5;28mself\u001b[39m\u001b[38;5;241m.\u001b[39mn_outputs_)\n\u001b[1;32m--> 895\u001b[0m     est_i\u001b[38;5;241m.\u001b[39mtree_\u001b[38;5;241m.\u001b[39m__setstate__(tree_i_state_dict)\n\u001b[0;32m    896\u001b[0m     estimators_\u001b[38;5;241m.\u001b[39mappend(est_i)\n\u001b[0;32m    898\u001b[0m \u001b[38;5;28mself\u001b[39m\u001b[38;5;241m.\u001b[39m_cached_estimators_ \u001b[38;5;241m=\u001b[39m estimators_\n",
      "File \u001b[1;32msklearn\\tree\\_tree.pyx:714\u001b[0m, in \u001b[0;36msklearn.tree._tree.Tree.__setstate__\u001b[1;34m()\u001b[0m\n",
      "File \u001b[1;32msklearn\\tree\\_tree.pyx:1418\u001b[0m, in \u001b[0;36msklearn.tree._tree._check_node_ndarray\u001b[1;34m()\u001b[0m\n",
      "\u001b[1;31mValueError\u001b[0m: node array from the pickle has an incompatible dtype:\n- expected: {'names': ['left_child', 'right_child', 'feature', 'threshold', 'impurity', 'n_node_samples', 'weighted_n_node_samples', 'missing_go_to_left'], 'formats': ['<i8', '<i8', '<i8', '<f8', '<f8', '<i8', '<f8', 'u1'], 'offsets': [0, 8, 16, 24, 32, 40, 48, 56], 'itemsize': 64}\n- got     : [('left_child', '<i8'), ('right_child', '<i8'), ('feature', '<i8'), ('threshold', '<f8'), ('impurity', '<f8'), ('n_node_samples', '<i8'), ('weighted_n_node_samples', '<f8')]"
     ]
    }
   ],
   "source": [
    "study.optimize(objective, n_trials=30, show_progress_bar=True)"
   ]
  },
  {
   "cell_type": "code",
   "execution_count": null,
   "id": "6a982a20",
   "metadata": {},
   "outputs": [],
   "source": []
  }
 ],
 "metadata": {
  "kernelspec": {
   "display_name": "Python 3 (ipykernel)",
   "language": "python",
   "name": "python3"
  },
  "language_info": {
   "codemirror_mode": {
    "name": "ipython",
    "version": 3
   },
   "file_extension": ".py",
   "mimetype": "text/x-python",
   "name": "python",
   "nbconvert_exporter": "python",
   "pygments_lexer": "ipython3",
   "version": "3.11.5"
  }
 },
 "nbformat": 4,
 "nbformat_minor": 5
}
