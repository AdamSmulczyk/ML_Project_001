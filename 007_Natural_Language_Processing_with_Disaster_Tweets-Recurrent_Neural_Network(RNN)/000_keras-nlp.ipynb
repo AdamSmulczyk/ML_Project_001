{
 "cells": [
  {
   "cell_type": "markdown",
   "metadata": {},
   "source": [
    " #### <p style=\"background-color: #EDE7F6;color:#6600ff;display: inline-block;padding:.6rem;border-radius:.5rem\">Import libraries</p>"
   ]
  },
  {
   "cell_type": "code",
   "execution_count": 1,
   "metadata": {},
   "outputs": [],
   "source": [
    "import os\n",
    "os.environ['KERAS_BACKEND'] = 'tensorflow'"
   ]
  },
  {
   "cell_type": "code",
   "execution_count": 2,
   "metadata": {
    "execution": {
     "iopub.execute_input": "2024-05-29T13:16:27.984456Z",
     "iopub.status.busy": "2024-05-29T13:16:27.983328Z",
     "iopub.status.idle": "2024-05-29T13:16:47.130768Z",
     "shell.execute_reply": "2024-05-29T13:16:47.129898Z",
     "shell.execute_reply.started": "2024-05-29T13:16:27.98441Z"
    }
   },
   "outputs": [],
   "source": [
    "import warnings\n",
    "import seaborn as sns\n",
    "import matplotlib.pyplot as plt\n",
    "import numpy as np \n",
    "import pandas as pd\n",
    "import tensorflow as tf\n",
    "from tensorflow import keras\n",
    "import keras_nlp\n",
    "from sklearn.metrics import ConfusionMatrixDisplay, confusion_matrix"
   ]
  },
  {
   "cell_type": "markdown",
   "metadata": {},
   "source": [
    " #### <p style=\"background-color: #EDE7F6;color:#6600ff;display: inline-block;padding:.6rem;border-radius:.5rem\">Settings</p>"
   ]
  },
  {
   "cell_type": "code",
   "execution_count": null,
   "metadata": {},
   "outputs": [],
   "source": [
    "pd.options.display.max_rows = 100\n",
    "pd.options.display.max_columns = 100\n",
    "pd.options.display.max_colwidth = 1000\n",
    "warnings.filterwarnings(\"ignore\", message=\"`Model.state_updates`\", category=UserWarning)\n",
    "warnings.filterwarnings(\"ignore\", message=\"`layer.updates`\", category=UserWarning)"
   ]
  },
  {
   "cell_type": "markdown",
   "metadata": {},
   "source": [
    " #### <p style=\"background-color: #EDE7F6;color:#6600ff;display: inline-block;padding:.6rem;border-radius:.5rem\">Import data files</p>"
   ]
  },
  {
   "cell_type": "code",
   "execution_count": 3,
   "metadata": {
    "execution": {
     "iopub.execute_input": "2024-05-29T13:16:54.422465Z",
     "iopub.status.busy": "2024-05-29T13:16:54.421761Z",
     "iopub.status.idle": "2024-05-29T13:16:54.530037Z",
     "shell.execute_reply": "2024-05-29T13:16:54.529056Z",
     "shell.execute_reply.started": "2024-05-29T13:16:54.422432Z"
    }
   },
   "outputs": [
    {
     "name": "stdout",
     "output_type": "stream",
     "text": [
      "Training Set Shape = (7613, 5)\n",
      "Training Set Memory Usage = 0.29 MB\n",
      "Test Set Shape = (3263, 4)\n",
      "Test Set Memory Usage = 0.10 MB\n"
     ]
    }
   ],
   "source": [
    "df_train = pd.read_csv(\"train.csv\")\n",
    "df_test = pd.read_csv(\"test.csv\")\n",
    "\n",
    "print('Training Set Shape = {}'.format(df_train.shape))\n",
    "print('Training Set Memory Usage = {:.2f} MB'.format(df_train.memory_usage().sum() / 1024**2))\n",
    "print('Test Set Shape = {}'.format(df_test.shape))\n",
    "print('Test Set Memory Usage = {:.2f} MB'.format(df_test.memory_usage().sum() / 1024**2))"
   ]
  },
  {
   "cell_type": "markdown",
   "metadata": {},
   "source": [
    "### <p style=\"background-color: #EDE7F6; color: #6600ff;margin:0; display:inline-block;padding:.6rem;border-radius:.25rem;\">I.DATA PREPARATION</p>"
   ]
  },
  {
   "cell_type": "markdown",
   "metadata": {},
   "source": [
    "#### <p style=\"background-color: #EDE7F6; color: #6600ff;margin:0; display:inline-block;padding:.6rem;border-radius:.25rem;\">A.EDA ( Exploratory Data Analysis)</p>"
   ]
  },
  {
   "cell_type": "code",
   "execution_count": null,
   "metadata": {
    "execution": {
     "iopub.execute_input": "2024-05-29T13:16:57.98256Z",
     "iopub.status.busy": "2024-05-29T13:16:57.982186Z",
     "iopub.status.idle": "2024-05-29T13:16:57.999702Z",
     "shell.execute_reply": "2024-05-29T13:16:57.998834Z",
     "shell.execute_reply.started": "2024-05-29T13:16:57.98253Z"
    }
   },
   "outputs": [],
   "source": [
    "df_train.head()"
   ]
  },
  {
   "cell_type": "code",
   "execution_count": 4,
   "metadata": {
    "execution": {
     "iopub.execute_input": "2024-05-29T13:17:38.944254Z",
     "iopub.status.busy": "2024-05-29T13:17:38.943852Z",
     "iopub.status.idle": "2024-05-29T13:17:38.967183Z",
     "shell.execute_reply": "2024-05-29T13:17:38.966182Z",
     "shell.execute_reply.started": "2024-05-29T13:17:38.944227Z"
    }
   },
   "outputs": [
    {
     "name": "stdout",
     "output_type": "stream",
     "text": [
      "Train Length Stat\n",
      "count    7613.000000\n",
      "mean      101.037436\n",
      "std        33.781325\n",
      "min         7.000000\n",
      "25%        78.000000\n",
      "50%       107.000000\n",
      "75%       133.000000\n",
      "max       157.000000\n",
      "Name: length, dtype: float64\n",
      "\n",
      "Test Length Stat\n",
      "count    3263.000000\n",
      "mean      102.108183\n",
      "std        33.972158\n",
      "min         5.000000\n",
      "25%        78.000000\n",
      "50%       109.000000\n",
      "75%       134.000000\n",
      "max       151.000000\n",
      "Name: length, dtype: float64\n"
     ]
    }
   ],
   "source": [
    "df_train[\"length\"] = df_train[\"text\"].apply(lambda x : len(x))\n",
    "df_test[\"length\"] = df_test[\"text\"].apply(lambda x : len(x))\n",
    "\n",
    "print(\"Train Length Stat\")\n",
    "print(df_train[\"length\"].describe())\n",
    "print()\n",
    "\n",
    "print(\"Test Length Stat\")\n",
    "print(df_test[\"length\"].describe())"
   ]
  },
  {
   "cell_type": "code",
   "execution_count": 5,
   "metadata": {},
   "outputs": [
    {
     "data": {
      "text/plain": [
       "7613"
      ]
     },
     "execution_count": 5,
     "metadata": {},
     "output_type": "execute_result"
    }
   ],
   "source": [
    "df_train.shape[0]"
   ]
  },
  {
   "cell_type": "markdown",
   "metadata": {},
   "source": [
    "## <p style=\"background-color: #EDE7F6; color: #6600ff;margin:0; display:inline-block;padding:.6rem;border-radius:.25rem;\">MODEL ENGINEERING</p>"
   ]
  },
  {
   "cell_type": "code",
   "execution_count": null,
   "metadata": {
    "execution": {
     "iopub.execute_input": "2024-05-29T13:18:03.599757Z",
     "iopub.status.busy": "2024-05-29T13:18:03.599151Z",
     "iopub.status.idle": "2024-05-29T13:18:03.607612Z",
     "shell.execute_reply": "2024-05-29T13:18:03.606715Z",
     "shell.execute_reply.started": "2024-05-29T13:18:03.599706Z"
    }
   },
   "outputs": [],
   "source": [
    "BATCH_SIZE = 32\n",
    "NUM_TRAINING_EXAMPLES = df_train.shape[0]\n",
    "TRAIN_SPLIT = 0.8\n",
    "VAL_SPLIT = 0.2\n",
    "STEPS_PER_EPOCH = int(NUM_TRAINING_EXAMPLES)*TRAIN_SPLIT // BATCH_SIZE\n",
    "\n",
    "EPOCHS = 2\n",
    "AUTO = tf.data.experimental.AUTOTUNE"
   ]
  },
  {
   "cell_type": "code",
   "execution_count": null,
   "metadata": {
    "execution": {
     "iopub.execute_input": "2024-05-29T13:18:08.810291Z",
     "iopub.status.busy": "2024-05-29T13:18:08.809936Z",
     "iopub.status.idle": "2024-05-29T13:18:08.843564Z",
     "shell.execute_reply": "2024-05-29T13:18:08.842584Z",
     "shell.execute_reply.started": "2024-05-29T13:18:08.810265Z"
    }
   },
   "outputs": [],
   "source": [
    "from sklearn.model_selection import train_test_split\n",
    "\n",
    "X = df_train[\"text\"]\n",
    "y = df_train[\"target\"]\n",
    "\n",
    "X_train, X_val, y_train, y_val = train_test_split(X, y, test_size=VAL_SPLIT, random_state=42)\n",
    "\n",
    "X_test = df_test[\"text\"]"
   ]
  },
  {
   "cell_type": "code",
   "execution_count": null,
   "metadata": {
    "execution": {
     "iopub.execute_input": "2024-05-29T13:18:14.617434Z",
     "iopub.status.busy": "2024-05-29T13:18:14.617072Z",
     "iopub.status.idle": "2024-05-29T13:18:27.610044Z",
     "shell.execute_reply": "2024-05-29T13:18:27.609169Z",
     "shell.execute_reply.started": "2024-05-29T13:18:14.617405Z"
    }
   },
   "outputs": [],
   "source": [
    "import os\n",
    "import sys\n",
    "\n",
    "# # Redirect stdout and stderr to /dev/null\n",
    "# sys.stdout = open(os.devnull, 'w')\n",
    "# sys.stderr = open(os.devnull, 'w')\n",
    "\n",
    "# Load a DistilBERT model.\n",
    "preset= \"distil_bert_base_en_uncased\"\n",
    "\n",
    "# Use a shorter sequence length.\n",
    "preprocessor = keras_nlp.models.DistilBertPreprocessor.from_preset(preset,\n",
    "                                                                   sequence_length=160,\n",
    "                                                                   name=\"preprocessor_4_tweets\"\n",
    "                                                                  )\n",
    "\n",
    "# Pretrained classifier.\n",
    "classifier = keras_nlp.models.DistilBertClassifier.from_preset(preset,\n",
    "                                                               preprocessor = preprocessor, \n",
    "                                                               num_classes=2)\n",
    "classifier.summary()"
   ]
  },
  {
   "cell_type": "code",
   "execution_count": null,
   "metadata": {
    "execution": {
     "iopub.execute_input": "2024-05-29T13:37:32.055399Z",
     "iopub.status.busy": "2024-05-29T13:37:32.054487Z",
     "iopub.status.idle": "2024-05-29T13:41:09.484397Z",
     "shell.execute_reply": "2024-05-29T13:41:09.483406Z",
     "shell.execute_reply.started": "2024-05-29T13:37:32.055362Z"
    }
   },
   "outputs": [],
   "source": [
    "from keras.optimizers import Adam\n",
    "\n",
    "# Compile\n",
    "classifier.compile(\n",
    "    loss=keras.losses.SparseCategoricalCrossentropy(from_logits=True),\n",
    "    optimizer=Adam(learning_rate=1e-5),\n",
    "    metrics=[\"accuracy\"]\n",
    ")\n",
    "\n",
    "# Fit\n",
    "history = classifier.fit(\n",
    "    x=X_train,\n",
    "    y=y_train,\n",
    "    batch_size=BATCH_SIZE, \n",
    "    epochs=EPOCHS, \n",
    "    validation_data=(X_val, y_val)\n",
    ")"
   ]
  },
  {
   "cell_type": "code",
   "execution_count": null,
   "metadata": {},
   "outputs": [],
   "source": []
  },
  {
   "cell_type": "code",
   "execution_count": null,
   "metadata": {
    "execution": {
     "iopub.execute_input": "2024-05-29T13:44:16.4761Z",
     "iopub.status.busy": "2024-05-29T13:44:16.475718Z",
     "iopub.status.idle": "2024-05-29T13:44:23.672504Z",
     "shell.execute_reply": "2024-05-29T13:44:23.67162Z",
     "shell.execute_reply.started": "2024-05-29T13:44:16.47607Z"
    }
   },
   "outputs": [],
   "source": [
    "classifier.evaluate(X_val, y_val)"
   ]
  },
  {
   "cell_type": "code",
   "execution_count": null,
   "metadata": {
    "execution": {
     "iopub.execute_input": "2024-05-29T13:52:51.866208Z",
     "iopub.status.busy": "2024-05-29T13:52:51.865426Z",
     "iopub.status.idle": "2024-05-29T13:53:22.016051Z",
     "shell.execute_reply": "2024-05-29T13:53:22.014925Z",
     "shell.execute_reply.started": "2024-05-29T13:52:51.866169Z"
    }
   },
   "outputs": [],
   "source": [
    "from sklearn.metrics import f1_score\n",
    "train_true = y_train.copy()\n",
    "train_pred = classifier.predict(X_train)\n",
    "train_pred = np.argmax(train_pred, axis=1) \n",
    "\n",
    "val_true = y_val.copy()\n",
    "val_pred = classifier.predict(X_val)\n",
    "val_pred = np.argmax(val_pred, axis=1) \n",
    "\n",
    "train_f1_score = f1_score(train_true, train_pred)\n",
    "val_f1_score = f1_score(val_true, val_pred)\n",
    "\n",
    "print(\"F1-score metric on train data == {}\".format(train_f1_score))\n",
    "print(\"F1-score metric on validation dataset == {}\".format(val_f1_score))"
   ]
  },
  {
   "cell_type": "code",
   "execution_count": null,
   "metadata": {},
   "outputs": [],
   "source": []
  },
  {
   "cell_type": "code",
   "execution_count": null,
   "metadata": {
    "execution": {
     "iopub.execute_input": "2024-05-29T13:56:20.185495Z",
     "iopub.status.busy": "2024-05-29T13:56:20.185067Z",
     "iopub.status.idle": "2024-05-29T13:56:20.212892Z",
     "shell.execute_reply": "2024-05-29T13:56:20.211941Z",
     "shell.execute_reply.started": "2024-05-29T13:56:20.185466Z"
    }
   },
   "outputs": [],
   "source": [
    "sample_submission = pd.read_csv(\"/kaggle/input/nlp-getting-started/sample_submission.csv\")\n",
    "sample_submission.head()"
   ]
  },
  {
   "cell_type": "code",
   "execution_count": null,
   "metadata": {
    "execution": {
     "iopub.execute_input": "2024-05-29T13:56:45.57088Z",
     "iopub.status.busy": "2024-05-29T13:56:45.570525Z",
     "iopub.status.idle": "2024-05-29T13:56:58.747808Z",
     "shell.execute_reply": "2024-05-29T13:56:58.746461Z",
     "shell.execute_reply.started": "2024-05-29T13:56:45.570846Z"
    }
   },
   "outputs": [],
   "source": [
    "sample_submission[\"target\"] = np.argmax(classifier.predict(X_test), axis=1)\n",
    "sample_submission.head()"
   ]
  },
  {
   "cell_type": "code",
   "execution_count": null,
   "metadata": {
    "execution": {
     "iopub.execute_input": "2024-05-29T13:58:10.449949Z",
     "iopub.status.busy": "2024-05-29T13:58:10.449555Z",
     "iopub.status.idle": "2024-05-29T13:58:10.654427Z",
     "shell.execute_reply": "2024-05-29T13:58:10.653539Z",
     "shell.execute_reply.started": "2024-05-29T13:58:10.449917Z"
    }
   },
   "outputs": [],
   "source": [
    "sample_submission.target.value_counts().plot(kind='barh')\n",
    "plt.show()"
   ]
  },
  {
   "cell_type": "code",
   "execution_count": null,
   "metadata": {
    "execution": {
     "iopub.execute_input": "2024-05-29T14:00:42.910527Z",
     "iopub.status.busy": "2024-05-29T14:00:42.909325Z",
     "iopub.status.idle": "2024-05-29T14:00:42.925377Z",
     "shell.execute_reply": "2024-05-29T14:00:42.924342Z",
     "shell.execute_reply.started": "2024-05-29T14:00:42.91048Z"
    }
   },
   "outputs": [],
   "source": [
    "sample_submission.to_csv(\"submission.csv\", index=False)\n",
    "print(\"Your solution has been submitted\")\n",
    "print(\"Submission size: {} KB\".format(sample_submission.memory_usage().sum()/1024))"
   ]
  }
 ],
 "metadata": {
  "kaggle": {
   "accelerator": "nvidiaTeslaT4",
   "dataSources": [
    {
     "databundleVersionId": 869809,
     "sourceId": 17777,
     "sourceType": "competition"
    },
    {
     "modelInstanceId": 4689,
     "sourceId": 6068,
     "sourceType": "modelInstanceVersion"
    }
   ],
   "dockerImageVersionId": 30636,
   "isGpuEnabled": true,
   "isInternetEnabled": true,
   "language": "python",
   "sourceType": "notebook"
  },
  "kernelspec": {
   "display_name": "Python 3 (ipykernel)",
   "language": "python",
   "name": "python3"
  },
  "language_info": {
   "codemirror_mode": {
    "name": "ipython",
    "version": 3
   },
   "file_extension": ".py",
   "mimetype": "text/x-python",
   "name": "python",
   "nbconvert_exporter": "python",
   "pygments_lexer": "ipython3",
   "version": "3.11.5"
  }
 },
 "nbformat": 4,
 "nbformat_minor": 4
}
