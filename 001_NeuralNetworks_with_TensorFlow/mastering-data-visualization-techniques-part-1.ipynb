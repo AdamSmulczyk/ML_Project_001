{
 "cells": [
  {
   "cell_type": "code",
   "execution_count": 1,
   "metadata": {
    "_cell_guid": "b1076dfc-b9ad-4769-8c92-a6c4dae69d19",
    "_uuid": "8f2839f25d086af736a60e9eeb907d3b93b6e0e5",
    "execution": {
     "iopub.execute_input": "2024-06-01T13:13:22.192498Z",
     "iopub.status.busy": "2024-06-01T13:13:22.192144Z",
     "iopub.status.idle": "2024-06-01T13:13:23.110048Z",
     "shell.execute_reply": "2024-06-01T13:13:23.108873Z",
     "shell.execute_reply.started": "2024-06-01T13:13:22.192469Z"
    }
   },
   "outputs": [
    {
     "name": "stderr",
     "output_type": "stream",
     "text": [
      "C:\\Users\\adams\\AppData\\Local\\Temp\\ipykernel_10728\\132379873.py:7: DeprecationWarning: Importing display from IPython.core.display is deprecated since IPython 7.14, please import from IPython display\n",
      "  from IPython.core.display import display, HTML\n"
     ]
    }
   ],
   "source": [
    "import pandas as pd \n",
    "import numpy as np \n",
    "import seaborn as sns\n",
    "import matplotlib.pyplot as plt \n",
    "%matplotlib inline \n",
    "\n",
    "from IPython.core.display import display, HTML\n",
    "\n",
    "import warnings\n",
    "warnings.filterwarnings(\"ignore\")"
   ]
  },
  {
   "cell_type": "code",
   "execution_count": 2,
   "metadata": {
    "execution": {
     "iopub.execute_input": "2024-06-01T13:13:23.112817Z",
     "iopub.status.busy": "2024-06-01T13:13:23.112192Z",
     "iopub.status.idle": "2024-06-01T13:13:23.198641Z",
     "shell.execute_reply": "2024-06-01T13:13:23.197387Z",
     "shell.execute_reply.started": "2024-06-01T13:13:23.112777Z"
    }
   },
   "outputs": [
    {
     "data": {
      "text/html": [
       "<h1 style=\"color:Red\"> <b> Titaic Data:</b> </h1> "
      ],
      "text/plain": [
       "<IPython.core.display.HTML object>"
      ]
     },
     "metadata": {},
     "output_type": "display_data"
    },
    {
     "data": {
      "text/html": [
       "<div>\n",
       "<style scoped>\n",
       "    .dataframe tbody tr th:only-of-type {\n",
       "        vertical-align: middle;\n",
       "    }\n",
       "\n",
       "    .dataframe tbody tr th {\n",
       "        vertical-align: top;\n",
       "    }\n",
       "\n",
       "    .dataframe thead th {\n",
       "        text-align: right;\n",
       "    }\n",
       "</style>\n",
       "<table border=\"1\" class=\"dataframe\">\n",
       "  <thead>\n",
       "    <tr style=\"text-align: right;\">\n",
       "      <th></th>\n",
       "      <th>PassengerId</th>\n",
       "      <th>Survived</th>\n",
       "      <th>Pclass</th>\n",
       "      <th>Name</th>\n",
       "      <th>Sex</th>\n",
       "      <th>Age</th>\n",
       "      <th>SibSp</th>\n",
       "      <th>Parch</th>\n",
       "      <th>Ticket</th>\n",
       "      <th>Fare</th>\n",
       "      <th>Cabin</th>\n",
       "      <th>Embarked</th>\n",
       "    </tr>\n",
       "  </thead>\n",
       "  <tbody>\n",
       "    <tr>\n",
       "      <th>0</th>\n",
       "      <td>1</td>\n",
       "      <td>0</td>\n",
       "      <td>3</td>\n",
       "      <td>Braund, Mr. Owen Harris</td>\n",
       "      <td>male</td>\n",
       "      <td>22.0</td>\n",
       "      <td>1</td>\n",
       "      <td>0</td>\n",
       "      <td>A/5 21171</td>\n",
       "      <td>7.2500</td>\n",
       "      <td>NaN</td>\n",
       "      <td>S</td>\n",
       "    </tr>\n",
       "    <tr>\n",
       "      <th>1</th>\n",
       "      <td>2</td>\n",
       "      <td>1</td>\n",
       "      <td>1</td>\n",
       "      <td>Cumings, Mrs. John Bradley (Florence Briggs Th...</td>\n",
       "      <td>female</td>\n",
       "      <td>38.0</td>\n",
       "      <td>1</td>\n",
       "      <td>0</td>\n",
       "      <td>PC 17599</td>\n",
       "      <td>71.2833</td>\n",
       "      <td>C85</td>\n",
       "      <td>C</td>\n",
       "    </tr>\n",
       "    <tr>\n",
       "      <th>2</th>\n",
       "      <td>3</td>\n",
       "      <td>1</td>\n",
       "      <td>3</td>\n",
       "      <td>Heikkinen, Miss. Laina</td>\n",
       "      <td>female</td>\n",
       "      <td>26.0</td>\n",
       "      <td>0</td>\n",
       "      <td>0</td>\n",
       "      <td>STON/O2. 3101282</td>\n",
       "      <td>7.9250</td>\n",
       "      <td>NaN</td>\n",
       "      <td>S</td>\n",
       "    </tr>\n",
       "  </tbody>\n",
       "</table>\n",
       "</div>"
      ],
      "text/plain": [
       "   PassengerId  Survived  Pclass  \\\n",
       "0            1         0       3   \n",
       "1            2         1       1   \n",
       "2            3         1       3   \n",
       "\n",
       "                                                Name     Sex   Age  SibSp  \\\n",
       "0                            Braund, Mr. Owen Harris    male  22.0      1   \n",
       "1  Cumings, Mrs. John Bradley (Florence Briggs Th...  female  38.0      1   \n",
       "2                             Heikkinen, Miss. Laina  female  26.0      0   \n",
       "\n",
       "   Parch            Ticket     Fare Cabin Embarked  \n",
       "0      0         A/5 21171   7.2500   NaN        S  \n",
       "1      0          PC 17599  71.2833   C85        C  \n",
       "2      0  STON/O2. 3101282   7.9250   NaN        S  "
      ]
     },
     "metadata": {},
     "output_type": "display_data"
    }
   ],
   "source": [
    "titanic = pd.read_csv(\"train.csv\")\n",
    "\n",
    "display(HTML('<h1 style=\"color:Red\"> <b> Titaic Data:</b> </h1> ')) \n",
    "display(titanic.head(3))\n"
   ]
  },
  {
   "cell_type": "code",
   "execution_count": 7,
   "metadata": {
    "collapsed": true,
    "execution": {
     "iopub.execute_input": "2024-06-01T13:13:23.200863Z",
     "iopub.status.busy": "2024-06-01T13:13:23.200364Z",
     "iopub.status.idle": "2024-06-01T13:13:23.553643Z",
     "shell.execute_reply": "2024-06-01T13:13:23.552392Z",
     "shell.execute_reply.started": "2024-06-01T13:13:23.20082Z"
    }
   },
   "outputs": [
    {
     "data": {
      "image/png": "[encoded data removed]",
      "text/plain": [
       "<Figure size 800x600 with 1 Axes>"
      ]
     },
     "metadata": {},
     "output_type": "display_data"
    }
   ],
   "source": [
    "plt.figure(figsize = (8, 6))\n",
    "plt.ticklabel_format(style = 'plain')\n",
    "sns.barplot(x = titanic[\"LotShape\"], y = titanic[\"SalePrice\"],\n",
    "             palette = \"tab20\"\n",
    "           );"
   ]
  },
  {
   "cell_type": "code",
   "execution_count": 20,
   "metadata": {
    "collapsed": true
   },
   "outputs": [
    {
     "name": "stdout",
     "output_type": "stream",
     "text": [
      "<class 'pandas.core.frame.DataFrame'>\n",
      "RangeIndex: 1460 entries, 0 to 1459\n",
      "Data columns (total 81 columns):\n",
      " #   Column         Non-Null Count  Dtype  \n",
      "---  ------         --------------  -----  \n",
      " 0   Id             1460 non-null   int64  \n",
      " 1   MSSubClass     1460 non-null   int64  \n",
      " 2   MSZoning       1460 non-null   object \n",
      " 3   LotFrontage    1201 non-null   float64\n",
      " 4   LotArea        1460 non-null   int64  \n",
      " 5   Street         1460 non-null   object \n",
      " 6   Alley          91 non-null     object \n",
      " 7   LotShape       1460 non-null   object \n",
      " 8   LandContour    1460 non-null   object \n",
      " 9   Utilities      1460 non-null   object \n",
      " 10  LotConfig      1460 non-null   object \n",
      " 11  LandSlope      1460 non-null   object \n",
      " 12  Neighborhood   1460 non-null   object \n",
      " 13  Condition1     1460 non-null   object \n",
      " 14  Condition2     1460 non-null   object \n",
      " 15  BldgType       1460 non-null   object \n",
      " 16  HouseStyle     1460 non-null   object \n",
      " 17  OverallQual    1460 non-null   int64  \n",
      " 18  OverallCond    1460 non-null   int64  \n",
      " 19  YearBuilt      1460 non-null   int64  \n",
      " 20  YearRemodAdd   1460 non-null   int64  \n",
      " 21  RoofStyle      1460 non-null   object \n",
      " 22  RoofMatl       1460 non-null   object \n",
      " 23  Exterior1st    1460 non-null   object \n",
      " 24  Exterior2nd    1460 non-null   object \n",
      " 25  MasVnrType     588 non-null    object \n",
      " 26  MasVnrArea     1452 non-null   float64\n",
      " 27  ExterQual      1460 non-null   object \n",
      " 28  ExterCond      1460 non-null   object \n",
      " 29  Foundation     1460 non-null   object \n",
      " 30  BsmtQual       1423 non-null   object \n",
      " 31  BsmtCond       1423 non-null   object \n",
      " 32  BsmtExposure   1422 non-null   object \n",
      " 33  BsmtFinType1   1423 non-null   object \n",
      " 34  BsmtFinSF1     1460 non-null   int64  \n",
      " 35  BsmtFinType2   1422 non-null   object \n",
      " 36  BsmtFinSF2     1460 non-null   int64  \n",
      " 37  BsmtUnfSF      1460 non-null   int64  \n",
      " 38  TotalBsmtSF    1460 non-null   int64  \n",
      " 39  Heating        1460 non-null   object \n",
      " 40  HeatingQC      1460 non-null   object \n",
      " 41  CentralAir     1460 non-null   object \n",
      " 42  Electrical     1459 non-null   object \n",
      " 43  1stFlrSF       1460 non-null   int64  \n",
      " 44  2ndFlrSF       1460 non-null   int64  \n",
      " 45  LowQualFinSF   1460 non-null   int64  \n",
      " 46  GrLivArea      1460 non-null   int64  \n",
      " 47  BsmtFullBath   1460 non-null   int64  \n",
      " 48  BsmtHalfBath   1460 non-null   int64  \n",
      " 49  FullBath       1460 non-null   int64  \n",
      " 50  HalfBath       1460 non-null   int64  \n",
      " 51  BedroomAbvGr   1460 non-null   int64  \n",
      " 52  KitchenAbvGr   1460 non-null   int64  \n",
      " 53  KitchenQual    1460 non-null   object \n",
      " 54  TotRmsAbvGrd   1460 non-null   int64  \n",
      " 55  Functional     1460 non-null   object \n",
      " 56  Fireplaces     1460 non-null   int64  \n",
      " 57  FireplaceQu    770 non-null    object \n",
      " 58  GarageType     1379 non-null   object \n",
      " 59  GarageYrBlt    1379 non-null   float64\n",
      " 60  GarageFinish   1379 non-null   object \n",
      " 61  GarageCars     1460 non-null   int64  \n",
      " 62  GarageArea     1460 non-null   int64  \n",
      " 63  GarageQual     1379 non-null   object \n",
      " 64  GarageCond     1379 non-null   object \n",
      " 65  PavedDrive     1460 non-null   object \n",
      " 66  WoodDeckSF     1460 non-null   int64  \n",
      " 67  OpenPorchSF    1460 non-null   int64  \n",
      " 68  EnclosedPorch  1460 non-null   int64  \n",
      " 69  3SsnPorch      1460 non-null   int64  \n",
      " 70  ScreenPorch    1460 non-null   int64  \n",
      " 71  PoolArea       1460 non-null   int64  \n",
      " 72  PoolQC         7 non-null      object \n",
      " 73  Fence          281 non-null    object \n",
      " 74  MiscFeature    54 non-null     object \n",
      " 75  MiscVal        1460 non-null   int64  \n",
      " 76  MoSold         1460 non-null   int64  \n",
      " 77  YrSold         1460 non-null   int64  \n",
      " 78  SaleType       1460 non-null   object \n",
      " 79  SaleCondition  1460 non-null   object \n",
      " 80  SalePrice      1460 non-null   int64  \n",
      "dtypes: float64(3), int64(35), object(43)\n",
      "memory usage: 924.0+ KB\n"
     ]
    }
   ],
   "source": [
    "titanic.info()"
   ]
  },
  {
   "cell_type": "code",
   "execution_count": 22,
   "metadata": {},
   "outputs": [],
   "source": [
    "obj_col = titanic.select_dtypes(include='int64').columns"
   ]
  },
  {
   "cell_type": "code",
   "execution_count": 3,
   "metadata": {
    "execution": {
     "iopub.execute_input": "2024-06-01T13:13:23.55728Z",
     "iopub.status.busy": "2024-06-01T13:13:23.556835Z",
     "iopub.status.idle": "2024-06-01T13:13:24.277588Z",
     "shell.execute_reply": "2024-06-01T13:13:24.276442Z",
     "shell.execute_reply.started": "2024-06-01T13:13:23.557241Z"
    }
   },
   "outputs": [
    {
     "data": {
      "image/png": "[encoded data removed]",
      "text/plain": [
       "<Figure size 1000x500 with 2 Axes>"
      ]
     },
     "metadata": {},
     "output_type": "display_data"
    }
   ],
   "source": [
    "sns.catplot(data = titanic , \n",
    "             x =\"Embarked\" , y =\"Age\" , col =\"Survived\" , \n",
    "            kind=\"bar\" , \n",
    "            ci =None)\n",
    "plt.show()"
   ]
  },
  {
   "cell_type": "code",
   "execution_count": null,
   "metadata": {
    "execution": {
     "iopub.execute_input": "2024-06-01T13:13:24.279343Z",
     "iopub.status.busy": "2024-06-01T13:13:24.279002Z",
     "iopub.status.idle": "2024-06-01T13:13:26.761827Z",
     "shell.execute_reply": "2024-06-01T13:13:26.760575Z",
     "shell.execute_reply.started": "2024-06-01T13:13:24.279312Z"
    }
   },
   "outputs": [],
   "source": [
    "wine.plot(kind='density', subplots=True, layout=(4,3), sharex=False, figsize= (14,8))\n",
    "plt.show()"
   ]
  },
  {
   "cell_type": "code",
   "execution_count": null,
   "metadata": {
    "execution": {
     "iopub.execute_input": "2024-06-01T13:13:26.763657Z",
     "iopub.status.busy": "2024-06-01T13:13:26.763295Z",
     "iopub.status.idle": "2024-06-01T13:13:28.052691Z",
     "shell.execute_reply": "2024-06-01T13:13:28.051523Z",
     "shell.execute_reply.started": "2024-06-01T13:13:26.763624Z"
    }
   },
   "outputs": [],
   "source": [
    "numeric_feature = titanic.dtypes!=object\n",
    "final_numeric_feature = titanic.columns[numeric_feature].tolist()\n",
    "\n",
    "titanic[final_numeric_feature].plot(kind='density', subplots=True, layout=(1,7), sharex=False, figsize= (20,4))\n",
    "plt.show()"
   ]
  },
  {
   "cell_type": "code",
   "execution_count": null,
   "metadata": {
    "execution": {
     "iopub.execute_input": "2024-06-01T13:13:28.054487Z",
     "iopub.status.busy": "2024-06-01T13:13:28.054152Z",
     "iopub.status.idle": "2024-06-01T13:13:28.172907Z",
     "shell.execute_reply": "2024-06-01T13:13:28.171793Z",
     "shell.execute_reply.started": "2024-06-01T13:13:28.054458Z"
    }
   },
   "outputs": [],
   "source": [
    "heart[\"ChestPainType\"].value_counts()[:3].plot.pie(figsize = (5, 5),\n",
    "                                             autopct = '%1.0f%%')\n",
    "plt.title(\"Pie Chart\")\n",
    "plt.xticks(rotation = 90)\n",
    "plt.show()"
   ]
  },
  {
   "cell_type": "code",
   "execution_count": null,
   "metadata": {
    "execution": {
     "iopub.execute_input": "2024-06-01T13:13:28.175525Z",
     "iopub.status.busy": "2024-06-01T13:13:28.174755Z",
     "iopub.status.idle": "2024-06-01T13:13:28.422202Z",
     "shell.execute_reply": "2024-06-01T13:13:28.421004Z",
     "shell.execute_reply.started": "2024-06-01T13:13:28.175485Z"
    }
   },
   "outputs": [],
   "source": [
    "plt.pie(heart['ChestPainType'].value_counts(),labels=heart['ChestPainType'].unique(),autopct = '%1.2f%%');"
   ]
  },
  {
   "cell_type": "code",
   "execution_count": null,
   "metadata": {
    "execution": {
     "iopub.execute_input": "2024-06-01T13:13:28.424654Z",
     "iopub.status.busy": "2024-06-01T13:13:28.424154Z",
     "iopub.status.idle": "2024-06-01T13:13:28.591971Z",
     "shell.execute_reply": "2024-06-01T13:13:28.59076Z",
     "shell.execute_reply.started": "2024-06-01T13:13:28.424562Z"
    }
   },
   "outputs": [],
   "source": [
    "plt.figure(figsize = (6, 4))\n",
    "counts = heart[\"ChestPainType\"].value_counts()\n",
    "explode = (0, 0.1, 0.2, 0.3)\n",
    "colors = ['#A85CF9', '#FF4949', '#BDF2D5', '#FF06B7', '#4B7BE5', '#FF5D5D', '#FAC213', '#37E2D5', '#6D8B74', '#E9D5CA']\n",
    "counts.plot(kind = 'pie', \n",
    "            fontsize = 12, \n",
    "            colors = colors, \n",
    "            explode = explode, \n",
    "            autopct = '%1.1f%%')\n",
    "plt.axis('equal')\n",
    "plt.legend(labels = counts.index, loc = \"best\")\n",
    "plt.show()"
   ]
  },
  {
   "cell_type": "code",
   "execution_count": null,
   "metadata": {
    "execution": {
     "iopub.execute_input": "2024-06-01T13:13:28.597567Z",
     "iopub.status.busy": "2024-06-01T13:13:28.596698Z",
     "iopub.status.idle": "2024-06-01T13:13:28.696597Z",
     "shell.execute_reply": "2024-06-01T13:13:28.69518Z",
     "shell.execute_reply.started": "2024-06-01T13:13:28.597534Z"
    }
   },
   "outputs": [],
   "source": [
    "my_circle=plt.Circle( (0,0), 0.9, color='white')\n",
    "plt.pie(titanic['Embarked'].value_counts()[:10].values, labels = titanic['Embarked'].value_counts()[:10].index)\n",
    "p=plt.gcf()\n",
    "p.gca().add_artist(my_circle)\n",
    "plt.show()"
   ]
  },
  {
   "cell_type": "code",
   "execution_count": null,
   "metadata": {
    "execution": {
     "iopub.execute_input": "2024-06-01T13:13:28.699045Z",
     "iopub.status.busy": "2024-06-01T13:13:28.698471Z",
     "iopub.status.idle": "2024-06-01T13:13:28.796337Z",
     "shell.execute_reply": "2024-06-01T13:13:28.795159Z",
     "shell.execute_reply.started": "2024-06-01T13:13:28.698999Z"
    }
   },
   "outputs": [],
   "source": [
    "my_circle=plt.Circle( (0,0), 0.9, color='pink')\n",
    "plt.pie(titanic['Embarked'].value_counts()[:10].values, labels = titanic['Embarked'].value_counts()[:10].index)\n",
    "p=plt.gcf()\n",
    "p.gca().add_artist(my_circle)\n",
    "plt.show()"
   ]
  },
  {
   "cell_type": "code",
   "execution_count": null,
   "metadata": {
    "execution": {
     "iopub.execute_input": "2024-06-01T13:13:28.80003Z",
     "iopub.status.busy": "2024-06-01T13:13:28.797985Z",
     "iopub.status.idle": "2024-06-01T13:13:29.013672Z",
     "shell.execute_reply": "2024-06-01T13:13:29.012626Z",
     "shell.execute_reply.started": "2024-06-01T13:13:28.799988Z"
    }
   },
   "outputs": [],
   "source": [
    "plt.figure(figsize = (7,4))\n",
    "ax = sns.countplot(x=heart['RestingECG'])\n",
    "for bars in ax.containers:\n",
    "    ax.bar_label(bars)\n",
    "plt.title(\"Count of RestingECG\", fontsize = 15,color='Blue');"
   ]
  },
  {
   "cell_type": "code",
   "execution_count": null,
   "metadata": {
    "execution": {
     "iopub.execute_input": "2024-06-01T13:13:29.015316Z",
     "iopub.status.busy": "2024-06-01T13:13:29.014991Z",
     "iopub.status.idle": "2024-06-01T13:13:33.140656Z",
     "shell.execute_reply": "2024-06-01T13:13:33.139369Z",
     "shell.execute_reply.started": "2024-06-01T13:13:29.015289Z"
    }
   },
   "outputs": [],
   "source": [
    "# Visulazing the distibution of the data for every feature\n",
    "plt.figure(figsize=(20, 8))\n",
    "\n",
    "for i, column in enumerate(heart.columns, 1):\n",
    "    plt.subplot(2, 6, i)\n",
    "    heart[heart[\"HeartDisease\"] == 0][column].hist(bins=35, color='blue', label='Have Diabetes = NO', alpha=0.9)\n",
    "    heart[heart[\"HeartDisease\"] == 1][column].hist(bins=35, color='red', label='Have Diabetes = YES', alpha=0.5)\n",
    "    plt.legend()\n",
    "    plt.xlabel(column)"
   ]
  },
  {
   "cell_type": "code",
   "execution_count": null,
   "metadata": {
    "execution": {
     "iopub.execute_input": "2024-06-01T13:13:33.142837Z",
     "iopub.status.busy": "2024-06-01T13:13:33.142393Z",
     "iopub.status.idle": "2024-06-01T13:13:33.609346Z",
     "shell.execute_reply": "2024-06-01T13:13:33.608217Z",
     "shell.execute_reply.started": "2024-06-01T13:13:33.142792Z"
    }
   },
   "outputs": [],
   "source": [
    "cat = ['Sex','RestingECG']\n",
    "\n",
    "fig, ax = plt.subplots(1, 2, figsize = (10, 4))\n",
    "for indx, (column, axes) in list(enumerate(list(zip(cat, \n",
    "                                                    ax.flatten())))):\n",
    "    \n",
    "    sns.countplot(ax = axes, x = heart[column], hue = heart['ExerciseAngina'], \n",
    "                  palette = 'magma', alpha = 0.8)\n",
    "    \n",
    "else:\n",
    "    [axes.set_visible(False) for axes in ax.flatten()[indx + 1:]]\n",
    "plt.tight_layout()\n",
    "plt.show()"
   ]
  },
  {
   "cell_type": "code",
   "execution_count": null,
   "metadata": {
    "execution": {
     "iopub.execute_input": "2024-06-01T13:13:33.611306Z",
     "iopub.status.busy": "2024-06-01T13:13:33.610969Z",
     "iopub.status.idle": "2024-06-01T13:13:33.857722Z",
     "shell.execute_reply": "2024-06-01T13:13:33.856615Z",
     "shell.execute_reply.started": "2024-06-01T13:13:33.611279Z"
    }
   },
   "outputs": [],
   "source": [
    "plt.figure(figsize=(11,5))\n",
    "plt.gcf().text(.55, .95, \"Box Plot\", fontsize = 40, color='Red' ,ha='center', va='center')\n",
    "sns.boxenplot(x=heart['RestingECG'] , y = heart['Cholesterol'],palette=\"Set1\")\n",
    "plt.show()"
   ]
  },
  {
   "cell_type": "code",
   "execution_count": null,
   "metadata": {
    "execution": {
     "iopub.execute_input": "2024-06-01T13:13:33.859453Z",
     "iopub.status.busy": "2024-06-01T13:13:33.859133Z",
     "iopub.status.idle": "2024-06-01T13:13:35.197197Z",
     "shell.execute_reply": "2024-06-01T13:13:35.196127Z",
     "shell.execute_reply.started": "2024-06-01T13:13:33.859427Z"
    }
   },
   "outputs": [],
   "source": [
    "# Facet along the columns to show a categorical variable using \"col\" parameter\n",
    "plt.figure(figsize=(11,5))\n",
    "sns.catplot(x=\"ChestPainType\" , y = \"MaxHR\", hue= \"Sex\",\n",
    "            col=\"RestingECG\", kind=\"boxen\",palette=\"Set2\" , height=5, aspect=1 ,data=heart)\n",
    "plt.show();"
   ]
  },
  {
   "cell_type": "code",
   "execution_count": null,
   "metadata": {
    "execution": {
     "iopub.execute_input": "2024-06-01T13:13:35.198998Z",
     "iopub.status.busy": "2024-06-01T13:13:35.198632Z",
     "iopub.status.idle": "2024-06-01T13:13:35.662618Z",
     "shell.execute_reply": "2024-06-01T13:13:35.66155Z",
     "shell.execute_reply.started": "2024-06-01T13:13:35.198969Z"
    }
   },
   "outputs": [],
   "source": [
    "plt.figure(figsize=(12,5))\n",
    "params = dict(data=titanic ,x = titanic.Pclass ,y = titanic.Fare ,hue=titanic.Sex,dodge=True)\n",
    "sns.stripplot(**params , size=8,jitter=0.35,palette=['#33FF66','#FF6600','Blue'],edgecolor='black',linewidth=1)\n",
    "sns.boxplot(**params ,palette=['#BDBDBD','#E0E0E0'],linewidth=6)\n",
    "plt.show()"
   ]
  },
  {
   "cell_type": "code",
   "execution_count": null,
   "metadata": {
    "execution": {
     "iopub.execute_input": "2024-06-01T13:13:35.664235Z",
     "iopub.status.busy": "2024-06-01T13:13:35.663913Z",
     "iopub.status.idle": "2024-06-01T13:13:37.39086Z",
     "shell.execute_reply": "2024-06-01T13:13:37.389509Z",
     "shell.execute_reply.started": "2024-06-01T13:13:35.664207Z"
    }
   },
   "outputs": [],
   "source": [
    "# Plot a subset of variables\n",
    "g = sns.PairGrid(titanic, hue='Pclass' ,x_vars=[\"Fare\" , \"Age\"],y_vars=[\"Fare\" , \"Age\"],\n",
    "                 height=6, aspect=1)\n",
    "g = g.map_offdiag(plt.scatter , edgecolor=\"w\", s=130)\n",
    "g = g.map_diag(plt.hist , edgecolor ='w', linewidth=2)\n",
    "g = g.add_legend()\n",
    "plt.show()"
   ]
  },
  {
   "cell_type": "code",
   "execution_count": null,
   "metadata": {
    "execution": {
     "iopub.execute_input": "2024-06-01T13:13:37.392768Z",
     "iopub.status.busy": "2024-06-01T13:13:37.392321Z",
     "iopub.status.idle": "2024-06-01T13:13:39.653883Z",
     "shell.execute_reply": "2024-06-01T13:13:39.652691Z",
     "shell.execute_reply.started": "2024-06-01T13:13:37.392698Z"
    }
   },
   "outputs": [],
   "source": [
    "features_mean= list(wine.columns[:6])\n",
    "\n",
    "num_rows, num_cols = 3,2\n",
    "\n",
    "fig, axes = plt.subplots(num_rows, num_cols, figsize=(20, 8))\n",
    "fig.tight_layout()\n",
    "\n",
    "for index, column in enumerate(wine[features_mean].columns):\n",
    "    i,j = (index // num_cols, index % num_cols)\n",
    "    g = sns.distplot(wine[column], color=\"m\", label=\"%.2f\"%(wine[column].skew()), ax=axes[i,j])\n",
    "    g = g.legend(loc=\"best\")"
   ]
  },
  {
   "cell_type": "code",
   "execution_count": null,
   "metadata": {
    "execution": {
     "iopub.execute_input": "2024-06-01T13:13:39.655857Z",
     "iopub.status.busy": "2024-06-01T13:13:39.655435Z",
     "iopub.status.idle": "2024-06-01T13:13:40.048127Z",
     "shell.execute_reply": "2024-06-01T13:13:40.046901Z",
     "shell.execute_reply.started": "2024-06-01T13:13:39.655823Z"
    }
   },
   "outputs": [],
   "source": [
    "y = heart['Sex']\n",
    "\n",
    "# Explore Age distibution \n",
    "g = sns.kdeplot(heart[\"Age\"][(y == 'M') & (heart[\"Age\"].notnull())], color=\"Red\", shade=True)\n",
    "g = sns.kdeplot(heart[\"Age\"][(y == 'F') & (heart[\"Age\"].notnull())], ax=g, color=\"Blue\", shade=True)\n",
    "g.set_xlabel(\"Age\")\n",
    "g.set_ylabel(\"Frequency\")\n",
    "g = g.legend([\"Male\",\"Female\"])"
   ]
  },
  {
   "cell_type": "code",
   "execution_count": null,
   "metadata": {
    "execution": {
     "iopub.execute_input": "2024-06-01T13:13:40.049846Z",
     "iopub.status.busy": "2024-06-01T13:13:40.049466Z",
     "iopub.status.idle": "2024-06-01T13:13:40.227725Z",
     "shell.execute_reply": "2024-06-01T13:13:40.226627Z",
     "shell.execute_reply.started": "2024-06-01T13:13:40.049816Z"
    }
   },
   "outputs": [],
   "source": [
    "raw_df = heart [['Age', 'Sex', 'ChestPainType', 'RestingBP', 'Cholesterol', 'FastingBS',\n",
    "       'RestingECG', 'MaxHR', 'ExerciseAngina', 'Oldpeak', 'ST_Slope',\n",
    "       'HeartDisease']]\n",
    "# Function to print width of barcharts on the bars\n",
    "def barw(ax):   \n",
    "    for p in ax.patches:\n",
    "        val = p.get_width() #height of the bar\n",
    "        x = p.get_x()+ p.get_width() # x- position \n",
    "        y = p.get_y() + p.get_height()/2 #y-position\n",
    "        ax.annotate(round(val,2),(x,y))\n",
    "plt.figure(figsize=(10,5))\n",
    "ax0 = sns.countplot(data = heart, y ='ChestPainType', order = heart['ChestPainType'].value_counts().index)\n",
    "barw(ax0)\n",
    "plt.show()"
   ]
  },
  {
   "cell_type": "code",
   "execution_count": null,
   "metadata": {
    "execution": {
     "iopub.execute_input": "2024-06-01T13:13:40.229389Z",
     "iopub.status.busy": "2024-06-01T13:13:40.229092Z",
     "iopub.status.idle": "2024-06-01T13:13:40.673146Z",
     "shell.execute_reply": "2024-06-01T13:13:40.672106Z",
     "shell.execute_reply.started": "2024-06-01T13:13:40.229365Z"
    }
   },
   "outputs": [],
   "source": [
    "sns.set_style('white')\n",
    "wine.plot(kind=\"scatter\", x=\"fixed acidity\", y=\"total sulfur dioxide\", alpha=.5,\n",
    "             s=wine[\"alcohol\"], label=\"alcohol\", figsize=(10,7),\n",
    "             c=\"chlorides\", cmap=plt.get_cmap(\"jet\"), colorbar=True,\n",
    "             sharex=False)\n",
    "plt.legend()\n",
    "plt.show()"
   ]
  },
  {
   "cell_type": "code",
   "execution_count": null,
   "metadata": {
    "execution": {
     "iopub.execute_input": "2024-06-01T13:13:40.675044Z",
     "iopub.status.busy": "2024-06-01T13:13:40.674595Z",
     "iopub.status.idle": "2024-06-01T13:13:41.011863Z",
     "shell.execute_reply": "2024-06-01T13:13:41.010701Z",
     "shell.execute_reply.started": "2024-06-01T13:13:40.675013Z"
    }
   },
   "outputs": [],
   "source": [
    "#Correlation with Response Variable class\n",
    "X = wine.drop(['quality'], axis=1)\n",
    "y = wine['quality']\n",
    "\n",
    "X.corrwith(y).plot.bar(figsize=(16, 4), rot=90, grid=True)\n",
    "plt.title('Correlation with quality',\n",
    "          fontsize=30,\n",
    "          color='Red',\n",
    "          font='Times New Roman')\n",
    "plt.show()"
   ]
  },
  {
   "cell_type": "code",
   "execution_count": null,
   "metadata": {
    "execution": {
     "iopub.execute_input": "2024-06-01T13:13:41.013661Z",
     "iopub.status.busy": "2024-06-01T13:13:41.013321Z",
     "iopub.status.idle": "2024-06-01T13:13:41.257071Z",
     "shell.execute_reply": "2024-06-01T13:13:41.255523Z",
     "shell.execute_reply.started": "2024-06-01T13:13:41.013631Z"
    }
   },
   "outputs": [],
   "source": [
    "import matplotlib\n",
    "matplotlib.rcParams.update({'font.size': 20})\n",
    "ax=heart['Sex'].value_counts().plot.pie(explode=[0.1, 0.1],autopct='%1.2f%%',shadow=True);\n",
    "ax.set_title(label = \"Sex\", fontsize = 40,color='DarkOrange',font='Lucida Calligraphy');\n",
    "plt.legend(labels=['M','F'])\n",
    "plt.axis('off');"
   ]
  },
  {
   "cell_type": "code",
   "execution_count": null,
   "metadata": {
    "execution": {
     "iopub.execute_input": "2024-06-01T13:13:41.259764Z",
     "iopub.status.busy": "2024-06-01T13:13:41.259147Z",
     "iopub.status.idle": "2024-06-01T13:13:42.079149Z",
     "shell.execute_reply": "2024-06-01T13:13:42.077904Z",
     "shell.execute_reply.started": "2024-06-01T13:13:41.259701Z"
    }
   },
   "outputs": [],
   "source": [
    "matplotlib.rcParams.update({'font.size': 10})\n",
    "corr = wine.corr()\n",
    "mask = np.triu(np.ones_like(corr, dtype=bool))\n",
    "plt.title('Correlation Analysis',\n",
    "          fontsize=25,\n",
    "          color='DarkGreen',\n",
    "          font='Times New Roman')\n",
    "sns.heatmap(corr,\n",
    "            mask=mask,\n",
    "            annot=True,\n",
    "            lw=0,\n",
    "            linecolor='white',\n",
    "            cmap='viridis',\n",
    "            fmt=\"0.2f\")\n",
    "plt.xticks(rotation=90)\n",
    "plt.yticks(rotation=0)\n",
    "plt.show()"
   ]
  },
  {
   "cell_type": "code",
   "execution_count": null,
   "metadata": {
    "execution": {
     "iopub.execute_input": "2024-06-01T13:13:42.081099Z",
     "iopub.status.busy": "2024-06-01T13:13:42.08066Z",
     "iopub.status.idle": "2024-06-01T13:13:46.443879Z",
     "shell.execute_reply": "2024-06-01T13:13:46.44277Z",
     "shell.execute_reply.started": "2024-06-01T13:13:42.081064Z"
    }
   },
   "outputs": [],
   "source": [
    "#set configuration for charts \n",
    "plt.rcParams[\"figure.figsize\"]=[20 , 5]\n",
    "plt.rcParams[\"font.size\"]=15\n",
    "plt.rcParams[\"legend.fontsize\"]=\"medium\"\n",
    "plt.rcParams[\"figure.titlesize\"]=\"medium\"\n",
    "\n",
    "def plot_disribution(data , x ,color,bins ):\n",
    "    mean = data[x].mean()\n",
    "    std = data[x].std()\n",
    "    info=dict(data = data , x = x , color = color)\n",
    "    plt.subplot(1 , 3 , 1 , title =f\"Ditstribution of {x} column\")\n",
    "    sns.distplot(a=data[x] , bins = bins)\n",
    "    plt.xlabel(f\"bins of {x}\")\n",
    "    plt.axvline(mean , label =\"mean\" , color =\"red\")\n",
    "    plt.ylabel(\"frequency\")\n",
    "    plt.legend([\"${\\sigma}$ = %d\"%std , f\"mean = {mean:.2f}\"])\n",
    "    plt.title(f\"histogram of {x} column\")\n",
    "    plt.subplot(1 , 3 , 2)\n",
    "    sns.boxplot(**info)\n",
    "    plt.xlabel(f\"{x}\")\n",
    "    plt.title(f\"box plot of {x} column\")\n",
    "    plt.subplot(1 , 3 , 3)\n",
    "    sns.swarmplot(**info)\n",
    "    plt.xlabel(f\"{x}\")\n",
    "    plt.title(f\"distribution of points in {x} column\")\n",
    "    plt.suptitle(f\"Distribution of {x} column\" , fontsize =15 , color=\"red\")\n",
    "plt.show()\n",
    "\n",
    "age_bins = np.arange(29 , 77+5 , 5)\n",
    "base_color = sns.color_palette()[4]\n",
    "plot_disribution(data = heart , x =\"Age\" , color = base_color , bins=age_bins)"
   ]
  },
  {
   "cell_type": "code",
   "execution_count": null,
   "metadata": {
    "execution": {
     "iopub.execute_input": "2024-06-01T13:13:46.44585Z",
     "iopub.status.busy": "2024-06-01T13:13:46.445458Z",
     "iopub.status.idle": "2024-06-01T13:13:46.854831Z",
     "shell.execute_reply": "2024-06-01T13:13:46.853497Z",
     "shell.execute_reply.started": "2024-06-01T13:13:46.44582Z"
    }
   },
   "outputs": [],
   "source": [
    "sns.set_style(\"white\")\n",
    "sns.set_context(\"poster\",font_scale = .7)\n",
    "palette = [\"#1d7874\",\"#679289\",\"#f4c095\",\"#ee2e31\",\"#ffb563\",\"#918450\",\"#f85e00\",\"#a41623\",\"#9a031e\",\"#d6d6d6\",\"#ffee32\",\"#ffd100\",\"#333533\",\"#202020\"]\n",
    "# sns.palplot(sns.color_palette(palette))\n",
    "# plt.show()\n",
    "\n",
    "plt.subplots(figsize=(20,8))\n",
    "p = sns.barplot(x=heart[\"ChestPainType\"][:14],y=heart[\"Age\"],palette=palette, saturation=1, edgecolor = \"#1c1c1c\", linewidth = 2)\n",
    "p.axes.set_title(\"\\n ChestPainType \\n\", fontsize=25)\n",
    "plt.ylabel(\"Total Member\" , fontsize = 20)\n",
    "plt.xlabel(\"\\n Name\" , fontsize = 20)\n",
    "# plt.yscale(\"log\")\n",
    "plt.xticks(rotation = 90)\n",
    "for container in p.containers:\n",
    "    p.bar_label(container,label_type = \"center\",padding = 6,size = 15,color = \"black\",rotation = 90,\n",
    "    bbox={\"boxstyle\": \"round\", \"pad\": 0.6, \"facecolor\": \"orange\", \"edgecolor\": \"black\", \"alpha\": 1})\n",
    "\n",
    "sns.despine(left=True, bottom=True)\n",
    "plt.show()"
   ]
  },
  {
   "cell_type": "code",
   "execution_count": null,
   "metadata": {
    "execution": {
     "iopub.execute_input": "2024-06-01T13:13:46.862251Z",
     "iopub.status.busy": "2024-06-01T13:13:46.861783Z",
     "iopub.status.idle": "2024-06-01T13:13:48.628299Z",
     "shell.execute_reply": "2024-06-01T13:13:48.627046Z",
     "shell.execute_reply.started": "2024-06-01T13:13:46.862214Z"
    }
   },
   "outputs": [],
   "source": [
    "fig,axis=plt.subplots(ncols=4,nrows=3,figsize=(15,10))\n",
    "index=0\n",
    "axis=axis.flatten()\n",
    "\n",
    "for col,values in wine.items():\n",
    "    sns.boxplot(y=col,data=wine,color='r',ax=axis[index])\n",
    "    index+=1\n",
    "plt.tight_layout(pad=0.5,w_pad=0.7,h_pad=5.0);"
   ]
  },
  {
   "cell_type": "code",
   "execution_count": null,
   "metadata": {
    "execution": {
     "iopub.execute_input": "2024-06-01T13:13:48.630209Z",
     "iopub.status.busy": "2024-06-01T13:13:48.62982Z",
     "iopub.status.idle": "2024-06-01T13:13:49.196771Z",
     "shell.execute_reply": "2024-06-01T13:13:49.195389Z",
     "shell.execute_reply.started": "2024-06-01T13:13:48.630173Z"
    }
   },
   "outputs": [],
   "source": [
    "#checking the target variables for distribution\n",
    "sns.distplot(heart['Cholesterol'],color='Brown')\n",
    "plt.axvline(x=heart['Cholesterol'].mean(), color='Brown', linestyle='--', linewidth=2)\n",
    "plt.title('Cholesterol');"
   ]
  },
  {
   "cell_type": "code",
   "execution_count": null,
   "metadata": {
    "execution": {
     "iopub.execute_input": "2024-06-01T13:13:49.199393Z",
     "iopub.status.busy": "2024-06-01T13:13:49.199025Z",
     "iopub.status.idle": "2024-06-01T13:13:49.218286Z",
     "shell.execute_reply": "2024-06-01T13:13:49.21711Z",
     "shell.execute_reply.started": "2024-06-01T13:13:49.199362Z"
    }
   },
   "outputs": [],
   "source": [
    "wine.head(1)"
   ]
  },
  {
   "cell_type": "code",
   "execution_count": null,
   "metadata": {
    "execution": {
     "iopub.execute_input": "2024-06-01T13:13:49.219824Z",
     "iopub.status.busy": "2024-06-01T13:13:49.219436Z",
     "iopub.status.idle": "2024-06-01T13:13:49.529207Z",
     "shell.execute_reply": "2024-06-01T13:13:49.528089Z",
     "shell.execute_reply.started": "2024-06-01T13:13:49.219793Z"
    }
   },
   "outputs": [],
   "source": [
    "s = sns.countplot(x = 'quality',data = wine)\n",
    "sizes=[]\n",
    "for p in s.patches:\n",
    "    height = p.get_height()\n",
    "    sizes.append(height)\n",
    "    s.text(p.get_x()+p.get_width()/2.,\n",
    "            height + 3,\n",
    "            '{:1.2f}%'.format(height/len(wine)*100),\n",
    "            ha=\"center\", fontsize=14) "
   ]
  },
  {
   "cell_type": "code",
   "execution_count": null,
   "metadata": {
    "execution": {
     "iopub.execute_input": "2024-06-01T13:13:49.530931Z",
     "iopub.status.busy": "2024-06-01T13:13:49.530574Z",
     "iopub.status.idle": "2024-06-01T13:13:51.143398Z",
     "shell.execute_reply": "2024-06-01T13:13:51.142254Z",
     "shell.execute_reply.started": "2024-06-01T13:13:49.530902Z"
    }
   },
   "outputs": [],
   "source": [
    "countfeature = [\"Survived\", \"Pclass\", \"Sex\", \"SibSp\", \"Parch\", \"Embarked\"]\n",
    "countlist = list(enumerate(countfeature))\n",
    "\n",
    "plt.figure(figsize = (20,10))\n",
    "plt.suptitle(\"Countplot of Categorical Features\", fontsize=18)\n",
    "for i in countlist: \n",
    "    plt.subplot(2,3,i[0]+1)\n",
    "    sns.countplot(data = titanic, x = i[1], hue = \"Survived\", palette=\"rainbow\")\n",
    "    plt.ylabel(\"\")\n",
    "    plt.legend(['Not Survived', 'Survived'], loc='upper center', prop={'size': 10})\n",
    "plt.tight_layout()\n",
    "plt.show()"
   ]
  },
  {
   "cell_type": "code",
   "execution_count": null,
   "metadata": {
    "execution": {
     "iopub.execute_input": "2024-06-01T13:13:51.145063Z",
     "iopub.status.busy": "2024-06-01T13:13:51.144743Z",
     "iopub.status.idle": "2024-06-01T13:13:52.212875Z",
     "shell.execute_reply": "2024-06-01T13:13:52.211651Z",
     "shell.execute_reply.started": "2024-06-01T13:13:51.145037Z"
    }
   },
   "outputs": [],
   "source": [
    "numfeature = [\"Age\", \"Fare\"]\n",
    "enumfeat = list(enumerate(numfeature))\n",
    "\n",
    "plt.figure(figsize=(20,7))\n",
    "plt.suptitle(\"Distribution and Outliers of Numerical Data\", fontsize=20)\n",
    "for i in enumfeat:\n",
    "    plt.subplot(1,4,i[0]+1)\n",
    "    sns.boxplot(data = titanic[i[1]], palette=\"rainbow\")\n",
    "    plt.xlabel(str(i[1]))\n",
    "for i in enumfeat:\n",
    "    plt.subplot(1,4,i[0]+3)\n",
    "    sns.histplot(data = titanic[i[1]], palette=\"rainbow\", bins=15)\n",
    "    plt.xlabel(str(i[1]))\n",
    "plt.tight_layout()\n",
    "plt.show()"
   ]
  },
  {
   "cell_type": "code",
   "execution_count": null,
   "metadata": {
    "execution": {
     "iopub.execute_input": "2024-06-01T13:13:52.214736Z",
     "iopub.status.busy": "2024-06-01T13:13:52.214343Z",
     "iopub.status.idle": "2024-06-01T13:13:52.688329Z",
     "shell.execute_reply": "2024-06-01T13:13:52.687043Z",
     "shell.execute_reply.started": "2024-06-01T13:13:52.214679Z"
    }
   },
   "outputs": [],
   "source": [
    "plt.figure(figsize=(20,6))\n",
    "plt.title(\"Correlation of quality column with Independent Features\", fontsize=15)\n",
    "corr = wine.corr()[\"quality\"].sort_values(ascending=False)[1:]\n",
    "sns.barplot(x=corr.index, y=corr, color=(0.90,0.30,0.50))\n",
    "plt.tight_layout()\n",
    "plt.xticks(rotation = 90)\n",
    "plt.show()"
   ]
  },
  {
   "cell_type": "code",
   "execution_count": null,
   "metadata": {
    "execution": {
     "iopub.execute_input": "2024-06-01T13:13:52.690003Z",
     "iopub.status.busy": "2024-06-01T13:13:52.689678Z",
     "iopub.status.idle": "2024-06-01T13:13:53.538236Z",
     "shell.execute_reply": "2024-06-01T13:13:53.537118Z",
     "shell.execute_reply.started": "2024-06-01T13:13:52.689977Z"
    }
   },
   "outputs": [],
   "source": [
    "plt.figure(figsize=(15,5))\n",
    "plt.suptitle(\"Probability Distribution of numerical columns according to number of Survived\", fontsize = 20)\n",
    "for i in enumfeat:\n",
    "    plt.subplot(1,2,i[0]+1)\n",
    "    sns.kdeplot(data=titanic, x=i[1], hue=\"Survived\")\n",
    "plt.tight_layout()\n",
    "plt.show()"
   ]
  },
  {
   "cell_type": "code",
   "execution_count": null,
   "metadata": {
    "execution": {
     "iopub.execute_input": "2024-06-01T13:13:53.5398Z",
     "iopub.status.busy": "2024-06-01T13:13:53.539464Z",
     "iopub.status.idle": "2024-06-01T13:13:54.22645Z",
     "shell.execute_reply": "2024-06-01T13:13:54.22538Z",
     "shell.execute_reply.started": "2024-06-01T13:13:53.539772Z"
    }
   },
   "outputs": [],
   "source": [
    "import missingno as msno\n",
    "msno.matrix(titanic, color=(0.50,0.30,0.80))\n",
    "plt.show()\n",
    "x = titanic.isnull().sum()\n",
    "for a, b in x.items():\n",
    "    if b > 0:\n",
    "        print(f\"There are {b} missing values in column: {a}\")"
   ]
  }
 ],
 "metadata": {
  "kaggle": {
   "accelerator": "none",
   "dataSources": [
    {
     "databundleVersionId": 26502,
     "sourceId": 3136,
     "sourceType": "competition"
    },
    {
     "datasetId": 4458,
     "sourceId": 8204,
     "sourceType": "datasetVersion"
    },
    {
     "datasetId": 137031,
     "sourceId": 324803,
     "sourceType": "datasetVersion"
    },
    {
     "datasetId": 1582403,
     "sourceId": 2603715,
     "sourceType": "datasetVersion"
    }
   ],
   "dockerImageVersionId": 30715,
   "isGpuEnabled": false,
   "isInternetEnabled": true,
   "language": "python",
   "sourceType": "notebook"
  },
  "kernelspec": {
   "display_name": "Python 3 (ipykernel)",
   "language": "python",
   "name": "python3"
  },
  "language_info": {
   "codemirror_mode": {
    "name": "ipython",
    "version": 3
   },
   "file_extension": ".py",
   "mimetype": "text/x-python",
   "name": "python",
   "nbconvert_exporter": "python",
   "pygments_lexer": "ipython3",
   "version": "3.11.5"
  }
 },
 "nbformat": 4,
 "nbformat_minor": 4
}
